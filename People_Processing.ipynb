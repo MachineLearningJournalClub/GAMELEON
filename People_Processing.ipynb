{
  "nbformat": 4,
  "nbformat_minor": 0,
  "metadata": {
    "colab": {
      "name": "People_Processing.ipynb",
      "provenance": [],
      "authorship_tag": "ABX9TyOTGDBy6kXqzdpseyIt1T7p",
      "include_colab_link": true
    },
    "kernelspec": {
      "name": "python3",
      "display_name": "Python 3"
    },
    "widgets": {
      "application/vnd.jupyter.widget-state+json": {
        "558fd970676346aca0b09a6e9b11cae9": {
          "model_module": "@jupyter-widgets/controls",
          "model_name": "HBoxModel",
          "state": {
            "_view_name": "HBoxView",
            "_dom_classes": [],
            "_model_name": "HBoxModel",
            "_view_module": "@jupyter-widgets/controls",
            "_model_module_version": "1.5.0",
            "_view_count": null,
            "_view_module_version": "1.5.0",
            "box_style": "",
            "layout": "IPY_MODEL_eb1ba9ca4157465391462697318383c2",
            "_model_module": "@jupyter-widgets/controls",
            "children": [
              "IPY_MODEL_9232314cf08345239fed477e71802fea",
              "IPY_MODEL_c5ef69bbb9c04eb2a6c141975c6db5a4"
            ]
          }
        },
        "eb1ba9ca4157465391462697318383c2": {
          "model_module": "@jupyter-widgets/base",
          "model_name": "LayoutModel",
          "state": {
            "_view_name": "LayoutView",
            "grid_template_rows": null,
            "right": null,
            "justify_content": null,
            "_view_module": "@jupyter-widgets/base",
            "overflow": null,
            "_model_module_version": "1.2.0",
            "_view_count": null,
            "flex_flow": null,
            "width": null,
            "min_width": null,
            "border": null,
            "align_items": null,
            "bottom": null,
            "_model_module": "@jupyter-widgets/base",
            "top": null,
            "grid_column": null,
            "overflow_y": null,
            "overflow_x": null,
            "grid_auto_flow": null,
            "grid_area": null,
            "grid_template_columns": null,
            "flex": null,
            "_model_name": "LayoutModel",
            "justify_items": null,
            "grid_row": null,
            "max_height": null,
            "align_content": null,
            "visibility": null,
            "align_self": null,
            "height": null,
            "min_height": null,
            "padding": null,
            "grid_auto_rows": null,
            "grid_gap": null,
            "max_width": null,
            "order": null,
            "_view_module_version": "1.2.0",
            "grid_template_areas": null,
            "object_position": null,
            "object_fit": null,
            "grid_auto_columns": null,
            "margin": null,
            "display": null,
            "left": null
          }
        },
        "9232314cf08345239fed477e71802fea": {
          "model_module": "@jupyter-widgets/controls",
          "model_name": "FloatProgressModel",
          "state": {
            "_view_name": "ProgressView",
            "style": "IPY_MODEL_23709bcd77c449199d3e102b45ac2a11",
            "_dom_classes": [],
            "description": "100%",
            "_model_name": "FloatProgressModel",
            "bar_style": "success",
            "max": 1,
            "_view_module": "@jupyter-widgets/controls",
            "_model_module_version": "1.5.0",
            "value": 1,
            "_view_count": null,
            "_view_module_version": "1.5.0",
            "orientation": "horizontal",
            "min": 0,
            "description_tooltip": null,
            "_model_module": "@jupyter-widgets/controls",
            "layout": "IPY_MODEL_6fe54ef2fccc455cbaa4883b4e0c2e82"
          }
        },
        "c5ef69bbb9c04eb2a6c141975c6db5a4": {
          "model_module": "@jupyter-widgets/controls",
          "model_name": "HTMLModel",
          "state": {
            "_view_name": "HTMLView",
            "style": "IPY_MODEL_27942b9043f54d319ef9e255cca967b9",
            "_dom_classes": [],
            "description": "",
            "_model_name": "HTMLModel",
            "placeholder": "​",
            "_view_module": "@jupyter-widgets/controls",
            "_model_module_version": "1.5.0",
            "value": " 1/1 [03:26&lt;00:00, 206.02s/it]",
            "_view_count": null,
            "_view_module_version": "1.5.0",
            "description_tooltip": null,
            "_model_module": "@jupyter-widgets/controls",
            "layout": "IPY_MODEL_5d2fdebb267d4e31a5179997b9ab4909"
          }
        },
        "23709bcd77c449199d3e102b45ac2a11": {
          "model_module": "@jupyter-widgets/controls",
          "model_name": "ProgressStyleModel",
          "state": {
            "_view_name": "StyleView",
            "_model_name": "ProgressStyleModel",
            "description_width": "initial",
            "_view_module": "@jupyter-widgets/base",
            "_model_module_version": "1.5.0",
            "_view_count": null,
            "_view_module_version": "1.2.0",
            "bar_color": null,
            "_model_module": "@jupyter-widgets/controls"
          }
        },
        "6fe54ef2fccc455cbaa4883b4e0c2e82": {
          "model_module": "@jupyter-widgets/base",
          "model_name": "LayoutModel",
          "state": {
            "_view_name": "LayoutView",
            "grid_template_rows": null,
            "right": null,
            "justify_content": null,
            "_view_module": "@jupyter-widgets/base",
            "overflow": null,
            "_model_module_version": "1.2.0",
            "_view_count": null,
            "flex_flow": null,
            "width": null,
            "min_width": null,
            "border": null,
            "align_items": null,
            "bottom": null,
            "_model_module": "@jupyter-widgets/base",
            "top": null,
            "grid_column": null,
            "overflow_y": null,
            "overflow_x": null,
            "grid_auto_flow": null,
            "grid_area": null,
            "grid_template_columns": null,
            "flex": null,
            "_model_name": "LayoutModel",
            "justify_items": null,
            "grid_row": null,
            "max_height": null,
            "align_content": null,
            "visibility": null,
            "align_self": null,
            "height": null,
            "min_height": null,
            "padding": null,
            "grid_auto_rows": null,
            "grid_gap": null,
            "max_width": null,
            "order": null,
            "_view_module_version": "1.2.0",
            "grid_template_areas": null,
            "object_position": null,
            "object_fit": null,
            "grid_auto_columns": null,
            "margin": null,
            "display": null,
            "left": null
          }
        },
        "27942b9043f54d319ef9e255cca967b9": {
          "model_module": "@jupyter-widgets/controls",
          "model_name": "DescriptionStyleModel",
          "state": {
            "_view_name": "StyleView",
            "_model_name": "DescriptionStyleModel",
            "description_width": "",
            "_view_module": "@jupyter-widgets/base",
            "_model_module_version": "1.5.0",
            "_view_count": null,
            "_view_module_version": "1.2.0",
            "_model_module": "@jupyter-widgets/controls"
          }
        },
        "5d2fdebb267d4e31a5179997b9ab4909": {
          "model_module": "@jupyter-widgets/base",
          "model_name": "LayoutModel",
          "state": {
            "_view_name": "LayoutView",
            "grid_template_rows": null,
            "right": null,
            "justify_content": null,
            "_view_module": "@jupyter-widgets/base",
            "overflow": null,
            "_model_module_version": "1.2.0",
            "_view_count": null,
            "flex_flow": null,
            "width": null,
            "min_width": null,
            "border": null,
            "align_items": null,
            "bottom": null,
            "_model_module": "@jupyter-widgets/base",
            "top": null,
            "grid_column": null,
            "overflow_y": null,
            "overflow_x": null,
            "grid_auto_flow": null,
            "grid_area": null,
            "grid_template_columns": null,
            "flex": null,
            "_model_name": "LayoutModel",
            "justify_items": null,
            "grid_row": null,
            "max_height": null,
            "align_content": null,
            "visibility": null,
            "align_self": null,
            "height": null,
            "min_height": null,
            "padding": null,
            "grid_auto_rows": null,
            "grid_gap": null,
            "max_width": null,
            "order": null,
            "_view_module_version": "1.2.0",
            "grid_template_areas": null,
            "object_position": null,
            "object_fit": null,
            "grid_auto_columns": null,
            "margin": null,
            "display": null,
            "left": null
          }
        }
      }
    }
  },
  "cells": [
    {
      "cell_type": "markdown",
      "metadata": {
        "id": "view-in-github",
        "colab_type": "text"
      },
      "source": [
        "<a href=\"https://colab.research.google.com/github/sazio/MultiAgentCovid/blob/master/People_Processing.ipynb\" target=\"_parent\"><img src=\"https://colab.research.google.com/assets/colab-badge.svg\" alt=\"Open In Colab\"/></a>"
      ]
    },
    {
      "cell_type": "code",
      "metadata": {
        "id": "7Le45BHOFtf4"
      },
      "source": [
        "import numpy as np \n",
        "import pandas as pd # data handling\n",
        "import glob # folder and path handling\n",
        "from tqdm.notebook import tqdm # measuring for loops runtime\n",
        "from scipy import sparse # to export sparse adjacency matrices\n",
        "import matplotlib.pyplot as plt # plot \n",
        "\n",
        "import warnings\n",
        "warnings.filterwarnings('ignore')"
      ],
      "execution_count": 31,
      "outputs": []
    },
    {
      "cell_type": "code",
      "metadata": {
        "colab": {
          "base_uri": "https://localhost:8080/"
        },
        "id": "DQ_bqxREFzg9",
        "outputId": "10554bea-f599-4c19-aa28-12413a43af1c"
      },
      "source": [
        "# Import data from GDrive\n",
        "from google.colab import drive\n",
        "drive.mount('/content/drive', force_remount= True)"
      ],
      "execution_count": 32,
      "outputs": [
        {
          "output_type": "stream",
          "text": [
            "Mounted at /content/drive\n"
          ],
          "name": "stdout"
        }
      ]
    },
    {
      "cell_type": "code",
      "metadata": {
        "colab": {
          "base_uri": "https://localhost:8080/",
          "height": 66,
          "referenced_widgets": [
            "558fd970676346aca0b09a6e9b11cae9",
            "eb1ba9ca4157465391462697318383c2",
            "9232314cf08345239fed477e71802fea",
            "c5ef69bbb9c04eb2a6c141975c6db5a4",
            "23709bcd77c449199d3e102b45ac2a11",
            "6fe54ef2fccc455cbaa4883b4e0c2e82",
            "27942b9043f54d319ef9e255cca967b9",
            "5d2fdebb267d4e31a5179997b9ab4909"
          ]
        },
        "id": "nBNfzJpoF3XD",
        "outputId": "3802b19e-d496-4c8f-c77e-708fa341f7ea"
      },
      "source": [
        "path = \"drive/MyDrive/MAS/Data/Output_GAMA/Data\" # path to folder & files\n",
        "people_path = path + \"/People\" # path to agents files , gama export\n",
        "num_people = 1 #30030 \n",
        "betas = [0.001, 0.005, 0.01, 0.02, 0.03, 0.04, 0.05, 0.1, 0.11, 0.12, 0.13, 0.14, 0.15]\n",
        "#betas = [0.025, 0.05, 0.075, 0.1]\n",
        "\n",
        "people_files = []\n",
        "\n",
        "for i in tqdm(range(0,num_people)):\n",
        "  people_files.append(people_path + \"/people\" + str(i) + \".txt\")"
      ],
      "execution_count": 33,
      "outputs": [
        {
          "output_type": "display_data",
          "data": {
            "application/vnd.jupyter.widget-view+json": {
              "model_id": "558fd970676346aca0b09a6e9b11cae9",
              "version_minor": 0,
              "version_major": 2
            },
            "text/plain": [
              "HBox(children=(FloatProgress(value=0.0, max=1.0), HTML(value='')))"
            ]
          },
          "metadata": {
            "tags": []
          }
        },
        {
          "output_type": "stream",
          "text": [
            "\n"
          ],
          "name": "stdout"
        }
      ]
    },
    {
      "cell_type": "code",
      "metadata": {
        "id": "JecpLfGzGDjj"
      },
      "source": [
        "def preprocess_people(people_file):\n",
        "\n",
        "  DF_people = pd.read_csv(people_files[0], sep = \",\", names = [\"cycle\",\"beta\", \"working_place\",\"living_place\",\"is_infected\",\"is_immune\",\"is_dead\"])\n",
        "  DF_people = DF_people[DF_people[\"cycle\"] != \"cycle\"]\n",
        "  DF_people = DF_people.reset_index(drop = True)\n",
        "\n",
        "  DF_people[\"cycle\"] = DF_people[\"cycle\"].astype(np.int16)  # dtype conversion\n",
        "  DF_people[\"beta\"] = DF_people[\"beta\"].astype(np.float32)\n",
        "  DF_people = DF_people.replace({\"is_infected\":{\"true\":1, \"false\":0}})\n",
        "  DF_people = DF_people.replace({\"is_immune\":{\"true\":1, \"false\":0}})\n",
        "  DF_people = DF_people.replace({\"is_dead\":{\"true\":1, \"false\":0}}) \n",
        "\n",
        "  DF_people[\"is_susceptible\"] = 1 - (DF_people.is_infected + DF_people.is_immune + DF_people.is_dead)\n",
        "\n",
        "  mean_ =  DF_people.groupby(['beta', 'cycle'])['is_susceptible', 'is_immune', 'is_infected', 'is_dead'].mean()\n",
        "  var_  =  DF_people.groupby(['beta', 'cycle'])['is_susceptible', 'is_immune', 'is_infected', 'is_dead'].var()\n",
        "\n",
        "return mean_, var_"
      ],
      "execution_count": 26,
      "outputs": []
    }
  ]
}