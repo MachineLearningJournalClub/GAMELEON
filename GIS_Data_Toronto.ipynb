{
 "cells": [
  {
   "cell_type": "code",
<<<<<<< Updated upstream
   "execution_count": 1,
=======
<<<<<<< Updated upstream
   "execution_count": 52,
=======
   "execution_count": 4,
>>>>>>> Stashed changes
>>>>>>> Stashed changes
   "metadata": {},
   "outputs": [],
   "source": [
    "import pandas as pd \n",
    "import geopandas as gpd\n",
    "from scipy.io import mmread\n",
    "import networkx as nx\n",
    "import numpy as np\n",
    "import matplotlib.pyplot as plt \n",
    "import matplotlib\n",
    "import re \n",
    "from tqdm.notebook import tqdm\n",
    "\n",
    "from sklearn.preprocessing import LabelEncoder"
   ]
  },
  {
   "cell_type": "markdown",
   "metadata": {},
   "source": [
    "# Toronto \n",
    "## Cases"
   ]
  },
  {
   "cell_type": "code",
<<<<<<< Updated upstream
   "execution_count": 2,
=======
<<<<<<< Updated upstream
   "execution_count": 53,
=======
   "execution_count": 5,
>>>>>>> Stashed changes
>>>>>>> Stashed changes
   "metadata": {
    "scrolled": true
   },
   "outputs": [
    {
     "data": {
      "text/plain": [
       "Index(['_id', 'Assigned_ID', 'Outbreak Associated', 'Age Group',\n",
       "       'Neighbourhood Name', 'FSA', 'Source of Infection', 'Classification',\n",
       "       'Episode Date', 'Reported Date', 'Client Gender', 'Outcome',\n",
       "       'Currently Hospitalized', 'Currently in ICU', 'Currently Intubated',\n",
       "       'Ever Hospitalized', 'Ever in ICU', 'Ever Intubated'],\n",
       "      dtype='object')"
      ]
     },
<<<<<<< Updated upstream
     "execution_count": 2,
=======
<<<<<<< Updated upstream
     "execution_count": 53,
=======
     "execution_count": 5,
>>>>>>> Stashed changes
>>>>>>> Stashed changes
     "metadata": {},
     "output_type": "execute_result"
    }
   ],
   "source": [
    "df_tor = pd.read_csv(\"Data/CasesToronto.csv\")\n",
    "#df_tor[\"Neighbourhood Name\"].value_counts()\n",
    "#df_tor.Outcome.value_counts()\n",
    "df_tor.columns"
   ]
  },
  {
   "cell_type": "code",
<<<<<<< Updated upstream
   "execution_count": 3,
=======
<<<<<<< Updated upstream
   "execution_count": 54,
=======
   "execution_count": 6,
>>>>>>> Stashed changes
>>>>>>> Stashed changes
   "metadata": {},
   "outputs": [
    {
     "data": {
      "text/html": [
       "<div>\n",
       "<style scoped>\n",
       "    .dataframe tbody tr th:only-of-type {\n",
       "        vertical-align: middle;\n",
       "    }\n",
       "\n",
       "    .dataframe tbody tr th {\n",
       "        vertical-align: top;\n",
       "    }\n",
       "\n",
       "    .dataframe thead th {\n",
       "        text-align: right;\n",
       "    }\n",
       "</style>\n",
       "<table border=\"1\" class=\"dataframe\">\n",
       "  <thead>\n",
       "    <tr style=\"text-align: right;\">\n",
       "      <th></th>\n",
       "      <th>_id</th>\n",
       "      <th>Assigned_ID</th>\n",
       "      <th>Outbreak Associated</th>\n",
       "      <th>Age Group</th>\n",
       "      <th>Neighbourhood Name</th>\n",
       "      <th>FSA</th>\n",
       "      <th>Source of Infection</th>\n",
       "      <th>Classification</th>\n",
       "      <th>Episode Date</th>\n",
       "      <th>Reported Date</th>\n",
       "      <th>Client Gender</th>\n",
       "      <th>Outcome</th>\n",
       "      <th>Currently Hospitalized</th>\n",
       "      <th>Currently in ICU</th>\n",
       "      <th>Currently Intubated</th>\n",
       "      <th>Ever Hospitalized</th>\n",
       "      <th>Ever in ICU</th>\n",
       "      <th>Ever Intubated</th>\n",
       "    </tr>\n",
       "  </thead>\n",
       "  <tbody>\n",
       "    <tr>\n",
       "      <th>0</th>\n",
       "      <td>126705</td>\n",
       "      <td>1</td>\n",
       "      <td>Sporadic</td>\n",
       "      <td>50 to 59 Years</td>\n",
       "      <td>Willowdale East</td>\n",
       "      <td>M2N</td>\n",
       "      <td>Travel</td>\n",
       "      <td>CONFIRMED</td>\n",
       "      <td>2020-01-22</td>\n",
       "      <td>2020-01-23</td>\n",
       "      <td>FEMALE</td>\n",
       "      <td>RESOLVED</td>\n",
       "      <td>No</td>\n",
       "      <td>No</td>\n",
       "      <td>No</td>\n",
       "      <td>No</td>\n",
       "      <td>No</td>\n",
       "      <td>No</td>\n",
       "    </tr>\n",
       "    <tr>\n",
       "      <th>1</th>\n",
       "      <td>126706</td>\n",
       "      <td>2</td>\n",
       "      <td>Sporadic</td>\n",
       "      <td>50 to 59 Years</td>\n",
       "      <td>Willowdale East</td>\n",
       "      <td>M2N</td>\n",
       "      <td>Travel</td>\n",
       "      <td>CONFIRMED</td>\n",
       "      <td>2020-01-21</td>\n",
       "      <td>2020-01-23</td>\n",
       "      <td>MALE</td>\n",
       "      <td>RESOLVED</td>\n",
       "      <td>No</td>\n",
       "      <td>No</td>\n",
       "      <td>No</td>\n",
       "      <td>Yes</td>\n",
       "      <td>No</td>\n",
       "      <td>No</td>\n",
       "    </tr>\n",
       "    <tr>\n",
       "      <th>2</th>\n",
       "      <td>126707</td>\n",
       "      <td>3</td>\n",
       "      <td>Sporadic</td>\n",
       "      <td>20 to 29 Years</td>\n",
       "      <td>Parkwoods-Donalda</td>\n",
       "      <td>M3A</td>\n",
       "      <td>Travel</td>\n",
       "      <td>CONFIRMED</td>\n",
       "      <td>2020-02-05</td>\n",
       "      <td>2020-02-21</td>\n",
       "      <td>FEMALE</td>\n",
       "      <td>RESOLVED</td>\n",
       "      <td>No</td>\n",
       "      <td>No</td>\n",
       "      <td>No</td>\n",
       "      <td>No</td>\n",
       "      <td>No</td>\n",
       "      <td>No</td>\n",
       "    </tr>\n",
       "    <tr>\n",
       "      <th>3</th>\n",
       "      <td>126708</td>\n",
       "      <td>4</td>\n",
       "      <td>Sporadic</td>\n",
       "      <td>60 to 69 Years</td>\n",
       "      <td>Church-Yonge Corridor</td>\n",
       "      <td>M4W</td>\n",
       "      <td>Travel</td>\n",
       "      <td>CONFIRMED</td>\n",
       "      <td>2020-02-16</td>\n",
       "      <td>2020-02-25</td>\n",
       "      <td>FEMALE</td>\n",
       "      <td>RESOLVED</td>\n",
       "      <td>No</td>\n",
       "      <td>No</td>\n",
       "      <td>No</td>\n",
       "      <td>No</td>\n",
       "      <td>No</td>\n",
       "      <td>No</td>\n",
       "    </tr>\n",
       "    <tr>\n",
       "      <th>4</th>\n",
       "      <td>126709</td>\n",
       "      <td>5</td>\n",
       "      <td>Sporadic</td>\n",
       "      <td>60 to 69 Years</td>\n",
       "      <td>Church-Yonge Corridor</td>\n",
       "      <td>M4W</td>\n",
       "      <td>Travel</td>\n",
       "      <td>CONFIRMED</td>\n",
       "      <td>2020-02-20</td>\n",
       "      <td>2020-02-26</td>\n",
       "      <td>MALE</td>\n",
       "      <td>RESOLVED</td>\n",
       "      <td>No</td>\n",
       "      <td>No</td>\n",
       "      <td>No</td>\n",
       "      <td>No</td>\n",
       "      <td>No</td>\n",
       "      <td>No</td>\n",
       "    </tr>\n",
       "  </tbody>\n",
       "</table>\n",
       "</div>"
      ],
      "text/plain": [
       "      _id  Assigned_ID Outbreak Associated       Age Group  \\\n",
       "0  126705            1            Sporadic  50 to 59 Years   \n",
       "1  126706            2            Sporadic  50 to 59 Years   \n",
       "2  126707            3            Sporadic  20 to 29 Years   \n",
       "3  126708            4            Sporadic  60 to 69 Years   \n",
       "4  126709            5            Sporadic  60 to 69 Years   \n",
       "\n",
       "      Neighbourhood Name  FSA Source of Infection Classification Episode Date  \\\n",
       "0        Willowdale East  M2N              Travel      CONFIRMED   2020-01-22   \n",
       "1        Willowdale East  M2N              Travel      CONFIRMED   2020-01-21   \n",
       "2      Parkwoods-Donalda  M3A              Travel      CONFIRMED   2020-02-05   \n",
       "3  Church-Yonge Corridor  M4W              Travel      CONFIRMED   2020-02-16   \n",
       "4  Church-Yonge Corridor  M4W              Travel      CONFIRMED   2020-02-20   \n",
       "\n",
       "  Reported Date Client Gender   Outcome Currently Hospitalized  \\\n",
       "0    2020-01-23        FEMALE  RESOLVED                     No   \n",
       "1    2020-01-23          MALE  RESOLVED                     No   \n",
       "2    2020-02-21        FEMALE  RESOLVED                     No   \n",
       "3    2020-02-25        FEMALE  RESOLVED                     No   \n",
       "4    2020-02-26          MALE  RESOLVED                     No   \n",
       "\n",
       "  Currently in ICU Currently Intubated Ever Hospitalized Ever in ICU  \\\n",
       "0               No                  No                No          No   \n",
       "1               No                  No               Yes          No   \n",
       "2               No                  No                No          No   \n",
       "3               No                  No                No          No   \n",
       "4               No                  No                No          No   \n",
       "\n",
       "  Ever Intubated  \n",
       "0             No  \n",
       "1             No  \n",
       "2             No  \n",
       "3             No  \n",
       "4             No  "
      ]
     },
<<<<<<< Updated upstream
     "execution_count": 3,
=======
<<<<<<< Updated upstream
     "execution_count": 54,
=======
     "execution_count": 6,
>>>>>>> Stashed changes
>>>>>>> Stashed changes
     "metadata": {},
     "output_type": "execute_result"
    }
   ],
   "source": [
    "df_tor.head()"
   ]
  },
  {
   "cell_type": "code",
<<<<<<< Updated upstream
   "execution_count": 4,
=======
<<<<<<< Updated upstream
   "execution_count": 55,
=======
   "execution_count": 7,
>>>>>>> Stashed changes
>>>>>>> Stashed changes
   "metadata": {},
   "outputs": [],
   "source": [
    "df_tor[\"Episode Date\"] = pd.to_datetime(df_tor[\"Episode Date\"])"
   ]
  },
  {
   "cell_type": "code",
<<<<<<< Updated upstream
   "execution_count": 5,
=======
<<<<<<< Updated upstream
   "execution_count": 56,
=======
   "execution_count": 8,
>>>>>>> Stashed changes
>>>>>>> Stashed changes
   "metadata": {},
   "outputs": [
    {
     "data": {
      "image/png": "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\n",
      "text/plain": [
       "<Figure size 864x432 with 1 Axes>"
      ]
     },
     "metadata": {
      "needs_background": "light"
     },
     "output_type": "display_data"
    }
   ],
   "source": [
    "fig, ax = plt.subplots(1,1, figsize = (12, 6))\n",
    "df_tor.groupby([\"Episode Date\"]).count().reset_index().plot(x = \"Episode Date\", y = \"Assigned_ID\", ax = ax )\n",
    "fig.savefig(\"Data/cases.png\")"
   ]
  },
  {
   "cell_type": "markdown",
   "metadata": {},
   "source": [
    "## Traffic"
   ]
  },
  {
   "cell_type": "code",
<<<<<<< Updated upstream
   "execution_count": 60,
=======
<<<<<<< Updated upstream
   "execution_count": 50,
=======
   "execution_count": 9,
>>>>>>> Stashed changes
>>>>>>> Stashed changes
   "metadata": {
    "scrolled": true
   },
   "outputs": [],
   "source": [
    "#file_name = \"week3Toronto\"\n",
    "\n",
    "# Bounding box --> taglio alla mappa \n",
    "#bbox = (-79.6491, 43.7722, -79.4502, 43.7019)\n",
    "file_name = \"2019-04-01-Toronto\"\n",
    "traffic_toronto = gpd.read_file(\"C:/Users/simon/Desktop/MAS/Data/Traffic/Filtered-top23-neigh/2019-04-01-Toronto.shp\")"
   ]
  },
  {
   "cell_type": "code",
   "execution_count": 68,
   "metadata": {},
   "outputs": [
    {
     "data": {
      "application/vnd.jupyter.widget-view+json": {
       "model_id": "90b29f17081e43b59fce60961b8233ca",
       "version_major": 2,
       "version_minor": 0
      },
      "text/plain": [
       "HBox(children=(HTML(value=''), FloatProgress(value=0.0, max=19.0), HTML(value='')))"
      ]
     },
     "metadata": {},
     "output_type": "display_data"
    },
    {
     "name": "stdout",
     "output_type": "stream",
     "text": [
      "\n"
     ]
    }
   ],
   "source": [
    "# 23 neigh bbox = (-79.6491, 43.7722, -79.4502, 43.7019)\n",
    "#1 neigh bbox = (-79.6491, 43.7722, -79.6202, 43.7019)\n",
    "bbox = (-79.6491, 43.7722, -79.6202, 43.7019)\n",
    "\n",
    "for i in tqdm(range(10,29)):\n",
    "    file_name = \"2019-04-\"+str(i)+\"-Toronto\"\n",
    "    traffic_toronto = gpd.read_file(\"Data/Traffic/\"+file_name+\".geojson\", bbox = bbox)\n",
    "\n",
    "    traffic_toronto = traffic_toronto.iloc[1:]\n",
    "    traffic_toronto = traffic_toronto.drop([\"jobName\", \"creationTime\", \"userPreference\", \"dateRanges\", \"timeSets\", \"networkName\", \"zoneId\", \"probeSource\", \"segmentId\"], axis = 1)\n",
    "\n",
    "\n",
    "    substr_sample_size = \"sampleSize\"\n",
    "\n",
    "    substr_speed = \"averageSpeed\"\n",
    "    substr_avg_trav_t = \"averageTravelTime\"\n",
    "\n",
    "    substr_std_speed = \"standardDeviationSpeed\"\n",
    "    substr_std_time = \"travelTimeStandardDeviation\"\n",
    "\n",
    "    traffic_toronto[\"avgSpeed\"] = traffic_toronto.apply(lambda row: float(row.segmentTimeResults[row.segmentTimeResults.find(substr_speed) + 15: row.segmentTimeResults.find(substr_speed) +22]), axis = 1  )\n",
    "    traffic_toronto[\"sampleSize\"] = traffic_toronto.apply(lambda row: int(row.segmentTimeResults[row.segmentTimeResults.find(substr_sample_size) + 13: row.segmentTimeResults.find(substr_avg_trav_t) -3]), axis = 1  )\n",
    "    traffic_toronto[\"stdSpeed\"] = traffic_toronto.apply(lambda row: float(row.segmentTimeResults[row.segmentTimeResults.find(substr_std_speed) + 25: row.segmentTimeResults.find(substr_std_time) -3]) if row.avgSpeed != 0 else 0, axis = 1  )\n",
    "    traffic_toronto = traffic_toronto.drop([\"segmentTimeResults\"], axis = 1)\n",
    "    #traffic_toronto.to_file(\"Data/Traffic/Filtered-top23-neigh/\"+ file_name+ \".shp\")\n",
    "    traffic_toronto.to_file(\"Data/Traffic/Filtered_1st_neigh/\"+ file_name+ \".shp\")"
   ]
  },
  {
   "cell_type": "code",
   "execution_count": 62,
   "metadata": {},
   "outputs": [
    {
     "data": {
      "text/html": [
       "<div>\n",
       "<style scoped>\n",
       "    .dataframe tbody tr th:only-of-type {\n",
       "        vertical-align: middle;\n",
       "    }\n",
       "\n",
       "    .dataframe tbody tr th {\n",
       "        vertical-align: top;\n",
       "    }\n",
       "\n",
       "    .dataframe thead th {\n",
       "        text-align: right;\n",
       "    }\n",
       "</style>\n",
       "<table border=\"1\" class=\"dataframe\">\n",
       "  <thead>\n",
       "    <tr style=\"text-align: right;\">\n",
       "      <th></th>\n",
       "      <th>newSegment</th>\n",
       "      <th>speedLimit</th>\n",
       "      <th>frc</th>\n",
       "      <th>streetName</th>\n",
       "      <th>distance</th>\n",
       "      <th>avgSpeed</th>\n",
       "      <th>sampleSize</th>\n",
       "      <th>stdSpeed</th>\n",
       "      <th>geometry</th>\n",
       "    </tr>\n",
       "  </thead>\n",
       "  <tbody>\n",
       "    <tr>\n",
       "      <th>0</th>\n",
       "      <td>-0000434f-5000-0400-0000-000000a7db1d</td>\n",
       "      <td>60</td>\n",
       "      <td>3</td>\n",
       "      <td>Steeles Ave W</td>\n",
       "      <td>161.91</td>\n",
       "      <td>60.62</td>\n",
       "      <td>1146</td>\n",
       "      <td>16.57</td>\n",
       "      <td>LINESTRING (-79.63274 43.75128, -79.63251 43.7...</td>\n",
       "    </tr>\n",
       "    <tr>\n",
       "      <th>1</th>\n",
       "      <td>-0000434f-5000-0400-0000-000000a7ff3d</td>\n",
       "      <td>30</td>\n",
       "      <td>3</td>\n",
       "      <td>None</td>\n",
       "      <td>18.61</td>\n",
       "      <td>57.04</td>\n",
       "      <td>541</td>\n",
       "      <td>25.83</td>\n",
       "      <td>LINESTRING (-79.62010 43.71862, -79.62032 43.7...</td>\n",
       "    </tr>\n",
       "    <tr>\n",
       "      <th>2</th>\n",
       "      <td>-0000434f-5000-0400-0000-000000a7ff4b</td>\n",
       "      <td>70</td>\n",
       "      <td>3</td>\n",
       "      <td>None</td>\n",
       "      <td>64.07</td>\n",
       "      <td>50.42</td>\n",
       "      <td>443</td>\n",
       "      <td>43.78</td>\n",
       "      <td>LINESTRING (-79.62920 43.73439, -79.62897 43.7...</td>\n",
       "    </tr>\n",
       "    <tr>\n",
       "      <th>3</th>\n",
       "      <td>-0000434f-5000-0400-0000-000000a7ff4c</td>\n",
       "      <td>70</td>\n",
       "      <td>3</td>\n",
       "      <td>None</td>\n",
       "      <td>7.24</td>\n",
       "      <td>51.42</td>\n",
       "      <td>435</td>\n",
       "      <td>44.97</td>\n",
       "      <td>LINESTRING (-79.62922 43.73445, -79.62920 43.7...</td>\n",
       "    </tr>\n",
       "    <tr>\n",
       "      <th>4</th>\n",
       "      <td>-0000434f-5000-0400-0000-000000a7ff9b</td>\n",
       "      <td>60</td>\n",
       "      <td>3</td>\n",
       "      <td>Steeles Ave W</td>\n",
       "      <td>23.87</td>\n",
       "      <td>67.50</td>\n",
       "      <td>1126</td>\n",
       "      <td>19.25</td>\n",
       "      <td>LINESTRING (-79.63502 43.75118, -79.63491 43.7...</td>\n",
       "    </tr>\n",
       "  </tbody>\n",
       "</table>\n",
       "</div>"
      ],
      "text/plain": [
       "                              newSegment  speedLimit  frc     streetName  \\\n",
       "0  -0000434f-5000-0400-0000-000000a7db1d          60    3  Steeles Ave W   \n",
       "1  -0000434f-5000-0400-0000-000000a7ff3d          30    3           None   \n",
       "2  -0000434f-5000-0400-0000-000000a7ff4b          70    3           None   \n",
       "3  -0000434f-5000-0400-0000-000000a7ff4c          70    3           None   \n",
       "4  -0000434f-5000-0400-0000-000000a7ff9b          60    3  Steeles Ave W   \n",
       "\n",
       "   distance  avgSpeed  sampleSize  stdSpeed  \\\n",
       "0    161.91     60.62        1146     16.57   \n",
       "1     18.61     57.04         541     25.83   \n",
       "2     64.07     50.42         443     43.78   \n",
       "3      7.24     51.42         435     44.97   \n",
       "4     23.87     67.50        1126     19.25   \n",
       "\n",
       "                                            geometry  \n",
       "0  LINESTRING (-79.63274 43.75128, -79.63251 43.7...  \n",
       "1  LINESTRING (-79.62010 43.71862, -79.62032 43.7...  \n",
       "2  LINESTRING (-79.62920 43.73439, -79.62897 43.7...  \n",
       "3  LINESTRING (-79.62922 43.73445, -79.62920 43.7...  \n",
       "4  LINESTRING (-79.63502 43.75118, -79.63491 43.7...  "
      ]
     },
     "execution_count": 62,
     "metadata": {},
     "output_type": "execute_result"
    }
   ],
   "source": [
    "traffic_toronto.head()"
   ]
  },
  {
   "cell_type": "code",
   "execution_count": 8,
   "metadata": {
    "scrolled": false
   },
   "outputs": [],
   "source": [
    "\"\"\"\n",
    "fig, ax = plt.subplots(1, 1, figsize = (15,8))\n",
    "traffic_toronto.plot(column = \"sampleSize\", ax = ax, linewidth=0.2 , legend = True, cmap = \"coolwarm\",\n",
    "                    norm= matplotlib.colors.LogNorm(vmin=1, vmax=traffic_toronto.sampleSize.max()))\n",
    "fig.savefig(\"Data/Toronto_Traffic_Density.png\", dpi = 600)\n",
    "\"\"\";"
   ]
  },
  {
   "cell_type": "markdown",
   "metadata": {},
   "source": [
    "## Neighbourhood Profiles"
   ]
  },
  {
   "cell_type": "markdown",
   "metadata": {},
   "source": [
    "**We should choose a subset of the effective number of neighbourhoods**"
   ]
  },
  {
   "cell_type": "code",
<<<<<<< Updated upstream
   "execution_count": 57,
=======
<<<<<<< Updated upstream
   "execution_count": 7,
>>>>>>> Stashed changes
   "metadata": {},
   "outputs": [],
   "source": [
    "# Bounding box --> taglio alla mappa \n",
    "bbox = (-79.6491, 43.7722, -79.6202, 43.7019)\n",
    "\n",
    "DF_neighbourhoods_shape = gpd.read_file(\"Data/toronto_neigh.geojson\", bbox = bbox)\n",
    "DF_neighbourhoods_shape[\"AREA_S_CD\"] = DF_neighbourhoods_shape[\"AREA_S_CD\"].astype(\"int32\") \n",
    "DF_neighbourhoods_shape = DF_neighbourhoods_shape.sort_values(by = [\"AREA_S_CD\"]).reset_index().drop([\"index\"], axis = 1)\n",
    "DF_neighbourhoods_shape[\"AREA_NAME\"] = DF_neighbourhoods_shape.apply(lambda row:  row.AREA_NAME.replace(row.AREA_NAME[row.AREA_NAME.find(\"(\")-1:row.AREA_NAME.find(\")\")+1], \"\"), axis = 1)"
   ]
  },
  {
   "cell_type": "code",
   "execution_count": 58,
   "metadata": {},
   "outputs": [
    {
     "data": {
      "text/plain": [
       "(1, 3)"
      ]
     },
     "execution_count": 58,
     "metadata": {},
     "output_type": "execute_result"
    }
   ],
   "source": [
    "DF_neighbourhoods_shape.shape"
   ]
  },
  {
   "cell_type": "code",
   "execution_count": 59,
   "metadata": {
    "scrolled": false
   },
   "outputs": [
    {
     "data": {
      "text/plain": [
       "<matplotlib.axes._subplots.AxesSubplot at 0x1c60893bb38>"
      ]
     },
     "execution_count": 59,
     "metadata": {},
     "output_type": "execute_result"
    },
    {
     "data": {
      "image/png": "iVBORw0KGgoAAAANSUhEUgAAAj0AAAHWCAYAAACc+jjdAAAABHNCSVQICAgIfAhkiAAAAAlwSFlzAAALEgAACxIB0t1+/AAAADl0RVh0U29mdHdhcmUAbWF0cGxvdGxpYiB2ZXJzaW9uIDMuMC4zLCBodHRwOi8vbWF0cGxvdGxpYi5vcmcvnQurowAAIABJREFUeJzs3Xd4VGXaBvD7SSOhl9BDB0F6FRBERVQ6Ir1XEQF1UUFZrEhzbahr+VgrgoA0QUSxgSBFQKQGEjqEIiBIl5J5vj9mgkNMMiln8s6Zc//2OpfMaXPnWsGHt4qqgoiIiCjYhZgOQERERJQdWPQQERGRI7DoISIiIkdg0UNERESOwKKHiIiIHIFFDxERETkCix4iIiLyKxH5UESOi8i2VK5XEZE1InJZRJ5Idq2liMSJyG4RecrrfDkR+UVEdonIbBGJ8JWDRQ8RERH528cAWqZx/RSARwC84n1SREIBvA2gFYCqAHqISFXP5ZcAvK6qlQCcBjDIVwgWPURERORXqroC7sImtevHVXU9gKvJLt0CYLeq7lXVKwBmAeggIgKgOYC5nvs+AXCfrxwseoiIiChQlQRwyOtzgudcIQB/quq1ZOfTFGZ5PD+Kjo7WsmXLmo5BRER0g19//fWkqhY2ncOXe+/MpX+cSrT0nb9uubwdwF9ep6aq6lSLXi8pnNM0zqfJVkVP2bJlsWHDBtMxiIiIbiAiB0xnSI8/TiVi3dLSlr4ztPiuv1S1vqUv/VsCgFJen2MAHAFwEkB+EQnztPYknU8Tu7eIiIgcQgG4LP6fn60HUMkzUysCQHcAi9S9W/oyAJ099/UDsNDXy2zV0kNERET2IyIzAdwBIFpEEgA8ByAcAFT1PREpBmADgLwAXCLyLwBVVfWsiIwAsBRAKIAPVXW757VPApglIuMB/AbgA185WPQQERE5hiJR/d46889vVe3h4/oxuLuoUrq2BMCSFM7vhXt2V7qxe4uIiIgcId1Fj4iEishvIrLY8/kDEdksIltEZK6I5E7hmV4issnrcIlIbc+1CBGZKiLxIrJTRDpZ92MRERFRcu4xPWrpYScZ6d56FMAOuPvbAGCkqp4FABF5DcAIAJO9H1DVGQBmeO6pAWChqm7yXB4L4Liq3iQiIQAKZvqnICIionTJhsHHAStdLT0iEgOgDYD3k855FTwCIAq+58f3ADDT6/NAAJM873Kp6sn0xyYiIiLKmPR2b00BMBq4sTwUkY8AHANQBcBbPt7RDZ6iR0Tye869KCIbRWSOiBRNd2oiIiLKMIUiUa097MRn0SMibeHuhvo1+TVVHQCgBNzdXt3SeEdDABdVNWl31TC4R2mvUtW6ANYg2SZjXs8OEZENIrLhxIkTvuISERERpSg9LT1NALQXkf1wb/TVXESmJ11U1UQAswGkNRC5O27s2voDwEUACzyf5wCom9KDqjpVVeurav3ChQN+hW8iIqKA5uSBzD6LHlUdo6oxqloW7uLlRwB9RKQicH1MTzsAO1N63jNIuQvcBVPSOxXAl3AvVAQAdwGIzfRPQURERD4pgESopYedZHZxQgHwiYjk9fx6M4CHAEBE2gOor6rPeu5tBiDBs4iQtycBfCoiUwCcADAgk1mIiIiIfMpQ0aOqywEs93xskso9iwAsSvZMoxTuOwB3QURERETZxG5dUlbiisxERETkCNx7i4iIyCEUsN00cyux6CEiInIQ567HzO4tIiIicgi29BBlE5fLhUNxR5AzTxQKxxQyHYeIHEhtOM3cSix6iPzkwpkL2LluN2LXxGPH2njs/GUXzp2+gOLli+L1lS+iUPECpiMSETkKix4iC6gqEuKPYPvqeOxYE4fYtfE4sD0BmsKAwaN7f8eYluPx6vIXkKdAbgNpicixFEh0bkMPix6izLh0/tL1VpzYNXHYsXYXzp06n+7n9209iKfbTcZL3z6DyJw5/JiUiIiSsOgh8kFVcXTv79i+Og471sQjdm089m05AJcra39dil0dh3FdXsW4L0YjLJy/FYnI/xTOnr3FP2mJkvnr4mXEb9jzdyvOmnj8eeKsX75r/de/4eUBb+PJaQ8jJISTKYnI3wSJENMhjGHRQ46mqji27/j1wcaxa+Oxd/MBJF5LzLYMP372M/IUyI3hbw6Ee/9eIiLyBxY95CjerTg71sYjdk08/jx+xnQsLHz7G+QrnBd9nu1iOgoRBTEFkMWeeVtj0UNBS1Vx/OBJbF8dh+2rdmLH2njs2XwArsTA7NGe9vznyFMwN+4b0cp0FCKioMSih4LGtavXsGfzAWxftROxa+KwfVUcTh4+ZTpWhrz9yIfIlS8n7u5zu+koRBSkOKaHyIbOnT6PHWt3Yfuqndi+Og5x63bjr4uXTcfKslcGvoOo3JFo2rGh6ShEFGQULHqIAt61q9ewZ9N+xK6Jx97N+7Fz/W7s33bIdCy/cCW6MLHHFIxb9BTq31PLdBwioqDBoocC0unjZ7BjTbx7bZy18YjfsAeXL10xHSvbXL1yDc93/A8mfj0WNZtVNR2HiIKIS9nSQ2RM4rVE7Nt2ELGr4xG71r0uzpE9v5uOZdzlS1fwTPvJeO+3l1G8XFHTcYiIbI9FD2W7s3+cuz5dPHZNHHau242/Lth/LI4/XDx7CRN7TMFrK8YhPCLcdBwisjmO6SHyI5fLhQOxCe6uKs/qxofijpiOZSs71+3GrMlfcA0fIsoyhSARzl39nUUPWerCmQvY8ctuxK527zS+85dduHDmoulYtvfZhHlo2vEWlKtRxnQUIiLbYtFDmeZyuXAo7oh7E07PCscHYhOg6uDlPv3k2tVETO7zFt7Z8BJCw0JNxyEiG+NAZqJ0uHDmAnau2329wNmxdhfO/3nBdCzH2LvlAFZ9sQ7NOjc2HYWIyJZY9FCK2IoTmBa8uYRFDxFlGgcyEwG4cPYidv6y63qBs/OXXTh3mq04gWbbzzuxa+NeVKpb3nQUIrIlQaJyIDM5iMvlQkL8UXeBs8Y94PjAdrbi2MWCN5dg9McjTMcgIrIdFj0OcPnSZcSt34Ptq+KwffVOxK6Jx7lT503HokxaNvNnDJ7cCwWLFTAdhYhsRgG4OGWdgsnp3//EtlVx1zfi3L1xL65dTTQdiyxy7WoiFr/3Hfo+39V0FCIiW2HRY3MulwuHdh7Gtp/dBc72VTu5hYMDfPnet+g+piMicnCVZiLKGA5kJtu4fOkydq7bje2r4hC7Jg6xq+M44NiB/jx+Bj/OWImWA5ubjkJEZBssegLcH0dPI3ZNPLuq6B9mTJiHFn2aISycv42JKH1UOXuLAsSl85cQ/+texK3bjZ3rdmHnut04cegP07EoQB3bdxzfTfsJrQbdZToKEdmIi91blN1cLheO7PndvbKxZzPO/VsPwuXitHFKv888rT3cgZ2IyDcWPRZSVSReS8TFc5dw5dIVXL1yDRfOXMTZk+fwx5HTOH7oJA7vPorD8Uexb+tBXDr/l+nIZHPH9p/Ad9NWoPVgtvYQkW/uFZnZvUU+HD94Anu3HMSRPceQEH8Uh+IO49je33H+z4u48tcVXLtyja00ZMRnE+bh7r5s7SEi8oVFTypUFXs27ccPM1bi5/lrcWz/CdORiFL0+4ET+Pbj5Wgz5G7TUYgo4HEgM3m5dP4Svv3kJyx8+xsc2nnYdByidJn9n4VoObA5QsNCTUchogBmakVmEfkQQFsAx1W1egrXBcAbAFoDuAigv6puFJE7AbzudWsVAN1V9QsR+RjA7QDOeK71V9VNaeVg0eOREH8Ei95ZiqUfL8PFs5dMxyHKkKN7f8dPc9ageY+mpqMQEaXkYwD/BTAtleutAFTyHA0BvAugoaouA1AbAESkIIDdAL71em6Uqs5NbwjHFz0Hdx7Gp+Pm4KfZq7nhJtnarMkLcGf3JnD/hYmIKGWJmv1/RqjqChEpm8YtHQBMU/d/iNeKSH4RKa6qR73u6Qzga1W9mNkcju3YO7z7KF7q9xYeqD4Sy2etYsFDtrdv60H88tVG0zGIyHmiRWSD1zEkE+8oCeCQ1+cEzzlv3QHMTHZugohsEZHXRSSHry9xZNGjqpj+4lx8/+kKzriioDJz0nwW8ESUKoUgESGWHgBOqmp9r2NqJqKl1Px0/Q8zESkOoAaApV7Xx8A9xqcBgIIAnvT1JY4sekQET3wwDM17cvwDBZfYNfHYsiLWdAwiCmAuDbH0sEgCgFJen2MAHPH63BXAAlW9mnRCVY+q22UAHwG4xdeXOLLoAYDQsFCM/mQE7up1m+koRJaaNXmB6QhERBm1CEBfcWsE4Eyy8Tw9kKxry9P6kzTz6z4A23x9iaMHMoeGhmLUx8MhIYLvP11hOg6RJTYs3Yz4X/fgpnoVTEchogBjakVmEZkJ4A64x/8kAHgOQDgAqOp7AJbAPV19N9xT1gd4PVsW7lagn5K9doaIFIa7a2wTgKG+cji66AHchc8THw5DWHgYvvnwR9NxiCwxa/ICPDvnCdMxiIgAAKraw8d1BTA8lWv78c9BzVDV5hnN4djuLW+hoaEYOfVB3PdwK9NRiCzx8/x12LftoOkYRBRgFIJEtfawExY9HiEhIRg2ZQAGTuiJkBB7/Z9IlJyqYsb4dK/XRUTkCCx6vIgIeozpiEGTepmOQpRlK+asxf7th3zfSESO4kKIpYed2CttNrn/X21Qtlop3zcSBTC29hBRcqpAooZYetiJvdJmk7DwMIz47yDTMYiy7KfP17C1h4jIg0VPKmrdXg139eYaPmRvbO0hohsJXBYfdsKiJw1D/tMHOfNGmY5BlCVs7SEicmPRk4aCxQqgWefGpmMQZQlbe4goiYJjeigNBYrmMx2BKMvY2kNESfyw4aht2CutAZ1GtkXRMoVNxyDKElXF9BfnmI5BRGQUix4f8kXnxdOzR5qOQZRlP32+Bvu2HjAdg4gMUghcau1hJyx60qHKLZXQqF090zGIsmzaC2ztISLnYtGTTv2e72Y6AlGW/Tz/F47tIXI4jukhnyrWKYem9zc0HYMoyz6bOM90BCIyRAG4NMTSw07sldawvs93hYi9+i+Jkvtp9mokxB8xHYOIKNux6MmActVL4/Zut5qOQZQlLpdi1uQvTMcgIiMEiRYfdsKiJ4MGju+BsPBQ0zGIsuT76StwbP9x0zGIiLIVi54MKl6+KDoMb2k6BlGWJF5LxOyX2NpD5DQc00MZ1vPpTshTMLfpGERZsvSjZTh5+A/TMYiIsg2LnkzIWzAPBk/qZToGUZZcvXINn7+8yHQMIspmHNNDGdZyUHNUuaWi6RhEWbLkf9/j1LHTpmMQUTZRFXZvUcaFhIRgxH8Hcwo72drlS1fY2kNEjsGiJwsq16+ANkNamI5BlCWL3/sWp3//03QMIsomiRpi6WEn9kobgAZM6IG8hfKYjkGUaWztISKnYNGTRXkL5sHgyRzUTPb25btL2dpD5AAKwAWx9LATFj0WuHfAnajSsJLpGESZdvnSFcx5ha09RMFP2L1FWRMSEoJH3uagZrK3Re8sxenjZ0zHICLyGxY9FqlUtzzaDr3HdAyiTLt86Qrmv77YdAwi8iP3isxi6WEnLHosNGB8d+SL5qBmsq9F7y7FhTMXTMcgIvILFj0WylMgNwa/1Md0DKJMu3j2Eha9863pGETkR4kIsfSwE3ultYF7+t2Oyg0qmI5BlGnzpyzGpQt/mY5BRH6gsLZri91bDhcSEoJhbww0HYMo0/48cRZfvrPUdAwiIsux6PGDqo1uQos+zUzHIMq0z19eiEvnL5mOQUR+4EKIpYed2CutjQya1AuRuXKYjkGUKWdOnsPCt9naQ0TBhUWPn0SXKIie/+5kOgZRps15ZREunmNrD1EwUQUSVSw97CTdRY+IhIrIbyKy2PP5AxHZLCJbRGSuiORO4ZleIrLJ63CJSO1k9ywSkW1Z/1ECT6eRbVC8fFHTMYgy5ewf57Dwv9+YjkFEZJmMtPQ8CmCH1+eRqlpLVWsCOAhgRPIHVHWGqtZW1doA+gDYr6qbkq6LyP0AzmcueuCLiIzAg6/0NR2DKNPmvf4lrvx1xXQMIrIQZ2/5ICIxANoAeD/pnKqe9VwTAFFwL/SYlh4AZnq9MzeAxwCMz1hke7m1QwPUbVHDdAyiTDlz8hyWz15tOgYRWcQ9ZT3E0sNO0pt2CoDRAFzeJ0XkIwDHAFQB8JaPd3SDV9ED4EUArwK4mM4MtiQiGDZlAEJC7fUvBlGSWZMXIDEx0XQMIqIs8/lfYhFpC+C4qv6a/JqqDgBQAu5ur25pvKMhgIuqus3zuTaAiqq6IB3fP0RENojIhhMnTvi6PSCVqVoK7YfdazoGUaYcijuClXPXmo5BRBZJhFh62El6mh+aAGgvIvsBzALQXESmJ11U1UQAswGkNVWpO25s5WkMoJ7nnT8DuElElqf0oKpOVdX6qlq/cOHC6YgbmPo+35X7cpFtzZgwDy6Xy/eNREQBzGfRo6pjVDVGVcvCXbz8CKCPiFQEro/paQdgZ0rPi0gIgC5wF0xJ73xXVUt43tkUQLyq3pG1HyWw5SmQGwPG9zAdgyhT9m87hNUL15uOQURZxF3WM0cAfCIiWwFsBVAcwDgAEJH2IjLO695mABJUdW+WkgaBloOao2KdcqZjEGXKjPHzoOprvgIRBTYOZE43VV2uqm1V1aWqTVS1hqpWV9VeSbO5VHWRqj6b7JlGabxzv6pWz/yPYB+hoaEYNmWA6RhEmbL7t3345auNpmMQEWWavUq0IFDjtptxZ48mpmMQZcq0Fz5naw+Rzbkglh52wqLHgAde6oPInNyXi+xn1697sXbxPyZyEhGlSUQ+FJHjqe3AIG5vishuz04Pdb2uJXrt7LDI63w5EflFRHaJyGwRifCVg0WPAYVjCqH7Ux1NxyDKlE/Z2kNkWwb33voYQMs0rrcCUMlzDAHwrte1S0m7O6hqe6/zLwF4XVUrATgNYJCvECx6DOn8eFsUK2vfKfjkXLs27sOaRRtMxyCiTDIxkFlVVwA4lcYtHQBMU7e1APKLSPHUbvbMHG8OYK7n1CcA7vOVg0WPITmicuDBV/uZjkGUKZ+Om8PWHiKyUkkAh7w+J3jOAUCkZ5HitSKSVNgUAvCnql5L4f5UsegxqMl9t6DOXdyXi+yHM7mI7Mm995bl6/REJ+2c4DmGZCJaSv1kSX+zKq2q9QH0BDBFRCr4uD9VLHoMEhG0HnyX6RhEmfL5KwtNRyCiwHAyaecEzzE1E+9IAFDK63MMgCMAoKpJ/9wLYDmAOgBOwt0FFpb8/rSw6DGsbouaCAmx15Q/IgDYumIHYtfGm45BRBkUoFPWFwHo65nF1QjAGVU9KiIFRCQHAIhINNxbY8Wqu399GYDOnuf7AfD5NzEWPYblLZQHd/ZoajoGUabMeWWR75uIyPFEZCaANQAqi0iCiAwSkaEiMtRzyxIAewHsBvA/AMM8528GsEFENsNd5ExW1VjPtScBPCYiu+Ee4/OBrxxhvm4g/3vw1X5Y9/VvOHfqvOkoRBmyasE6HIo7jFKVfY4fJKIAkLT3VrZ/r2qam096Wm6Gp3B+NYAUB796urtuyUgOtvQEgAJF8uHBV/qajkGUYaqKmZMXmI5BRBnAvbfIuHv63cGZXGRLP0xfiWP7j5uOQUTkE4ueACEiePTdBxARGW46ClGGuBJdmP3SF6ZjEFF6WDxd3URXWVaw6AkgJSsWR59nu5iOQZRhSz9ahpNH0lpslYjIPBY9Aabz4+1QvlYZ0zGIMuTqlWuYy5lcRAFPEbBT1rMFi54AExYehhcXPYWqt1Y2HYUoQ76a+j3+PHHGdAwi8oHdWxRQipSKxqvLnkfnx9qZjkKUbn9dvIz5U74yHYOIKFUsegJUWHgYHnylL56fPwq58uU0HYcoXRa+/Q3O/3nBdAwiSkXSOj1s6aGA1OS+W/Dur/9BzE3FTUch8uni2UtY+N9vTMcgIkoRix4bKF6+KO7pd6fpGETpMm/KYlw6f8l0DCJKBVt6KODd3e92bkxKtnDu1Hks/r/vTccgohQouE4P2UB0iYK4pXVd0zGI0mXuq4tw5a8rpmMQEd2ARY+NdB3VAeER3COWAt+pY39i6UfLTMfwi9O//4kVc9fgrRHv4/cDJ0zHIcowJ6/Tw/+C2kiN227GjIPv4fjBk9i+aie+/uAH7N92yHQsohR9/vJCtH6gBULDQk1HyTRVxcEdCYhdE4/tq+KwdWUsjuz5/fr1q5ev4bH/DTWYkIgygkWPzRQokg8FiuRD5foV0H7YvZjY6w2snLvWdCyifzi2/wSWzVqFFr2bmY6SIaqK+A178P30FVg+ezX+PJ76gotLP16GrqM7IKYSZ1eSTShsNw7HSuzesrGw8DCM+nAY8kXnMR2FKEWzJi+Ay+UyHSPdTh45hdEtXsCIhmPwxVtfp1nwAO7NVqePm5NN6Ygoq1j02FxU7ii0e+he0zGIUnQgNgFrFm0wHSNdzpw8iyfufB6blm3P0HM/fvYz9m9nNzPZAxcnJNtr/UALhIXbd9wEBbeZk+ZDVU3H8Om9xz/B4V1HM/ycqmLa87P9kIjIP1j0kK0VjimElgObm45BlKK49Xvw2w9bTcdI0/GDJ/D9pysy/fzKeb9g18a9FiYiIn9g0RMkeozpyNYeClgzJ803HSFNG3/YluV3fPzsLAuSEPkXFyekoFCkdGHcO4CtPRSYNi3bjti18aZjpOrKpawvpLhuyW/YvjrOgjRE5C8seoIIW3sokM197UvTEVJVsU5ZS97z8TMzLXkPkT+piqWHnbDoCSJFyxTGPf3uMB2DKEWr5v+CI3uOmY6RoqqNK6N60ypZfs+mZduxdeUOCxIR+Y+TV2Rm0RNk7rLZQnDkHC6XYt7ri03HSNXgyb0tec9nE+dZ8h4ish6LniBzU/0Ktl72n4Lb0o+W4ewf50zHSFG1Wyvjts6NsvyeDUs3I27DHgsSEVlPlVPWKYhE5syBCrXLmo5BlKLLl67gy3e/NR0jVYMm9rTkLw2BPluNyKlY9AShqo1uMh2BKFVf/PdrXPkr67Ol/KFkxeKWrHm1asE67Nt20IJERNbjQGYKKjc3ZtFDgevP42fw/fSVpmOkqvcznSxp7Zkxfq4FaYisxnV6KMhUu7Wy6QhEaZr72pcBuxFpdMlCaNSuXpbfs2LOWuzbesCCRERkFRY9QahI6WiUqFDUdAyiVB3aeRjrv/7NdIxUtbKgi0tV8Sl3YKcAxO4tCioigsbtG5iOQZSmQF6ssEGrOihbrVSW37Ny3i/YvWmfBYmIyAoseoJUk/tuMR2BKE2blm0P2IIgJCQET3w4zJJ3TX+RY3socCg4ZZ2CUNVbb0K+6DymYxClaf6Ur0xHSFXlBhVRvlaZLL9n1YJ1HNtDFCDCTAcg/wgNDUXjdvXxzUfLTEchStWymT9j0KReKFS8QKr3nDt9HltX7MCujXuReC0RIaEhCAsPQ658OVGwWH4UKVMYJSsVQ96C1hf51RpXxt7NWS9YZkyYh6dnPWZBIqIsUvcChU7FoieI3TuwOYseCmjXriZi4X+/xsAJPf9xLXZtPGZOmo8N32zCtauJPt9VqEQBlK1eGjGViqNKw0po2KYu8hTInelsF85exK/fbc70895WzFmLA88loMzNMZa8jygr7LZflpVY9ASxardWRtnqpbB/2yHTUYhStfj/vkPPsZ0QmTMHAODqlat4/8kZmP9Gxrq+/jhyGn8cOY1fv92MhW9/g5DQEFSoVQY31auA8rXKonzN0ripQUVE5AhP9R2Xzl9C3Po92LF2F779ZBmO7Pk9Sz9bElXFzInz8dSnj1jyPiLKHBY9QUxE0GtsJ0zoMcV0FKJUnTt1Ht9N+wntht6Dbat24o2hU7F/e9YLdVeiC7s27sOujX8Plo7MlQN1W9REzWZVUaleeQDA0b2/Y8faXdjxSzz2bz0Il8s/bf/LZv6M3s92QUyl4n55P1F6KGC7aeZWYtET5Jp1aYzPX1mEXb/uNR2FKFXzpyzGH0dO4bMJ86F+HHDw14XLWL1wPVYvXO+370iNy6X4bOI8jP5oRLZ/NxG5cfZWkAsJCcEjbw+GiHMrewp8CfFHMWP8PL8WPIHgh+krcWTPMdMxyNG4DQUFuSq3VELrwXeZjkHkeK5EF2ZO5A7sZJaqtYedsOhxiIETeyJvIa7bQ2Tad5+uwNF91gyQJqKMYdHjEHkL5cHACT1MxyByvMRriZg5cYHpGORg3HuLHKHloOYoXzPrK8wSUdZ8+8lyHNt/3HQMIsdh0eMgoaGhGPpaP9MxiBwv8VoiZk1iaw9lP/c4HLb0kEPUaV4Dt3bgDuxEpi39eBmOHzxhOgY5EGdvkaM88J8+CAsPNR2DyNGuXU3ETLb2kEOIyIciclxEtqVyXUTkTRHZLSJbRKSu53xtEVkjIts957t5PfOxiOwTkU2eo7avHCx6HCimUnF0GNHKdAwix/vmwx9x/NBJ0zHIYQxNWf8YQMs0rrcCUMlzDAHwruf8RQB9VbWa5/kpIpLf67lRqlrbc2zyFYJFj0P1fqYzp7ATGXbtaiJmTf7CdAwiv1PVFQBOpXFLBwDT1G0tgPwiUlxV41V1l+cdRwAcB1A4szlY9DhU7vy50H9cN983EpFfffPBDzh5+A/TMchBAnQgc0kA3pvuJXjOXScitwCIALDH6/QET7fX6yKSw9eXsOhxsNYPtEDZaqVMxyBytKtXrmH2fxaajkEOobC24PEUPdEissHrGJKJaClVT9c7z0SkOIBPAQxQVZfn9BgAVQA0AFAQwJO+voRFj4OFhnEKO1EgWPK/7/HH0dOmYxBl1klVre91TM3EOxIAeP8tPAbAEQAQkbwAvgLwtKfrCwCgqkc93WGXAXwE4BZfX8Kix+Hq3V0LjdrWMx2DyNGu/HUVc15ZZDoGOYRafFhkEYC+nllcjQCcUdWjIhIBYAHc433meD/gaf2BuHfUvg9AijPDvLHoIQx5uQ9CwziFncikxe99i9PHz5iOQeQXIjITwBoAlUUkQUQGichQERnquWUJgL0AdgP4H4BhnvNdATQD0D+FqekzRGQrgK0AogGM95UjzLofieyqVOWSaD9urL5PAAAgAElEQVTsXix4c4npKESOdfnSFcx99Us88FJv01EomHlWZM72r1VNc/NHVVUAw1M4Px3A9FSeaZ7RHGzpIQBA72c7I0/B3KZjEDnaone+wZmTZ03HIApaLHoIAJC3YB70fb6r6RhEjvbXhcuYP+Ur0zEo2AXooJ7swKKHrmv74N0oVaWk7xuJyG++fO9bXLrwl+kYFMQCdJ2ebMGih64LCw/Dgy/3MR2DyNHOnTqP7z75yXQMoqDEooducEvruqjboobpGESONu/1L5GYmGg6BgUpQ3tvBQQWPXQDEcHQV/shJMReTZZEweTInt/x0+zVpmMQBR0WPfQP5WqUQcuBGZ4JSEQWmjFhHlwul+8biTJAwTE9RP/Q/8XuyJknynQMIsc6uOMwVs77xXQMCjYKQMXaw0ZY9FCKChTNjx5jOpqOQeRoM8bPZWsPkYVY9FCq7v9XGxQrW9h0DCLH2rf1IFZ9sd50DAoyHMhMlIKIyAgMfolT2IlMmv7iHLb2EFmERQ+lqVnnRqjetIrpGESOtXfzAaxZtMF0DAomXJGZKGVJU9iJyJwZ4+dC7daPQAHK2plbnL1FQadyg4po0aeZ6RhEjrVr4z6s/2aT6RhEtseih9Jl4ISeyBEVYToGkWOxtYcsw+4torQVjimErqM6mI5B5Fixa+Kxadk20zGIbC3dRY+IhIrIbyKy2PP5AxHZLCJbRGSuiORO4ZleIrLJ63CJSG0RySkiX4nIThHZLiKTrfyhyD+6jGqPQiUKmI5B5FifTZhnOgLZnXJF5vR6FMAOr88jVbWWqtYEcBDAiOQPqOoMVa2tqrUB9AGwX1WTOqZfUdUqAOoAaCIirTL3I1B2icoViUETe5mOQeRYm5Ztx7ZVO03HILKtdBU9IhIDoA2A95POqepZzzUBEAXfPXs9AMz0PHtRVZd5fn0FwEYAMRkNT9nvrt634ab6FUzHIHKszybONx2B7I5jenyaAmA0gBtWyBKRjwAcA1AFwFs+3tENnqIn2TvyA2gH4Id0ZiGDQkJC8NBrnMJOZMr6r39D/K97TMcgWxOLD/vwWfSISFsAx1X11+TXVHUAgBJwd3t1S+MdDQFcVNVtyc6HwV0Ivamqe1N5doiIbBCRDSdOnPAVl7JB9aY3o1mXxqZjEDkWW3uIMic9LT1NALQXkf0AZgFoLiLTky6qaiKA2QA6pfGO7kihlQfAVAC7VHVKag+q6lRVra+q9QsX5j5QgWLw5F4IjwgzHYPIkVYtWId92w6ajkF2xe6t1KnqGFWNUdWycBcvPwLoIyIVgetjetoBSHF0nYiEAOgCd8HkfX48gHwA/pWVH4DMKF6uKO7/VxvTMYgci609RBmX2XV6BMAnIrIVwFYAxQGMAwARaS8i47zubQYgwbv7yjMweiyAqgA2eqazD85kFjKkx7/vR/4i+UzHIHKkFZ+vxuHdR03HIDtiS0/6qOpyVW2rqi5VbaKqNVS1uqr2SprNpaqLVPXZZM80SvaeBFUVVb05aUq7qr6f/PsosOXKmxP9x6U6lIuI/MjlUsya/IXpGGQ3CkDF2sNGuCIzZUnLQc1RrkZp0zGIHOn7T3/C8UMnTccgsg0WPZQloaGh3IWdyJBrVxMx55VFpmOQzahae9gJix7KsrotaqJR23qmYxA50tfv/4DTx8+YjkFkCyx6yBIP/KcPQkL5rxNRdrt86QoWvPGV6RhkJxzITJQ1pauURNsH7zYdg8iRFr79Dc7/ecF0DLILDmQmyro+z3VBzrxRpmMQOc7Fs5ew6J2lpmMQBTwWPWSZ/IXzodfYtBbmJiJ/mT9lMf66eNl0DLIBUWsPO2HRQ5a67+FWKFaW24UQZbczJ89hyf++Nx2DKKCx6CFLRURGYPDk3qZjEDnSnFcW4crlq6ZjUCCzehAzW3rI6Zp1aYyqjW8yHYPIcU4ePoVvP15uOgZRwGLRQ5YTETzIBQuJjJj90gJcu3rNdAwKWBbP3OLsLSKgaqObcGePJqZjEDnOsf0n8MOMlaZjUCBj9xaR9R54qQ8ic+YwHYPIcWZOWoDExETTMYgCDose8pvCMYXQk1PYibLd4V1H8d20FaZjUKBiSw+Rf3R6rC1KVCxmOgaR40x7bjauXuFMLiJvLHrIryJyhGPY6/1NxyBynBMJf2DZzFWmY1AgYksPkf80bFMPDdvUNR2DyHHmvLIILpfLdIxscfkSV6NOFwVnbxH520Ov90d4RJjpGESOsn/7Iaz/+jfTMbLFwR2HOVWffGLRQ9miZMXi6PRYO9MxiBzn81cWmY6QLUrfXBLLZrE7Lz249xZRNuj5746ILlnQdAwiR9nyUyx2/LLLdAy/SExMxO7f9mH+lK8wsecbmDWZU/UpbexvoGwTlTsKQ17ui4k9p5iOQuQon7+8EM/NfcJ0jCxLTEzE3s0HsOWnWGz+aTu2rtiB839euOGe1V+sx22dGhlKaBM2a52xEoseylZ3dLsVi//vW2z5KdZ0FCLHWLVgHQ7sSECZm2NMR8mQxGvulpwtP8Viy4pYbF25AxfOXEzzmZmT5qPp/Q0hYq8BtsFORD4E0BbAcVWtnsJ1AfAGgNYALgLor6obPdf6AXjac+t4Vf3Ec74egI8BRAFYAuBRVU2zpGPRQ9lKRDD8jYF4qO4ouFwO/usGUTZSVcyavABPfvKw6ShpunL5KuI37MGWn2KxdWUstq+Kw6Xzf2XoHbs27sOGpZvQoGUdP6WkTPoYwH8BTEvleisAlTxHQwDvAmgoIgUBPAegPtxtVL+KyCJVPe25ZwiAtXAXPS0BfJ1WCBY9lO3K1yyDdg/di4Vvf2M6CpFj/PjZz+j7XFcUL1/UdJTrLl+6jB1rd10vcmLXxOPKX1lfUHHmpAUsetJgYvCxqq4QkbJp3NIBwDRPS81aEckvIsUB3AHgO1U9BQAi8h2AliKyHEBeVV3jOT8NwH1g0UOBqN+4blg+exXOnDxnOgqRI7gSXZj9n4X413tDjGU4ffwMdqyJx/bVcdi+eifi1u3GtavWDzzeunIHtq7cgRq33Wz5uylF0SKywevzVFWdmsF3lARwyOtzgudcWucTUjifJhY9ZESeArkxYHwPTBma0d8XRJRZ3368DL2f6YTokoX8/l2J1xKxb+tBxK6JR+yaOMSuicfRvb/7/XuTzJy8gEVPaqxfUPCkqtbP4jtSCqWZOJ8mFj1kTMtBzfHV1O+wa+M+01GIHOHqlWuY++qXGPpaf8vffebkWexYuwuxa+KwY208dq7bjb8umFslef3Xv2HXxr2oVLe8sQyUIQkASnl9jgFwxHP+jmTnl3vOx6Rwf5pY9JAxoaGhGP7mIPyr6dO+byYiSyz+v+/QfUxH5C+cL9PvUFUcP3gS237e6elKisXBHYctTGmNmZMX4NnPHzcdI7AE7n5ZiwCMEJFZcA9kPqOqR0VkKYCJIlLAc989AMao6ikROScijQD8AqAvgLd8fQmLHjKq2q2V0aJPM3z/6QrTUYgc4fKlK5g/5SsMnNAz3c+4XC4c3HEYW1fEYsvKHdi2cgdOHj7lx5TW+HneLzi48zBKV/E51MNZDBQ9IjIT7habaBFJgHtGVjgAqOp7cM++ag1gN9xT1gd4rp0SkRcBrPe8alzSoGYAD+HvKetfw8cgZoBFDwWAwZN7Y9WCdRmemkpEmbPw7W/QdVQH5M6fK8Xrly9dRtz6Pdi+yj3gOHZ1HM6dvpDivYFMVTH7P19g1IfDTUdxPFXt4eO6Akjx/yhV/RDAhymc3wDgH2v+pIVFDxlXqHgB9H6mM/735HTTUYgc4eLZS1j49jfoNbYTAPesqu2rdmL7qjhsW7UTuzfu9cusKhN+mL4SfZ/riqJlCpuOEjDstl+WlVj0UEDo+GhrfP3BD0iIP2o6CpEjzJ/yFQ7vPortq+JwZPcx03H8JvFaIua9vhjDpgwwHYUCADccpYAQHhHOP5SIstHZP87hu09+CuqCJ8kPM1biyuWsL3oYNNTiw0ZY9FDAaNCyDhq3z+pSD0RENzr7xzks4grwf2PRQxQYhr7aD+E5wk3HIKIgM/3FufjzxBnTMcgwFj0UUEpUKIYuj7czHYOIgsyFMxfxybOzTccwTtT6w05Y9FDA6T6mIwrH+H+ZfCJyliX/+x77th4wHYMMYtFDAScqVySGvNzHdAwiCjIul+K9J6aZjmGeirWHjbDooYB0e9dbUeuOaqZjEFGQ2fjdFmxducN0DLM4kJkosIgIRrw1CCGh/FeUiKw1/cU5piOQIfwvCgWsstVK4f5H25iOQURBZuP3WxG3YY/pGMZwIDNRgOrzXBcULF7A941EROlUokJRnD72p+kYZAC3oaCAljNPFB58pS8m9XrDdBQisrkGLWvjvodbo/69tRAS4uC/89usdcZKLHoo4N3ZvQmW/O97bF6+3XQUIrIZEUGzLo3Q/cmOqFinnOk4ZBiLHgp4SYOah9YZhcRrwbHzMxH5X90WNfDgK/1QvmYZ01EChw3H4VjJwe17ZCdlq5VCx0dam45BRDZQqEQBPDvncUxe+gwLnpRwyjpR4OvzXBcUKsFBzUSUutaD78IHsVNwW6dGELHXwnnkfyx6yDbcg5r7mY5BRAEoT8HceHHRUxg5dShy5c1pOk5gY0sPkT3c0e1W1L6TKzUT0d8q1SuP9357GY3a1jMdhQIcix6yFRHB8DcHITQs1HQUIgoAjdvXx6vLX0CRUtGmo9gGFyckshH3Ss0c1EzkdHd0b4Jn5zyOqFyRpqOQTbDoIVvq/SwHNRM5WeP29fHUtIcRFs6VVyj9WPSQLeXME4Whr3JQM5ETVW9aBWNn/ovd3JnFgcxE9nN711tRu3l10zGIKBuVrVYK4xY+iRxROUxHIRti0UO2lbRSc1g4/7ZH5ASFYwph4tdjkadAbtNR7MviQcwcyEyUjcrcHINOI9uajkFEfhaVOxLjFj2JwjGFTEexP3ZvEdlX72e7oFi5IqZjEJGfhIWH4vn5o1CxNjcMpaxh0UO2F5kzBx555wHTMYjIT0Z/8jDqtqhpOkbwYEsPkb01uLc2mvdsajoGEVls+BsDcWf3JqZjUJBg0UNBY+hr/ZGnQC7TMYjIIv3Hdcd9D7cyHSOoCDiQmSgoFCiSD0Ne7ms6BhFZoNPItug59n7TMSjIsOihoHLvgDtR6w5uSEpkZ/f2vxMPvtIXImI6SnDimB6i4CAiePTdBxAewaXpiezo1g4NMHLqgyx4/IXr9BAFl1KVS6Ln2E6mYxBRBtW8vSq3lyC/YtFDQanr6A4ofXNJ0zGIKJ0q1S2HcV+MRkRkhOkowY/dW0TBJSJHOEb+34OmYxBROsTcVBwTloxFrnycfUn+xaKHglb1pjejzZC7TccgojQUKlEAk5c+gwJF8pmO4hxs6SEKToMn90LBYvlNxyCiFETljsT4xWNQtExh01EchQOZiYJU7vy5MPzNgaZjEFEyIaEheGbO49xPi7IVix4Kerd1aoTG7eubjkFEXh59dwga3FvbdAxnYvcWUfASEYx4axCickeajkJEAHqN7YTWg+8yHYMciEUPOUKRUtEYOKGn6RhEjteiTzP0G9fNdAznsrqVhy09RIGp3bB7UOWWiqZjEDlW7ebV8dj/hnK1ZcM4kJnIAUJDQzFy6lCu9kpkQNnqpfD8vCcQHhFuOgo5GIsecpTyNcugyxPtTccgcpRCJQpgwuIxXHwwULB7i8g5ej/TCSUqFDUdg8gRcuaJwoSv/o0ipbkWj5OJSEsRiROR3SLyVArXy4jIDyKyRUSWi0iM5/ydIrLJ6/hLRO7zXPtYRPZ5XfM5HZBFDzlOjqgcePQ9blFB5G9h4aF4bv4oVKhV1nQU8pLdY3pEJBTA2wBaAagKoIeIVE122ysApqlqTQDjAEwCAFVdpqq1VbU2gOYALgL41uu5UUnXVXWTrywsesiR6t5VA3f3u910DKKg9sSHw1H3rhqmY5B5twDYrap7VfUKgFkAOiS7pyqAHzy/XpbCdQDoDOBrVb2Y2SAsesixHny5L/JF5zEdgygoDZrUC3f1us10DEpJ9o/pKQngkNfnBM85b5sBdPL8uiOAPCJSKNk93QHMTHZugqdL7HURyeErCIsecqx80Xkx9LX+pmMQBZ22D96NbqNT+os6GeefdXqiRWSD1zEk2bemtEZB8nLpCQC3i8hvAG4HcBjAtesvECkOoAaApV7PjAFQBUADAAUBPOnrx0930SMioSLym4gs9nz+QEQ2eyqsuSKSO4VneiUbgORKGmgkIvVEZKtnUNObwoUbyIC7et2G+vfWMh2DKGg0aFUHI94axLV4nOWkqtb3OqYmu54AoJTX5xgAR7xvUNUjqnq/qtYBMNZz7ozXLV0BLFDVq17PHFW3ywA+grsbLU0Zael5FMAOr88jVbWWZ9DRQQAjkj+gqjO8BiD1AbDfa6DRuwCGAKjkOVpmIAuRJUQEj747BJG5fLaKEpEPlRtUwDOfP8a1sAKY+OFIh/UAKolIORGJgLubatENuUSiRSSpJhkD4MNk7+iBZF1bntYfeBpN7gOwzVeQdBU9nqljbQC8n3ROVc96fVkUfPfsXQ/sCZpXVdeoqgKY5glMlO2KlS2CAeN7mI5BZGslKhbD+MVjEJWLe9zRjVT1GtwNI0vhbjz5XFW3i8g4EUlaOO0OAHEiEg+gKIAJSc+LSFm4W4p+SvbqGSKyFcBWANEAxvvKEpbOzFMAjAZww6hPEfkIQGsAsQAe9/GObvh7NHZJuJu7kqQ0qCnpO4bA3SKE0qVLpzMuUcZ0GNESy2atws5fdpmOQmQ7+Yvkw+Rvnkb+wvlMR6H0MLCgoKouAbAk2blnvX49F8DcVJ7djxRqBFVtntEcPlt6RKQtgOOq+msKXzgAQAm4K7dUd5ATkYYALqpqUtNTegY1JX3H1KR+wsKFubgV+UdoaCgef/8hhIWzWZ4oI6JyR2LCV2NQvDwX/LQL7r2VtiYA2ovIfrjn1jcXkelJF1U1EcBs/D3VLCXJp5klwD2QKck/BjURZbey1Uqhx5j7Tccgso3QsFA8N+8J3FSvgukoROnis+hR1TGqGqOqZeEuXn4E0EdEKgLXx/S0A7Azpec9A5O6wF0wJb3zKIBzItLI83xfAAuz+LMQZVn3MR1RpmqM7xuJCE98OAz17ubsR9vh3lsZJgA+8RpAVBzuZaMhIu1FZJzXvc0AJKjq3mTveAjugdG7AewB8HUmsxBZJiJHOB57/yFOtyXyYfDk3mjRu5npGEQZkt6BzAAAVV0OYLnnY5NU7lkEr6lonmcapXDfBgDVM/L9RNmhaqOb0PGR1pj/xlemoxAFpPtGtELXUe1930iByWatM1biisxEKeg/vjsHZhKl4LZODTH09X5sDbUriwcxB+NAZiLHicoViZFTuRM7kbfqTavgqU8fQWgoZzmSPbHoIUpFneY10HrwXaZjEAWE0jeXxAtfjEZEZITpKJRVHMhMRCkZ8nIfRJcsaDoGkVGFShTApK/HIm/BPL5vJgpgLHqI0pArXy48+m7yDYOJnCNnnihM+OrfKFKai8MGC47pIaJUNWpbD817NjUdgyjbhYWH4rn5o1ChVlnTUYgswaKHKB2GTRmA/IXzmo5BlK1GfTQcde+qYToGWY1jeogoLfmi82L4mwNNxyDKNkP+0wfNe95mOgb5Abu3iMin27veioZt6pqOQeR3HR9pjc6PtzMdg8hyLHqI0klEMPyNgYiIDDcdhchvmnVpjKGvcfHBoGV11xZbeoiCV/HyRbkTOwWtGs1uxpOfjEBICP/TQMGJ/2YTZVDXUe1RslJx0zGILFWmagxeWMDFBx2BLT1ElF4RkREY8dYg0zGILFOoRAFM/Hos8hTIbToK+ZmAA5mJKIPq31MLzbo0Nh2DKMty5onCxCVjUaRUtOkoRH7Hoocokx56rR+ickeajkGUaUmLD5avWcZ0FMpO7N4iooyKLlkIfZ/vajoGUaY98SEXHyRnYdFDlAX3PdwKZauXMh2DKMMGTeqFu3px8UEnElVLDzth0UOUBWHhYXj0nQdMxyDKkHYP3YtuozuYjkEmcJ0eIsqK6k1v5t+YyTYatauH4W8O4OKD5EgseogsMHBiT+SI4vomFNgq1SuPf3/2L4SGhpqOQgZxyjoRZUmRUtHo8kR70zGIUlW0TGGM//IpROXijENyLhY9RBbpOroDCpUoYDoG0T/kypcTE74ag4LF+O8ngWN6iCjronJFYtDEXqZjEN0gLDwULywYjTJVOcuQ3Ni9RUSWuKv3bbipfgXTMYiuG/XRcNS6o5rpGEQBgUUPkYVCQkLw0Gv9TMcgAgAMGN8DzXtyZiElw+4tIrJK9aY3c18uMu7uvrejx5iOpmMQBRQWPUR+MGhiT4SFc1owmXFzo0r41/89yLV46J8sHs/DMT1EhBIViqHt0HtMxyAHKli8AJ6fPwoROcJNRyEKOCx6iPyk19OdkDNPlOkY5CAhoSF4ZvZITk2ntHFMDxFZLX/hfOj25H2mY5CDDHixO6o3vdl0DApgAnZvEZGfdHy0NfIXzms6BjlA7ebV0ZWbiBKliUUPkR9F5Ypkaw/5XZ4CufDkJyMQEsI/0ikdVK09bIS/Q4j8rO3Qe1CwWH7TMSiIDX9zEKJLFjIdgyjgsegh8rPInDnQ/Smul0L+0ahtPTTv2dR0DLIRjukhIr9qM6QFoksWNB2DgkxU7kg88s4DXI+H0s/qmVsseogouYjICPT89/2mY1CQ6ft8VxSOYbcWUXqx6CHKJvcObI4ipaNNx6AgUbZaKXR8pLXpGGRD4rL2sBMWPUTZJCJHOHqN7WQ6BgWJB1/th9AwbnVClBEseoiy0T3970CxckVMxyCbq39vLdS/p5bpGGRXHNNDRNkhLDwMvZ7ubDoG2dygib1MRyAb4+wtIso2d/dphhIVi5mOQTZ1W6eGqFinnOkYRBkiIi1FJE5EdovIUylcLyMiP4jIFhFZLiIxXtcSRWST51jkdb6ciPwiIrtEZLaIRPjKwaKHKJuFhoWiz7NdTMcgGwqPCMPgyb1NxyA7U2T7iswiEgrgbQCtAFQF0ENEqia77RUA01S1JoBxACZ5XbukqrU9R3uv8y8BeF1VKwE4DWCQrywseogMuLNHE5SqUtJ0DLKZTiPbokQFthKS7dwCYLeq7lXVKwBmAUi+UVxVAD94fr0shes3EPfiVM0BzPWc+gSAzz1/WPQQGRAaGop+z3c1HYNspGCx/OjBtZ7IAgbG9JQEcMjrc4LnnLfNAJKmt3YEkEdEkhahihSRDSKyVkSSCptCAP5U1WtpvPMfWPQQGXJb50aoVJdjMyh9Bk3qhZx5okzHIEpJtKcoSTqGJLue0pLhyculJwDcLiK/AbgdwGEASQVNaVWtD6AngCkiUiGd7/wHFj1EhoSEhGDQJM7CId8qN6iAFn2amY5BwcL6KesnVbW+1zE12TcmACjl9TkGwJEbIqkeUdX7VbUOgLGec2eSrnn+uRfAcgB1AJwEkF9EwlJ7Z0pY9BAZVO/uWmjQsrbpGBTghk0ZgJAQ/nFNWScw0r21HkAlz2yrCADdASzyvkFEokUk6V/yMQA+9JwvICI5ku4B0ARArKoq3GN/ktYA6Qdgoa8g/F1EZNiQl/tyZV1K1V29b0PVxpVNxyDKNM+4mxEAlgLYAeBzVd0uIuNEJGk21h0A4kQkHkBRABM8528GsEFENsNd5ExW1VjPtScBPCYiu+Ee4/OBryxhvm4gIv8qW60U7nu4Fea9vth0FAowkblyYDC7QMlK6Zxmbv3X6hIAS5Kde9br13Px90ws73tWA6iRyjv3wj0zLN3Y0kMUAPqN64aiZQqbjkEBpseY+xFdkruoE1mFRQ9RAIjKFYmH3x5sOgYFkGLliqDzY21Nx6AgxG0oiMi4hq3r4r4RrUzHoAAx4s2BiIj0uao+UcZZP3vLNlj0EAWQgZN6olhZdnM5XdP7G6Jhm3qmYxAFHRY9RAEkKlckHnk3+bpe5CSRuXLgodf7m45BQYzdW0QUMBrcWxvdn/S5hQwFqX4vdEORUtGmYxAFJRY9RAGo//juqN28uukYlM3K1yyDjo+0Nh2DgpkCcKm1h42w6CEKQKGhoRgz/REULF7AdBTKRo+88wAXqiT/40BmIgo0BYsVwLNzHkdYOP8j6AR397sd1W7lystE/sSihyiAVbu1Moa9MdB0DPKznHmjuPIyZRsOZCaigNVu6D3oNbaT6RjkR32f64qCxdiVSeRvLHqIbKD/i93Rfti9pmOQH5SpGoMOI1qajkFOkrT/llWHjbDoIbKJui1qmo5AfjD8zYEIC+fez0TZgb/TiGyiRMVipiOQxW7r3Ah1mqe4gTSR39htHI6VWPQQ2UTx8kVNRyALhecIxwMv9TYdg5zGhtPMrcTuLSKbiMyZA9ElC5qOQRbpNLItipdjIUuUnVj0ENlIyUrFTUcgCxQslh89xnQ0HYMcSACIqqWHnbDoIbKRMlVjTEcgCwyY0BM580SZjkHkOCx6iGyk2+gOyBEVYToGZUH5WmVwT7/bTccgJ3NZfNgIix4iGylSujB6/Pt+0zEoC/o+1xUhIfyjl8xh9xYR2UaXJ9pz+rpNla9ZBo3b1zcdg8ixWPQQ2UxEjnAM535cttT7mc5s5SGzrN5h3V4NPSx6iOzollZ10OS+BqZjUAaUrV4KTTreYjoGkaOx6CGyqaGv9UdEZLjpGJROvZ9mKw8FAov33eKYHiLKDsXKFkGPMRzUbAdlqsbgts6NTMcgAuDehsLKw05Y9BDZWNdR7VGiAlf1DXR9OGOLKCDwdyGRjUVERmDYlAGmY1AaKtUth9s6NTQdg+hv7N4iIrtq2KYeGrWrZzoGpWLAhJ5s5SEKEPydSBQEhk0ZwEHNAajm7VVR/55apmMQ/U0BcVl72AmLHqIgUGQD1wQAABIQSURBVLxcUXR/khtYBpqBE3pCREzHICKPdBc9IhIqIr+JyGLP5w9EZLOIbBGRuSKSO5XnaorIGhHZLiJbRSTSc76H5/MWEflGRKKt+ZGInKnr6PYoVq6I6Rjk0ahtPVS7tbLpGET/xDE96fIogB1en0eqai1VrQngIIARyR8QkTAA0wEMVdVqAO4AcNVz/g0Ad3qe35LS80SUfjmicnBQc4AQEQwY38N0DKKUcUXmtIlIDIA2AN5POqeqZz3XBEAUUv7R7wGwRVU3e575Q1UTAYjnyOV5Pi+AI1n4OYgIQON29dGwTV3TMRzvzh5NUL5mGdMxiCiZ9Lb0TAEwGsk2kReRjwAcA1AFwFspPHcTABWRpSKyUURGA4CqXgXwEICtcBc7VQF8kKmfgIhuMGzKAITn4KBmU0JCQ9D3+a6mYxClirusp0FE2gI4rqq/Jr+mqgMAlIC726tbCo+HAWgKoJfnnx1F5C4RCYe76KnjeX4LgDGpfP8QEdkgIhtOnDiRvp+KyMFKVCiGrqPam47hWPf0uwMlKxY3HYOIUpCelp4mANqLyH4AswA0F5HpSRc93VWzAXRK4dkEAD+p6klVvQhgCYC6AGp7nt2jqgrgcwC3pvTlqjpVVeurav3ChQun/ycjcrDuT3VE0TL8/ZLdwsJD0fuZzqZjEKWNA5lTp6pjVDVGVcsC6A7gRwB9RKQicH1MTzsAO1N4fCmAmiKS0zN4+XYAsQAOA6gqIkl/Kt+NGwdJE1EWRObMgYde7286huO0GtyCxSYFNoV7oIqVh41kdp0eAfCJiGyFe1xOcQDjAEBE2ovIOABQ1dMAXgOwHsAmABtV9StVPQLgBQArRGQL3C0/E7P0kxDRDW7t0AANWtY2HcMxIiLD0XMsN4AlCmRhGblZVZcDWO752CSVexYBWOT1eTrc09aT3/cegPcy8v1ElH4igmFvDMSQGo/h6pVrpuMEvXZD70F0iYKmYxClSWC/wcdW4orMREEsplJxdH68nekYQS9nnij0+DdbeYgCHYseoiDX49/3o3CpQqZjBLUuT7RHvui8pmMQpQ8HMhNRsIrKFYmHXutvOkbQKlA0HzqNbGM6BlH6seghomDW9P/bu/cwq6rzjuPfH8MMDsgdRQQEvAUBAUVAyh0BwVRRUEFR8IZGBVsfjUq9xKLWaImaRJLU5lFjbLVqmsTWC1XiJU1MVSqoeJcYg/poqdYktVEJb/84e/QwjJyBOWf2OWf/Ps+zH87Ze+09717PGc47a6291uzRHDhtaNphVKX5lxxN/c71aYdhZs3gpMcsAySx+Fun0La2Ju1QqkqvPXty2KJD0g7DrPn8yLqZZUHfL/Vmzrl/nnYYVeWkK+ZRW+clP8wqhZMeswyZf8kcdunjQc3FsNfw/kya2+RE8mZlzWtvmVkm1O9czxnLF6QdRlU49er5tGnj/0LNmkPSDEkvS3pN0kVNHO8naZWkZyU9KqlPsn+4pCckrUuOzc0751ZJv5a0JtkKzsbq31izjJlwzBiGTxmSdhgVbfjkwRw0fVjaYZjtmFZ+ektSDbACmAkMAo6TNKhRseXAbRExlNwKD1cn+z8CFkTEYGAGcIOkLnnnfTUihifbmkKxOOkxyxhJLP72qdS09aDmHXXq1fPJLTtoVmmKnPA0r3trFPBaRKyPiE/ILV4+q1GZQcCq5PUjDccj4pWIeDV5/TbwHrDDC9w56THLoH779WH2XxyWdhgVaexRoxg4ap+0wzArJz0kPZ23nd7oeG/gt3nvNyT78q0F5iSvjwI6StpiAKKkUUAd8Hre7quSbq/rJbUrFKiTHrOMOuGyY+i+e9e0w6g48y+eU7iQWbkKStHSszEiDsrbbmr0U5tqFm3cRHQ+MFHSM8BE4C3gs0UDJfUCfgicHBEND8ovBQYCI4FuwIWFbt9Jj1lGte9Yz+l/60HN2+OQE8azz4F7ph2GWaXZAPTNe98HeDu/QES8HRGzI+IA4OJk34cAkjoB9wGXRMSv8s55J3I+Bm4h1422TU56zDJs8ryxDJ3YeDyhNaVT946csXxh2mGYtVzrT074FLCPpAGS6oB5wL35BST1kNSQkywFbk721wE/JjfI+e5G5/RK/hVwJPB8oUCc9JhlWMOg5jY1/q+gkAtuPZuuu3ZOOwyzFmvteXoiYhOwGFgJvAjcFRHrJC2TdERSbBLwsqRXgJ7AVcn+Y4EJwElNPJr+D5KeA54DegBXFoqlbbNrycyq0oAhe3DUkpn86Ib70g6lbM04ZQqjvzwi7TDMKlZE3A/c32jfZXmv7wHuaeK824Hbv+CaU7Y3Dv95Z2acePmxdNutS+GCGdR3YG++cp27tayKeJV1M8uyDp3aM/NUL5zZWNeenbni3gvp0Kl92qGYWRG4e8vMAKjvWJ92CGWla8/OXPvw1+i9d6+0QzErngA2V1brTDG5pcfMABgxbWjaIZSNup1quezu8+g/uG/hwmYVJZUZmcuGkx4zA3Krhg8c7ZmG29bWcNnd5zFk3H5ph2JmReakx8yA3OPrWV+BvbauLZfedZ6f1LLq5pYeMzMYMnZgZgc01++8E1f8y0X82ayRaYdiZiXipMfMtnDaNfPp3KNj2mG0qm69urL8kcsZMW1Y2qGYlZ5beszMcjp1y9ZyCwNH7c2KJ69m3xF7pR2KmZWYkx4z28rUEycwbNLgtMMouSOXzOS6x5fRo3f3tEMxax0Nj6wXc6sgTnrMbCuSOOc7i2hbW5N2KCXRbbcuLPvphZz9zVOoratNOxyzVhQQm4u7VRAnPWbWpD0G9mbuBUemHUbRjZs9mr9bu5wxhx+Udihm1so8I7OZfaHj/uoofnbHv/PO+nfTDqXFuuzamcXfPpWJx4xJOxSzdFXY4ONickuPmX2hdvXtWLLitLTDaJE2bcQRZx3KLS990wmPWca5pcfMtmnkocOZeOwYHrvribRD2W4jZx7Aoq/PZ8D+/dIOxaw8ZHztLSc9ZlbQV647iaceXMNHv/u/tENplv3H78fCZXMZNrH6n0Az224Z7t5y0mNmBfXYvRsnX3kcK865Oe1QtmnkzAOYe8EsJztm1iQnPWbWLIefOZ1/+8GjvLp6fdqhbKFdfR1Tjh/PnHO/TL9BXhXdrCC39JiZbVtNTQ1/+b3TWTJ6KZvLYEzAl0buxfSFkzlk/jg6dO6QdjhmVgGc9JhZs+07Yi+OOGsGP7nxgVR+fo/e3Zh6wgSmLZzEHgN7pxKDWWWrvPWyislJj5ltl5OumMvjP/oV77/zQav8vHb1dYyZNZLpCydx4NT9qampzlmizVpFAJsraxblYnLSY2bbpUPnDpx1w8lcOfe6kv0MSQybPJipJ0xg/JyDad+xvmQ/y8yyw0mPmW23CUcfzMgZw3nqwTVFvW7/IX2ZesJEJh83ll379ijqtc0s4e4tM7Pmk8SSG0/jtCHn8skfP23RtXbp053J88Yy+fhx7DWsP5KKFKWZ2Zac9JjZDum1Z0+Ov3gOt15653af27Hbzkw4egxTjh/HkHEDadPGK+KYtRq39JiZbb9jv3oEP/vHn/Pmi28VLNumpg2jZh7A9IWTOPjwEdTW1bZChGZmn3PSY2Y7rLaulnO+s4jzJ1/+hWX6D+nL9AWTmHriBLr27NJ6wZlZE8Jrb5mZ7ahhEwczbcFEHrrtsc/2dd+9K5PmjmXqiRPYe/iAFKMzsy0ERPiRdTOzHbbomhN49rEXGDZ5MIfMn8CwSYM8n46ZlR0nPWbWYl17duGH61f4ySuzSpDh7i0/MmFmReGEx8zKnVt6zMzMssSPrJuZmVnVi8j02lvu3jIzM7NMcEuPmZlZlmS4e8stPWZmZpYJbukxMzPLkMjwmB4nPWZmZpkR7t4yMzMzq3Zu6TEzM8uKwDMym5mZmVU7t/SYmZllSYZXWXdLj5mZmWWCW3rMzMwyIoDI8JgeJz1mZmZZEeHuLTMzM7NSkTRD0suSXpN0URPH+0laJelZSY9K6pN3bKGkV5NtYd7+EZKeS675LUkqFIeTHjMzswyJzVHUrRBJNcAKYCYwCDhO0qBGxZYDt0XEUGAZcHVybjfga8BoYBTwNUldk3O+C5wO7JNsMwrF4qTHzMzMSmkU8FpErI+IT4A7gVmNygwCViWvH8k7fijwUES8HxEfAA8BMyT1AjpFxBMREcBtwJGFAnHSY2ZmliWxubhbYb2B3+a935Dsy7cWmJO8PgroKKn7Ns7tnbze1jW3UlEDmVevXr1R0m9acIkewMZixWNbcf2Wnuu49FzHpVeNddwv7QCa4/d8sPLhuKdHkS+7k6Sn897fFBE35b1vaqxN436x84EbJZ0EPA68BWzaxrnNueZWKirpiYhdWnK+pKcj4qBixWNbcv2Wnuu49FzHpec6Tk9EFBz3UgIbgL557/sAb+cXiIi3gdkAknYG5kTEh5I2AJManftocs0+jfZvcc2muHvLzMzMSukpYB9JAyTVAfOAe/MLSOohqSEnWQrcnLxeCUyX1DUZwDwdWBkR7wC/l3Rw8tTWAuCnhQJx0mNmZmYlExGbgMXkEpgXgbsiYp2kZZKOSIpNAl6W9ArQE7gqOfd94ApyidNTwLJkH8CZwPeB14DXgQcKxaLcoOdskHR6o35GKyLXb+m5jkvPdVx6rmNLS6aSHjMzM8sud2+ZmZlZJlR80iPpnyStSbY3JK1J9tdJuiWZonqtpEnbuMaSZHrsdZKubXRsD0l/kHR+iW+lbJWqjiVNk7Q6OX+1pCmtdEtlp5SfY0lLk2naX5Z0aCvcTllqaR1LulzSW3nXOCzZXyvpB8n5L0pa2oq3VTZKVb/JsaGSnkg+289J2qmVbsuqTEU9st6UiJjb8FrSN4APk7eLkuP7S9oVeEDSyIgtZ1KSNJnczI9DI+LjpGy+62nG4KhqVsI63ggcHhFvSxpCbpBbwcmlqlGp6li5qd7nAYOB3YGHJe0bEX8q+U2VmZbWceL6iFjeaN8xQLvk/PbAC5LuiIg3in8X5atU9SupLXA7cGJErFVuwrpPS3ITVvUqvqWngSQBxwJ3JLs+m9I6It4D/gdoal6IM4GvR8THeWUbrnkksB5YV7rIK0ex6zginknmZoBcHe8kqV3p7qD8leBzPAu4MyI+johfk3vKYVTp7qD8taCOv0gAHZIv53rgE+B3RQu4wpSgfqcDz0bE2uQa/53FpN2Ko2qSHmA88G5EvJq8XwvMktRW0gBgBFtOjtRgX2C8pP+Q9JikkQCSOgAXAn/dCrFXiqLWcSNzgGcavrQzrNh13Jzp37NmR+sYYLFyq0DfrM8XPbwH+F/gHeBNYHneI7VZVOz63RcISSsl/aekC0obvlWziujekvQwsFsThy6OiIbJiI7j878sIDex0X7A08BvgF+Sm9K6sbZAV+BgYCRwl6Q9ySU710fEH1R4tfqKl0YdJ4vEIWkwcA25v+iqVkqf4x2aqr1SlbiOv0tuvpBI/v0GcAq5lrM/kes+7Ar8XNLDEbG+xTdUZlKq37bAOHKf64+AVZJWR8SqJq5htk0VkfRExNRtHU+alWeT+wui4ZxNwLl5ZX4JvLr12WwA/jn5An5S0mZy68KMBo5WbkBoF2CzpD9GxI0tvZ9ylFId/5ekPsCPgQUR8XqLb6SMpVTHBad/ryalrOOIeDevzN8D/5q8PR54MCI+Bd6T9Aty3TdVl/SkVL8bgMciYmNy7H7gQD5fkdus2aqle2sq8FJEfLbiqqT2SRcVkqYBmyLihSbO/QkwJSm3L1AHbIyI8RHRPyL6AzcAf1OtCU8zFb2OJXUB7gOWRsQvSn0DFaDodUxuqvd5ktolXQv7AE+W9jbK2g7XsaReeW+PAp5PXr8JTFFOB3KtbS+V6gbKXCnqdyUwNLlOW2Ai0NTvgFlBFdHS0wzz2LI5FWBXYGXyF+9bwIkNByR9H/heRDxNrun1ZknPkxuAuLCh28W2UPQ6lrQY2Bu4VNKlyanT8weTZ0wpPsfrJN1F7ktiE3B2xgeBtqSOr5U0nFz3yxvAGUmxFcAt5L6kBdwSEc+W8ibKWNHrNyI+kHQduSUIArg/Iu4r9Y1YdfKMzGZmZpYJ1dK9ZWZmZrZNTnrMzMwsE5z0mJmZWSY46TEzM7NMcNJjZmZmmeCkx8zMzDLBSY+ZmZllgpMeMzMzy4T/BwRRiumJ8wp4AAAAAElFTkSuQmCC\n",
      "text/plain": [
       "<Figure size 1080x576 with 2 Axes>"
      ]
     },
     "metadata": {
      "needs_background": "light"
     },
     "output_type": "display_data"
    }
   ],
   "source": [
    "fig, ax = plt.subplots(1, 1, figsize = (15,8))\n",
    "DF_neighbourhoods_shape.loc[:,:].plot(column = \"AREA_S_CD\", ax =ax, cmap = \"viridis\", legend = True)"
   ]
  },
  {
   "cell_type": "markdown",
   "metadata": {},
   "source": [
    "**Extracting population x neighbourhood**\n",
    "\n",
    "In particolare, in questo paragrafo, sono stati estratti i nuclei familiari, da disporre negli appartamenti. Partendo da chi vive da solo fino a 10 persone nello stesso locale (probabilità bassa di essere in 10 ovviamente, ma mi sembrava un ragionevole cutoff)"
   ]
  },
  {
   "cell_type": "code",
   "execution_count": 12,
   "metadata": {},
   "outputs": [],
   "source": [
    "DF_neighbourhoods_info = pd.read_csv(\"Data/neighbourhood-profiles-2016-csv.csv\")"
   ]
  },
  {
   "cell_type": "code",
   "execution_count": 13,
   "metadata": {
    "scrolled": true
   },
   "outputs": [],
   "source": [
    "#Dati utili su spostamenti persone per ogni quartiere\n",
    "#x_ale = DF_neighbourhoods_info.loc[1965:1984,:]\n",
    "#x_ale.to_csv(\"Data/spostamenti_persone.csv\")"
   ]
  },
  {
   "cell_type": "code",
   "execution_count": 14,
   "metadata": {},
   "outputs": [],
   "source": [
    "families_neigh = DF_neighbourhoods_info.loc[68:72,:]\n",
    "data_fam = families_neigh[\"City of Toronto\"].str.replace(\",\", \"\").astype(int)\n",
    "families_neigh = families_neigh.drop(([\"_id\",\"Category\", \"Topic\", \"Data Source\"]), axis = 1)\n",
    "families_neigh[\"City of Toronto\"] = data_fam"
   ]
  },
  {
   "cell_type": "code",
<<<<<<< Updated upstream
   "execution_count": 15,
=======
   "execution_count": 348,
=======
   "execution_count": 10,
>>>>>>> Stashed changes
>>>>>>> Stashed changes
   "metadata": {},
   "outputs": [
    {
     "data": {
      "text/html": [
       "<div>\n",
       "<style scoped>\n",
       "    .dataframe tbody tr th:only-of-type {\n",
       "        vertical-align: middle;\n",
       "    }\n",
       "\n",
       "    .dataframe tbody tr th {\n",
       "        vertical-align: top;\n",
       "    }\n",
       "\n",
       "    .dataframe thead th {\n",
       "        text-align: right;\n",
       "    }\n",
       "</style>\n",
       "<table border=\"1\" class=\"dataframe\">\n",
       "  <thead>\n",
       "    <tr style=\"text-align: right;\">\n",
       "      <th></th>\n",
       "      <th>Characteristic</th>\n",
       "      <th>City of Toronto</th>\n",
       "      <th>Agincourt North</th>\n",
       "      <th>Agincourt South-Malvern West</th>\n",
       "      <th>Alderwood</th>\n",
       "      <th>Annex</th>\n",
       "      <th>Banbury-Don Mills</th>\n",
       "      <th>Bathurst Manor</th>\n",
       "      <th>Bay Street Corridor</th>\n",
       "      <th>Bayview Village</th>\n",
       "      <th>...</th>\n",
       "      <th>Willowdale West</th>\n",
       "      <th>Willowridge-Martingrove-Richview</th>\n",
       "      <th>Woburn</th>\n",
       "      <th>Woodbine Corridor</th>\n",
       "      <th>Woodbine-Lumsden</th>\n",
       "      <th>Wychwood</th>\n",
       "      <th>Yonge-Eglinton</th>\n",
       "      <th>Yonge-St.Clair</th>\n",
       "      <th>York University Heights</th>\n",
       "      <th>Yorkdale-Glen Park</th>\n",
       "    </tr>\n",
       "  </thead>\n",
       "  <tbody>\n",
       "    <tr>\n",
       "      <th>68</th>\n",
       "      <td>1 person</td>\n",
       "      <td>359955</td>\n",
       "      <td>1350</td>\n",
       "      <td>1610</td>\n",
       "      <td>1105</td>\n",
       "      <td>7885</td>\n",
       "      <td>4360</td>\n",
       "      <td>1660</td>\n",
       "      <td>7605</td>\n",
       "      <td>3195</td>\n",
       "      <td>...</td>\n",
       "      <td>2660</td>\n",
       "      <td>2165</td>\n",
       "      <td>4220</td>\n",
       "      <td>1860</td>\n",
       "      <td>1105</td>\n",
       "      <td>2075</td>\n",
       "      <td>2365</td>\n",
       "      <td>3465</td>\n",
       "      <td>2660</td>\n",
       "      <td>1355</td>\n",
       "    </tr>\n",
       "    <tr>\n",
       "      <th>69</th>\n",
       "      <td>2 persons</td>\n",
       "      <td>333425</td>\n",
       "      <td>2370</td>\n",
       "      <td>2325</td>\n",
       "      <td>1440</td>\n",
       "      <td>5220</td>\n",
       "      <td>3820</td>\n",
       "      <td>1790</td>\n",
       "      <td>5330</td>\n",
       "      <td>3260</td>\n",
       "      <td>...</td>\n",
       "      <td>2445</td>\n",
       "      <td>2600</td>\n",
       "      <td>4855</td>\n",
       "      <td>1620</td>\n",
       "      <td>1150</td>\n",
       "      <td>1870</td>\n",
       "      <td>1695</td>\n",
       "      <td>2425</td>\n",
       "      <td>2825</td>\n",
       "      <td>1615</td>\n",
       "    </tr>\n",
       "    <tr>\n",
       "      <th>70</th>\n",
       "      <td>3 persons</td>\n",
       "      <td>175720</td>\n",
       "      <td>1995</td>\n",
       "      <td>1680</td>\n",
       "      <td>885</td>\n",
       "      <td>1540</td>\n",
       "      <td>1755</td>\n",
       "      <td>1095</td>\n",
       "      <td>1410</td>\n",
       "      <td>1610</td>\n",
       "      <td>...</td>\n",
       "      <td>1180</td>\n",
       "      <td>1495</td>\n",
       "      <td>3395</td>\n",
       "      <td>900</td>\n",
       "      <td>585</td>\n",
       "      <td>875</td>\n",
       "      <td>710</td>\n",
       "      <td>595</td>\n",
       "      <td>1860</td>\n",
       "      <td>1010</td>\n",
       "    </tr>\n",
       "    <tr>\n",
       "      <th>71</th>\n",
       "      <td>4 persons</td>\n",
       "      <td>146580</td>\n",
       "      <td>1750</td>\n",
       "      <td>1335</td>\n",
       "      <td>795</td>\n",
       "      <td>885</td>\n",
       "      <td>1515</td>\n",
       "      <td>970</td>\n",
       "      <td>575</td>\n",
       "      <td>1000</td>\n",
       "      <td>...</td>\n",
       "      <td>885</td>\n",
       "      <td>1400</td>\n",
       "      <td>3200</td>\n",
       "      <td>820</td>\n",
       "      <td>440</td>\n",
       "      <td>750</td>\n",
       "      <td>690</td>\n",
       "      <td>395</td>\n",
       "      <td>1495</td>\n",
       "      <td>780</td>\n",
       "    </tr>\n",
       "    <tr>\n",
       "      <th>72</th>\n",
       "      <td>5 or more persons</td>\n",
       "      <td>97245</td>\n",
       "      <td>1645</td>\n",
       "      <td>1175</td>\n",
       "      <td>390</td>\n",
       "      <td>390</td>\n",
       "      <td>675</td>\n",
       "      <td>575</td>\n",
       "      <td>145</td>\n",
       "      <td>470</td>\n",
       "      <td>...</td>\n",
       "      <td>380</td>\n",
       "      <td>840</td>\n",
       "      <td>2775</td>\n",
       "      <td>250</td>\n",
       "      <td>175</td>\n",
       "      <td>330</td>\n",
       "      <td>220</td>\n",
       "      <td>135</td>\n",
       "      <td>1325</td>\n",
       "      <td>590</td>\n",
       "    </tr>\n",
       "  </tbody>\n",
       "</table>\n",
       "<p>5 rows × 142 columns</p>\n",
       "</div>"
      ],
      "text/plain": [
       "         Characteristic  City of Toronto Agincourt North  \\\n",
       "68             1 person           359955            1350   \n",
       "69            2 persons           333425            2370   \n",
       "70            3 persons           175720            1995   \n",
       "71            4 persons           146580            1750   \n",
       "72    5 or more persons            97245            1645   \n",
       "\n",
       "   Agincourt South-Malvern West Alderwood Annex Banbury-Don Mills  \\\n",
       "68                         1610      1105  7885              4360   \n",
       "69                         2325      1440  5220              3820   \n",
       "70                         1680       885  1540              1755   \n",
       "71                         1335       795   885              1515   \n",
       "72                         1175       390   390               675   \n",
       "\n",
       "   Bathurst Manor Bay Street Corridor Bayview Village  ... Willowdale West  \\\n",
       "68           1660                7605            3195  ...            2660   \n",
       "69           1790                5330            3260  ...            2445   \n",
       "70           1095                1410            1610  ...            1180   \n",
       "71            970                 575            1000  ...             885   \n",
       "72            575                 145             470  ...             380   \n",
       "\n",
       "   Willowridge-Martingrove-Richview Woburn Woodbine Corridor Woodbine-Lumsden  \\\n",
       "68                             2165   4220              1860             1105   \n",
       "69                             2600   4855              1620             1150   \n",
       "70                             1495   3395               900              585   \n",
       "71                             1400   3200               820              440   \n",
       "72                              840   2775               250              175   \n",
       "\n",
       "   Wychwood Yonge-Eglinton Yonge-St.Clair York University Heights  \\\n",
       "68     2075           2365           3465                    2660   \n",
       "69     1870           1695           2425                    2825   \n",
       "70      875            710            595                    1860   \n",
       "71      750            690            395                    1495   \n",
       "72      330            220            135                    1325   \n",
       "\n",
       "   Yorkdale-Glen Park  \n",
       "68               1355  \n",
       "69               1615  \n",
       "70               1010  \n",
       "71                780  \n",
       "72                590  \n",
       "\n",
       "[5 rows x 142 columns]"
      ]
     },
<<<<<<< Updated upstream
     "execution_count": 15,
=======
<<<<<<< Updated upstream
     "execution_count": 348,
=======
     "execution_count": 10,
>>>>>>> Stashed changes
>>>>>>> Stashed changes
     "metadata": {},
     "output_type": "execute_result"
    }
   ],
   "source": [
<<<<<<< Updated upstream
    "families_neigh"
=======
    "traffic_toronto.head()"
   ]
  },
  {
   "cell_type": "code",
   "execution_count": 11,
   "metadata": {},
   "outputs": [
    {
     "ename": "DriverIOError",
     "evalue": "Failed to create file Data/Traffic/Final/shp\\2019-04-14-Toronto.shp: No such file or directory",
     "output_type": "error",
     "traceback": [
      "\u001b[1;31m---------------------------------------------------------------------------\u001b[0m",
      "\u001b[1;31mCPLE_AppDefinedError\u001b[0m                      Traceback (most recent call last)",
      "\u001b[1;32mfiona/ogrext.pyx\u001b[0m in \u001b[0;36mfiona.ogrext.WritingSession.start\u001b[1;34m()\u001b[0m\n",
      "\u001b[1;32mfiona/_err.pyx\u001b[0m in \u001b[0;36mfiona._err.exc_wrap_pointer\u001b[1;34m()\u001b[0m\n",
      "\u001b[1;31mCPLE_AppDefinedError\u001b[0m: Failed to create file Data/Traffic/Final/shp\\2019-04-14-Toronto.shp: No such file or directory",
      "\nDuring handling of the above exception, another exception occurred:\n",
      "\u001b[1;31mDriverIOError\u001b[0m                             Traceback (most recent call last)",
      "\u001b[1;32m<ipython-input-11-7ada765fe4fc>\u001b[0m in \u001b[0;36m<module>\u001b[1;34m\u001b[0m\n\u001b[0;32m      9\u001b[0m \u001b[0mtraffic_toronto\u001b[0m\u001b[1;33m[\u001b[0m\u001b[1;34m\"sampleSize\"\u001b[0m\u001b[1;33m]\u001b[0m \u001b[1;33m=\u001b[0m \u001b[0mtraffic_toronto\u001b[0m\u001b[1;33m.\u001b[0m\u001b[0mapply\u001b[0m\u001b[1;33m(\u001b[0m\u001b[1;32mlambda\u001b[0m \u001b[0mrow\u001b[0m\u001b[1;33m:\u001b[0m \u001b[0mint\u001b[0m\u001b[1;33m(\u001b[0m\u001b[0mrow\u001b[0m\u001b[1;33m.\u001b[0m\u001b[0msegmentTimeResults\u001b[0m\u001b[1;33m[\u001b[0m\u001b[0mrow\u001b[0m\u001b[1;33m.\u001b[0m\u001b[0msegmentTimeResults\u001b[0m\u001b[1;33m.\u001b[0m\u001b[0mfind\u001b[0m\u001b[1;33m(\u001b[0m\u001b[0msubstr_sample_size\u001b[0m\u001b[1;33m)\u001b[0m \u001b[1;33m+\u001b[0m \u001b[1;36m13\u001b[0m\u001b[1;33m:\u001b[0m \u001b[0mrow\u001b[0m\u001b[1;33m.\u001b[0m\u001b[0msegmentTimeResults\u001b[0m\u001b[1;33m.\u001b[0m\u001b[0mfind\u001b[0m\u001b[1;33m(\u001b[0m\u001b[0msubstr_avg_trav_t\u001b[0m\u001b[1;33m)\u001b[0m \u001b[1;33m-\u001b[0m\u001b[1;36m3\u001b[0m\u001b[1;33m]\u001b[0m\u001b[1;33m)\u001b[0m\u001b[1;33m,\u001b[0m \u001b[0maxis\u001b[0m \u001b[1;33m=\u001b[0m \u001b[1;36m1\u001b[0m  \u001b[1;33m)\u001b[0m\u001b[1;33m\u001b[0m\u001b[1;33m\u001b[0m\u001b[0m\n\u001b[0;32m     10\u001b[0m \u001b[0mtraffic_toronto\u001b[0m \u001b[1;33m=\u001b[0m \u001b[0mtraffic_toronto\u001b[0m\u001b[1;33m.\u001b[0m\u001b[0mdrop\u001b[0m\u001b[1;33m(\u001b[0m\u001b[1;33m[\u001b[0m\u001b[1;34m\"segmentTimeResults\"\u001b[0m\u001b[1;33m]\u001b[0m\u001b[1;33m,\u001b[0m \u001b[0maxis\u001b[0m \u001b[1;33m=\u001b[0m \u001b[1;36m1\u001b[0m\u001b[1;33m)\u001b[0m\u001b[1;33m\u001b[0m\u001b[1;33m\u001b[0m\u001b[0m\n\u001b[1;32m---> 11\u001b[1;33m \u001b[0mtraffic_toronto\u001b[0m\u001b[1;33m.\u001b[0m\u001b[0mto_file\u001b[0m\u001b[1;33m(\u001b[0m\u001b[1;34m\"Data/Traffic/Final/shp/\"\u001b[0m\u001b[1;33m+\u001b[0m \u001b[0mfile_name\u001b[0m\u001b[1;33m+\u001b[0m \u001b[1;34m\".shp\"\u001b[0m\u001b[1;33m)\u001b[0m\u001b[1;33m\u001b[0m\u001b[1;33m\u001b[0m\u001b[0m\n\u001b[0m",
      "\u001b[1;32m~\\Anaconda3\\lib\\site-packages\\geopandas\\geodataframe.py\u001b[0m in \u001b[0;36mto_file\u001b[1;34m(self, filename, driver, schema, **kwargs)\u001b[0m\n\u001b[0;32m    502\u001b[0m         \u001b[1;32mfrom\u001b[0m \u001b[0mgeopandas\u001b[0m\u001b[1;33m.\u001b[0m\u001b[0mio\u001b[0m\u001b[1;33m.\u001b[0m\u001b[0mfile\u001b[0m \u001b[1;32mimport\u001b[0m \u001b[0mto_file\u001b[0m\u001b[1;33m\u001b[0m\u001b[1;33m\u001b[0m\u001b[0m\n\u001b[0;32m    503\u001b[0m \u001b[1;33m\u001b[0m\u001b[0m\n\u001b[1;32m--> 504\u001b[1;33m         \u001b[0mto_file\u001b[0m\u001b[1;33m(\u001b[0m\u001b[0mself\u001b[0m\u001b[1;33m,\u001b[0m \u001b[0mfilename\u001b[0m\u001b[1;33m,\u001b[0m \u001b[0mdriver\u001b[0m\u001b[1;33m,\u001b[0m \u001b[0mschema\u001b[0m\u001b[1;33m,\u001b[0m \u001b[1;33m**\u001b[0m\u001b[0mkwargs\u001b[0m\u001b[1;33m)\u001b[0m\u001b[1;33m\u001b[0m\u001b[1;33m\u001b[0m\u001b[0m\n\u001b[0m\u001b[0;32m    505\u001b[0m \u001b[1;33m\u001b[0m\u001b[0m\n\u001b[0;32m    506\u001b[0m     \u001b[1;32mdef\u001b[0m \u001b[0mto_crs\u001b[0m\u001b[1;33m(\u001b[0m\u001b[0mself\u001b[0m\u001b[1;33m,\u001b[0m \u001b[0mcrs\u001b[0m\u001b[1;33m=\u001b[0m\u001b[1;32mNone\u001b[0m\u001b[1;33m,\u001b[0m \u001b[0mepsg\u001b[0m\u001b[1;33m=\u001b[0m\u001b[1;32mNone\u001b[0m\u001b[1;33m,\u001b[0m \u001b[0minplace\u001b[0m\u001b[1;33m=\u001b[0m\u001b[1;32mFalse\u001b[0m\u001b[1;33m)\u001b[0m\u001b[1;33m:\u001b[0m\u001b[1;33m\u001b[0m\u001b[1;33m\u001b[0m\u001b[0m\n",
      "\u001b[1;32m~\\Anaconda3\\lib\\site-packages\\geopandas\\io\\file.py\u001b[0m in \u001b[0;36mto_file\u001b[1;34m(df, filename, driver, schema, **kwargs)\u001b[0m\n\u001b[0;32m    126\u001b[0m     \u001b[1;32mwith\u001b[0m \u001b[0mfiona_env\u001b[0m\u001b[1;33m(\u001b[0m\u001b[1;33m)\u001b[0m\u001b[1;33m:\u001b[0m\u001b[1;33m\u001b[0m\u001b[1;33m\u001b[0m\u001b[0m\n\u001b[0;32m    127\u001b[0m         with fiona.open(\n\u001b[1;32m--> 128\u001b[1;33m             \u001b[0mfilename\u001b[0m\u001b[1;33m,\u001b[0m \u001b[1;34m\"w\"\u001b[0m\u001b[1;33m,\u001b[0m \u001b[0mdriver\u001b[0m\u001b[1;33m=\u001b[0m\u001b[0mdriver\u001b[0m\u001b[1;33m,\u001b[0m \u001b[0mcrs\u001b[0m\u001b[1;33m=\u001b[0m\u001b[0mdf\u001b[0m\u001b[1;33m.\u001b[0m\u001b[0mcrs\u001b[0m\u001b[1;33m,\u001b[0m \u001b[0mschema\u001b[0m\u001b[1;33m=\u001b[0m\u001b[0mschema\u001b[0m\u001b[1;33m,\u001b[0m \u001b[1;33m**\u001b[0m\u001b[0mkwargs\u001b[0m\u001b[1;33m\u001b[0m\u001b[1;33m\u001b[0m\u001b[0m\n\u001b[0m\u001b[0;32m    129\u001b[0m         ) as colxn:\n\u001b[0;32m    130\u001b[0m             \u001b[0mcolxn\u001b[0m\u001b[1;33m.\u001b[0m\u001b[0mwriterecords\u001b[0m\u001b[1;33m(\u001b[0m\u001b[0mdf\u001b[0m\u001b[1;33m.\u001b[0m\u001b[0miterfeatures\u001b[0m\u001b[1;33m(\u001b[0m\u001b[1;33m)\u001b[0m\u001b[1;33m)\u001b[0m\u001b[1;33m\u001b[0m\u001b[1;33m\u001b[0m\u001b[0m\n",
      "\u001b[1;32m~\\Anaconda3\\lib\\site-packages\\fiona\\env.py\u001b[0m in \u001b[0;36mwrapper\u001b[1;34m(*args, **kwargs)\u001b[0m\n\u001b[0;32m    394\u001b[0m     \u001b[1;32mdef\u001b[0m \u001b[0mwrapper\u001b[0m\u001b[1;33m(\u001b[0m\u001b[1;33m*\u001b[0m\u001b[0margs\u001b[0m\u001b[1;33m,\u001b[0m \u001b[1;33m**\u001b[0m\u001b[0mkwargs\u001b[0m\u001b[1;33m)\u001b[0m\u001b[1;33m:\u001b[0m\u001b[1;33m\u001b[0m\u001b[1;33m\u001b[0m\u001b[0m\n\u001b[0;32m    395\u001b[0m         \u001b[1;32mif\u001b[0m \u001b[0mlocal\u001b[0m\u001b[1;33m.\u001b[0m\u001b[0m_env\u001b[0m\u001b[1;33m:\u001b[0m\u001b[1;33m\u001b[0m\u001b[1;33m\u001b[0m\u001b[0m\n\u001b[1;32m--> 396\u001b[1;33m             \u001b[1;32mreturn\u001b[0m \u001b[0mf\u001b[0m\u001b[1;33m(\u001b[0m\u001b[1;33m*\u001b[0m\u001b[0margs\u001b[0m\u001b[1;33m,\u001b[0m \u001b[1;33m**\u001b[0m\u001b[0mkwargs\u001b[0m\u001b[1;33m)\u001b[0m\u001b[1;33m\u001b[0m\u001b[1;33m\u001b[0m\u001b[0m\n\u001b[0m\u001b[0;32m    397\u001b[0m         \u001b[1;32melse\u001b[0m\u001b[1;33m:\u001b[0m\u001b[1;33m\u001b[0m\u001b[1;33m\u001b[0m\u001b[0m\n\u001b[0;32m    398\u001b[0m             \u001b[1;32mif\u001b[0m \u001b[0misinstance\u001b[0m\u001b[1;33m(\u001b[0m\u001b[0margs\u001b[0m\u001b[1;33m[\u001b[0m\u001b[1;36m0\u001b[0m\u001b[1;33m]\u001b[0m\u001b[1;33m,\u001b[0m \u001b[0mstr\u001b[0m\u001b[1;33m)\u001b[0m\u001b[1;33m:\u001b[0m\u001b[1;33m\u001b[0m\u001b[1;33m\u001b[0m\u001b[0m\n",
      "\u001b[1;32m~\\Anaconda3\\lib\\site-packages\\fiona\\__init__.py\u001b[0m in \u001b[0;36mopen\u001b[1;34m(fp, mode, driver, schema, crs, encoding, layer, vfs, enabled_drivers, crs_wkt, **kwargs)\u001b[0m\n\u001b[0;32m    261\u001b[0m             c = Collection(path, mode, crs=crs, driver=driver, schema=this_schema,\n\u001b[0;32m    262\u001b[0m                            \u001b[0mencoding\u001b[0m\u001b[1;33m=\u001b[0m\u001b[0mencoding\u001b[0m\u001b[1;33m,\u001b[0m \u001b[0mlayer\u001b[0m\u001b[1;33m=\u001b[0m\u001b[0mlayer\u001b[0m\u001b[1;33m,\u001b[0m \u001b[0menabled_drivers\u001b[0m\u001b[1;33m=\u001b[0m\u001b[0menabled_drivers\u001b[0m\u001b[1;33m,\u001b[0m \u001b[0mcrs_wkt\u001b[0m\u001b[1;33m=\u001b[0m\u001b[0mcrs_wkt\u001b[0m\u001b[1;33m,\u001b[0m\u001b[1;33m\u001b[0m\u001b[1;33m\u001b[0m\u001b[0m\n\u001b[1;32m--> 263\u001b[1;33m                            **kwargs)\n\u001b[0m\u001b[0;32m    264\u001b[0m         \u001b[1;32melse\u001b[0m\u001b[1;33m:\u001b[0m\u001b[1;33m\u001b[0m\u001b[1;33m\u001b[0m\u001b[0m\n\u001b[0;32m    265\u001b[0m             raise ValueError(\n",
      "\u001b[1;32m~\\Anaconda3\\lib\\site-packages\\fiona\\collection.py\u001b[0m in \u001b[0;36m__init__\u001b[1;34m(self, path, mode, driver, schema, crs, encoding, layer, vsi, archive, enabled_drivers, crs_wkt, ignore_fields, ignore_geometry, **kwargs)\u001b[0m\n\u001b[0;32m    160\u001b[0m             \u001b[1;32melif\u001b[0m \u001b[0mself\u001b[0m\u001b[1;33m.\u001b[0m\u001b[0mmode\u001b[0m \u001b[1;32min\u001b[0m \u001b[1;33m(\u001b[0m\u001b[1;34m'a'\u001b[0m\u001b[1;33m,\u001b[0m \u001b[1;34m'w'\u001b[0m\u001b[1;33m)\u001b[0m\u001b[1;33m:\u001b[0m\u001b[1;33m\u001b[0m\u001b[1;33m\u001b[0m\u001b[0m\n\u001b[0;32m    161\u001b[0m                 \u001b[0mself\u001b[0m\u001b[1;33m.\u001b[0m\u001b[0msession\u001b[0m \u001b[1;33m=\u001b[0m \u001b[0mWritingSession\u001b[0m\u001b[1;33m(\u001b[0m\u001b[1;33m)\u001b[0m\u001b[1;33m\u001b[0m\u001b[1;33m\u001b[0m\u001b[0m\n\u001b[1;32m--> 162\u001b[1;33m                 \u001b[0mself\u001b[0m\u001b[1;33m.\u001b[0m\u001b[0msession\u001b[0m\u001b[1;33m.\u001b[0m\u001b[0mstart\u001b[0m\u001b[1;33m(\u001b[0m\u001b[0mself\u001b[0m\u001b[1;33m,\u001b[0m \u001b[1;33m**\u001b[0m\u001b[0mkwargs\u001b[0m\u001b[1;33m)\u001b[0m\u001b[1;33m\u001b[0m\u001b[1;33m\u001b[0m\u001b[0m\n\u001b[0m\u001b[0;32m    163\u001b[0m         \u001b[1;32mexcept\u001b[0m \u001b[0mIOError\u001b[0m\u001b[1;33m:\u001b[0m\u001b[1;33m\u001b[0m\u001b[1;33m\u001b[0m\u001b[0m\n\u001b[0;32m    164\u001b[0m             \u001b[0mself\u001b[0m\u001b[1;33m.\u001b[0m\u001b[0msession\u001b[0m \u001b[1;33m=\u001b[0m \u001b[1;32mNone\u001b[0m\u001b[1;33m\u001b[0m\u001b[1;33m\u001b[0m\u001b[0m\n",
      "\u001b[1;32mfiona/ogrext.pyx\u001b[0m in \u001b[0;36mfiona.ogrext.WritingSession.start\u001b[1;34m()\u001b[0m\n",
      "\u001b[1;31mDriverIOError\u001b[0m: Failed to create file Data/Traffic/Final/shp\\2019-04-14-Toronto.shp: No such file or directory"
     ]
    }
   ],
   "source": [
    "traffic_toronto = traffic_toronto.iloc[1:]\n",
    "traffic_toronto = traffic_toronto.drop([\"jobName\", \"creationTime\", \"userPreference\", \"dateRanges\", \"timeSets\", \"networkName\", \"zoneId\", \"probeSource\", \"segmentId\"], axis = 1)\n",
    "\n",
    "substr_speed = \"averageSpeed\"\n",
    "substr_sample_size = \"sampleSize\"\n",
    "substr_avg_trav_t = \"averageTravelTime\"\n",
    "\n",
    "traffic_toronto[\"avgSpeed\"] = traffic_toronto.apply(lambda row: float(row.segmentTimeResults[row.segmentTimeResults.find(substr_speed) + 15: row.segmentTimeResults.find(substr_speed) +22]), axis = 1  )\n",
    "traffic_toronto[\"sampleSize\"] = traffic_toronto.apply(lambda row: int(row.segmentTimeResults[row.segmentTimeResults.find(substr_sample_size) + 13: row.segmentTimeResults.find(substr_avg_trav_t) -3]), axis = 1  )\n",
    "traffic_toronto = traffic_toronto.drop([\"segmentTimeResults\"], axis = 1)\n",
    "traffic_toronto.to_file(\"Data/Traffic/Final/shp/\"+ file_name+ \".shp\")"
>>>>>>> Stashed changes
   ]
  },
  {
   "cell_type": "code",
   "execution_count": 16,
   "metadata": {
    "scrolled": true
   },
   "outputs": [],
   "source": [
    "values = data_fam.values\n",
    "#num_people = np.arange(values.shape[0]) + 1 \n",
    "#plt.scatter(num_people, values)\n",
    "\n",
    "# Dobbiamo ottenere il numero di persone che vivono in nuclei familiari con 5+ componenti\n",
    "# Avendo solo un punto è necessario costruire una struttura sottostante (e.g. distribuzione exp)\n",
    "# In questo modo ricostruiamo i nuclei con 5,6,7,8,9,10 componenti, prendendo un cutoff a 10 \n",
    "# come famiglia più numerosa \n",
    "\n",
    "def exp_distr(x, a = 1/1.01536):\n",
    "    # Il parametro della distribuzione esponenziale è scelto in modo da minimizzare questa \n",
    "    # differenza (dove 97245 è il numero di famiglie con 5+ membri)\n",
    "    # b = new_values\n",
    "    # 97245 * 5 - (b[0]*5 + b[1]*6 + b[2] * 7 + b[3]*8 + b[4]* 9 + b[5] * 10) \n",
    "    \n",
    "    return a*np.exp(-a*x)\n",
    "\n",
    "max_val = exp_distr(4)\n",
    "x_s = np.linspace(4, 10,num = 100)\n",
    "y_s = exp_distr(x_s)/max_val\n",
    "\n",
    "#plt.plot(x_s, y_s)\n",
    "\n",
    "new_values = [] # 97245\n",
    "for i in range(5,11):\n",
    "    \n",
    "    new_values.append(int(exp_distr(i)/max_val * 146580))\n",
    "\n",
    "# Corrispondono al numero di nuclei familiari con 5, 6, 7, 8, 9, 10 persone\n",
    "new_values = np.array(new_values) \n",
    "\n",
    "#values = np.concatenate((values,new_values))"
   ]
  },
  {
   "cell_type": "code",
   "execution_count": 17,
   "metadata": {},
   "outputs": [],
   "source": [
    "# Corrispondono ai pesi relativi alla frequenza del nucleo familiare con 5 o più \n",
    "# persone per quartiere, in questo modo possiamo riscotruire la distribuzione\n",
    "# di nuclei con 5, 6, 7, 8, 9, 10 persone disgregando l'aggregazione precedente\n",
    "weights_fam = families_neigh.loc[72,:][2:].astype(int).divide(other = families_neigh.loc[72,:][1])\n",
    "\n",
    "# nuclei familiari da 5 persone per quartiere\n",
    "a5 = pd.Series([\"5 persons\", new_values[0]])\n",
    "a5.index = [\"Characteristic\", \"City of Toronto\"]\n",
    "persons_5 = weights_fam*new_values[0]\n",
    "persons_5  = persons_5.astype(int)\n",
    "persons_5 = a5.append(persons_5)\n",
    "\n",
    "# nuclei familiari da 6 persone per quartiere\n",
    "a6 = pd.Series([\"6 persons\", new_values[1]])\n",
    "a6.index = [\"Characteristic\", \"City of Toronto\"]\n",
    "persons_6 = weights_fam*new_values[1]\n",
    "persons_6  = persons_6.astype(int)\n",
    "persons_6 = a6.append(persons_6)\n",
    "\n",
    "# nuclei familiari da 7 persone per quartiere\n",
    "a7 = pd.Series([\"7 persons\", new_values[2]])\n",
    "a7.index = [\"Characteristic\", \"City of Toronto\"]\n",
    "persons_7 = weights_fam*new_values[2]\n",
    "persons_7  = persons_7.astype(int)\n",
    "persons_7 = a7.append(persons_7)\n",
    "\n",
    "# nuclei familiari da 8 persone per quartiere\n",
    "a8 = pd.Series([\"8 persons\", new_values[3]])\n",
    "a8.index = [\"Characteristic\", \"City of Toronto\"]\n",
    "persons_8 = weights_fam*new_values[3]\n",
    "persons_8  = persons_8.astype(int)\n",
    "persons_8 = a8.append(persons_8)\n",
    "\n",
    "# nuclei familiari da 9 persone per quartiere\n",
    "a9 = pd.Series([\"9 persons\", new_values[4]])\n",
    "a9.index = [\"Characteristic\", \"City of Toronto\"]\n",
    "persons_9 = weights_fam*new_values[4]\n",
    "persons_9  = persons_9.astype(int)\n",
    "persons_9 = a9.append(persons_9)\n",
    "\n",
    "# nuclei familiari da 10 persone per quartiere\n",
    "a10 = pd.Series([\"10 persons\", new_values[5]])\n",
    "a10.index = [\"Characteristic\", \"City of Toronto\"]\n",
    "persons_10 = weights_fam*new_values[5]\n",
    "persons_10  = persons_10.astype(int)\n",
    "persons_10 = a10.append(persons_10)"
   ]
  },
  {
   "cell_type": "code",
   "execution_count": 18,
   "metadata": {},
   "outputs": [],
   "source": [
    "families_neigh = families_neigh.loc[:71,:]\n",
    "families_neigh = families_neigh.append([persons_5, persons_6, persons_7, persons_8, persons_9, persons_10], \n",
    "                                      ignore_index = True)"
   ]
  },
  {
   "cell_type": "code",
   "execution_count": 19,
   "metadata": {},
   "outputs": [
    {
     "data": {
      "text/html": [
       "<div>\n",
       "<style scoped>\n",
       "    .dataframe tbody tr th:only-of-type {\n",
       "        vertical-align: middle;\n",
       "    }\n",
       "\n",
       "    .dataframe tbody tr th {\n",
       "        vertical-align: top;\n",
       "    }\n",
       "\n",
       "    .dataframe thead th {\n",
       "        text-align: right;\n",
       "    }\n",
       "</style>\n",
       "<table border=\"1\" class=\"dataframe\">\n",
       "  <thead>\n",
       "    <tr style=\"text-align: right;\">\n",
       "      <th></th>\n",
       "      <th>Characteristic</th>\n",
       "      <th>City of Toronto</th>\n",
       "      <th>Agincourt North</th>\n",
       "      <th>Agincourt South-Malvern West</th>\n",
       "      <th>Alderwood</th>\n",
       "      <th>Annex</th>\n",
       "      <th>Banbury-Don Mills</th>\n",
       "      <th>Bathurst Manor</th>\n",
       "      <th>Bay Street Corridor</th>\n",
       "      <th>Bayview Village</th>\n",
       "      <th>...</th>\n",
       "      <th>Willowdale West</th>\n",
       "      <th>Willowridge-Martingrove-Richview</th>\n",
       "      <th>Woburn</th>\n",
       "      <th>Woodbine Corridor</th>\n",
       "      <th>Woodbine-Lumsden</th>\n",
       "      <th>Wychwood</th>\n",
       "      <th>Yonge-Eglinton</th>\n",
       "      <th>Yonge-St.Clair</th>\n",
       "      <th>York University Heights</th>\n",
       "      <th>Yorkdale-Glen Park</th>\n",
       "    </tr>\n",
       "  </thead>\n",
       "  <tbody>\n",
       "    <tr>\n",
       "      <th>0</th>\n",
       "      <td>1 person</td>\n",
       "      <td>359955</td>\n",
       "      <td>1350</td>\n",
       "      <td>1610</td>\n",
       "      <td>1105</td>\n",
       "      <td>7885</td>\n",
       "      <td>4360</td>\n",
       "      <td>1660</td>\n",
       "      <td>7605</td>\n",
       "      <td>3195</td>\n",
       "      <td>...</td>\n",
       "      <td>2660</td>\n",
       "      <td>2165</td>\n",
       "      <td>4220</td>\n",
       "      <td>1860</td>\n",
       "      <td>1105</td>\n",
       "      <td>2075</td>\n",
       "      <td>2365</td>\n",
       "      <td>3465</td>\n",
       "      <td>2660</td>\n",
       "      <td>1355</td>\n",
       "    </tr>\n",
       "    <tr>\n",
       "      <th>1</th>\n",
       "      <td>2 persons</td>\n",
       "      <td>333425</td>\n",
       "      <td>2370</td>\n",
       "      <td>2325</td>\n",
       "      <td>1440</td>\n",
       "      <td>5220</td>\n",
       "      <td>3820</td>\n",
       "      <td>1790</td>\n",
       "      <td>5330</td>\n",
       "      <td>3260</td>\n",
       "      <td>...</td>\n",
       "      <td>2445</td>\n",
       "      <td>2600</td>\n",
       "      <td>4855</td>\n",
       "      <td>1620</td>\n",
       "      <td>1150</td>\n",
       "      <td>1870</td>\n",
       "      <td>1695</td>\n",
       "      <td>2425</td>\n",
       "      <td>2825</td>\n",
       "      <td>1615</td>\n",
       "    </tr>\n",
       "    <tr>\n",
       "      <th>2</th>\n",
       "      <td>3 persons</td>\n",
       "      <td>175720</td>\n",
       "      <td>1995</td>\n",
       "      <td>1680</td>\n",
       "      <td>885</td>\n",
       "      <td>1540</td>\n",
       "      <td>1755</td>\n",
       "      <td>1095</td>\n",
       "      <td>1410</td>\n",
       "      <td>1610</td>\n",
       "      <td>...</td>\n",
       "      <td>1180</td>\n",
       "      <td>1495</td>\n",
       "      <td>3395</td>\n",
       "      <td>900</td>\n",
       "      <td>585</td>\n",
       "      <td>875</td>\n",
       "      <td>710</td>\n",
       "      <td>595</td>\n",
       "      <td>1860</td>\n",
       "      <td>1010</td>\n",
       "    </tr>\n",
       "    <tr>\n",
       "      <th>3</th>\n",
       "      <td>4 persons</td>\n",
       "      <td>146580</td>\n",
       "      <td>1750</td>\n",
       "      <td>1335</td>\n",
       "      <td>795</td>\n",
       "      <td>885</td>\n",
       "      <td>1515</td>\n",
       "      <td>970</td>\n",
       "      <td>575</td>\n",
       "      <td>1000</td>\n",
       "      <td>...</td>\n",
       "      <td>885</td>\n",
       "      <td>1400</td>\n",
       "      <td>3200</td>\n",
       "      <td>820</td>\n",
       "      <td>440</td>\n",
       "      <td>750</td>\n",
       "      <td>690</td>\n",
       "      <td>395</td>\n",
       "      <td>1495</td>\n",
       "      <td>780</td>\n",
       "    </tr>\n",
       "    <tr>\n",
       "      <th>4</th>\n",
       "      <td>5 persons</td>\n",
       "      <td>54745</td>\n",
       "      <td>926</td>\n",
       "      <td>661</td>\n",
       "      <td>219</td>\n",
       "      <td>219</td>\n",
       "      <td>379</td>\n",
       "      <td>323</td>\n",
       "      <td>81</td>\n",
       "      <td>264</td>\n",
       "      <td>...</td>\n",
       "      <td>213</td>\n",
       "      <td>472</td>\n",
       "      <td>1562</td>\n",
       "      <td>140</td>\n",
       "      <td>98</td>\n",
       "      <td>185</td>\n",
       "      <td>123</td>\n",
       "      <td>75</td>\n",
       "      <td>745</td>\n",
       "      <td>332</td>\n",
       "    </tr>\n",
       "    <tr>\n",
       "      <th>5</th>\n",
       "      <td>6 persons</td>\n",
       "      <td>20446</td>\n",
       "      <td>345</td>\n",
       "      <td>247</td>\n",
       "      <td>81</td>\n",
       "      <td>81</td>\n",
       "      <td>141</td>\n",
       "      <td>120</td>\n",
       "      <td>30</td>\n",
       "      <td>98</td>\n",
       "      <td>...</td>\n",
       "      <td>79</td>\n",
       "      <td>176</td>\n",
       "      <td>583</td>\n",
       "      <td>52</td>\n",
       "      <td>36</td>\n",
       "      <td>69</td>\n",
       "      <td>46</td>\n",
       "      <td>28</td>\n",
       "      <td>278</td>\n",
       "      <td>124</td>\n",
       "    </tr>\n",
       "    <tr>\n",
       "      <th>6</th>\n",
       "      <td>7 persons</td>\n",
       "      <td>7636</td>\n",
       "      <td>129</td>\n",
       "      <td>92</td>\n",
       "      <td>30</td>\n",
       "      <td>30</td>\n",
       "      <td>53</td>\n",
       "      <td>45</td>\n",
       "      <td>11</td>\n",
       "      <td>36</td>\n",
       "      <td>...</td>\n",
       "      <td>29</td>\n",
       "      <td>65</td>\n",
       "      <td>217</td>\n",
       "      <td>19</td>\n",
       "      <td>13</td>\n",
       "      <td>25</td>\n",
       "      <td>17</td>\n",
       "      <td>10</td>\n",
       "      <td>104</td>\n",
       "      <td>46</td>\n",
       "    </tr>\n",
       "    <tr>\n",
       "      <th>7</th>\n",
       "      <td>8 persons</td>\n",
       "      <td>2852</td>\n",
       "      <td>48</td>\n",
       "      <td>34</td>\n",
       "      <td>11</td>\n",
       "      <td>11</td>\n",
       "      <td>19</td>\n",
       "      <td>16</td>\n",
       "      <td>4</td>\n",
       "      <td>13</td>\n",
       "      <td>...</td>\n",
       "      <td>11</td>\n",
       "      <td>24</td>\n",
       "      <td>81</td>\n",
       "      <td>7</td>\n",
       "      <td>5</td>\n",
       "      <td>9</td>\n",
       "      <td>6</td>\n",
       "      <td>3</td>\n",
       "      <td>38</td>\n",
       "      <td>17</td>\n",
       "    </tr>\n",
       "    <tr>\n",
       "      <th>8</th>\n",
       "      <td>9 persons</td>\n",
       "      <td>1065</td>\n",
       "      <td>18</td>\n",
       "      <td>12</td>\n",
       "      <td>4</td>\n",
       "      <td>4</td>\n",
       "      <td>7</td>\n",
       "      <td>6</td>\n",
       "      <td>1</td>\n",
       "      <td>5</td>\n",
       "      <td>...</td>\n",
       "      <td>4</td>\n",
       "      <td>9</td>\n",
       "      <td>30</td>\n",
       "      <td>2</td>\n",
       "      <td>1</td>\n",
       "      <td>3</td>\n",
       "      <td>2</td>\n",
       "      <td>1</td>\n",
       "      <td>14</td>\n",
       "      <td>6</td>\n",
       "    </tr>\n",
       "    <tr>\n",
       "      <th>9</th>\n",
       "      <td>10 persons</td>\n",
       "      <td>397</td>\n",
       "      <td>6</td>\n",
       "      <td>4</td>\n",
       "      <td>1</td>\n",
       "      <td>1</td>\n",
       "      <td>2</td>\n",
       "      <td>2</td>\n",
       "      <td>0</td>\n",
       "      <td>1</td>\n",
       "      <td>...</td>\n",
       "      <td>1</td>\n",
       "      <td>3</td>\n",
       "      <td>11</td>\n",
       "      <td>1</td>\n",
       "      <td>0</td>\n",
       "      <td>1</td>\n",
       "      <td>0</td>\n",
       "      <td>0</td>\n",
       "      <td>5</td>\n",
       "      <td>2</td>\n",
       "    </tr>\n",
       "  </tbody>\n",
       "</table>\n",
       "<p>10 rows × 142 columns</p>\n",
       "</div>"
      ],
      "text/plain": [
       "  Characteristic  City of Toronto Agincourt North  \\\n",
       "0       1 person           359955            1350   \n",
       "1      2 persons           333425            2370   \n",
       "2      3 persons           175720            1995   \n",
       "3      4 persons           146580            1750   \n",
       "4      5 persons            54745             926   \n",
       "5      6 persons            20446             345   \n",
       "6      7 persons             7636             129   \n",
       "7      8 persons             2852              48   \n",
       "8      9 persons             1065              18   \n",
       "9     10 persons              397               6   \n",
       "\n",
       "  Agincourt South-Malvern West Alderwood Annex Banbury-Don Mills  \\\n",
       "0                         1610      1105  7885              4360   \n",
       "1                         2325      1440  5220              3820   \n",
       "2                         1680       885  1540              1755   \n",
       "3                         1335       795   885              1515   \n",
       "4                          661       219   219               379   \n",
       "5                          247        81    81               141   \n",
       "6                           92        30    30                53   \n",
       "7                           34        11    11                19   \n",
       "8                           12         4     4                 7   \n",
       "9                            4         1     1                 2   \n",
       "\n",
       "  Bathurst Manor Bay Street Corridor Bayview Village  ... Willowdale West  \\\n",
       "0           1660                7605            3195  ...            2660   \n",
       "1           1790                5330            3260  ...            2445   \n",
       "2           1095                1410            1610  ...            1180   \n",
       "3            970                 575            1000  ...             885   \n",
       "4            323                  81             264  ...             213   \n",
       "5            120                  30              98  ...              79   \n",
       "6             45                  11              36  ...              29   \n",
       "7             16                   4              13  ...              11   \n",
       "8              6                   1               5  ...               4   \n",
       "9              2                   0               1  ...               1   \n",
       "\n",
       "  Willowridge-Martingrove-Richview Woburn Woodbine Corridor Woodbine-Lumsden  \\\n",
       "0                             2165   4220              1860             1105   \n",
       "1                             2600   4855              1620             1150   \n",
       "2                             1495   3395               900              585   \n",
       "3                             1400   3200               820              440   \n",
       "4                              472   1562               140               98   \n",
       "5                              176    583                52               36   \n",
       "6                               65    217                19               13   \n",
       "7                               24     81                 7                5   \n",
       "8                                9     30                 2                1   \n",
       "9                                3     11                 1                0   \n",
       "\n",
       "  Wychwood Yonge-Eglinton Yonge-St.Clair York University Heights  \\\n",
       "0     2075           2365           3465                    2660   \n",
       "1     1870           1695           2425                    2825   \n",
       "2      875            710            595                    1860   \n",
       "3      750            690            395                    1495   \n",
       "4      185            123             75                     745   \n",
       "5       69             46             28                     278   \n",
       "6       25             17             10                     104   \n",
       "7        9              6              3                      38   \n",
       "8        3              2              1                      14   \n",
       "9        1              0              0                       5   \n",
       "\n",
       "  Yorkdale-Glen Park  \n",
       "0               1355  \n",
       "1               1615  \n",
       "2               1010  \n",
       "3                780  \n",
       "4                332  \n",
       "5                124  \n",
       "6                 46  \n",
       "7                 17  \n",
       "8                  6  \n",
       "9                  2  \n",
       "\n",
       "[10 rows x 142 columns]"
      ]
     },
     "execution_count": 19,
     "metadata": {},
     "output_type": "execute_result"
    }
   ],
   "source": [
    "families_neigh"
   ]
  },
  {
   "cell_type": "code",
   "execution_count": 20,
   "metadata": {},
   "outputs": [],
   "source": [
    "#families_neigh.to_csv(\"Data/nuclei_familiari.csv\")"
   ]
  },
  {
   "cell_type": "markdown",
   "metadata": {},
   "source": [
    "Popolazione per quartiere (inizialmente avevo estratto questo, ma a questo punto i dati estratti sopra sono molto più fini e permettono di disporre le persone nei palazzi)"
   ]
  },
  {
   "cell_type": "code",
   "execution_count": 21,
   "metadata": {},
   "outputs": [],
   "source": [
    "# Population by neighbourhood as of 2016 (the most recent)\n",
    "pop_by_neigh_2016 = DF_neighbourhoods_info.loc[2,:]\n",
    "pop_by_neigh_2016 = pop_by_neigh_2016.iloc[6:]\n",
    "pop_by_neigh_2016 = pop_by_neigh_2016.str.replace(r',','').astype(int)"
   ]
  },
  {
   "cell_type": "code",
   "execution_count": 22,
   "metadata": {},
   "outputs": [
    {
     "data": {
      "text/plain": [
       "2731571"
      ]
     },
     "execution_count": 22,
     "metadata": {},
     "output_type": "execute_result"
    }
   ],
   "source": [
    "pop_by_neigh_2016.sum()"
   ]
  },
  {
   "cell_type": "code",
   "execution_count": 23,
   "metadata": {},
   "outputs": [],
   "source": [
    "# filter pop_by_neigh by subset of neighbourhoods\n",
    "DF_neighbourhoods_shape[\"POP\"] = DF_neighbourhoods_shape.apply(lambda row: pop_by_neigh_2016.filter(like = row.AREA_NAME, axis = 0).values[0], axis = 1)"
   ]
  },
  {
   "cell_type": "markdown",
   "metadata": {},
   "source": [
    "## OSM Data"
   ]
  },
  {
   "cell_type": "code",
   "execution_count": 24,
   "metadata": {},
   "outputs": [],
   "source": [
    "# http://polygons.openstreetmap.fr/index.py?id=43992 , polygon creation from osm id (turin = 43992)\n",
    "boundary_toronto = gpd.read_file(\"Data/Toronto.geojson\")\n",
    "#bbox = boundary_turin.envelope \n",
    "#df_bbox = gpd.GeoDataFrame(gpd.GeoSeries(bbox), columns = [\"geometry\"])\n",
    "#intersections = gpd.overlay(df_bbox, DF_roads_turin, how = \"intersection\")"
   ]
  },
  {
   "cell_type": "code",
   "execution_count": 25,
   "metadata": {},
   "outputs": [],
   "source": [
    "# bbox = (7.25,44.8,8.1,45.4)\n",
    "DF_roads_toronto = gpd.read_file(\"Data/ontario-latest-free.shp/gis_osm_roads_free_1.shp\", bbox = boundary_toronto)\n",
    "DF_buildings_toronto = gpd.read_file(\"Data/ontario-latest-free.shp/gis_osm_buildings_a_free_1.shp\", bbox = boundary_toronto)\n",
    "# ferrovie di treni e tram\n",
    "DF_railway_toronto = gpd.read_file(\"Data/ontario-latest-free.shp/gis_osm_railways_free_1.shp\", bbox = boundary_toronto)\n",
    "#parcheggi, anche multipiano\n",
    "DF_parking_toronto = gpd.read_file(\"Data/ontario-latest-free.shp/gis_osm_traffic_a_free_1.shp\", bbox = boundary_toronto)\n",
    "\n",
    "# just in case\n",
    "DF_churches_toronto = gpd.read_file(\"Data/ontario-latest-free.shp/gis_osm_pofw_a_free_1.shp\", bbox = boundary_toronto)\n",
    "# ospedali, parchi, teatri \n",
    "DF_public_places_toronto = gpd.read_file(\"Data/ontario-latest-free.shp/gis_osm_pois_a_free_1.shp\", bbox = boundary_toronto)\n",
    "# DF_public_places_toronto[DF_public_places_toronto.fclass == \"hospital\"]\n",
    "# stazioni ferroviarie, fermate bus, tram, traghetto (lol?), taxi \n",
    "DF_transport_toronto = gpd.read_file(\"Data/ontario-latest-free.shp/gis_osm_transport_a_free_1.shp\", bbox = boundary_toronto)"
   ]
  },
  {
   "cell_type": "code",
   "execution_count": 26,
   "metadata": {},
   "outputs": [],
   "source": [
    "DF_roads_toronto.to_file(\"Data/Toronto_final/Roads_Toronto.shp\")\n",
    "DF_buildings_toronto.to_file(\"Data/Toronto_final/Buildings_Toronto.shp\")"
   ]
  },
  {
   "cell_type": "code",
   "execution_count": 27,
   "metadata": {},
   "outputs": [],
   "source": [
    "DF_public_places_toronto[DF_public_places_toronto.fclass == \"hospital\"].to_file(\"Data/Toronto_final/Hospitals_toronto.shp\")"
   ]
  },
  {
   "cell_type": "code",
   "execution_count": 28,
   "metadata": {},
   "outputs": [
    {
     "name": "stdout",
     "output_type": "stream",
     "text": [
      "(134309, 11)\n",
      "(504997, 6)\n",
      "(4256, 8)\n",
      "(15743, 5)\n"
     ]
    }
   ],
   "source": [
    "print(DF_roads_toronto.shape)\n",
    "print(DF_buildings_toronto.shape)\n",
    "print(DF_railway_toronto.shape)\n",
    "print(DF_parking_toronto.shape)"
   ]
  },
  {
   "cell_type": "code",
   "execution_count": 29,
   "metadata": {
    "scrolled": true
   },
   "outputs": [],
   "source": [
    "\"\"\"\n",
    "# matplotlib qt permette di avere una figura interattiva\n",
    "# %matplotlib qt\n",
    "\n",
    "#%matplotlib inline\n",
    "\n",
    "fig, ax = plt.subplots(figsize=(20, 20))\n",
    "DF_roads_toronto.plot(ax = ax, alpha = 0.4, color = \"black\")\n",
    "DF_buildings_toronto.plot(ax = ax, alpha = 0.8, color = \"orange\")\n",
    "DF_public_places_toronto.plot(ax = ax , alpha = 0.6, color = \"pink\")\n",
    "DF_parking_toronto.plot(ax = ax, alpha = 0.7, color = \"blue\")\n",
    "DF_churches_toronto.plot(ax = ax, alpha = 0.7, color = \"green\")\n",
    "DF_railway_toronto.plot(ax = ax, alpha = 0.4, color = \"red\")\n",
    "#fig.savefig(\"Data/Toronto_Net.png\", dpi = 1200)\n",
    "\"\"\";"
   ]
  },
  {
   "cell_type": "markdown",
   "metadata": {},
   "source": [
    "## [3D Massing Data](https://ckan0.cf.opendata.inter.prod-toronto.ca/tl/dataset/3d-massing)"
   ]
  },
  {
   "cell_type": "code",
   "execution_count": 30,
   "metadata": {},
   "outputs": [],
   "source": [
    "height_buildings = gpd.read_file(\"Data/Buildings/3DMassingShapefile_2019_WGS84/3DMassing_2019_WGS84.shp\")\n",
    "# There was a mismatch in zoning and buildings coordinates\n",
    "# we need to reproject buildings in order to compare coordinates\n",
    "# zoning epsg:4326 --> the correct one\n",
    "height_buildings = height_buildings.to_crs(epsg= 4326)"
   ]
  },
  {
   "cell_type": "code",
   "execution_count": 31,
   "metadata": {},
   "outputs": [],
   "source": [
    "# filtering useful columns\n",
    "height_buildings = height_buildings.loc[:, height_buildings.columns.intersection(['AVG_HEIGHT','LONGITUDE', 'geometry', 'LATITUDE', 'POLY_AREA', \"PERIMETER\"])]"
   ]
  },
  {
   "cell_type": "code",
   "execution_count": 32,
   "metadata": {},
   "outputs": [],
   "source": [
    "height_buildings = height_buildings.reset_index()"
   ]
  },
  {
   "cell_type": "code",
   "execution_count": 33,
   "metadata": {},
   "outputs": [],
   "source": [
    "height_buildings = height_buildings.rename(columns = {\"index\":\"ID\"})"
   ]
  },
  {
   "cell_type": "code",
   "execution_count": 34,
   "metadata": {
    "scrolled": false
   },
   "outputs": [
    {
     "data": {
      "text/html": [
       "<div>\n",
       "<style scoped>\n",
       "    .dataframe tbody tr th:only-of-type {\n",
       "        vertical-align: middle;\n",
       "    }\n",
       "\n",
       "    .dataframe tbody tr th {\n",
       "        vertical-align: top;\n",
       "    }\n",
       "\n",
       "    .dataframe thead th {\n",
       "        text-align: right;\n",
       "    }\n",
       "</style>\n",
       "<table border=\"1\" class=\"dataframe\">\n",
       "  <thead>\n",
       "    <tr style=\"text-align: right;\">\n",
       "      <th></th>\n",
       "      <th>ID</th>\n",
       "      <th>AVG_HEIGHT</th>\n",
       "      <th>LONGITUDE</th>\n",
       "      <th>LATITUDE</th>\n",
       "      <th>POLY_AREA</th>\n",
       "      <th>PERIMETER</th>\n",
       "      <th>geometry</th>\n",
       "    </tr>\n",
       "  </thead>\n",
       "  <tbody>\n",
       "    <tr>\n",
       "      <th>0</th>\n",
       "      <td>0</td>\n",
       "      <td>7.3090</td>\n",
       "      <td>-79.592266</td>\n",
       "      <td>43.660304</td>\n",
       "      <td>1906.173775</td>\n",
       "      <td>180.218234</td>\n",
       "      <td>POLYGON Z ((-79.59232 43.66001 0.00000, -79.59...</td>\n",
       "    </tr>\n",
       "    <tr>\n",
       "      <th>1</th>\n",
       "      <td>1</td>\n",
       "      <td>8.2040</td>\n",
       "      <td>-79.588970</td>\n",
       "      <td>43.663573</td>\n",
       "      <td>1434.416417</td>\n",
       "      <td>220.001068</td>\n",
       "      <td>POLYGON Z ((-79.58917 43.66356 0.00000, -79.58...</td>\n",
       "    </tr>\n",
       "    <tr>\n",
       "      <th>2</th>\n",
       "      <td>2</td>\n",
       "      <td>4.1913</td>\n",
       "      <td>-79.588479</td>\n",
       "      <td>43.664104</td>\n",
       "      <td>612.515578</td>\n",
       "      <td>111.077719</td>\n",
       "      <td>POLYGON Z ((-79.58869 43.66403 0.00000, -79.58...</td>\n",
       "    </tr>\n",
       "    <tr>\n",
       "      <th>3</th>\n",
       "      <td>3</td>\n",
       "      <td>4.8489</td>\n",
       "      <td>-79.583894</td>\n",
       "      <td>43.660113</td>\n",
       "      <td>413.462391</td>\n",
       "      <td>89.451738</td>\n",
       "      <td>POLYGON Z ((-79.58409 43.66014 0.00000, -79.58...</td>\n",
       "    </tr>\n",
       "    <tr>\n",
       "      <th>4</th>\n",
       "      <td>4</td>\n",
       "      <td>5.9776</td>\n",
       "      <td>-79.584291</td>\n",
       "      <td>43.658825</td>\n",
       "      <td>263.809671</td>\n",
       "      <td>68.827410</td>\n",
       "      <td>POLYGON Z ((-79.58443 43.65886 0.00000, -79.58...</td>\n",
       "    </tr>\n",
       "  </tbody>\n",
       "</table>\n",
       "</div>"
      ],
      "text/plain": [
       "   ID  AVG_HEIGHT  LONGITUDE   LATITUDE    POLY_AREA   PERIMETER  \\\n",
       "0   0      7.3090 -79.592266  43.660304  1906.173775  180.218234   \n",
       "1   1      8.2040 -79.588970  43.663573  1434.416417  220.001068   \n",
       "2   2      4.1913 -79.588479  43.664104   612.515578  111.077719   \n",
       "3   3      4.8489 -79.583894  43.660113   413.462391   89.451738   \n",
       "4   4      5.9776 -79.584291  43.658825   263.809671   68.827410   \n",
       "\n",
       "                                            geometry  \n",
       "0  POLYGON Z ((-79.59232 43.66001 0.00000, -79.59...  \n",
       "1  POLYGON Z ((-79.58917 43.66356 0.00000, -79.58...  \n",
       "2  POLYGON Z ((-79.58869 43.66403 0.00000, -79.58...  \n",
       "3  POLYGON Z ((-79.58409 43.66014 0.00000, -79.58...  \n",
       "4  POLYGON Z ((-79.58443 43.65886 0.00000, -79.58...  "
      ]
     },
     "execution_count": 34,
     "metadata": {},
     "output_type": "execute_result"
    }
   ],
   "source": [
    "height_buildings.head()"
   ]
  },
  {
   "cell_type": "code",
   "execution_count": 35,
   "metadata": {},
   "outputs": [],
   "source": [
    "# average apartment : 50 square meters\n",
    "# altezza soffitto per legge: sopra i 2.3 metri --> mettere la media poco sopra a questo \n",
    "# per mettere le persone negli edifici (ref: http://www.buildingcode.online/1267.html)"
   ]
  },
  {
   "cell_type": "code",
   "execution_count": 36,
   "metadata": {},
   "outputs": [],
   "source": [
    "\"\"\"\n",
    "fig, ax = plt.subplots(1, 1, figsize = (15,8))\n",
    "height_buildings.plot(column = \"AVG_HEIGHT\", ax = ax, linewidth=0.2 , legend = True, cmap = \"viridis\",\n",
    "                    vmin=height_buildings.MAX_HEIGHT.min(), vmax=height_buildings.MAX_HEIGHT.max())\n",
    "#fig.savefig(\"Data/Buildings_Height.png\", dpi = 600)\n",
    "\"\"\";"
   ]
  },
  {
   "cell_type": "markdown",
   "metadata": {},
   "source": [
    "## [Zoning By Law](https://ckan0.cf.opendata.inter.prod-toronto.ca/dataset/zoning-by-law)\n",
    "\n",
    "Ref: https://www.toronto.ca/wp-content/uploads/2017/10/9706-City-Planning-Zoning-city-wide-zoning-map.pdf"
   ]
  },
  {
   "cell_type": "code",
   "execution_count": 37,
   "metadata": {},
   "outputs": [],
   "source": [
    "zoning = gpd.read_file(\"Data/Buildings/ZoningByLaw/ZONING_ZONE_CATAGORIES_WGS84.shp\")"
   ]
  },
  {
   "cell_type": "code",
   "execution_count": 38,
   "metadata": {},
   "outputs": [],
   "source": [
    "# There are some NaN values, replace them with \"UNASSIGNED\" zone category - which is OK \n",
    "zoning[\"ZN_ZONE\"] = zoning[\"ZN_ZONE\"].fillna(\"UNASSIGNED\")\n",
    "zoning[\"ZN_ZONE\"] = zoning[\"ZN_ZONE\"].replace(\"TBD\",\"UNASSIGNED\")\n",
    "#zoning[\"ZN_ZONE\"] = zoning[\"ZN_ZONE\"].replace(None,\"UNASSIGNED\")\n",
    "# Encoding Zone categories, so that we have numbers and not strings, for plotting purposes\n",
    "zoning[\"ZONE_LABEL\"]  = LabelEncoder().fit_transform(zoning[\"ZN_ZONE\"].astype(str))\n",
    "\n",
    "### Explaining ZN_ZONE\n",
    "zones_dict = {\"R\": \"Residential\", \"RD\":\"Residential Detached\", \"RA\": \"Residential Apartment\",\n",
    "              \"CR\": \"Commercial Residential\" , \"E\":\"Employment Industrial\", \"CRE\":\"Commercial Residential Employment\",\n",
    "               \"O\":\"Open Space\", \"CL\":\"Commercial Local\",\"OR\":\"Open Space Recreation\",\"ON\":\"Open Space Natural\",\n",
    "              \"RM\":\"Residential Multiple Dwelling\",\"RAC\":\"Residential Apartment Commercial\",\"IPW\":\"Institutional Place of Worship\",\n",
    "              \"EL\":\"Employment Light Industrial\", \"RS\":\"Residential Semi Detached\", \"RT\":\"Residential Townhouse\", \"EH\":\"Employment Heavy Industrial\",\n",
    "             \"UNASSIGNED\":\"UNKNOWN\", \"I\": \"Institutional General\", \"EO\":\"Employment Industrial Office\", \"OC\":\"Open Space Cemetery\",\n",
    "             \"IS\":\"Institutional School\", \"IH\":\"Institutional Hospital\", \"UT\" : \"Utility and Transportation\", \n",
    "              \"IE\":\"Institutional Education\", \"U\":\"Utility\", \"OG\" : \"Open Space Golf Course\", \"OM\":\"Open Space Marina\",\n",
    "              \"EC\":\"Employment Industrial Commercial\" }\n",
    "\n",
    "zoning[\"ZN_ZONE_EXT\"] = zoning.ZN_ZONE.replace(zones_dict)\n",
    "\n",
    "## Filtering useful columns for GAMA\n",
    "zoning = zoning.loc[:, zoning.columns.intersection(['OBJECTID','ZN_ZONE', 'geometry', 'ZONE_LABEL', 'ZN_ZONE_EXT'])]\n",
    "zoning.OBJECTID = zoning.OBJECTID - 1"
   ]
  },
  {
   "cell_type": "code",
   "execution_count": 39,
   "metadata": {},
   "outputs": [
    {
     "data": {
      "text/html": [
       "<div>\n",
       "<style scoped>\n",
       "    .dataframe tbody tr th:only-of-type {\n",
       "        vertical-align: middle;\n",
       "    }\n",
       "\n",
       "    .dataframe tbody tr th {\n",
       "        vertical-align: top;\n",
       "    }\n",
       "\n",
       "    .dataframe thead th {\n",
       "        text-align: right;\n",
       "    }\n",
       "</style>\n",
       "<table border=\"1\" class=\"dataframe\">\n",
       "  <thead>\n",
       "    <tr style=\"text-align: right;\">\n",
       "      <th></th>\n",
       "      <th>OBJECTID</th>\n",
       "      <th>ZN_ZONE</th>\n",
       "      <th>geometry</th>\n",
       "      <th>ZONE_LABEL</th>\n",
       "      <th>ZN_ZONE_EXT</th>\n",
       "    </tr>\n",
       "  </thead>\n",
       "  <tbody>\n",
       "    <tr>\n",
       "      <th>0</th>\n",
       "      <td>0</td>\n",
       "      <td>R</td>\n",
       "      <td>POLYGON ((-79.43062 43.63905, -79.43053 43.638...</td>\n",
       "      <td>19</td>\n",
       "      <td>Residential</td>\n",
       "    </tr>\n",
       "    <tr>\n",
       "      <th>1</th>\n",
       "      <td>1</td>\n",
       "      <td>R</td>\n",
       "      <td>POLYGON ((-79.37013 43.69011, -79.37004 43.690...</td>\n",
       "      <td>19</td>\n",
       "      <td>Residential</td>\n",
       "    </tr>\n",
       "    <tr>\n",
       "      <th>2</th>\n",
       "      <td>2</td>\n",
       "      <td>RD</td>\n",
       "      <td>POLYGON ((-79.57802 43.73434, -79.57898 43.734...</td>\n",
       "      <td>22</td>\n",
       "      <td>Residential Detached</td>\n",
       "    </tr>\n",
       "    <tr>\n",
       "      <th>3</th>\n",
       "      <td>3</td>\n",
       "      <td>RD</td>\n",
       "      <td>POLYGON ((-79.40005 43.78515, -79.40157 43.784...</td>\n",
       "      <td>22</td>\n",
       "      <td>Residential Detached</td>\n",
       "    </tr>\n",
       "    <tr>\n",
       "      <th>4</th>\n",
       "      <td>4</td>\n",
       "      <td>RA</td>\n",
       "      <td>POLYGON ((-79.44054 43.73027, -79.44055 43.730...</td>\n",
       "      <td>20</td>\n",
       "      <td>Residential Apartment</td>\n",
       "    </tr>\n",
       "  </tbody>\n",
       "</table>\n",
       "</div>"
      ],
      "text/plain": [
       "   OBJECTID ZN_ZONE                                           geometry  \\\n",
       "0         0       R  POLYGON ((-79.43062 43.63905, -79.43053 43.638...   \n",
       "1         1       R  POLYGON ((-79.37013 43.69011, -79.37004 43.690...   \n",
       "2         2      RD  POLYGON ((-79.57802 43.73434, -79.57898 43.734...   \n",
       "3         3      RD  POLYGON ((-79.40005 43.78515, -79.40157 43.784...   \n",
       "4         4      RA  POLYGON ((-79.44054 43.73027, -79.44055 43.730...   \n",
       "\n",
       "   ZONE_LABEL            ZN_ZONE_EXT  \n",
       "0          19            Residential  \n",
       "1          19            Residential  \n",
       "2          22   Residential Detached  \n",
       "3          22   Residential Detached  \n",
       "4          20  Residential Apartment  "
      ]
     },
     "execution_count": 39,
     "metadata": {},
     "output_type": "execute_result"
    }
   ],
   "source": [
    "zoning.head()"
   ]
  },
  {
   "cell_type": "code",
   "execution_count": 47,
   "metadata": {
    "scrolled": true
   },
   "outputs": [],
   "source": [
    "#index = 0\n",
    "#height_buildings.ZN_ZONE_EXT.values[row]"
   ]
  },
  {
   "cell_type": "code",
   "execution_count": 46,
   "metadata": {},
   "outputs": [],
   "source": [
    "#Init, fully optimized approx 12 sec\n",
    "#height_buildings[\"ZN_ZONE_EXT\"] = height_buildings.index.apply(lambda row: zoning.ZN_ZONE_EXT.values[0] if zoning.geometry.values[0].contains(row.geometry) else \"UNKNOWN\"  , axis = 1)\n",
    "#height_buildings[\"ZN_ZONE_EXT\"] = height_buildings.ID.apply(lambda row: zoning.ZN_ZONE_EXT.values[0] if zoning.geometry.values[0].contains(height_buildings.geometry.values[row]) else \"UNKNOWN\")"
   ]
  },
  {
   "cell_type": "code",
   "execution_count": null,
   "metadata": {},
   "outputs": [],
   "source": [
    "# delete nonetype columns\n",
    "# zoning = zoning[zoning.geometry != zoning.geometry.values[8483]]\n",
    "# zoning = zoning.reset_index()\n"
   ]
  },
  {
   "cell_type": "code",
   "execution_count": null,
   "metadata": {},
   "outputs": [],
   "source": [
    "\"\"\"\n",
    "# takes a few days \n",
    "# for loop --> fermi a 8084\n",
    "for index in tqdm(range(8459,zoning.shape[0]), total= zoning.shape[0] - 8459):\n",
    "    height_buildings[\"ZN_ZONE_EXT\"] = height_buildings.ID.apply(lambda row: zoning.ZN_ZONE_EXT.values[index]\n",
    "                                                         if zoning.geometry.values[index].contains(height_buildings.geometry.values[row]) \n",
    "                                                         else height_buildings.ZN_ZONE_EXT.values[row] )\n",
    "\"\"\""
   ]
  },
  {
   "cell_type": "code",
   "execution_count": null,
   "metadata": {
    "scrolled": true
   },
   "outputs": [],
   "source": [
    "import collections\n",
    "collections.Counter(height_buildings[\"ZN_ZONE_EXT\"])\n",
    "\n",
    "height_buildings.ZN_ZONE_EXT = height_buildings[\"ZN_ZONE_EXT\"].astype(object)"
   ]
  },
  {
   "cell_type": "code",
   "execution_count": null,
   "metadata": {},
   "outputs": [],
   "source": [
    "#height_buildings.to_pickle(\"Data/Buildings/height_buildings.pkl\")"
   ]
  },
  {
   "cell_type": "code",
   "execution_count": null,
   "metadata": {},
   "outputs": [],
   "source": [
    "#height_buildings.to_file(\"Data/Buildings/height_buildings.shp\")"
   ]
  },
  {
   "cell_type": "code",
   "execution_count": null,
   "metadata": {},
   "outputs": [],
   "source": [
    "#a.to_file(\"Data/Buildings/height_build_23_neigh.shp\")"
   ]
  },
  {
   "cell_type": "code",
   "execution_count": 41,
   "metadata": {},
   "outputs": [],
   "source": [
    "height_buildings = gpd.read_file(\"Data/Buildings/buildings_shp/height_buildings.shp\", bbox = bbox)"
   ]
  },
  {
   "cell_type": "code",
   "execution_count": 45,
   "metadata": {},
   "outputs": [
    {
     "data": {
      "text/html": [
       "<div>\n",
       "<style scoped>\n",
       "    .dataframe tbody tr th:only-of-type {\n",
       "        vertical-align: middle;\n",
       "    }\n",
       "\n",
       "    .dataframe tbody tr th {\n",
       "        vertical-align: top;\n",
       "    }\n",
       "\n",
       "    .dataframe thead th {\n",
       "        text-align: right;\n",
       "    }\n",
       "</style>\n",
       "<table border=\"1\" class=\"dataframe\">\n",
       "  <thead>\n",
       "    <tr style=\"text-align: right;\">\n",
       "      <th></th>\n",
       "      <th>ID</th>\n",
       "      <th>AVG_HEIGHT</th>\n",
       "      <th>LONGITUDE</th>\n",
       "      <th>LATITUDE</th>\n",
       "      <th>POLY_AREA</th>\n",
       "      <th>PERIMETER</th>\n",
       "      <th>ZN_ZONE_EX</th>\n",
       "      <th>geometry</th>\n",
       "    </tr>\n",
       "  </thead>\n",
       "  <tbody>\n",
       "    <tr>\n",
       "      <th>0</th>\n",
       "      <td>8936</td>\n",
       "      <td>7.0738</td>\n",
       "      <td>-79.591515</td>\n",
       "      <td>43.703047</td>\n",
       "      <td>32740.661386</td>\n",
       "      <td>894.823138</td>\n",
       "      <td>Employment Industrial</td>\n",
       "      <td>POLYGON Z ((-79.59300 43.70319 0.00000, -79.59...</td>\n",
       "    </tr>\n",
       "    <tr>\n",
       "      <th>1</th>\n",
       "      <td>8937</td>\n",
       "      <td>6.0827</td>\n",
       "      <td>-79.589880</td>\n",
       "      <td>43.701356</td>\n",
       "      <td>19127.831102</td>\n",
       "      <td>642.448051</td>\n",
       "      <td>Employment Industrial</td>\n",
       "      <td>POLYGON Z ((-79.59091 43.70133 0.00000, -79.59...</td>\n",
       "    </tr>\n",
       "    <tr>\n",
       "      <th>2</th>\n",
       "      <td>8939</td>\n",
       "      <td>8.7085</td>\n",
       "      <td>-79.592399</td>\n",
       "      <td>43.704960</td>\n",
       "      <td>12219.385031</td>\n",
       "      <td>485.153076</td>\n",
       "      <td>Employment Industrial</td>\n",
       "      <td>POLYGON Z ((-79.59312 43.70530 0.00000, -79.59...</td>\n",
       "    </tr>\n",
       "    <tr>\n",
       "      <th>3</th>\n",
       "      <td>8944</td>\n",
       "      <td>9.7180</td>\n",
       "      <td>-79.595181</td>\n",
       "      <td>43.702198</td>\n",
       "      <td>7202.523564</td>\n",
       "      <td>404.452791</td>\n",
       "      <td>Employment Industrial</td>\n",
       "      <td>POLYGON Z ((-79.59537 43.70166 0.00000, -79.59...</td>\n",
       "    </tr>\n",
       "    <tr>\n",
       "      <th>4</th>\n",
       "      <td>8947</td>\n",
       "      <td>5.9127</td>\n",
       "      <td>-79.591995</td>\n",
       "      <td>43.704071</td>\n",
       "      <td>4504.350124</td>\n",
       "      <td>388.180433</td>\n",
       "      <td>Employment Industrial</td>\n",
       "      <td>POLYGON Z ((-79.59169 43.70427 0.00000, -79.59...</td>\n",
       "    </tr>\n",
       "  </tbody>\n",
       "</table>\n",
       "</div>"
      ],
      "text/plain": [
       "     ID  AVG_HEIGHT  LONGITUDE   LATITUDE     POLY_AREA   PERIMETER  \\\n",
       "0  8936      7.0738 -79.591515  43.703047  32740.661386  894.823138   \n",
       "1  8937      6.0827 -79.589880  43.701356  19127.831102  642.448051   \n",
       "2  8939      8.7085 -79.592399  43.704960  12219.385031  485.153076   \n",
       "3  8944      9.7180 -79.595181  43.702198   7202.523564  404.452791   \n",
       "4  8947      5.9127 -79.591995  43.704071   4504.350124  388.180433   \n",
       "\n",
       "              ZN_ZONE_EX                                           geometry  \n",
       "0  Employment Industrial  POLYGON Z ((-79.59300 43.70319 0.00000, -79.59...  \n",
       "1  Employment Industrial  POLYGON Z ((-79.59091 43.70133 0.00000, -79.59...  \n",
       "2  Employment Industrial  POLYGON Z ((-79.59312 43.70530 0.00000, -79.59...  \n",
       "3  Employment Industrial  POLYGON Z ((-79.59537 43.70166 0.00000, -79.59...  \n",
       "4  Employment Industrial  POLYGON Z ((-79.59169 43.70427 0.00000, -79.59...  "
      ]
     },
     "execution_count": 45,
     "metadata": {},
     "output_type": "execute_result"
    }
   ],
   "source": [
    "height_buildings.head()"
   ]
  },
  {
   "cell_type": "code",
   "execution_count": 437,
   "metadata": {},
   "outputs": [],
   "source": [
    "\"\"\"\n",
    "fig, ax = plt.subplots(1, 1, figsize = (15,8))\n",
    "zoning.plot(column = \"ZONE_LABEL\", ax = ax, cmap = \"coolwarm\", legend = True)\n",
    "#fig.savefig(\"Data/toronto_zones.png\", dpi = 1200)\n",
    "\"\"\";"
   ]
  },
  {
   "cell_type": "markdown",
   "metadata": {},
   "source": [
    "### Extracting traffic congestion time series\n",
    "(https://www.tomtom.com/en_gb/traffic-index/toronto-traffic/)"
   ]
  },
  {
   "cell_type": "code",
   "execution_count": 28,
   "metadata": {},
   "outputs": [],
   "source": [
    "time_ser_str1 = \"0 55.714285714285715 L 5.523255813953488 59.42857142857143 L 11.046511627906977 59.42857142857143 L 16.569767441860463 70.57142857142857 L 22.093023255813954 98.42857142857143 L 27.61627906976744 120.71428571428571 L 33.13953488372093 141.14285714285714 L 38.66279069767442 102.14285714285714 L 44.18604651162791 59.42857142857143 L 49.70930385981912 39 L 55.23255813953488 29.714285714285715 L 60.75581395348837 22.285714285714285 L 66.27906976744185 14.857142857142858 L 71.80232558139535 7.428571428571429 L 77.32558139534883 3.7142857142857144 L 82.84883720930233 0 L 88.37209302325581 0 L 93.89535037144702 0 L 99.4186046511628 3.7142857142857144 L 104.94186046511628 29.714285714285715 L 110.46511627906976 61.285714285714285 L 115.98837209302326 85.42857142857143 L 121.51162790697674 63.142857142857146 L 127.03488372093024 50.142857142857146 L 132.55814106912143 55.714285714285715 L 138.08139534883722 65 L 143.60465269702843 68.71428571428571 L 149.12790697674419 79.85714285714286 L 154.65116279069767 100.28571428571429 L 160.17441860465115 113.28571428571429 L 165.6516472868217 117 L 171.22093023255815 87.28571428571429 L 176.74418604651163 59.42857142857143 L 182.26744339470284 40.857142857142854 L 187.7906976744186 31.571428571428573 L 193.3139534883721 27.857142857142858 L 198.8372093023256 22.285714285714285 L 204.36046511627907 14.857142857142858 L 209.88372093023256 7.428571428571429 L 215.40697674418604 3.7142857142857144 L 220.93023255813952 0 L 226.45348837209303 0 L 231.97674418604652 0 L 237.5 0 L 243.02325581395348 5.571428571428571 L 248.54651162790697 14.857142857142858 L 254.06976744186048 27.857142857142858 L 259.5930247900517 39 L 265.11628060400517 52 L 270.63953488372096 63.142857142857146 L 276.16279069767444 66.85714285714286 L 281.6860465116279 66.85714285714286 L 287.2093023255814 66.85714285714286 L 292.7325581395349 65 L 298.25581395348837 61.285714285714285 L 303.7790713016796 59.42857142857143 L 309.3023271156331 46.42857142857143 L 314.8255813953488 33.42857142857143 L 320.3488372093023 29.714285714285715 L 325.8720930232558 27.857142857142858 L 331.3953488372093 24.142857142857142 L 336.9186046511628 16.714285714285715 L 342.4418604651163 9.285714285714286 L 347.9651162790698 5.571428571428571 L 353.48837209302326 1.8571428571428572 L 359.01162790697674 0 L 364.5348837209302 0 L 370.0581395348837 0 L 375.5813953488372 1.8571428571428572 L 381.1046511627907 5.571428571428571 L 386.6279069767442 14.857142857142858 L 392.1511627906977 24.142857142857142 L 397.6744201388889 35.285714285714285 L 403.19767441860466 44.57142857142857 L 408.72093023255815 50.142857142857146 L 414.24418604651163 52 L 419.7674418604651 52 L 425.2906976744186 48.285714285714285 L 430.8139534883721 46.42857142857143 L 436.33720930232556 40.857142857142854 L 441.86046511627904 33.42857142857143 L 447.3837209302326 26 L 452.90697827842376 22.285714285714285 L 458.43023409237725 16.714285714285715 L 463.95348837209303 9.285714285714286 L 469.4767441860465 1.8571428571428572 L 475 0 L 480.5232558139535 0 L 486.04651162790697 0 L 491.56976744186045 0 L 497.09302325581393 7.428571428571429 L 502.6162790697674 37.142857142857146 L 508.13953488372096 74.28571428571429 L 513.6627906976744 102.14285714285714 L 519.1860465116279 68.71428571428571 L 524.7093023255813 44.57142857142857 L 530.2325596737726 42.714285714285715 L 535.7558139534884 46.42857142857143 L 541.2790713016796 46.42857142857143 L 546.8023255813954 57.57142857142857 L 552.3255813953489 79.85714285714286 L 557.84883874354 98.42857142857143 L 563.3720930232558 113.28571428571429 L 568.8953488372093 78 L 574.4186046511628 42.714285714285715 L 579.941861999354 27.857142857142858 L 585.4651162790698 22.285714285714285 L 590.9883720930233 16.714285714285715 L 596.5116279069767 9.285714285714286 L 602.0348837209302 5.571428571428571 L 607.5581395348837 3.7142857142857144 L 613.0813953488372 1.8571428571428572 L 618.6046511627907 0 L 624.1279069767442 0 L 629.6511627906976 5.571428571428571 L 635.1744186046511 39 L 640.6976744186046 79.85714285714286 L 646.2209302325581 111.42857142857143 L 651.7441860465116 78 L 657.2674433947028 53.857142857142854 L 662.7906976744187 50.142857142857146 L 668.3139534883721 53.857142857142854 L 673.8372093023256 52 L 679.3604651162791 63.142857142857146 L 684.8837209302326 89.14285714285714 L 690.4069767441861 109.57142857142857 L 695.9302325581396 128.14285714285714 L 701.453488372093 91 L 706.9767441860465 48.285714285714285 L 712.5 29.714285714285715 L 718.0232558139535 24.142857142857142 L 723.546511627907 16.714285714285715 L 729.0697689760982 11.142857142857142 L 734.5930232558139 3.7142857142857144 L 740.1162790697674 0 L 745.6395364179587 0 L 751.1627906976744 0 L 756.6860465116279 0 L 762.2093023255813 5.571428571428571 L 767.7325581395348 39 L 773.2558139534884 79.85714285714286 L 778.7790697674419 111.42857142857143 L 784.3023255813954 81.71428571428571 L 789.8255829295865 55.714285714285715 L 795.34883874354 53.857142857142854 L 800.8720930232558 57.57142857142857 L 806.3953488372093 55.714285714285715 L 811.9186046511628 66.85714285714286 L 817.4418604651163 94.71428571428571 L 822.9651162790698 113.28571428571429 L 828.4883720930233 133.71428571428572 L 834.0116279069767 96.57142857142857 L 839.5348837209302 55.714285714285715 L 845.0581395348837 35.285714285714285 L 850.5813953488372 27.857142857142858 L 856.1046511627907 20.428571428571427 L 861.6279069767442 13 L 867.1511627906976 5.571428571428571 L 872.6744186046511 1.8571428571428572 L 878.1976744186046 0 L 883.7209302325581 0 L 889.2441875807493 0 L 894.7674418604652 5.571428571428571 L 900.2906976744187 37.142857142857146 L 905.8139534883721 76.14285714285714 L 911.3372093023256 109.57142857142857 L 916.8604666505167 78 L 922.3837209302326 55.714285714285715 L 927.9069767441861 55.714285714285715\"\n",
    "time_ser_str1 = time_ser_str1.replace(\" L \", \",\")\n",
    "time_ser_str1 = time_ser_str1.replace(\" \", \",\")\n",
    "time_ser1 = np.array(list(map(float, time_ser_str1.split(','))))\n",
    "time_ser1 = time_ser1.reshape((time_ser1.shape[0]//2, 2))"
   ]
  },
  {
   "cell_type": "code",
   "execution_count": 29,
   "metadata": {},
   "outputs": [
    {
     "data": {
      "text/plain": [
       "[<matplotlib.lines.Line2D at 0x21ab6114f28>]"
      ]
     },
     "execution_count": 29,
     "metadata": {},
     "output_type": "execute_result"
    },
    {
     "data": {
      "image/png": "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\n",
      "text/plain": [
       "<Figure size 432x288 with 1 Axes>"
      ]
     },
     "metadata": {
      "needs_background": "light"
     },
     "output_type": "display_data"
    }
   ],
   "source": [
    "plt.plot(time_ser1[:,0], time_ser1[:,1])"
   ]
  },
  {
   "cell_type": "code",
   "execution_count": 30,
   "metadata": {},
   "outputs": [],
   "source": [
    "time_ser_str2 = \"0 33.42857142857143 L 5.523255813953488 35.285714285714285 L 11.046511627906977 35.285714285714285 L 16.569767441860463 42.714285714285715 L 22.093023255813954 63.142857142857146 L 27.61627906976744 65 L 33.13953488372093 63.142857142857146 L 38.66279069767442 57.57142857142857 L 44.18604651162791 39 L 49.70930385981912 27.857142857142858 L 55.23255813953488 16.714285714285715 L 60.75581395348837 9.285714285714286 L 66.27906976744185 5.571428571428571 L 71.80232558139535 1.8571428571428572 L 77.32558139534883 0 L 82.84883720930233 0 L 88.37209302325581 0 L 93.89535037144702 0 L 99.4186046511628 0 L 104.94186046511628 13 L 110.46511627906976 24.142857142857142 L 115.98837209302326 39 L 121.51162790697674 39 L 127.03488372093024 26 L 132.55814106912143 39 L 138.08139534883722 44.57142857142857 L 143.60465269702843 46.42857142857143 L 149.12790697674419 55.714285714285715 L 154.65116279069767 74.28571428571429 L 160.17441860465115 76.14285714285714 L 165.6516472868217 72.42857142857143 L 171.22093023255815 61.285714285714285 L 176.74418604651163 46.42857142857143 L 182.26744339470284 35.285714285714285 L 187.7906976744186 24.142857142857142 L 193.3139534883721 11.142857142857142 L 198.8372093023256 9.285714285714286 L 204.36046511627907 3.7142857142857144 L 209.88372093023256 0 L 215.40697674418604 0 L 220.93023255813952 0 L 226.45348837209303 0 L 231.97674418604652 0 L 237.5 0 L 243.02325581395348 0 L 248.54651162790697 5.571428571428571 L 254.06976744186048 11.142857142857142 L 259.5930247900517 20.428571428571427 L 265.11628060400517 29.714285714285715 L 270.63953488372096 42.714285714285715 L 276.16279069767444 46.42857142857143 L 281.6860465116279 50.142857142857146 L 287.2093023255814 50.142857142857146 L 292.7325581395349 48.285714285714285 L 298.25581395348837 42.714285714285715 L 303.7790713016796 37.142857142857146 L 309.3023271156331 31.571428571428573 L 314.8255813953488 27.857142857142858 L 320.3488372093023 16.714285714285715 L 325.8720930232558 9.285714285714286 L 331.3953488372093 7.428571428571429 L 336.9186046511628 3.7142857142857144 L 342.4418604651163 0 L 347.9651162790698 0 L 353.48837209302326 0 L 359.01162790697674 0 L 364.5348837209302 0 L 370.0581395348837 0 L 375.5813953488372 0 L 381.1046511627907 0 L 386.6279069767442 3.7142857142857144 L 392.1511627906977 7.428571428571429 L 397.6744201388889 14.857142857142858 L 403.19767441860466 20.428571428571427 L 408.72093023255815 27.857142857142858 L 414.24418604651163 29.714285714285715 L 419.7674418604651 29.714285714285715 L 425.2906976744186 29.714285714285715 L 430.8139534883721 26 L 436.33720930232556 24.142857142857142 L 441.86046511627904 22.285714285714285 L 447.3837209302326 20.428571428571427 L 452.90697827842376 16.714285714285715 L 458.43023409237725 5.571428571428571 L 463.95348837209303 3.7142857142857144 L 469.4767441860465 1.8571428571428572 L 475 0 L 480.5232558139535 0 L 486.04651162790697 0 L 491.56976744186045 0 L 497.09302325581393 0 L 502.6162790697674 14.857142857142858 L 508.13953488372096 26 L 513.6627906976744 39 L 519.1860465116279 39 L 524.7093023255813 22.285714285714285 L 530.2325596737726 27.857142857142858 L 535.7558139534884 27.857142857142858 L 541.2790713016796 29.714285714285715 L 546.8023255813954 37.142857142857146 L 552.3255813953489 52 L 557.84883874354 53.857142857142854 L 563.3720930232558 52 L 568.8953488372093 44.57142857142857 L 574.4186046511628 26 L 579.941861999354 20.428571428571427 L 585.4651162790698 11.142857142857142 L 590.9883720930233 5.571428571428571 L 596.5116279069767 3.7142857142857144 L 602.0348837209302 1.8571428571428572 L 607.5581395348837 0 L 613.0813953488372 0 L 618.6046511627907 0 L 624.1279069767442 0 L 629.6511627906976 1.8571428571428572 L 635.1744186046511 22.285714285714285 L 640.6976744186046 27.857142857142858 L 646.2209302325581 40.857142857142854 L 651.7441860465116 39 L 657.2674433947028 26 L 662.7906976744187 27.857142857142858 L 668.3139534883721 31.571428571428573 L 673.8372093023256 31.571428571428573 L 679.3604651162791 37.142857142857146 L 684.8837209302326 55.714285714285715 L 690.4069767441861 57.57142857142857 L 695.9302325581396 57.57142857142857 L 701.453488372093 50.142857142857146 L 706.9767441860465 29.714285714285715 L 712.5 22.285714285714285 L 718.0232558139535 13 L 723.546511627907 7.428571428571429 L 729.0697689760982 3.7142857142857144 L 734.5930232558139 0 L 740.1162790697674 0 L 745.6395364179587 0 L 751.1627906976744 0 L 756.6860465116279 0 L 762.2093023255813 0 L 767.7325581395348 27.857142857142858 L 773.2558139534884 33.42857142857143 L 778.7790697674419 46.42857142857143 L 784.3023255813954 46.42857142857143 L 789.8255829295865 27.857142857142858 L 795.34883874354 29.714285714285715 L 800.8720930232558 31.571428571428573 L 806.3953488372093 31.571428571428573 L 811.9186046511628 42.714285714285715 L 817.4418604651163 61.285714285714285 L 822.9651162790698 63.142857142857146 L 828.4883720930233 59.42857142857143 L 834.0116279069767 52 L 839.5348837209302 33.42857142857143 L 845.0581395348837 26 L 850.5813953488372 14.857142857142858 L 856.1046511627907 9.285714285714286 L 861.6279069767442 5.571428571428571 L 867.1511627906976 3.7142857142857144 L 872.6744186046511 0 L 878.1976744186046 0 L 883.7209302325581 0 L 889.2441875807493 0 L 894.7674418604652 0 L 900.2906976744187 16.714285714285715 L 905.8139534883721 29.714285714285715 L 911.3372093023256 48.285714285714285 L 916.8604666505167 46.42857142857143 L 922.3837209302326 29.714285714285715 L 927.9069767441861 29.714285714285715\"\n",
    "time_ser_str2 = time_ser_str2.replace(\" L \", \",\")\n",
    "time_ser_str2 = time_ser_str2.replace(\" \", \",\")\n",
    "time_ser2 = np.array(list(map(float, time_ser_str2.split(','))))\n",
    "time_ser2 = time_ser2.reshape((time_ser2.shape[0]//2, 2))"
   ]
  },
  {
   "cell_type": "code",
   "execution_count": 31,
   "metadata": {},
   "outputs": [
    {
     "data": {
      "text/plain": [
       "[<matplotlib.lines.Line2D at 0x21ab6311b38>]"
      ]
     },
     "execution_count": 31,
     "metadata": {},
     "output_type": "execute_result"
    },
    {
     "data": {
      "image/png": "iVBORw0KGgoAAAANSUhEUgAAAXQAAAD8CAYAAABn919SAAAABHNCSVQICAgIfAhkiAAAAAlwSFlzAAALEgAACxIB0t1+/AAAADl0RVh0U29mdHdhcmUAbWF0cGxvdGxpYiB2ZXJzaW9uIDMuMC4zLCBodHRwOi8vbWF0cGxvdGxpYi5vcmcvnQurowAAIABJREFUeJztvWtwXOd55/l7+94NoHEhQRIkKFEXWhIsWxcysmwn3tiy4ksythzTKSeZjHbGiSq1mUkyyW7iODWV2poPY9fO5rJbU6nVxEk0ScpJTNuRS06cOIoyTuxENikpupCSqJtFECABkgCBvt/e/XDOe7rR6MvpPtcG3l8VC0Sj0XhxcPo5z/m//+d5hJQSjUaj0Yw+kaAXoNFoNBp30AFdo9Fodgg6oGs0Gs0OQQd0jUaj2SHogK7RaDQ7BB3QNRqNZodgK6ALIf6jEOIFIcTzQogvCCFSQogbhBBPCiHOCSH+TAiR8HqxGo1Go+lO34AuhDgE/DxwXEp5OxAFPgl8DvgtKeVRYA34lJcL1Wg0Gk1v7EouMSAthIgBGWAZeB9w0vz6I8AD7i9Po9FoNHaJ9XuClPKCEOK/Am8CReBvgNPAupSyZj5tETjU6fuFEA8BDwGMjY0du/XWW91Yt0aj0ewaTp8+fVlKOdvveX0DuhBiGvgocAOwDnwR+FCHp3bsISClfBh4GOD48ePy1KlT/X6kRqPRaFoQQnzPzvPsSC7vB16XUq5KKavAl4F3AVOmBAMwDywNtVKNRqPRuIKdgP4mcK8QIiOEEMB9wBngCeCE+ZwHgUe9WaJGo9Fo7NA3oEspn8TY/HwKeM78noeBXwV+SQjxCrAH+LyH69RoNBpNH/pq6ABSyt8AfqPt4deAe1xfkUaj0WiGQleKajQazQ5BB3SNRqPZIeiArtFoNDsEHdADoN6Q/Ol33qRQqfV/skaj0dhEB/QA+MaZS3z6y8/x1We0dV+j0biHDugBcPL0IgBnljcCXolGo9lJ6IDuM6ubZZ54aQWAM0s6oGs0GvfQAd1nHn3mAvWG5F037eHs8gaNRscWOBqNRjMwOqD7zMnTi9x5eIqP3HGQfKXO+bVC0EvSaDQ7BB3QfaTRkLx4cZPvv3kvt81lAS27aDQa99AB3UfKtQYAY8kYtxyYICL0xqhGo3EPHdB9pFStA5CKR0jFo9w0O85ZHdA1Go1L6IDuI0UzoKfjUQAWDma15KLRaFxDB3QfsQJ6wgjot81lWbpWYr1QCXJZGo1mh6ADuo8oySUZMwL6/HQagJXNcmBr0mg0Owcd0H2k1JahZ1NxADaK1cDWpNFodg46oPtIqWq4XFIx47Bn00ZAv6YDukajcYG+AV0IcYsQ4pmWfxtCiF8UQswIIb4hhDhnfpz2Y8GjTLHSnqEbA6M2SjqgazQa59iZKfqSlPJOKeWdwDGgAHwF+DTwuJTyKPC4+bmmB+0ul8m0klx0G12NRuOcQSWX+4BXpZTfAz4KPGI+/gjwgJsL24k0fehGQJ/QGrpGo3GRQQP6J4EvmP/fL6VcBjA/7uv0DUKIh4QQp4QQp1ZXV4df6Q6gPaAnYhHS8aiWXDQajSvYDuhCiATwEeCLg/wAKeXDUsrjUsrjs7Ozg65vR6E2RZWGDpBNx7TkotFoXGGQDP1DwFNSykvm55eEEHMA5scVtxe301AaunK5gGFd1Bm6RqNxg0EC+o/TlFsAvgo8aP7/QeBRtxa1UylW68Sjgli0JaCndUDXaDTuYCugCyEywP3Al1se/ixwvxDinPm1z7q/vJ1FqVonFYtueWwyHdc+dI1G4woxO0+SUhaAPW2PXcFwvWhsUqrWSSW2BvRsKsYrK1pD12g0ztGVoj5SqjYsD7pCSy4ajcYtdED3kWKlTiq+9ZBnU3E2ilWk1LNFNRqNM3RA95Fitd4hQ4/RkJA32wJoNBrNsOiA7iOlat0qKlLojosajcYtdED3kU4B3ernonV0jUbjEB3QfaTbpijAtYIO6BqNxhk7JqCfeuMqjz27FPQyelKsdt4UBdgoaeuiRqNxhi0fetiRUvKZrzzHG1cK/MDRWUvGCBvFan1LHxcwNkVBa+gajcY5OyJDf+7CNV6+lKNSa4Q6S++5Kao1dI1G45AdEdBPnl4kEYtwZE+Gk6cXg15OVzoF9Ak1tUh3XNRoNA4Z+YBertV59JklPvDWA/zEO67j6TfXeWUlF/SytlGrN6jW5bZN0Vg0wngypjN0jUbjmJEP6H93doVrxSqfODbPA3cdIhoRfOmp8GXppZrZC70toIPRz0Vr6BqNu/zht17nT7/zZtDL8JWR3xRV2fg7bpwhGYty+6FJnlu8FvCqtqMGRLe7XMCwLuqOixqNe2yWqnz26y9ycCrNJ++5Lujl+MbIZ+jlWoOIgITZY/zwdJrFtULAq9pO+/i5VvSQC43GXf7quYuUqg1ev5ynUNk9+1MjH9DVRqMQAoD56QwX1os0GuFqdtUzoOsxdBqNq3zx9HkiAqSEFy9uBr0c3xj9gF7b6hyZn05TrUtWNssBrmo7avxcZw1dZ+gajVu8cTnPd99Y4yfeYUgtZ5Y2Al6Rf4x8QC9XGyRbZnTOT6cBQie7dBoQrdAaukbjHo8+s0REwL9/71GyqRhnlnVA34IQYkoIcVII8aIQ4qwQ4p1CiBkhxDeEEOfMj9NeL7YTpVqjLUPPALC4VgxiOV2xBkR32BQdT8YoVOq6J7pG4wJL60X2jic5MJli4WBWZ+gd+B3g61LKW4E7gLPAp4HHpZRHgcfNz32nVK2PSIbeXUPPJKPUG5KyaW3UaDTDU6o1W2wszE3y4sUN6iHbU/OKvgFdCJEF3gN8HkBKWZFSrgMfBR4xn/YI8IBXi+xFqVon2RIkU/Eoe8eTocvQSz009LGE4R4t6CEXGo1jipXmIJmFg1nL7bIbsJOh3wisAn8ghHhaCPF7QogxYL+UchnA/Liv0zcLIR4SQpwSQpxaXV11beGKcq1BKrb11zg8kw5dQG/60Dtk6GY2kS9rp4tG45RSrWEleW89mAXghaXw1aZ4gZ2AHgPuBn5XSnkXkGcAeUVK+bCU8riU8vjs7OyQy+xOuUN/lPnpDOdDKrl0zNCTOkPXaNyiVKmTNveqbt43Tjwqdo110U5AXwQWpZRPmp+fxAjwl4QQcwDmxxVvltibUrWxbaNxfjrN0noxVLpZ0XS59MzQd1EBhEbjFa2ze+PRCPsmUlzaKAW8Kn/oG9CllBeB80KIW8yH7gPOAF8FHjQfexB41JMV9qFUq5OMtWfoyosenj+iytCTse2H3MrQyzpD12ic0t7VdHYiyWrI6lK8wm4vl/8A/IkQIgG8BvxbjIvBnwshPgW8CXzCmyX2ptwxQ29aF+cm00Esaxslc1pRJCK2fU1n6BqNe7Rm6GAE9PNXwyXBeoWtgC6lfAY43uFL97m7nMFprxSFrdbF7zsyE8SytlHsoPUrmi4XHdA14UVKyT+9doVStc6+iRS3H5oMekkdKVUbW5xvsxNJnn5zLcAV+cfId1vsNDTioJmVL18Ll+TSaUMUmpJLTksumhDzjTOXeOiPTgMQjQie+k/3h3LcY/t7bXY8yZV8hVq9QSw68sXxPRnp305KaVyN23TpVDxCRDStgmGgWG30COjG4wVtW9SEmD8/tci+iST/xwduod6QrIR0o9GY3duMCbMTSaSEq/lKgKvyh5EO6JV6Z+eIEIJUPBqqgN5eANVKKhZFCMiHaL0aTSurm2WeeGmFj919iGPXT1uPhY1qvUG9IUnFtkouQOga9nnBSEsuquFVJ+dIOh61+qeEAeM2sPP1MxIRZOJRnaFrQsujz1yg3pCcuHve2thfzYUvQFpdTRPbA3oY1+s2Ix3Qyz36o6TiUSvgh4FipfumKEAmGdMZuiaUSCk5eXqROw5PcXT/hNXqOYwZeqeeSbPjZkAP4XrdZqQlF9XMqlOGnopHrD9uGMhX6mQS3a+fY4modrloQslGscaLFzf54FsPADCRjJGMRUIZIEuV7TKslaGHcL1uM9IBvVcHw3QiGqqAvl6oMJ3p7gjIJGLktctFE0IKVSPRmDLPXyFEaIt1Og2SScWjTKRioVyv24x4QO9eTh82Df1qvsL0WKLr18eSOkPXhJPm+2yrcySMmnSpy9yBsK7XbUY7oNe6D41IhSigFyt1yrWGleF0IpPQGromnCi3WLu3O4wZb7dRj2Fdr9uMdEAvWy6XcG+KrhUM/+tMpk+Grl0uu46vP7/Mo89cCHoZPSl22micSIbSBmhl6G2jHmcnklwO4XrdZqRdLt1ur4zHwqOhq4A+1SOgZxIx3T53l1GtN/j1rzxPpdbghxYOdJw3GwY6uclmJ5JczVeo1hvEQ1R9acWE2PaArjP0kNOUXDpp6JHQFBat5Q2bV69N0bFEVDfn2mX8/UurXMlX2CzX+JszF4NeTlc6yRjKOXIlF67qy04+dDDWu1muhSYmeMVoB3S1WdNBcknHo1bADxqVoffaFM0kY7p97i7j5Onz7B1PcmgqzcnTi0EvpyudzAdh9XartXbS0CF863WbkQ7oZTNgJ7ttiobkarxuSS69M/RKvUFFD4reFVzJlXn87Aofu+sgJ47N84+vXGZpPVxjExW9MvTVXLj6uTRHPW53uUD41us2Ix3Qe2XoqXiUcq1BIwRTi9YKSnLpraFDuBqKabzjsWeXqTUkHz82z8fvnkdK+IuQbo5am6JtDa8gfBlvNxk2rOt1mx2xKdopQ1caWrnWCHyz6Wq+wkQy1nPzSHVczFdqTPbI5DU7g9cv55lIxbj1gDHE+PBMmpdDOvey06bo3pBKGKVKHSG2V49nU8Z7aqO0s/epRjpDVydax9J/87EweNHXCxWmxnoH6YwecrGryJdrjCeb+dTseHgLXzr50FPxKNkQVl8Wq3Wze+nWyWBWgheCeOAltjJ0IcQbwCZQB2pSyuNCiBngz4AjwBvAj0kpfR0LUq4ZvdDb/3jQ/AOGwbq4Vqj2lFugJUPXG6O7gkKlbo0eBEMSeP1yPsAVdadUqxONiG13mGGsvixVO9+Rq4tRGBI8LxkkQ3+vlPJOKaUaRfdp4HEp5VHgcfNzX+k0rUiRCtEf0Ojj0jugqww9LNbFRkPSaEikDH4PYieSr9SsSVUA+yZSoct2FcVK5+EsYfR2Gxl6Z5MEGL/LTsaJ5PJR4BHz/48ADzhfzmCUOgyIVqg/YBgy9Kt9GnNBy1zREGToz5xf59b/9HVu/Mxf8p7/64lQHMOdRqG8PUNfK1RD6XLqNg93NoQXoWK1vq1KFIyReYloJDRWZq+wG9Al8DdCiNNCiIfMx/ZLKZcBzI/7On2jEOIhIcQpIcSp1dVV5ytuodxhQLQiHaKAvp6v9qwSBci0bIoGzbdfvUyl3uAn3nEd568W+duzl4Je0o4jX6lZF3FoKdTJhytAgqE7d0qcxpPR0PUfKveY3ZsKUbGhV9gN6O+WUt4NfAj4OSHEe+z+ACnlw1LK41LK47Ozs0Mtshud5okqwnKLVa032CzX+mvo1qZo8CfcmaUN5qfT/OeP3s7cZCrURS+jSqFSJ9O2KQrhc42AOaOzQ5BMxsLTXkPR7W4ClJU5XOt1G1sBXUq5ZH5cAb4C3ANcEkLMAZgfV7xaZDdKI5Chr5se9Jl+LhdrUzT4DP3M8gYLc1miEcHH757nmy+vcimkA4FHlXy5xlinMWkhDOilar3jRqOq9QgTpR7D2NOJ8BQbekXfgC6EGBNCTKj/Az8EPA98FXjQfNqDwKNeLbIbJdOi1Ak19TvoTVE7jbkAMuZJGHSGXqjUeP1ynoWDhj/648fmaUj48lPhLHoZVQptE6zCHNCLXd5nqXiESkiK9xS9Rj2mYt631C5UaoFaj+1k6PuBfxRC/AvwHeBrUsqvA58F7hdCnAPuNz/3lXKt0bGoCJotdQMP6Hmzj0ufgB6LRkjGIoFr6C9e3ERKWJgzAvoNe8e4+7op/ur55UDXtZOQUpoul2bg2TNunB/hDOiNjhuN6j0Wpiy91EXvB6OlrtcttX/uT57iZ//4KU9/Ri/6+tCllK8Bd3R4/ApwnxeLskup2mDPWPfbKwi+kECV/ffq46IYC0GDrjNLGwBWhg5w+6FJvvK0ztDdolRtICVbMvRkLMpUJh46XzeYm6LmHUQrKnB2k2SCoNRjUzQdj3ie4C1fK/HixU3OXy1weCbj6c/qxMhXivazLQadoavGXDM9Oi0qMiFoofvC0gaT6TiHptLWY/PTaTZLNa4VqwGubOeg/satGTqEd6pOsYeGDuHK0Pttinq9p6Ze/0tPBWMkGOmA3rOwKKayh2BPtqsFe5ILGE6XwDN0c0O0tfp2ftrINBbXCkEta0eh/satGTqEdwpQsdI5623N0MNCt0pRMFtqex7QjXhz8vRiIHsLIx3Qy7XuhUWxaIRE1PtbrH6sF6okYxFbt6SZZLAZeq3e4MXljS1yCxgZOsDiWjjbu44aVobeYQhDGDP0bomT0tC9LNapNyRff36ZL51e5NuvXu75XCllzwzdj8HxxWqdveNJFteKPPn6VU9/VidGOqCXqvWO80QVyRAUEpy7tMmByZSt544nY+QCtC2+cSVPudawNkQVzQxdB3Q3UC6IVh86NCWXsLVbMCqye2Xo3t0Ff/eNq/zsHz/FL3/xX/jXv/dkT1uvkn66JXlJH+YMl6p1fvhtB4hHBd88524hpR1GO6D3yNDBuCIHWUiwslnim+cu8+G3zdl6fjYVZzPA9p4vdNgQBWN0XiYR1ZKLS6gGbJ0y9GK1Hqrqy3pDUql39nYrK6OXxgPlEnvgzoM0ZO9KaiWndN8UjVLy8Ng2GpJyrcFUJsFYMhZITcnIBvRqvUG9Ibv60CH4QoK/ePoC9Ybk43fP23p+Nh1jI8CNxzPLGySiEW6aHd/yuBCC+em0ztBdwsrQO2joEC7rYq9B7ElVvOfhpqi6Y71+zxgA5R4ZdqfJSq2kPHa5KOkpnYiSiUcDqSkZ2YDevL3qHtD9KCTohpSSk6cXueu6KW7eN97/GzAy9I1SgAF9aYOj+8dJdGinMD+d0QHdJawMvd3lEsKA3m3oMjTnEHi50agCujo2vd7PnWaftpKOR6k1JNW6Nxeg1nmmQSWTIxvQe00rUvhRSNCN5y5c4+VLOU4cs5edA2TTcUrVRiAykZSSM0sb2/RzhZGha8nFDUYyQ+8y5rH1OV6QMyVINSGpV5BszhPtXZvi1XqLLXczmUQskGRy5AN6T8nFh0KCbnz71SsAfOh2e/o5QDZlvMGD0NFXN8tcyVe26ecK7UV3D6WRt2foM6a1VVldw4D1PuvoQzfCh5c+9FylRiIWsd4bvYJxsYc8BE2JyKuY0HpBScejgbQAGNmArk6inhl6PBpYpejiWoHJdNxWQZEimzbnHgYQNK0N0S4Z+mHtRXeNQrmGENuTkVRIqptbaZUR2rEKizzO0CeSMevY9ArGZRubosbzvJJcWgK6llwGo/XgdcMP32k3FteKln/bLkEOsj2zbAT027pm6Nq66Bb5Sp1MPEok0jb3MiQdQlvplfUmfSjey5VrjKdi1sWv18/qpfeD92PoWl02mUQwsWeEA7qZoXfphw5GsB+pgJ42biuDyNDPLG1w3UzGuqi0o4uL3KNQqW3zoAPEoxFiERF4MVwrnQZEK/zS0MeTMVv6d79NUa8rW627mYSSXHRAt03ZRoae8qGQoBNSShbXCpZMYZdmhh5AQF/uviEKRnOxMe1Fd4V8ub7Ng64I6pztRq874Xg0QjQivNXQy2ZAt5Fd97MtWq/hUaAttuzracllQFTQm0h1bxjpdSFBN67kK5SqjSEydKWh+y+5LK0XuW5P9wuQ4UXX1kU3KFRq2xwuiiDvKjtR7JM4pWIRz22L48mYrexaFfJkulwsPd8UtSSfCJmEztAHQlm79k10L6tPxYMZCquC3vyIZOjVeoNyrcF4BxmgFV1c5A75cr3rsU7FI4EkId0ot8gInUjGo56+xywN3UYwVlKlSozaae5R+LApal6Y/W7jMNIBPSJ6t6VNx6NU694VEnRDyRLzM4Nl6Kl4hHhU+G4NVJmNvYCuJRenGBp6j/L0EM29bMoIXdpUxyLeboqaGnoyFkEIel7sNkpVMoko8WjntXrtQ9/qclE2S39jz+gG9FyZPeNJom1OgVa8/gN2Q2WxrT3F7SCEMKpFfQ7oyvc+3kO+AuOOQ3vRnZOv1K2h4O0E3a6inX7OEa/niqoMXQhBKhbt2WZgo1jruqkPzU1Rr33oyuUC+O5Ftx3QhRBRIcTTQojHzM9vEEI8KYQ4J4T4MyGEfcO1C6xulq1J6d1IenyL1Y3FtQJTmTgTPU6ubmTTcd9ti6q8esJGhg7ai+6UQrnWVef1o13F7/ztOf7LX5619dx+BXxJD3uMV2qmFGhe/Ppd7DZKVcsp1gmvbaGtLpu0Dd+8FwySof8C0HoWfA74LSnlUWAN+JSbC+vH6mbZKpXuRlC+3mEsi4psyv8GXUpyGesb0I09gfNXtY7uhHyl3vVY+9Gu4u9fXuH3v/U6V/P9K1KL1TqJWGSbZ16R9HBT1JICzTvHfhuwG6Vqnwzd+03RhOn88dpR0w1bAV0IMQ/8MPB75ucCeB9w0nzKI8ADXiywG3YCute3WN1YXCsObFlUGBm6z5JL2a7kojN0NzBcLt3nXnqdgORKNap1yaPP9J8TW652bp2rSMUjnlVe5tr2dlJ9inU2irWuG6JAU4f3cFNUxZym5BLCgA78NvArgDoSe4B1KaXSBhaBQ52+UQjxkBDilBDi1OqqOw3fpZSs5sKZoSsP+vAZuv8aumqA1E9yaXrRdYY+LJVag2pdds/QfbAtqkB58nT/uZfFSve5vaA0dG/Wa0mBVobeW94xMvTu57Clw3u4KaruAkIruQghfgRYkVKebn24w1M7+nOklA9LKY9LKY/Pzs4OucytXCtWqdZlXw3d69seKSVXcmWu5JpTZpoe9GEz9FhgGnq/DF0IweEZ7UXvRK5c40qu3Pdca3ZaDG7uZa5s9Ed5YWmDM2YPn24Uq53niSqMAOlthq4ufuk+ctRGsdozQwezJ7qHhUUqkAclufR+Bxu8G/iIEOLDQArIYmTsU0KImJmlzwNL3i1zK2qQbl/JxeOr5H9+7Cy//63XAfiZH7iBX//hBS4M6XBRBJGh29XQQVsXO/HG5Tzv/83/Sa0hmUjG+OfP3Nf1WFqdFnsVFnkYBKSU5Mo1/vU7rucL33mTrz231LXDJvQexA5GczyvbJbqzlFJLr16M0kp2Sj1drmo1/A0Qzc3j1XhWOgkFynlr0kp56WUR4BPAn8npfxJ4AnghPm0B4FHPVtlG6s2A7qSELya0/nGlTyHptIcnEzx+uU8gGXpmx4b3OEChoZerjV8lYmUbbFbkGllfjrDhbVi6OZeBsn5tQK1huT49dNslms9NxsLqpqxiw89Fe9tzXNKoVJHSuPCPDuRZGWjd+/1XkOXob8M4oRtkkuP/YVCpU69IXu6XKC/Du+EYrVhJZGhty124FeBXxJCvIKhqX/enSX1x25A97qUPl+ucWg6zfxMxjr5mhs5Qwb0AHqi58o1xhLRnp5+xfx0ms1yLZD2BGFF3eG848YZoPcdYb8MPR2PUqkZ4xW9oFVeG0vGes7oBCPr7Lsp6tEFqP291Gt/QRkJ+mXonmrolTppc7/Bj8ZlnRgooEsp/15K+SPm/1+TUt4jpbxZSvkJKaVvY1ZsB3SPS+kLFaOEeyIZawZ0le12ycD6YV2EfHS65Eo1W3ILNJ0u57XsYqEuvrM2puoU+vQb8bojYKtzZDwZ65s4lKqNrkVFoJqJeSu5qPdSqkdvJpVg9NPQ++nwTijVmnczYXe5hIrVXJlkLNLXleF1KX3etJ+Np2LWydcs0hk2Q/d/yEWuUuu7IarQfdG3o/7m+7JGX6Feb+LmtKLulaLgYUAvNWWMiVSsrxxZrPZ2uSTN0n8vJDhlp1V3M+kecpTtDN3DKWbFSvNuRn3UAd0GyoNu2OG743UpfaFslHCPtWboZacZutkT3U/JxZwKYwftRd+OCpLNQcbd/3a5snEu9qoUNV7D2wx9LGFk6Lk+51m+XCMd735uqGpsL2SXvNlpURU19aoUvVZQjbl6n8eeborWmgE9EhE9NX+vGOmAbgcvS+nzZpOlibaAno5HiXVpENSPQDL0sv0MfTIdZzwZ0xl6C825l8bfrldWdnnT2DDd2+X8TXmdobdo6OPJmKX/d6Jab3Bpo8ShqV4dTb0L6Koxl/WzYpGuHQztZ+gebopWGtYFDghkyMXoBvQ+HnSFV6X0UkoKZpOl8WSMUrVBtd5gcwA9uhOBaeg2HC6g+qLrNrqtqDsclXX30tBXc2VS8e5yodctXptFZHHGkjFL1ujExWslGrJ3G2hrULQHQTJXrm2507Vmrna4ePRrnWu9hoczEto3kDOJmA7odrBTJarwqpS+bDoRMsmold3myzXy5VrPoRv9aGbo/rpc7GbooL3o7ajjZ6c6sJ9c6HW7itYMXWno3fRvtfHdq+o5aWPW57AYx7UZoJtzRbcfm42WvYFe9NLhnVJq229IJ6I95TcvGD7yBMC3XrnM2eUNruYr9gN6Ks7SuvvZZKHFfqbeyJulmjVhZVjURq6vGXrZvoYORsb25GtXkVL23cfYDag7HDvOhn53l163q2jd4xlPxpDSWG+nu0o7g1osV44HxUXt52Vzw7hzht6rF3rra3hRuFWtN6g15JYMPe1xkVgnRiagb5Sq/Ls//K51u3Xrge7Vba14paG3jrtSATxfqZkWwOE2RMH/nuiqcnDQDF150Sczw7l5dhLtk+l7Si6bZY7s7RUgvS0Zz5VrJKIRkrGtd5bdAnpEwIHJHhq6+Tt70aArV6ptufj1mivar9OiolWHdzMZ6dQ3Ph3AGLqRCehfe3aZcq3BF37mXt4+P2lbp86mvdHQCy32M/XGyJVqbJZrQ5f9K/zsiV6qGtLRILq/1UZ3rcBkZtKrpY0MuXKNA9mU5WzoKbnkynzfDdNdv+51i9dcqXnxVonIZrnGvg7PXVwrcCCbItFlWhG0FNB4lKHvj8+vAAAgAElEQVS3npeWHNUhSBqdFvufw606fK8K2EFRd1TJLRp61FaLYjcZGQ395OlFju4b594bZwYKPtmUN6X0+cr2DH3TBQ0d/O2Jbne4RStN66LeGIWtexDGRljni3G13jDkwvHuGa/K8LxsSavOV/Wxm3XR6Ovfu8lc0sNCqFzbe6nXxcN+hu6NpFWqmLNXA5ZcRiKgv7qa4/T31jhxbH7g2yS16+12KX2h3JKhJ5u3rk41dPC3J7rdToutHLaKi/TGKGyttDXexJ2D8ZWcka312v9Rszu9ytBbXVhWQO/idFm82r8NdMqjTVFLCkx2COidMvRS/06L0FuHd4K6yGwJ6AFILiMR0L90epFoRPCxuzq2XO+J6o3idoDckqG3SC6DlNF3w08NvdnRzr4Wnk0b7Q50hm7QunnXy9lgp2WF13208y1rtc7bDgG9UmtwcaPE/EzvDN2yLbosuSgpsDXR6KmhF2s9e6HbeQ0nqEy81eWS8bARWDdGIqBf2ijz3ltmrdLqQWg26HI3QKrbauVDB6MXeqXecC65+NgTfdOsXBxkI1cIwSHtRQda5l4mleTSPStb2SwB/TJ0710u7Rp6J8ml6UHvk6F75Ju/nDMuftMtm+49XS42M3T1O7vdDsTaFN3mQ9e2xW383z92B7X6cCdMs0GXuwc2b0oumWTUKsq5tGG8YR1LLj5m6Or3GLT3zPx0RksudJh72aM60E6GHokIEjHv+o3kyjWO7B0DeksuizY86GD0cgH3L0CdLJPd2iJIKY3hFjY0dHXsL2+620uw06ao0bisQaMhu85kdZuRyNCBoUvpJ1VvFA8z9EhEMJaIcvGaSwHdx57oqrfIIBo6YFWL7va+6O1TdTKJ7r1CVEDfO57o+ZrpeNSfTdEekosKqP1m4yY98s13uqCkEp0vHvlKnYbs38cFmgF9NedNQE+3uVzAGwdQN0YmoA+LVy10VWar/oDjqRgXzQzdsYbuY/n/sO1+56fT5Mo1zzpZjgrtLqFekstqrsxkOm5VV3bDS3dErtR0jiRjURLRSNcMvZ8HHVo1dHcvQItrRYSAucmWgN7l4mGV/dvI0PeYF9NVlzP0Tj70IFrojoTk4gSvhlzky0brXHUrNZ6MsWxm6G7YFsFY874JZ+vsx6YVkAaXXADOXy0ylemdce5k2l1CvUbI2W0q51WL11q9QbFa33IHOZaMbtHQv/3KZT731y9x/mqBucl038rLRDSCEO73cllcK27zwLfP6aw3JD//hac5t7IJ9O/jAsZFbCoTdz2gK12/dVPU6yKxTuz4DD0Zi5CIRjxwudStuYEA46m4tZHjhuQC/mTo+XKNqFkQMwg3zRo67Curm14sa2Ron3vZy9lgt6mcV0Mj8i1WW8V4W0/0R59Z4uWLm9x5eIqH3nNj39cUQhg90V3P0LdbJuPRCLGIsCSMb796ma89t0w2FeeH3zbH8SPdC7ZamR1Pup+hV7pLLn46XfpGHiFECvgmkDSff1JK+RtCiBuAPwVmgKeAn5JS+lsWZQMhhCfVooXK1hL/8WQUJSe7YVsEf1roqhalg/r7b9g7RjIW4czSBh+7y6PFjQDqDqcZ0Ls7G1ZzZe6Yn+r7ml61eM1VtheRjSfjW2o0zixvcPzINL//v36f7df14gK0uFbknhtmOv4s5fP/4qlFJtNx/vin3zFQ1efsRNJ9Db2mbIvBSi520rIy8D4p5R3AncAHhRD3Ap8DfktKeRRYAz7l3TKdkU25X0qfL7dl6C1vEqeSy6SPQy42hyyEikUj3HpggheWNjxY1ejQyeWinA3t2JVcvBrCYN1NtJyfEy090av1Bi9d2mRhzl6fJEUq5u4mbq1ueuA7OGzUxe5ascpfv3CRj9xxcOAS/tkJ9zN0VeyUjIVccpEGOfPTuPlPAu8DTpqPPwI84MkKXWAi7b4NsFAxBisrWgtz3LAtgr8Z+jAsHMxyZnljVztdOkkusN3ZkC/XKFTq9gK6R3MvLUdTF8nltdU8lVqDhYMDBvR4xFUnx/K1EvWG7BLQI5Srdau30yeOzw/8+kpycfO8LZq90FvvdFXC52cLXVvvZCFEFDgN3Az8N+BVYF1KqVa6CHQs4xRCPAQ8BHDdddc5Xe9QZFMxTzT0yZZNGJWVC9F9vJhdfHW5lIfvDrkwl+UL3znP8rUSBx02JHPCTz/yXb758mXr82Q8wp899M6BA9MwtM+9bL3Nbr2DUy2c7Wno3myKbpa2WizV/1+/nAfgzPI1gMEzdJddOb3a9qbNDP3k6fO8Zf84bzs0eHO4fdkkxWqdfKXuOPlSlKqNbftQ4+b76mf+x2miQvBXv/gD3DQ77srP64at30ZKWQfuFEJMAV8Bbuv0tC7f+zDwMMDx48cDSeWyafd7ohfKNQ62WLpUUBxPDK5Ht2Nt5Pow5GK9UO1rTeuGCphnljYCC+ivrGzyt2dXeP9t+zi6f4JavcF//4fX+farl30J6EYv9Kbbqdtt9l89fxGgoy7cjteboq2S4HgyZgX6M0sbJGMRbjALj+wylYmzXnAv+ehV1JRORDm7vMEbVwp85sO3DvVes7zom2XXAnqnFsQ37h3nMx++lTXz2EzacOE4ZaDfRkq5LoT4e+BeYEoIETOz9HlgyYP1uYIXGnp7BqYkl0ELdDphbeT6kKGvFyrcOjecN/KWA1mEMDbS3r+w3+WV2ePk6QtEI4L/8qNvt96ojz6zxJllf7T9fFsv+U4bYVJKTp5e5F037eFwn94o4KGG3kFymUg1NfQzyxvcemBi4CK+2YkUz1+45to6O3nQFalYlGevXCMaETxw5+C9nQCr2+XqZnngi1c3Ou1FRSKCh95zkyuvb5e+fzkhxKyZmSOESAPvB84CTwAnzKc9CDzq1SKd4oXLJd/ucmnrj+EUv8r/1wpVZob0kY8nYxzZM8aZgDZG6w3JV55e5L23zG7RphcOZn1bU3tHwE5Wte++scabVwucOGZP73VbwlBsdtgUHU/GKFbr1OoNXljaGOquxm0b4OJakbkufdhVP/P/5S3D9XaCrRm6WzjZi3ITO5fiOeAJIcSzwHeBb0gpHwN+FfglIcQrwB7g894t0xle9EQvtLlc2jvYOWXChyEXpWqdYrXO9NjwhUELc1nfsuF2vnlulUsbZU4cO7xtTa+s5FzvANiJ9swsHTf+X6jUKFbqvLqa44//+XuMJaJ88PYDtl5Tzb10e7PZ8qEntmroAOdWcqwXqgPr52AEyFy55lojKsOD3vlORrUX/oTNi2MnmgG9NPRrtJOvDDb1yyv6rkBK+SywzWkspXwNuMeLRblNa090N6aUVGoNKvXGFpdLe49pp/gx5GKtYJQNTDkYI3frgQm+9txy1zFmXvL15y4ymY7zvlu3zttZOJil1pCcu5Tj9iE2zQYhV6pubfGaaGroD/3RKf7hnLFZ+2PH57ckAL1IxSPUG5JqXZKIudfUaaNkzN2MtjSKUonIP5xbBRguQ7caXlW4bo/zc2DpWpG7r+tcJDSdSTAzluB9t3WasWSPqXScWESw4nKGfp0NOc1rdnylKLjfE13dDmeSW29dWz86xY8hF2t54/WnHZTuqzfzegA9XS6sF7lpdmzbrbnKMv24c8iX610ll7PLm7z75j38vz9+F5/5cCcfQWe8GkO3tF5krm0DXF2M/vif32R/Nsmdh+1VW7aizoEVlzLeYpeh1QD/+wdu4eTPvrNvP5xeRCKCvS7LRJsuTCpzg90R0F3uiZ63Oi02T6oJTzR0byWXdTNDdxLQJz3qN2+HboU6R/aMkUlEfdHRDQ29pWe3GYzX8hUu58rce8Me/tUdBwfqd9McQ+d+9WW7lKHO1zevFvjYXfNbsne7KCumWwGyUmuQ6LIxOzuR5EYXrH9uV4sabicd0H3B7Z7oSivMJLdrkW7JDn64XJSdanpseMnFqwEidljNdQ7okYjgNp+0/c1S1fIbQzMYn1sxavHsuFra6db32ymd+qO0nq92N23bcbslrSE1eRua3KwWrTek0fRMZ+j+4HZP9ObmUmulqPEz3LrtyqbiVDzuiX7VhQzdqwEi/eg3cHlhLsvZJW+rWK25lx1si+cuGQG934CITngx9zJXrrFWqG7L0NX5etd1U9y8b7jMd2YsQUS4mKHXG8Sj3g6EcNOZk2vr5xMkuyKgu90TvTlPtPkHnEzHmUzHXdsY8aNadD3vfFM069EAkX70G7j8tkOTbJZrnvaaKVaNwQqtkovKrlVL125ujV6oi8Kmi3/7C1b15dYLzL6JJIlYhJ98x/VDv3Y0ItjjUoCsNyT1huzbttcpeycSXMlXXLngWz3xQ5ChB78CH3C7J3rBakPazNATsQjf+vT7yLjgogF/eqKvFQzXg5MNJq8GiPSj3zi3+xf2k/iLCF9+6oJnThd1PrVOyomYrYgv5yrEo4J9Nnq3tHPIrLq9sF7kuDtL7Vp9OZVJ8N3PvJ9JBxd1cC/jrZqjJr2WXCbTceoN6Ur5f65DS4Wg2BUZuts90Ttl6GDccrk1O9CXDL1QcSS3QDMr8aNNQSurud4Dl6fHErx/YR9/8cwFKi736laov037pBx1XhyaSg91Phwyg66bQ7h79UdxGszBvU3GigroHmfobjbA05KLz7jdE12VdQ/b1MoOfnRcvFqoONoQBaON7lgiGroMHYxNvqv5Ck+8tOLJGqzRZ209OpTTZRi5BYwLwp6xhMsBvUAyFuk7z3RY3NpkrNb8ydDdTJjCJLnsioAO7vZzUb0v7BaKDIMfPdHXClXHGTqYnnmfNfSVjf4Dl99z1GgJcPL0oidraGboW88Dtak5zIaowhjCXRh+cW0YlsW048Zx3ZidSHI5V+7YB34QVIbutYbeTJicv7+aLZS9b77Vj90T0NNx1wYaW5PeHbbJ7cWEecJ5OYR5vVBxZR6ocbH0OUO3MXA5Fo3wo3cd4okXV6zxgG7S1NDbJRc3AnrG2sh0g04edDeZHU9SrUvH52u1ZlwQPJdcXNzMV03PvLxjt8uuCuhuZZGbZsvUQbvSDYLS4/JlDzP0fIUZF/RTQ87yWUO3Of3n48fmqTUkjz7jfjPQbhq6U8nF+N40i+tFxxmvYnGtwOEZ71ocu+VFr9QNOTPuteTi4mZ+TrUl1hm6f7g55GKjWLU1YdwJmUQUIbwL6LV6g41SbXQzdJsDl9+yf4I75if54qnzrnvSVYLQrp26JblUag1X7iy6edDdxK0OhhUrQ/fWh+5mQVzT5aIzdN8wMnR3guNGqbotK3MbIcSW4QNuo3qvTLuSoQcjudjJ0AFOHD/Mixc3Xfekb5RqJGORbQ3fmpKLgwzdrGc474Ls0s2D7iZu9XOp+GRbtNxZLry/cuUq6bi3d+x2CX4FPuFmFnmtWN3iPfaK8WRz3qPbWH1cHLTOVRidIcMpuQB85O0HSUQjrm+OdrtTS8djJKKRoTzoisOWddH5xmjTg+59hq42q4el6tOmaDwaIZOIumZbDIMHHXZTQE/HXCul3yjWPM/QwQjoXkkuVh8Xl1wum6Wqa3pvPwYZuAyGz/r+t+7nUZc96RulasexYj/01v3823cfcVSTcGjKCL5uWBdVVe0eFy7e3ZhIGhexq2b18bBYtkUfsl23krxcuR4KyyLspoDu4ibIRsl7DR22TmR3G/XGcyWgp+I0ZLPgymssD7oNDV1x4tg8a4Uqf/fiJdfWYVzYt7+RP/DWA/zaAO1yO5FORNk7nnAlQy+Zgz7cmAXQDSEE02Nxq8f+sJRVhu6x5ALubebnStVQFBXBbgroLpb/bxSrHd/IbuOphu7CcAtF1gfPfCvKSWE3QwfDk74/664n3esL+6HpjCsZetls8tU+ld5tpjMJ685vWEYzQw/H+DmwN1P0sBDiCSHEWSHEC0KIXzAfnxFCfEMIcc78OHhnfB9xa8hFoyHZLNf8ydA91NCbrXPdydDBvwZddqpE24lGBB+7a54nXlp1rcuecWH37jwwioucB3QlM3qZoYORHKw7zND92hQF9zbzN0ujpaHXgF+WUt4G3Av8nBBiAfg08LiU8ijwuPl5aHHLppSr1JByu/fYC7zV0CskzLJ9p/g95GJlw3BS7B1AcgE4cewQ9Ybkq//ijid9o1TzdHN8fjrNhTXnXvRSrU5EQMylPkPdcCVD92lTFNzbzM9XwjGtCGwEdCnlspTyKfP/m8BZ4BDwUeAR82mPAA94tUg3cKtvd7N/hw+SSypmeVzdZj1fZSoTd6UUvNkXwx/JZflaiUQsMvAm3837Jrh+T4bT37vqeA1SSs8z9H0TKSr1hmPZrVRtkIpHPSv7V0yPJVhzvClq+tBHKEPPlUZIcmlFCHEEY2D0k8B+KeUyGEEf6Di1VQjxkBDilBDi1OrqqrPVOsCtUl+r3NuHDH0iGSNXqXniHrnqQqdFhd+Sy+JakfkhOxkuzGVdGU1XrNapNaSn0puqEXC80Virey63gLHe9WLVUQGXtSnqcWERqDGPztbbachJkNgO6EKIceBLwC9KKW2/I6SUD0spj0spj8/Ozg6zRldwy+VilXv7oKGPJWNICQUPphYZfVzc+R2am6J+BfSC1WJ2UBbmsrxxpeB4b8KPC7u64F51GNBL1QYpHzLe6UyCekM6ulNTm6LJqPcXoGw6Zrqzhn9/lWsNqnU5Whm6ECKOEcz/REr5ZfPhS0KIOfPrc4A3PUpdIhWPkohFHGtmluTih4ae8q6fy1qhyoxLvmR1MvtVXOSk0dRbD2UBeNHhvNHmhd27N7K64DrdaCxV6yR9yNBVGwkn67W6Lcb8ydDB2Z1lPkS90MGey0UAnwfOSil/s+VLXwUeNP//IPCo+8tzFzdsSir76FRQ4jbqJPHCuuhWp0UwuhqOJ70fag3GgO4r+crQZewLc8b0IqcDpP24sKsL7lre2XEtVRskfcnQlUQ0/HpVhu7LpqgLPdHDNNwC7I2gezfwU8BzQohnzMc+A3wW+HMhxKeAN4FPeLNE93BjyIWfm6Jq59xt66KU0uyF7l4wMhwD3gd0p31J9meTzIwleOGCWxm6dwFdXXBHRkO3LkDDr7dabyB8cORAqztr+PeXSrbCoqH3XYWU8h+Bbkf3PneX4y1uDLlQb2Q/rshj5gANt50uG6Ua9YZ0bVMU/GvQ1WuUmh2EEMbGqOMMXWno3p0H2VSMaEQ4D+jVhudFRdDU/J2st1xvEI9GPHfkgDuSS9gy9F1TKQru9ETfKBoWJT86q417lKG7WSWqMBwD3mvo581S+MMOOgcuHMzy0qVNy/M8DH5k6EIIptJxx97uUq3uaBC4XdyRXCRJn7oWurGZP3Ia+k7CjZ7oRutcf/54qmG+2wFdveHc2hQFU87yKUNPxCIDFxW1sjCXpVJr8NpqfujX6NYL3W2mxxKON0X9ytCzqTgR4XRTtO5LHxdwOUMPieSyqwL6ZDrONYfZjh/DLRRWhu5yoFQap1ubomBkqusOj60dFtcKQ3vQFbccmADgpUubQ7/GRqlGKh7xPPOdzsSdb4r6pKFHIoKpTMJRx8VqTfriQQd3eqJbGrrO0P1n73iStUKFuoNCHT+GWyjUBBT3M3TVadG932N2PMmVfNn1qUDtLK4Vh/agK1R2f81BJul1lahiKpNwrKGXqnVSPkguoPq5DH8BqtQbvlSJguHOGnPYE71oetjTHs4XHoRdFdBnJ5I0JFxxMNZro+ht/45WkrEoiWjEmlnoFm72QlfMTiQpVRtsejgDFdwZduxGZnbNpzu16YzzlrQlnyQXUP1cnPnQ/bAsKpxu5hfNor+MD3dAdth1AR1gxUG3PT8zdFA90d2VMtYLFSLC3Q09t2ZK9iJfrnE1X3E87DgVj5KMRRxlZn7tpUyPGQ2vHJXT1/wpLAJ1AXLmQ/ejda7C6WZ+oVInEY2EYvwc7NKA7mQyuZ8aOpgtdF22LV7NV5hMx4m66PVVwya8DOgX1p1ZFltxmpkZd2p+ZOgJKrWGlQkOipTSt9J/MNbrtFLUL8kFnG/mFys13+5+7BCelfiA06Bj9UL3cUd7LBlzXXJZL1RdlVvAnwxdBfRDUynHr+W0depmqcqED3dqap9j2I3GsuqN4leGPuZwU7Tub4Y+mXa23mK1TiYRjg1R2G0B3WHQsXqh+5ihTyTdl1zWXGzMpfAjoKvX3jfhQkB3mKHnK3XGk372Rxlurc1pRf5tipZrDWuzcFAqNX81dNVzflhJq1CpkwnJhijssoCeikeZSMWGDjp+NuZSeDFX1M3GXIrJdJx4VDiSs/qh/m5OPOgK1Tp1WArlmi+ZmdXPZUgZo2zOE/Wjlws4rxat1KVvPnQwAvpmuTb03Vqx4o8l1C67KqCDkUkOG3Sscm+fXC7gjYbuZmMuhRCC2fGk5xn6RDLmikXMyNCHO66NhqRQrbsy7akfTqsvSz5n6E4Dut+boqon0Pkhh3EbkosO6IHhJOhY5d4+ZuheaOhX8xVXPeiK2QmPA3quPNAc0V44aSZWqtWREjI+FJNYDbqG1HlLNTVP1K8MXbX8He7YGpui/hQWQXODfdjZrYVKPTQedNiNAX0iyWWHkosfm2GKCZdti8VKnXKt4XqGDj4E9E0XA7qpoQ+jnebNC6wfGfpU2tnUIktD96mwaK/597lkzn0dFL83RVWGvjhshl6pk9aSS3A4CTpB9G0YT8YoVRuOGkm1ogKD2xo6OJOz7HDZzYCeilOtS0uSGIRCxTgP/NDQY9EI2VRs6IxXZehJnzL0Q1NGgLwwZMbr96boZDrOeDI2dIauJZeAmZ1IslmuDbULH0RnNfWz3Jpa5EXZv2J2PMmVXNlRa4VeuJuhD99pz8rQfXC5gCouGlJyqSrJxZ+1puJRZieSQwfIqs8+dCEE89Nph5KLti0GhvKiXx4ik1Rl7V532GtFBXS3nC6q0ZNXkktDwpW8+1l6sVJns1xzNUOH4Trt+ZmhA44aXpV8llzAkDEW14eTMPzO0MHQ0YeXXGo6Qw8SJ+X/uVKNaET4ZgGDprzjVq/xZobuTUAHb7zo6gI864JlEZyNH1NDhX3L0B00vCr7vCkKKkAOKbn4nKEDVoY+6H6KlIbbaaQ0dCHE7wshVoQQz7c8NiOE+IYQ4pz5cdrbZbqHk6CTLxvDLfyYpqJ4y36j1eu3X73syuupzap9LmW6rXgZ0Fc2S1t+hlOyDi6UhbK/Gfr+idTQm4wqQ/djwIVifjrN0npxKOmtWpe+boqCsd5cuca1Ae/WyrUGUoan0yLYy9D/EPhg22OfBh6XUh4FHjc/Hwmc9HPZNAO6n9y8b5w7Dk/xxVOLrrSmXVwrMp6MuV4pCjA7blRwehHQ1Wu66XIBhxm6TwF9fjrNymbZ0sMHoamh++scqdaldRG2S70hqTdkIJILDG5dVPtwIyW5SCm/CVxte/ijwCPm/x8BHnB5XZ6xZyxJRAwXdHKlmq/6ueITx+Z56dImLyw5m4MJqv1s2pO7jL0ThozjhdPF9YDuhobuk+Qyb3aXVL1sBkEFdL96ucDwAVI5uYKQXGBw62LBPLYjJbl0Yb+UchnA/Liv2xOFEA8JIU4JIU6trq4O+ePcIxoRzIwNZ13MlWuMBTCZ5F+9/SCJWISTpxcdv9biWsE6gd0mk4gxnhy+tUIvVjfLRIRxQXYDJz3Rmz50vzL04YtfVHMuvzN0GDxAqrX6NbFIcdhhhj5qkosjpJQPSymPSymPz87Oev3jbDE7kWRlCE0yH4DkAjCZifNDC/t59JkLNBxYAqWUrgyI6MXsRJLl9eH03l6s5srMjCVda/mreqIPqpuCkaEL4V+QdFL8Uq7WEQJfdWnlRT9/dTQy9Gw6xkQyxptXBzu+Tcll9G2Ll4QQcwDmxxX3luQ9N+4d49xKbuDv2yzXAhsGe++Ne1grVB0N57hWrJIr1zzL0AHuOTLDN8+tuuabV7jpQVdk08M16MqX64wl/Nsc3zeRIh4VQ2XopVqDZCzi60Z+04s+WIC0ArrPGroQgpv2jfPygDNmlfS2EySXrwIPmv9/EHjUneX4w8LBLG9eLQy8IZYr1ZgIaBis0xJl43vVgAjvAvqJ4/MUKnW+/vxFV1/Xk4CeGm64QcFn73E0Ijg4NVzxS6kaTDfAYYp1Kpbk4r+beuFgljNLGwMZD9TQkZGSXIQQXwD+CbhFCLEohPgU8FngfiHEOeB+8/ORYWEuC8CLy4NdkYPS0MF5EyHjewtbXssLjl8/zfV7Mq7o/a2sbpZd86ArjAx9CA29Uvf9PDAC5DCSS8PXoiLFMF70oCQXMGLCRqk20MbzqLpcflxKOSeljEsp56WUn5dSXpFS3ielPGp+bHfBhJqFg0ZAP7N0zfb31BuSQqUeiIYOo5OhCyE4cfc8//TaFc4PqEl2Q0rpaqdFRTY13JALoxe6v2/i+anhinVKtbpvfVxaOTyEF70ccIYOcGYAJ1mhsnNcLiPNvokke8YSnFm2/8fLV/wv+28lFY+yd3z4HhnQ9KBPejxx6UePzQPw2LPLrrze1XyFal26Xgw1tIZeqfnmcFHMT6dZHcKLXqrWA8vQaw3J0gAZb7VuBH8/K7EVtx3IEhEMFBOU5DJSGfpORAhhaGYD/PHUkImgMnQYTpdsRVkWvd4gOzSV5sieDM9dWHfl9V4yN6uO7h935fUUhoY+RKVope6bB10xrBe9XGsEMsT4lgPG3+qli/ZlTSW5BJGhpxNRbtg7NlCGvitti2Fl4WCWly/mbLelVc2xgtLQYXgdVeG1ZbEVtcnkBup1bjP3PtxCZeiDVuDmA9hLUX+3QWWsUrXua1GR4pYDWcSAGW8lIB+6YuHg5EDr1ZJLiFiYy1KpN3jFpn0xiF7o7cxPZ7iwXhzKi970oHunn7eyMJfljSsFV7pEnlnaYH826cos0VayqTi1hrRune1SqPgzfq6V5h7KYBl6qdoIRMIYT8Y4soOEHjcAAAxySURBVGewjLcS4KYoGOfs4lrRdm1CsVonEY0QC+COohvhWYnPvHXATRAluQRlW4TWHhmDe9H98KC3ojaZXhwg4+nGmeUNy5nkJlZP9AGdLnmfBkS3MqwXPSjbIhgBcrgMPaCAbp6zZ22uuViphUpugV0c0G/YO04qHrF9woUhQz88o6yLg8suTYeLT5LL3CQw2C13J0rVOq+s5Kw3m5uojP+NK3nb3yOl4Xbyq3WuIhoRHJ7J8MIAziwwgmRgAX3Aeg8lfwZxRwHNJO/J1+yZ9gqVcE0rgl0c0KMRwS0H7Ou8KkP3293QyrC33cb3KA+6Pxn6/mySmbGEYx39lZUctYa0LhBu8v037yWTiPKVpy7Y/p5KvUGtIQMp9/7w7XN865XLXLxmv7WC4XIJTsIA+/UeQW6KgnGBf+eNe/jy0/Y6mxZD1gsddnFAh+YtoZ0/Xi6AaUXtqB4ZTjL0wz5l6EIIFuayjjtEqguCFxn6WDLGh982x9eeW7bKuPtR8HFAdDsfPzZPQ8JXnrZ/ASrVGoH40GHweg9LcgnoAgRw4tg837tS4NT31vo+t1ipa8klTCwczHKtWGXJRsYTBpeLk3mNi2tFJpIxSzf2g4WDWV66tOlowPWZ5Q3GElGun/HmQnTi2Dy5co2/fsFeq4K81TrX//Pghr1jHL9+mpOnz9t25gTlQwej3mPveML2Rb1i+tD97uXSyofedoCxRJSTp/pXOmvJJWQMsjGaK9dIxSOB3Q4qhvWin79a4JAPHvRWFuayVGoNXlu1r1G3c2Zpg9vmskRc6rLYzj1HZjg8k7bdqqDg83CLdk4cm+fV1TzPnLfn8S8HqKELIbhtgI1RlaEHGdAzCft3bYUAN5y7sasD+q0HJgyvrI2AvlkKpnVuO9fPZHhtdfBOkX560BXWLffyYBt5ikZDGg4XD+QWRSQiOHH3Yb796hVbUpbqIul3YZHih98+Rypurzd+td6g3pCBFBYpFg5mOXcpZwXrXgTZy6WVj955iFy5xpOv994cLekMPVxkEjGjOsxGwAmqF3o7t81lWbpWYr1gfwq84UH3brBFN27cO0YiFhl6Y/T8muFj98Ky2MqP3n0IKbG1ORp0hj6RivOh2+f46r8s9W0DYE0rCkhygWa9x6s2kpCgC4sUbz9sbMD3sy8Wqv7bV/uxqwM6YHvjLhdgL/RWmlmv/SC5XqiSr9R9D+ixaIRbD0wMbV30ckO0lcMzGd554x5OPtXf3WBl6AFmZieOzbNZqvGNM5d6Pk8NiA4yQx9E1qzWG0QEgRfqZFNxDs+k+665WNGSS+hYOGivOiwXEslFlb8PkvVaDhePNhZ7sTA3eJ9pxZnlDaIRwVv2T3iwsq0od8N33+jtbrAy9ADPhXfeuIeDkym+2Ed2Kdf8nyfaziD1HpV6I/A9KoU6b3tR1JJL+FiwGSBzIZFc9o4n2Z9NDpT1+u1Bb2XhYJa1QpWLQ4z8O7O0wU2zY75kQZa74fT5ns9TLpcgbIuKSETw8WPz/OO51Z6e9GaGHtxaB6n3qNQagW6ItrIwN8nrV/JdJ29JKSlUdUAPHXceniIeFfzdi71vX8MS0MFe9tCK31WirQzaYqEVr0r+O2G5G57t7W5QPvQgbIutfPxuw5P+5ae7Z+lPvWncbRwO4ELeit16j2q9EfiGqGLhYBYp4cUu3SLLtQZShqvTIuiAzlQmwftu3cdXnl7q6ZcOi4YOxsn2ykrOuqXux+JagYmU933QO2F13RswoF/NV1i+VvJcP2/lE8cPk+8zPi8fkjmSR/aOcc+RGU6e7q77nzy9yI17x7jz8JTPq9uK3XqPSi1EkkufvapiCDstgsOALoT4oBDiJSHEK0KIT7u1KL85cewwl3NlvvnyatfnGBq6/wGxEwtzk9QaknOX7NkXg7AsKqyuewNujCqHwVsPul/y343vOzLNdTO9x+cVKka5d9QjX/wgnDg2z2ureZ7u4En/3pU833n9Kh8/Nu9r7UEn7N6lVesyNBn6wckUk+l41zUXQjjcAhwEdCFEFPhvwIeABeDHhRALbi3MT37wlln2jCW6vpHLtTqVeoPxgLzH7QzqdPGzbW4nBu26B971QO+FEIITx+Z7etKNXujhOA8+/PY50vFox/P2S09dICIMaSZo7NZ7GJuiwV8owTgX3tpjCE5R3amFzLboZDX3AK9IKV8DEEL8KfBR4IwbC/OTeDTCA3cd4g+//Qb3/+b/3Pb1unlLG6SzoZXrZzJkElE++1cv8t+/+Vrf5792Oc+7bt7jw8o6s3Awy9eeW+54bLuxsllmbjLFzFjCw5Vt50fvPsRvfuNlTvzuP3Xs23Nxo8RUJhx3auPJGB+6/QAnTy3y3bYimMW1It9/dJYDk6mAVtdE1Xt8/h9f47Fnl7o+b/laKdDEo52FuSx/0CUmqPmnYZNcnESoQ0CrJWAReEf7k4QQDwEPAVx33XUOfpy3/Lvvv4HLuXJXHf1thya579b9Pq+qM5GI4Fc+cAvfecNem8+3HJgINFP7yB0HeXnAni5H94/zg2/Z5+GqOjM/neFXP3hr1/F5R/eP866b9vq8qu78b++9iWpDUm9sPbZvOTDBz/zAjQGtaju/cN/Rvv1yju4f5723+P8378Ynjh/m0mZ527FVfN+RGY5fP+3zqnojhvEHAwghPgF8QEr50+bnPwXcI6X8D92+5/jx4/LUqVND/TyNRqPZrQghTkspj/d7npMdiEXgcMvn80D3+ymNRqPReIqTgP5d4KgQ4gYhRAL4JPBVd5al0Wg0mkEZWkOXUtaEEP8e+GsgCvy+lPIF11am0Wg0moFwZNuQUv4l8JcurUWj0Wg0DgiHi1+j0Wg0jtEBXaPRaHYIOqBrNBrNDkEHdI1Go9khDF1YNNQPE2IV+N6Q374XuOzickYVfRz0MVDo47B7jsH1UsrZfk/yNaA7QQhxyk6l1E5HHwd9DBT6OOhj0I6WXDQajWaHoAO6RqPR7BBGKaA/HPQCQoI+DvoYKPRx0MdgCyOjoWs0Go2mN6OUoWs0Go2mBzqgazQazQ5hJAL6ThlG3Q8hxGEhxBNCiLNCiBeEEL9gPj4jhPiGEOKc+XHafFwIIf4f87g8K4S4O9jfwD2EEFEhxNNCiMfMz28QQjxpHoM/M1s2I4RImp+/Yn79SJDrdhMhxJQQ4qQQ4kXznHjnLj0X/qP5fnheCPEFIURqN54Pdgh9QN9Jw6htUAN+WUp5G3Av8HPm7/pp4HEp5VHgcfNzMI7JUfPfQ8Dv+r9kz/gF4GzL558Dfss8BmvAp8zHPwWsSSlvBn7LfN5O4XeAr0spbwXuwDgeu+pcEEIcAn4eOC6lvB2jVfcn2Z3nQ3+klKH+B7wT+OuWz38N+LWg1+XT7/4ocD/wEjBnPjYHvGT+//8Dfrzl+dbzRvkfxvSrx4H3AY8BAqMaMNZ+TmD043+n+f+Y+TwR9O/gwjHIAq+3/y678FxQs4tnzL/vY8AHdtv5YPdf6DN0Og+jPhTQWnzDvFW8C3gS2C+lXAYwP6pJujv12Pw28CuAms67B1iXUtbMz1t/T+sYmF+/Zj5/1LkRWAX+wJSefk8IMcYuOxeklBeA/wq8CSxj/H1Ps/vOB1uMQkAXHR7b0V5LIcQ48CXgF6WUG72e2uGxkT42QogfAVaklKdbH+7wVGnja6NMDLgb+F0p5V1Anqa80okdeRzMPYKPAjcAB4ExDHmpnZ1+PthiFAL6rhpGLYSIYwTzP5FSftl8+JIQYs78+hywYj6+E4/Nu4GPCCHeAP4UQ3b5bWBKCKEmbLX+ntYxML8+CVz1c8EesQgsSimfND8/iRHgd9O5APB+4HUp5aqUsgp8GXgXu+98sMUoBPRdM4xaCCGAzwNnpZS/2fKlrwIPmv9/EENbV4//G9PhcC9wTd2OjypSyl+TUs5LKY9g/K3/Tkr5k8ATwAnzae3HQB2bE+bzRz4jk1JeBM4LIW4xH7oPOMMuOhdM3gTuFUJkzPeHOg676nywTdAivp1/wIeBl4FXgV8Pej0e/p7fj3F7+CzwjPnvwxga4OPAOfPjjPl8geEAehV4DsMJEPjv4eLx+EHgMfP/NwLfAV4BvggkzcdT5uevmF+/Meh1u/j73wmcMs+HvwCmd+O5APyfwIvA88AfAcndeD7Y+adL/zUajWaHMAqSi0aj0WhsoAO6RqPR7BB0QNdoNJodgg7oGo1Gs0PQAV2j0Wh2CDqgazQazQ5BB3SNRqPZIfz/qhqWQdu5IDsAAAAASUVORK5CYII=\n",
      "text/plain": [
       "<Figure size 432x288 with 1 Axes>"
      ]
     },
     "metadata": {
      "needs_background": "light"
     },
     "output_type": "display_data"
    }
   ],
   "source": [
    "plt.plot(time_ser2[:,0], time_ser2[:,1])"
   ]
  },
  {
   "cell_type": "code",
   "execution_count": 32,
   "metadata": {},
   "outputs": [],
   "source": [
    "time_ser_str3 = \"0 29.714285714285715 L 5.523255813953488 33.42857142857143 L 11.046511627906977 33.42857142857143 L 16.569767441860463 42.714285714285715 L 22.093023255813954 65 L 27.61627906976744 72.42857142857143 L 33.13953488372093 66.85714285714286 L 38.66279069767442 57.57142857142857 L 44.18604651162791 37.142857142857146 L 49.70930385981912 26 L 55.23255813953488 13 L 60.75581395348837 7.428571428571429 L 66.27906976744185 3.7142857142857144 L 71.80232558139535 0 L 77.32558139534883 0 L 82.84883720930233 0 L 88.37209302325581 0 L 93.89535037144702 0 L 99.4186046511628 0 L 104.94186046511628 13 L 110.46511627906976 20.428571428571427 L 115.98837209302326 33.42857142857143 L 121.51162790697674 35.285714285714285 L 127.03488372093024 26 L 132.55814106912143 33.42857142857143 L 138.08139534883722 42.714285714285715 L 143.60465269702843 44.57142857142857 L 149.12790697674419 55.714285714285715 L 154.65116279069767 74.28571428571429 L 160.17441860465115 78 L 165.6516472868217 70.57142857142857 L 171.22093023255815 63.142857142857146 L 176.74418604651163 50.142857142857146 L 182.26744339470284 44.57142857142857 L 187.7906976744186 27.857142857142858 L 193.3139534883721 14.857142857142858 L 198.8372093023256 11.142857142857142 L 204.36046511627907 7.428571428571429 L 209.88372093023256 0 L 215.40697674418604 0 L 220.93023255813952 0 L 226.45348837209303 0 L 231.97674418604652 0 L 237.5 1.8571428571428572 L 243.02325581395348 1.8571428571428572 L 248.54651162790697 5.571428571428571 L 254.06976744186048 11.142857142857142 L 259.5930247900517 22.285714285714285 L 265.11628060400517 35.285714285714285 L 270.63953488372096 42.714285714285715 L 276.16279069767444 44.57142857142857 L 281.6860465116279 48.285714285714285 L 287.2093023255814 48.285714285714285 L 292.7325581395349 46.42857142857143 L 298.25581395348837 40.857142857142854 L 303.7790713016796 35.285714285714285 L 309.3023271156331 33.42857142857143 L 314.8255813953488 31.571428571428573 L 320.3488372093023 18.571428571428573 L 325.8720930232558 11.142857142857142 L 331.3953488372093 11.142857142857142 L 336.9186046511628 1.8571428571428572 L 342.4418604651163 0 L 347.9651162790698 0 L 353.48837209302326 0 L 359.01162790697674 0 L 364.5348837209302 0 L 370.0581395348837 0 L 375.5813953488372 0 L 381.1046511627907 0 L 386.6279069767442 3.7142857142857144 L 392.1511627906977 9.285714285714286 L 397.6744201388889 14.857142857142858 L 403.19767441860466 24.142857142857142 L 408.72093023255815 29.714285714285715 L 414.24418604651163 33.42857142857143 L 419.7674418604651 31.571428571428573 L 425.2906976744186 29.714285714285715 L 430.8139534883721 27.857142857142858 L 436.33720930232556 26 L 441.86046511627904 24.142857142857142 L 447.3837209302326 24.142857142857142 L 452.90697827842376 18.571428571428573 L 458.43023409237725 5.571428571428571 L 463.95348837209303 1.8571428571428572 L 469.4767441860465 0 L 475 0 L 480.5232558139535 0 L 486.04651162790697 0 L 491.56976744186045 0 L 497.09302325581393 0 L 502.6162790697674 16.714285714285715 L 508.13953488372096 29.714285714285715 L 513.6627906976744 37.142857142857146 L 519.1860465116279 37.142857142857146 L 524.7093023255813 22.285714285714285 L 530.2325596737726 24.142857142857142 L 535.7558139534884 29.714285714285715 L 541.2790713016796 29.714285714285715 L 546.8023255813954 35.285714285714285 L 552.3255813953489 50.142857142857146 L 557.84883874354 50.142857142857146 L 563.3720930232558 46.42857142857143 L 568.8953488372093 39 L 574.4186046511628 24.142857142857142 L 579.941861999354 20.428571428571427 L 585.4651162790698 14.857142857142858 L 590.9883720930233 9.285714285714286 L 596.5116279069767 5.571428571428571 L 602.0348837209302 3.7142857142857144 L 607.5581395348837 1.8571428571428572 L 613.0813953488372 0 L 618.6046511627907 0 L 624.1279069767442 0 L 629.6511627906976 0 L 635.1744186046511 16.714285714285715 L 640.6976744186046 27.857142857142858 L 646.2209302325581 40.857142857142854 L 651.7441860465116 39 L 657.2674433947028 26 L 662.7906976744187 27.857142857142858 L 668.3139534883721 29.714285714285715 L 673.8372093023256 31.571428571428573 L 679.3604651162791 37.142857142857146 L 684.8837209302326 57.57142857142857 L 690.4069767441861 57.57142857142857 L 695.9302325581396 52 L 701.453488372093 46.42857142857143 L 706.9767441860465 33.42857142857143 L 712.5 22.285714285714285 L 718.0232558139535 13 L 723.546511627907 7.428571428571429 L 729.0697689760982 5.571428571428571 L 734.5930232558139 3.7142857142857144 L 740.1162790697674 0 L 745.6395364179587 0 L 751.1627906976744 0 L 756.6860465116279 0 L 762.2093023255813 0 L 767.7325581395348 22.285714285714285 L 773.2558139534884 29.714285714285715 L 778.7790697674419 44.57142857142857 L 784.3023255813954 42.714285714285715 L 789.8255829295865 26 L 795.34883874354 29.714285714285715 L 800.8720930232558 31.571428571428573 L 806.3953488372093 31.571428571428573 L 811.9186046511628 37.142857142857146 L 817.4418604651163 63.142857142857146 L 822.9651162790698 78 L 828.4883720930233 87.28571428571429 L 834.0116279069767 72.42857142857143 L 839.5348837209302 35.285714285714285 L 845.0581395348837 22.285714285714285 L 850.5813953488372 13 L 856.1046511627907 7.428571428571429 L 861.6279069767442 5.571428571428571 L 867.1511627906976 1.8571428571428572 L 872.6744186046511 0 L 878.1976744186046 0 L 883.7209302325581 0 L 889.2441875807493 0 L 894.7674418604652 0 L 900.2906976744187 14.857142857142858 L 905.8139534883721 26 L 911.3372093023256 44.57142857142857 L 916.8604666505167 44.57142857142857 L 922.3837209302326 29.714285714285715 L 927.9069767441861 27.857142857142858\"\n",
    "time_ser_str3 = time_ser_str3.replace(\" L \", \",\")\n",
    "time_ser_str3 = time_ser_str3.replace(\" \", \",\")\n",
    "time_ser3 = np.array(list(map(float, time_ser_str3.split(','))))\n",
    "time_ser3 = time_ser3.reshape((time_ser3.shape[0]//2, 2))"
   ]
  },
  {
   "cell_type": "code",
   "execution_count": 33,
   "metadata": {},
   "outputs": [
    {
     "data": {
      "text/plain": [
       "[<matplotlib.lines.Line2D at 0x21ab65071d0>]"
      ]
     },
     "execution_count": 33,
     "metadata": {},
     "output_type": "execute_result"
    },
    {
     "data": {
      "image/png": "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\n",
      "text/plain": [
       "<Figure size 432x288 with 1 Axes>"
      ]
     },
     "metadata": {
      "needs_background": "light"
     },
     "output_type": "display_data"
    }
   ],
   "source": [
    "plt.plot(time_ser3[:,0], time_ser3[:,1])"
   ]
  },
  {
   "cell_type": "code",
   "execution_count": 34,
   "metadata": {},
   "outputs": [
    {
     "data": {
      "image/png": "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\n",
      "text/plain": [
       "<Figure size 1080x576 with 1 Axes>"
      ]
     },
     "metadata": {
      "needs_background": "light"
     },
     "output_type": "display_data"
    }
   ],
   "source": [
    "fig, ax = plt.subplots(1, 1, figsize = (15,8))\n",
    "ax.grid()\n",
    "\n",
    "ax.plot(time_ser1[:,0], time_ser1[:,1]/2, label = \"Weekly congestion- avg over 2019\")\n",
    "ax.plot(time_ser2[:,0], time_ser2[:,1]/2, label = \"Previous week congestion\")\n",
    "# Si parla della settimana 25 sept - 1 oct per la curva live congestion\n",
    "ax.plot(time_ser3[:,0], time_ser3[:,1]/2, label = \"Live congestion\")\n",
    "ax.legend();"
   ]
  },
  {
   "cell_type": "code",
   "execution_count": 35,
   "metadata": {},
   "outputs": [],
   "source": [
    "# Così trasliamo il tempo, facendo partire la serie da lunedì notte\n",
    "pt_1 = time_ser1[:88,1]\n",
    "pt_2 = time_ser1[88:,1] \n",
    "time_ser1[:, 1] = np.hstack((pt_2,pt_1))/2\n",
    "time_ser1 = time_ser1[:-1,:] "
   ]
  },
  {
   "cell_type": "code",
   "execution_count": 36,
   "metadata": {},
   "outputs": [
    {
     "data": {
      "text/plain": [
       "[<matplotlib.lines.Line2D at 0x21ab5f40470>]"
      ]
     },
     "execution_count": 36,
     "metadata": {},
     "output_type": "execute_result"
    },
    {
     "data": {
      "image/png": "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\n",
      "text/plain": [
       "<Figure size 432x288 with 1 Axes>"
      ]
     },
     "metadata": {
      "needs_background": "light"
     },
     "output_type": "display_data"
    }
   ],
   "source": [
    "plt.plot(time_ser1[:,0], time_ser1[:,1])"
   ]
  },
  {
   "cell_type": "code",
   "execution_count": 46,
   "metadata": {},
   "outputs": [],
   "source": [
    "### Dobbiamo decrittare l'encoding temporale, fortunatamente si hanno dei riferimenti sul sito\n",
    "### i picchi corrispondono a ore precise e così si ricostruisce la singola giornata \n",
    "#time_ser1[87,1].max() # 5 pm di giovedì \n",
    "#time_ser1[77,1] # 8 am di giovedì\n",
    "# dobbiamo rimuovere un elemento per avere una perfetta divisione in giorni \n",
    "# time_ser1[:-1,1].shape[0]/7 = 24.0\n",
    "\n",
    "day1 = time_ser1[:24,:][:,1]\n",
    "day2 = time_ser1[24:48,:][:,1]\n",
    "day3 = time_ser1[48:72,:][:,1]\n",
    "day4 = time_ser1[72:96,:][:,1]\n",
    "day5 = time_ser1[96:120,:][:,1]\n",
    "day6 = time_ser1[120:144,:][:,1]\n",
    "day7 = time_ser1[144:,:][:,1]\n",
    "\n",
    "day1_norm = day1/day1.max()\n",
    "day2_norm = day2/day2.max()\n",
    "day3_norm = day3/day3.max()\n",
    "day4_norm = day4/day4.max()\n",
    "day5_norm = day5/day5.max()\n",
    "day6_norm = day6/day6.max()\n",
    "day7_norm = day7/day7.max()"
   ]
  },
  {
   "cell_type": "code",
   "execution_count": 47,
   "metadata": {},
   "outputs": [],
   "source": [
    "week = np.concatenate((day1_norm, day2_norm, day3_norm, day4_norm, day5_norm, day6_norm, day7_norm))"
   ]
  },
  {
   "cell_type": "code",
   "execution_count": 49,
   "metadata": {},
   "outputs": [],
   "source": [
    "np.savetxt(\"trafficweek.csv\", week, delimiter =\",\")"
   ]
  },
  {
   "cell_type": "code",
   "execution_count": 675,
   "metadata": {},
   "outputs": [
    {
     "data": {
      "image/png": "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\n",
      "text/plain": [
       "<Figure size 1080x576 with 1 Axes>"
      ]
     },
     "metadata": {
      "needs_background": "light"
     },
     "output_type": "display_data"
    }
   ],
   "source": [
    "fig, ax = plt.subplots(1, 1, figsize = (15,8))\n",
    "ax.grid()\n",
    "\n",
    "ax.plot(day1[:,0], day1[:,1], label = \"Monday\")\n",
    "ax.plot(day2[:,0], day2[:,1], label = \"Tuesday\")\n",
    "ax.plot(day3[:,0], day3[:,1], label = \"Wedsnesday\")\n",
    "ax.plot(day4[:,0], day4[:,1], label = \"Thursday\")\n",
    "ax.plot(day5[:,0], day5[:,1], label = \"Friday\")\n",
    "ax.plot(day6[:,0], day6[:,1], label = \"Saturday\")\n",
    "ax.plot(day7[:,0], day7[:,1], label = \"Sunday\")\n",
    "\n",
    "\n",
    "ax.legend();\n",
    "#fig.savefig(\"traffic_congestion.png\")"
   ]
  },
  {
   "cell_type": "code",
   "execution_count": null,
   "metadata": {},
   "outputs": [],
   "source": []
  }
 ],
 "metadata": {
  "kernelspec": {
   "display_name": "Python 3",
   "language": "python",
   "name": "python3"
  },
  "language_info": {
   "codemirror_mode": {
    "name": "ipython",
    "version": 3
   },
   "file_extension": ".py",
   "mimetype": "text/x-python",
   "name": "python",
   "nbconvert_exporter": "python",
   "pygments_lexer": "ipython3",
   "version": "3.7.3"
  }
 },
 "nbformat": 4,
 "nbformat_minor": 2
}
