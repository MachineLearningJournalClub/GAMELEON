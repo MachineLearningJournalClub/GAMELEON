{
 "cells": [
  {
   "cell_type": "code",
   "execution_count": 1,
   "metadata": {},
   "outputs": [],
   "source": [
    "import pandas as pd \n",
    "import geopandas as gpd\n",
    "from scipy.io import mmread\n",
    "import networkx as nx\n",
    "import numpy as np\n",
    "import matplotlib.pyplot as plt \n",
    "import matplotlib\n",
    "import re \n",
    "from tqdm.notebook import tqdm\n",
    "\n",
    "from sklearn.preprocessing import LabelEncoder"
   ]
  },
  {
   "cell_type": "markdown",
   "metadata": {},
   "source": [
    "# Toronto \n",
    "## Cases"
   ]
  },
  {
   "cell_type": "code",
   "execution_count": 2,
   "metadata": {
    "scrolled": true
   },
   "outputs": [
    {
     "data": {
      "text/plain": [
       "Index(['_id', 'Assigned_ID', 'Outbreak Associated', 'Age Group',\n",
       "       'Neighbourhood Name', 'FSA', 'Source of Infection', 'Classification',\n",
       "       'Episode Date', 'Reported Date', 'Client Gender', 'Outcome',\n",
       "       'Currently Hospitalized', 'Currently in ICU', 'Currently Intubated',\n",
       "       'Ever Hospitalized', 'Ever in ICU', 'Ever Intubated'],\n",
       "      dtype='object')"
      ]
     },
     "execution_count": 2,
     "metadata": {},
     "output_type": "execute_result"
    }
   ],
   "source": [
    "df_tor = pd.read_csv(\"Data/CasesToronto.csv\")\n",
    "#df_tor[\"Neighbourhood Name\"].value_counts()\n",
    "#df_tor.Outcome.value_counts()\n",
    "df_tor.columns"
   ]
  },
  {
   "cell_type": "code",
   "execution_count": 3,
   "metadata": {},
   "outputs": [
    {
     "data": {
      "text/html": [
       "<div>\n",
       "<style scoped>\n",
       "    .dataframe tbody tr th:only-of-type {\n",
       "        vertical-align: middle;\n",
       "    }\n",
       "\n",
       "    .dataframe tbody tr th {\n",
       "        vertical-align: top;\n",
       "    }\n",
       "\n",
       "    .dataframe thead th {\n",
       "        text-align: right;\n",
       "    }\n",
       "</style>\n",
       "<table border=\"1\" class=\"dataframe\">\n",
       "  <thead>\n",
       "    <tr style=\"text-align: right;\">\n",
       "      <th></th>\n",
       "      <th>_id</th>\n",
       "      <th>Assigned_ID</th>\n",
       "      <th>Outbreak Associated</th>\n",
       "      <th>Age Group</th>\n",
       "      <th>Neighbourhood Name</th>\n",
       "      <th>FSA</th>\n",
       "      <th>Source of Infection</th>\n",
       "      <th>Classification</th>\n",
       "      <th>Episode Date</th>\n",
       "      <th>Reported Date</th>\n",
       "      <th>Client Gender</th>\n",
       "      <th>Outcome</th>\n",
       "      <th>Currently Hospitalized</th>\n",
       "      <th>Currently in ICU</th>\n",
       "      <th>Currently Intubated</th>\n",
       "      <th>Ever Hospitalized</th>\n",
       "      <th>Ever in ICU</th>\n",
       "      <th>Ever Intubated</th>\n",
       "    </tr>\n",
       "  </thead>\n",
       "  <tbody>\n",
       "    <tr>\n",
       "      <th>0</th>\n",
       "      <td>126705</td>\n",
       "      <td>1</td>\n",
       "      <td>Sporadic</td>\n",
       "      <td>50 to 59 Years</td>\n",
       "      <td>Willowdale East</td>\n",
       "      <td>M2N</td>\n",
       "      <td>Travel</td>\n",
       "      <td>CONFIRMED</td>\n",
       "      <td>2020-01-22</td>\n",
       "      <td>2020-01-23</td>\n",
       "      <td>FEMALE</td>\n",
       "      <td>RESOLVED</td>\n",
       "      <td>No</td>\n",
       "      <td>No</td>\n",
       "      <td>No</td>\n",
       "      <td>No</td>\n",
       "      <td>No</td>\n",
       "      <td>No</td>\n",
       "    </tr>\n",
       "    <tr>\n",
       "      <th>1</th>\n",
       "      <td>126706</td>\n",
       "      <td>2</td>\n",
       "      <td>Sporadic</td>\n",
       "      <td>50 to 59 Years</td>\n",
       "      <td>Willowdale East</td>\n",
       "      <td>M2N</td>\n",
       "      <td>Travel</td>\n",
       "      <td>CONFIRMED</td>\n",
       "      <td>2020-01-21</td>\n",
       "      <td>2020-01-23</td>\n",
       "      <td>MALE</td>\n",
       "      <td>RESOLVED</td>\n",
       "      <td>No</td>\n",
       "      <td>No</td>\n",
       "      <td>No</td>\n",
       "      <td>Yes</td>\n",
       "      <td>No</td>\n",
       "      <td>No</td>\n",
       "    </tr>\n",
       "    <tr>\n",
       "      <th>2</th>\n",
       "      <td>126707</td>\n",
       "      <td>3</td>\n",
       "      <td>Sporadic</td>\n",
       "      <td>20 to 29 Years</td>\n",
       "      <td>Parkwoods-Donalda</td>\n",
       "      <td>M3A</td>\n",
       "      <td>Travel</td>\n",
       "      <td>CONFIRMED</td>\n",
       "      <td>2020-02-05</td>\n",
       "      <td>2020-02-21</td>\n",
       "      <td>FEMALE</td>\n",
       "      <td>RESOLVED</td>\n",
       "      <td>No</td>\n",
       "      <td>No</td>\n",
       "      <td>No</td>\n",
       "      <td>No</td>\n",
       "      <td>No</td>\n",
       "      <td>No</td>\n",
       "    </tr>\n",
       "    <tr>\n",
       "      <th>3</th>\n",
       "      <td>126708</td>\n",
       "      <td>4</td>\n",
       "      <td>Sporadic</td>\n",
       "      <td>60 to 69 Years</td>\n",
       "      <td>Church-Yonge Corridor</td>\n",
       "      <td>M4W</td>\n",
       "      <td>Travel</td>\n",
       "      <td>CONFIRMED</td>\n",
       "      <td>2020-02-16</td>\n",
       "      <td>2020-02-25</td>\n",
       "      <td>FEMALE</td>\n",
       "      <td>RESOLVED</td>\n",
       "      <td>No</td>\n",
       "      <td>No</td>\n",
       "      <td>No</td>\n",
       "      <td>No</td>\n",
       "      <td>No</td>\n",
       "      <td>No</td>\n",
       "    </tr>\n",
       "    <tr>\n",
       "      <th>4</th>\n",
       "      <td>126709</td>\n",
       "      <td>5</td>\n",
       "      <td>Sporadic</td>\n",
       "      <td>60 to 69 Years</td>\n",
       "      <td>Church-Yonge Corridor</td>\n",
       "      <td>M4W</td>\n",
       "      <td>Travel</td>\n",
       "      <td>CONFIRMED</td>\n",
       "      <td>2020-02-20</td>\n",
       "      <td>2020-02-26</td>\n",
       "      <td>MALE</td>\n",
       "      <td>RESOLVED</td>\n",
       "      <td>No</td>\n",
       "      <td>No</td>\n",
       "      <td>No</td>\n",
       "      <td>No</td>\n",
       "      <td>No</td>\n",
       "      <td>No</td>\n",
       "    </tr>\n",
       "  </tbody>\n",
       "</table>\n",
       "</div>"
      ],
      "text/plain": [
       "      _id  Assigned_ID Outbreak Associated       Age Group  \\\n",
       "0  126705            1            Sporadic  50 to 59 Years   \n",
       "1  126706            2            Sporadic  50 to 59 Years   \n",
       "2  126707            3            Sporadic  20 to 29 Years   \n",
       "3  126708            4            Sporadic  60 to 69 Years   \n",
       "4  126709            5            Sporadic  60 to 69 Years   \n",
       "\n",
       "      Neighbourhood Name  FSA Source of Infection Classification Episode Date  \\\n",
       "0        Willowdale East  M2N              Travel      CONFIRMED   2020-01-22   \n",
       "1        Willowdale East  M2N              Travel      CONFIRMED   2020-01-21   \n",
       "2      Parkwoods-Donalda  M3A              Travel      CONFIRMED   2020-02-05   \n",
       "3  Church-Yonge Corridor  M4W              Travel      CONFIRMED   2020-02-16   \n",
       "4  Church-Yonge Corridor  M4W              Travel      CONFIRMED   2020-02-20   \n",
       "\n",
       "  Reported Date Client Gender   Outcome Currently Hospitalized  \\\n",
       "0    2020-01-23        FEMALE  RESOLVED                     No   \n",
       "1    2020-01-23          MALE  RESOLVED                     No   \n",
       "2    2020-02-21        FEMALE  RESOLVED                     No   \n",
       "3    2020-02-25        FEMALE  RESOLVED                     No   \n",
       "4    2020-02-26          MALE  RESOLVED                     No   \n",
       "\n",
       "  Currently in ICU Currently Intubated Ever Hospitalized Ever in ICU  \\\n",
       "0               No                  No                No          No   \n",
       "1               No                  No               Yes          No   \n",
       "2               No                  No                No          No   \n",
       "3               No                  No                No          No   \n",
       "4               No                  No                No          No   \n",
       "\n",
       "  Ever Intubated  \n",
       "0             No  \n",
       "1             No  \n",
       "2             No  \n",
       "3             No  \n",
       "4             No  "
      ]
     },
     "execution_count": 3,
     "metadata": {},
     "output_type": "execute_result"
    }
   ],
   "source": [
    "df_tor.head()"
   ]
  },
  {
   "cell_type": "code",
   "execution_count": 4,
   "metadata": {},
   "outputs": [],
   "source": [
    "df_tor[\"Episode Date\"] = pd.to_datetime(df_tor[\"Episode Date\"])"
   ]
  },
  {
   "cell_type": "code",
   "execution_count": 5,
   "metadata": {},
   "outputs": [
    {
     "data": {
      "image/png": "[encoded data removed]",
      "text/plain": [
       "<Figure size 864x432 with 1 Axes>"
      ]
     },
     "metadata": {
      "needs_background": "light"
     },
     "output_type": "display_data"
    }
   ],
   "source": [
    "fig, ax = plt.subplots(1,1, figsize = (12, 6))\n",
    "df_tor.groupby([\"Episode Date\"]).count().reset_index().plot(x = \"Episode Date\", y = \"Assigned_ID\", ax = ax )\n",
    "fig.savefig(\"Data/cases.png\")"
   ]
  },
  {
   "cell_type": "markdown",
   "metadata": {},
   "source": [
    "## Neighbourhood Profiles"
   ]
  },
  {
   "cell_type": "markdown",
   "metadata": {},
   "source": [
    "**We should choose a subset of the effective number of neighbourhoods**"
   ]
  },
  {
   "cell_type": "code",
   "execution_count": 8,
   "metadata": {},
   "outputs": [],
   "source": [
    "# Bounding box --> taglio alla mappa \n",
    "bbox = (-79.6491, 43.7722, -79.6202, 43.7019)\n",
    "\n",
    "DF_neighbourhoods_shape = gpd.read_file(\"Data/toronto_neigh.geojson\", bbox = bbox)\n",
    "DF_neighbourhoods_shape[\"AREA_S_CD\"] = DF_neighbourhoods_shape[\"AREA_S_CD\"].astype(\"int32\") \n",
    "DF_neighbourhoods_shape = DF_neighbourhoods_shape.sort_values(by = [\"AREA_S_CD\"]).reset_index().drop([\"index\"], axis = 1)\n",
    "DF_neighbourhoods_shape[\"AREA_NAME\"] = DF_neighbourhoods_shape.apply(lambda row:  row.AREA_NAME.replace(row.AREA_NAME[row.AREA_NAME.find(\"(\")-1:row.AREA_NAME.find(\")\")+1], \"\"), axis = 1)"
   ]
  },
  {
   "cell_type": "code",
   "execution_count": 60,
   "metadata": {},
   "outputs": [
    {
     "data": {
      "text/plain": [
       "University                            7,607\n",
       "Victoria Village                     17,510\n",
       "Waterfront Communities-The Island    65,913\n",
       "West Hill                            27,392\n",
       "West Humber-Clairville               33,312\n",
       "Westminster-Branson                  26,274\n",
       "Weston                               17,992\n",
       "Weston-Pelham Park                   11,098\n",
       "Wexford/Maryvale                     27,917\n",
       "Willowdale East                      50,434\n",
       "Name: 2, dtype: object"
      ]
     },
     "execution_count": 60,
     "metadata": {},
     "output_type": "execute_result"
    }
   ],
   "source": [
    "DF_neighbourhoods_info.iloc[2,-20:-10]"
   ]
  },
  {
   "cell_type": "code",
   "execution_count": 55,
   "metadata": {},
   "outputs": [
    {
     "data": {
      "text/plain": [
       "'West Humber-Clairville'"
      ]
     },
     "execution_count": 55,
     "metadata": {},
     "output_type": "execute_result"
    }
   ],
   "source": [
    "DF_neighbourhoods_shape.AREA_NAME[0]"
   ]
  },
  {
   "cell_type": "code",
   "execution_count": 12,
   "metadata": {},
   "outputs": [],
   "source": [
    "bbox_1st = DF_neighbourhoods_shape.geometry[0]"
   ]
  },
  {
   "cell_type": "code",
   "execution_count": 10,
   "metadata": {
    "scrolled": false
   },
   "outputs": [
    {
     "data": {
      "text/plain": [
       "<matplotlib.axes._subplots.AxesSubplot at 0x1cd720869b0>"
      ]
     },
     "execution_count": 10,
     "metadata": {},
     "output_type": "execute_result"
    },
    {
     "data": {
      "image/png": "[encoded data removed]",
      "text/plain": [
       "<Figure size 1080x576 with 2 Axes>"
      ]
     },
     "metadata": {
      "needs_background": "light"
     },
     "output_type": "display_data"
    }
   ],
   "source": [
    "fig, ax = plt.subplots(1, 1, figsize = (15,8))\n",
    "DF_neighbourhoods_shape.loc[:,:].plot(column = \"AREA_S_CD\", ax =ax, cmap = \"viridis\", legend = True)"
   ]
  },
  {
   "cell_type": "markdown",
   "metadata": {},
   "source": [
    "**Extracting population x neighbourhood**\n",
    "\n",
    "In particolare, in questo paragrafo, sono stati estratti i nuclei familiari, da disporre negli appartamenti. Partendo da chi vive da solo fino a 10 persone nello stesso locale (probabilità bassa di essere in 10 ovviamente, ma mi sembrava un ragionevole cutoff)"
   ]
  },
  {
   "cell_type": "code",
   "execution_count": 48,
   "metadata": {},
   "outputs": [],
   "source": [
    "DF_neighbourhoods_info = pd.read_csv(\"Data/neighbourhood-profiles-2016-csv.csv\")"
   ]
  },
  {
   "cell_type": "code",
   "execution_count": null,
   "metadata": {},
   "outputs": [],
   "source": [
    "DF_neighbourhoods_info.iloc[1885:1892,:]"
   ]
  },
  {
   "cell_type": "code",
   "execution_count": null,
   "metadata": {
    "scrolled": true
   },
   "outputs": [],
   "source": [
    "#Dati utili su spostamenti persone per ogni quartiere\n",
    "#x_ale = DF_neighbourhoods_info.loc[1965:1984,:]\n",
    "#x_ale.to_csv(\"Data/spostamenti_persone.csv\")"
   ]
  },
  {
   "cell_type": "code",
   "execution_count": null,
   "metadata": {},
   "outputs": [],
   "source": []
  },
  {
   "cell_type": "code",
   "execution_count": 49,
   "metadata": {},
   "outputs": [],
   "source": [
    "families_neigh = DF_neighbourhoods_info.loc[68:72,:]\n",
    "data_fam = families_neigh[\"City of Toronto\"].str.replace(\",\", \"\").astype(int)\n",
    "families_neigh = families_neigh.drop(([\"_id\",\"Category\", \"Topic\", \"Data Source\"]), axis = 1)\n",
    "families_neigh[\"City of Toronto\"] = data_fam"
   ]
  },
  {
   "cell_type": "code",
   "execution_count": 50,
   "metadata": {},
   "outputs": [
    {
     "data": {
      "text/html": [
       "<div>\n",
       "<style scoped>\n",
       "    .dataframe tbody tr th:only-of-type {\n",
       "        vertical-align: middle;\n",
       "    }\n",
       "\n",
       "    .dataframe tbody tr th {\n",
       "        vertical-align: top;\n",
       "    }\n",
       "\n",
       "    .dataframe thead th {\n",
       "        text-align: right;\n",
       "    }\n",
       "</style>\n",
       "<table border=\"1\" class=\"dataframe\">\n",
       "  <thead>\n",
       "    <tr style=\"text-align: right;\">\n",
       "      <th></th>\n",
       "      <th>Characteristic</th>\n",
       "      <th>City of Toronto</th>\n",
       "      <th>Agincourt North</th>\n",
       "      <th>Agincourt South-Malvern West</th>\n",
       "      <th>Alderwood</th>\n",
       "      <th>Annex</th>\n",
       "      <th>Banbury-Don Mills</th>\n",
       "      <th>Bathurst Manor</th>\n",
       "      <th>Bay Street Corridor</th>\n",
       "      <th>Bayview Village</th>\n",
       "      <th>...</th>\n",
       "      <th>Willowdale West</th>\n",
       "      <th>Willowridge-Martingrove-Richview</th>\n",
       "      <th>Woburn</th>\n",
       "      <th>Woodbine Corridor</th>\n",
       "      <th>Woodbine-Lumsden</th>\n",
       "      <th>Wychwood</th>\n",
       "      <th>Yonge-Eglinton</th>\n",
       "      <th>Yonge-St.Clair</th>\n",
       "      <th>York University Heights</th>\n",
       "      <th>Yorkdale-Glen Park</th>\n",
       "    </tr>\n",
       "  </thead>\n",
       "  <tbody>\n",
       "    <tr>\n",
       "      <th>68</th>\n",
       "      <td>1 person</td>\n",
       "      <td>359955</td>\n",
       "      <td>1350</td>\n",
       "      <td>1610</td>\n",
       "      <td>1105</td>\n",
       "      <td>7885</td>\n",
       "      <td>4360</td>\n",
       "      <td>1660</td>\n",
       "      <td>7605</td>\n",
       "      <td>3195</td>\n",
       "      <td>...</td>\n",
       "      <td>2660</td>\n",
       "      <td>2165</td>\n",
       "      <td>4220</td>\n",
       "      <td>1860</td>\n",
       "      <td>1105</td>\n",
       "      <td>2075</td>\n",
       "      <td>2365</td>\n",
       "      <td>3465</td>\n",
       "      <td>2660</td>\n",
       "      <td>1355</td>\n",
       "    </tr>\n",
       "    <tr>\n",
       "      <th>69</th>\n",
       "      <td>2 persons</td>\n",
       "      <td>333425</td>\n",
       "      <td>2370</td>\n",
       "      <td>2325</td>\n",
       "      <td>1440</td>\n",
       "      <td>5220</td>\n",
       "      <td>3820</td>\n",
       "      <td>1790</td>\n",
       "      <td>5330</td>\n",
       "      <td>3260</td>\n",
       "      <td>...</td>\n",
       "      <td>2445</td>\n",
       "      <td>2600</td>\n",
       "      <td>4855</td>\n",
       "      <td>1620</td>\n",
       "      <td>1150</td>\n",
       "      <td>1870</td>\n",
       "      <td>1695</td>\n",
       "      <td>2425</td>\n",
       "      <td>2825</td>\n",
       "      <td>1615</td>\n",
       "    </tr>\n",
       "    <tr>\n",
       "      <th>70</th>\n",
       "      <td>3 persons</td>\n",
       "      <td>175720</td>\n",
       "      <td>1995</td>\n",
       "      <td>1680</td>\n",
       "      <td>885</td>\n",
       "      <td>1540</td>\n",
       "      <td>1755</td>\n",
       "      <td>1095</td>\n",
       "      <td>1410</td>\n",
       "      <td>1610</td>\n",
       "      <td>...</td>\n",
       "      <td>1180</td>\n",
       "      <td>1495</td>\n",
       "      <td>3395</td>\n",
       "      <td>900</td>\n",
       "      <td>585</td>\n",
       "      <td>875</td>\n",
       "      <td>710</td>\n",
       "      <td>595</td>\n",
       "      <td>1860</td>\n",
       "      <td>1010</td>\n",
       "    </tr>\n",
       "    <tr>\n",
       "      <th>71</th>\n",
       "      <td>4 persons</td>\n",
       "      <td>146580</td>\n",
       "      <td>1750</td>\n",
       "      <td>1335</td>\n",
       "      <td>795</td>\n",
       "      <td>885</td>\n",
       "      <td>1515</td>\n",
       "      <td>970</td>\n",
       "      <td>575</td>\n",
       "      <td>1000</td>\n",
       "      <td>...</td>\n",
       "      <td>885</td>\n",
       "      <td>1400</td>\n",
       "      <td>3200</td>\n",
       "      <td>820</td>\n",
       "      <td>440</td>\n",
       "      <td>750</td>\n",
       "      <td>690</td>\n",
       "      <td>395</td>\n",
       "      <td>1495</td>\n",
       "      <td>780</td>\n",
       "    </tr>\n",
       "    <tr>\n",
       "      <th>72</th>\n",
       "      <td>5 or more persons</td>\n",
       "      <td>97245</td>\n",
       "      <td>1645</td>\n",
       "      <td>1175</td>\n",
       "      <td>390</td>\n",
       "      <td>390</td>\n",
       "      <td>675</td>\n",
       "      <td>575</td>\n",
       "      <td>145</td>\n",
       "      <td>470</td>\n",
       "      <td>...</td>\n",
       "      <td>380</td>\n",
       "      <td>840</td>\n",
       "      <td>2775</td>\n",
       "      <td>250</td>\n",
       "      <td>175</td>\n",
       "      <td>330</td>\n",
       "      <td>220</td>\n",
       "      <td>135</td>\n",
       "      <td>1325</td>\n",
       "      <td>590</td>\n",
       "    </tr>\n",
       "  </tbody>\n",
       "</table>\n",
       "<p>5 rows × 142 columns</p>\n",
       "</div>"
      ],
      "text/plain": [
       "         Characteristic  City of Toronto Agincourt North  \\\n",
       "68             1 person           359955            1350   \n",
       "69            2 persons           333425            2370   \n",
       "70            3 persons           175720            1995   \n",
       "71            4 persons           146580            1750   \n",
       "72    5 or more persons            97245            1645   \n",
       "\n",
       "   Agincourt South-Malvern West Alderwood Annex Banbury-Don Mills  \\\n",
       "68                         1610      1105  7885              4360   \n",
       "69                         2325      1440  5220              3820   \n",
       "70                         1680       885  1540              1755   \n",
       "71                         1335       795   885              1515   \n",
       "72                         1175       390   390               675   \n",
       "\n",
       "   Bathurst Manor Bay Street Corridor Bayview Village  ... Willowdale West  \\\n",
       "68           1660                7605            3195  ...            2660   \n",
       "69           1790                5330            3260  ...            2445   \n",
       "70           1095                1410            1610  ...            1180   \n",
       "71            970                 575            1000  ...             885   \n",
       "72            575                 145             470  ...             380   \n",
       "\n",
       "   Willowridge-Martingrove-Richview Woburn Woodbine Corridor Woodbine-Lumsden  \\\n",
       "68                             2165   4220              1860             1105   \n",
       "69                             2600   4855              1620             1150   \n",
       "70                             1495   3395               900              585   \n",
       "71                             1400   3200               820              440   \n",
       "72                              840   2775               250              175   \n",
       "\n",
       "   Wychwood Yonge-Eglinton Yonge-St.Clair York University Heights  \\\n",
       "68     2075           2365           3465                    2660   \n",
       "69     1870           1695           2425                    2825   \n",
       "70      875            710            595                    1860   \n",
       "71      750            690            395                    1495   \n",
       "72      330            220            135                    1325   \n",
       "\n",
       "   Yorkdale-Glen Park  \n",
       "68               1355  \n",
       "69               1615  \n",
       "70               1010  \n",
       "71                780  \n",
       "72                590  \n",
       "\n",
       "[5 rows x 142 columns]"
      ]
     },
     "execution_count": 50,
     "metadata": {},
     "output_type": "execute_result"
    }
   ],
   "source": [
    "families_neigh"
   ]
  },
  {
   "cell_type": "code",
   "execution_count": null,
   "metadata": {
    "scrolled": true
   },
   "outputs": [],
   "source": [
    "values = data_fam.values\n",
    "#num_people = np.arange(values.shape[0]) + 1 \n",
    "#plt.scatter(num_people, values)\n",
    "\n",
    "# Dobbiamo ottenere il numero di persone che vivono in nuclei familiari con 5+ componenti\n",
    "# Avendo solo un punto è necessario costruire una struttura sottostante (e.g. distribuzione exp)\n",
    "# In questo modo ricostruiamo i nuclei con 5,6,7,8,9,10 componenti, prendendo un cutoff a 10 \n",
    "# come famiglia più numerosa \n",
    "\n",
    "def exp_distr(x, a = 1/1.01536):\n",
    "    # Il parametro della distribuzione esponenziale è scelto in modo da minimizzare questa \n",
    "    # differenza (dove 97245 è il numero di famiglie con 5+ membri)\n",
    "    # b = new_values\n",
    "    # 97245 * 5 - (b[0]*5 + b[1]*6 + b[2] * 7 + b[3]*8 + b[4]* 9 + b[5] * 10) \n",
    "    \n",
    "    return a*np.exp(-a*x)\n",
    "\n",
    "max_val = exp_distr(4)\n",
    "x_s = np.linspace(4, 10,num = 100)\n",
    "y_s = exp_distr(x_s)/max_val\n",
    "\n",
    "#plt.plot(x_s, y_s)\n",
    "\n",
    "new_values = [] # 97245\n",
    "for i in range(5,11):\n",
    "    \n",
    "    new_values.append(int(exp_distr(i)/max_val * 146580))\n",
    "\n",
    "# Corrispondono al numero di nuclei familiari con 5, 6, 7, 8, 9, 10 persone\n",
    "new_values = np.array(new_values) \n",
    "\n",
    "#values = np.concatenate((values,new_values))"
   ]
  },
  {
   "cell_type": "code",
   "execution_count": null,
   "metadata": {},
   "outputs": [],
   "source": [
    "# Corrispondono ai pesi relativi alla frequenza del nucleo familiare con 5 o più \n",
    "# persone per quartiere, in questo modo possiamo riscotruire la distribuzione\n",
    "# di nuclei con 5, 6, 7, 8, 9, 10 persone disgregando l'aggregazione precedente\n",
    "weights_fam = families_neigh.loc[72,:][2:].astype(int).divide(other = families_neigh.loc[72,:][1])\n",
    "\n",
    "# nuclei familiari da 5 persone per quartiere\n",
    "a5 = pd.Series([\"5 persons\", new_values[0]])\n",
    "a5.index = [\"Characteristic\", \"City of Toronto\"]\n",
    "persons_5 = weights_fam*new_values[0]\n",
    "persons_5  = persons_5.astype(int)\n",
    "persons_5 = a5.append(persons_5)\n",
    "\n",
    "# nuclei familiari da 6 persone per quartiere\n",
    "a6 = pd.Series([\"6 persons\", new_values[1]])\n",
    "a6.index = [\"Characteristic\", \"City of Toronto\"]\n",
    "persons_6 = weights_fam*new_values[1]\n",
    "persons_6  = persons_6.astype(int)\n",
    "persons_6 = a6.append(persons_6)\n",
    "\n",
    "# nuclei familiari da 7 persone per quartiere\n",
    "a7 = pd.Series([\"7 persons\", new_values[2]])\n",
    "a7.index = [\"Characteristic\", \"City of Toronto\"]\n",
    "persons_7 = weights_fam*new_values[2]\n",
    "persons_7  = persons_7.astype(int)\n",
    "persons_7 = a7.append(persons_7)\n",
    "\n",
    "# nuclei familiari da 8 persone per quartiere\n",
    "a8 = pd.Series([\"8 persons\", new_values[3]])\n",
    "a8.index = [\"Characteristic\", \"City of Toronto\"]\n",
    "persons_8 = weights_fam*new_values[3]\n",
    "persons_8  = persons_8.astype(int)\n",
    "persons_8 = a8.append(persons_8)\n",
    "\n",
    "# nuclei familiari da 9 persone per quartiere\n",
    "a9 = pd.Series([\"9 persons\", new_values[4]])\n",
    "a9.index = [\"Characteristic\", \"City of Toronto\"]\n",
    "persons_9 = weights_fam*new_values[4]\n",
    "persons_9  = persons_9.astype(int)\n",
    "persons_9 = a9.append(persons_9)\n",
    "\n",
    "# nuclei familiari da 10 persone per quartiere\n",
    "a10 = pd.Series([\"10 persons\", new_values[5]])\n",
    "a10.index = [\"Characteristic\", \"City of Toronto\"]\n",
    "persons_10 = weights_fam*new_values[5]\n",
    "persons_10  = persons_10.astype(int)\n",
    "persons_10 = a10.append(persons_10)"
   ]
  },
  {
   "cell_type": "code",
   "execution_count": null,
   "metadata": {},
   "outputs": [],
   "source": [
    "families_neigh = families_neigh.loc[:71,:]\n",
    "families_neigh = families_neigh.append([persons_5, persons_6, persons_7, persons_8, persons_9, persons_10], \n",
    "                                      ignore_index = True)"
   ]
  },
  {
   "cell_type": "code",
   "execution_count": null,
   "metadata": {},
   "outputs": [],
   "source": [
    "families_neigh"
   ]
  },
  {
   "cell_type": "code",
   "execution_count": null,
   "metadata": {},
   "outputs": [],
   "source": [
    "#families_neigh.to_csv(\"Data/nuclei_familiari.csv\")"
   ]
  },
  {
   "cell_type": "markdown",
   "metadata": {},
   "source": [
    "Popolazione per quartiere (inizialmente avevo estratto questo, ma a questo punto i dati estratti sopra sono molto più fini e permettono di disporre le persone nei palazzi)"
   ]
  },
  {
   "cell_type": "code",
   "execution_count": null,
   "metadata": {},
   "outputs": [],
   "source": [
    "# Population by neighbourhood as of 2016 (the most recent)\n",
    "pop_by_neigh_2016 = DF_neighbourhoods_info.loc[2,:]\n",
    "pop_by_neigh_2016 = pop_by_neigh_2016.iloc[6:]\n",
    "pop_by_neigh_2016 = pop_by_neigh_2016.str.replace(r',','').astype(int)"
   ]
  },
  {
   "cell_type": "code",
   "execution_count": null,
   "metadata": {},
   "outputs": [],
   "source": [
    "pop_by_neigh_2016.sum()"
   ]
  },
  {
   "cell_type": "code",
   "execution_count": null,
   "metadata": {},
   "outputs": [],
   "source": [
    "# filter pop_by_neigh by subset of neighbourhoods\n",
    "DF_neighbourhoods_shape[\"POP\"] = DF_neighbourhoods_shape.apply(lambda row: pop_by_neigh_2016.filter(like = row.AREA_NAME, axis = 0).values[0], axis = 1)"
   ]
  },
  {
   "cell_type": "markdown",
   "metadata": {},
   "source": [
    "## Traffic"
   ]
  },
  {
   "cell_type": "code",
   "execution_count": 6,
   "metadata": {
    "scrolled": true
   },
   "outputs": [],
   "source": [
    "#file_name = \"week3Toronto\"\n",
    "\n",
    "# Bounding box --> taglio alla mappa \n",
    "#bbox = (-79.6491, 43.7722, -79.4502, 43.7019)\n",
    "file_name = \"2019-04-01-Toronto\"\n",
    "traffic_toronto = gpd.read_file(\"C:/Users/simon/Desktop/MAS/Data/Traffic/Filtered-top23-neigh/2019-04-01-Toronto.shp\")"
   ]
  },
  {
   "cell_type": "code",
   "execution_count": 30,
   "metadata": {},
   "outputs": [],
   "source": [
    "mask_1st = traffic_toronto.within(bbox_1st)"
   ]
  },
  {
   "cell_type": "code",
   "execution_count": 42,
   "metadata": {},
   "outputs": [
    {
     "data": {
      "application/vnd.jupyter.widget-view+json": {
       "model_id": "4598dfe0060b4c91815cb92d881bd02f",
       "version_major": 2,
       "version_minor": 0
      },
      "text/plain": [
       "HBox(children=(HTML(value=''), FloatProgress(value=0.0, max=19.0), HTML(value='')))"
      ]
     },
     "metadata": {},
     "output_type": "display_data"
    },
    {
     "name": "stdout",
     "output_type": "stream",
     "text": [
      "\n"
     ]
    }
   ],
   "source": [
    "# 23 neigh bbox = (-79.6491, 43.7722, -79.4502, 43.7019)\n",
    "#1 neigh bbox = (-79.6491, 43.7722, -79.6202, 43.7019)\n",
    "\n",
    "for i in tqdm(range(10,29)):\n",
    "    file_name = \"2019-04-\"+str(i)+\"-Toronto\"\n",
    "    traffic_toronto = gpd.read_file(\"Data/Traffic/\"+file_name+\".geojson\")\n",
    "    mask_1st = traffic_toronto.within(bbox_1st) #mask for 1st neighbourhood\n",
    "    traffic_toronto = traffic_toronto.loc[mask_1st]\n",
    "\n",
    "    traffic_toronto = traffic_toronto.iloc[1:]\n",
    "    traffic_toronto = traffic_toronto.drop([\"jobName\", \"creationTime\", \"userPreference\", \"dateRanges\", \"timeSets\", \"networkName\", \"zoneId\", \"probeSource\", \"segmentId\"], axis = 1)\n",
    "\n",
    "\n",
    "    substr_sample_size = \"sampleSize\"\n",
    "\n",
    "    substr_speed = \"averageSpeed\"\n",
    "    substr_avg_trav_t = \"averageTravelTime\"\n",
    "\n",
    "    substr_std_speed = \"standardDeviationSpeed\"\n",
    "    substr_std_time = \"travelTimeStandardDeviation\"\n",
    "\n",
    "    traffic_toronto[\"avgSpeed\"] = traffic_toronto.apply(lambda row: float(row.segmentTimeResults[row.segmentTimeResults.find(substr_speed) + 15: row.segmentTimeResults.find(substr_speed) +22]), axis = 1  )\n",
    "    traffic_toronto[\"sampleSize\"] = traffic_toronto.apply(lambda row: int(row.segmentTimeResults[row.segmentTimeResults.find(substr_sample_size) + 13: row.segmentTimeResults.find(substr_avg_trav_t) -3]), axis = 1  )\n",
    "    traffic_toronto[\"stdSpeed\"] = traffic_toronto.apply(lambda row: float(row.segmentTimeResults[row.segmentTimeResults.find(substr_std_speed) + 25: row.segmentTimeResults.find(substr_std_time) -3]) if row.avgSpeed != 0 else 0, axis = 1  )\n",
    "    traffic_toronto = traffic_toronto.drop([\"segmentTimeResults\"], axis = 1)\n",
    "    #traffic_toronto.to_file(\"Data/Traffic/Filtered-top23-neigh/\"+ file_name+ \".shp\")\n",
    "    traffic_toronto.to_file(\"Data/Traffic/Filtered_1st_neigh/\"+ file_name+ \".shp\")"
   ]
  },
  {
   "cell_type": "code",
   "execution_count": null,
   "metadata": {},
   "outputs": [],
   "source": [
    "traffic_toronto.head()"
   ]
  },
  {
   "cell_type": "code",
   "execution_count": null,
   "metadata": {
    "scrolled": false
   },
   "outputs": [],
   "source": [
    "\"\"\"\n",
    "fig, ax = plt.subplots(1, 1, figsize = (15,8))\n",
    "traffic_toronto.plot(column = \"sampleSize\", ax = ax, linewidth=0.2 , legend = True, cmap = \"coolwarm\",\n",
    "                    norm= matplotlib.colors.LogNorm(vmin=1, vmax=traffic_toronto.sampleSize.max()))\n",
    "fig.savefig(\"Data/Toronto_Traffic_Density.png\", dpi = 600)\n",
    "\"\"\";"
   ]
  },
  {
   "cell_type": "markdown",
   "metadata": {},
   "source": [
    "## OSM Data"
   ]
  },
  {
   "cell_type": "code",
   "execution_count": null,
   "metadata": {},
   "outputs": [],
   "source": [
    "# http://polygons.openstreetmap.fr/index.py?id=43992 , polygon creation from osm id (turin = 43992)\n",
    "boundary_toronto = gpd.read_file(\"Data/Toronto.geojson\")\n",
    "#bbox = boundary_turin.envelope \n",
    "#df_bbox = gpd.GeoDataFrame(gpd.GeoSeries(bbox), columns = [\"geometry\"])\n",
    "#intersections = gpd.overlay(df_bbox, DF_roads_turin, how = \"intersection\")"
   ]
  },
  {
   "cell_type": "code",
   "execution_count": null,
   "metadata": {},
   "outputs": [],
   "source": [
    "# bbox = (7.25,44.8,8.1,45.4)\n",
    "DF_roads_toronto = gpd.read_file(\"Data/ontario-latest-free.shp/gis_osm_roads_free_1.shp\", bbox = boundary_toronto)\n",
    "DF_buildings_toronto = gpd.read_file(\"Data/ontario-latest-free.shp/gis_osm_buildings_a_free_1.shp\", bbox = boundary_toronto)\n",
    "# ferrovie di treni e tram\n",
    "DF_railway_toronto = gpd.read_file(\"Data/ontario-latest-free.shp/gis_osm_railways_free_1.shp\", bbox = boundary_toronto)\n",
    "#parcheggi, anche multipiano\n",
    "DF_parking_toronto = gpd.read_file(\"Data/ontario-latest-free.shp/gis_osm_traffic_a_free_1.shp\", bbox = boundary_toronto)\n",
    "\n",
    "# just in case\n",
    "DF_churches_toronto = gpd.read_file(\"Data/ontario-latest-free.shp/gis_osm_pofw_a_free_1.shp\", bbox = boundary_toronto)\n",
    "# ospedali, parchi, teatri \n",
    "DF_public_places_toronto = gpd.read_file(\"Data/ontario-latest-free.shp/gis_osm_pois_a_free_1.shp\", bbox = boundary_toronto)\n",
    "# DF_public_places_toronto[DF_public_places_toronto.fclass == \"hospital\"]\n",
    "# stazioni ferroviarie, fermate bus, tram, traghetto (lol?), taxi \n",
    "DF_transport_toronto = gpd.read_file(\"Data/ontario-latest-free.shp/gis_osm_transport_a_free_1.shp\", bbox = boundary_toronto)"
   ]
  },
  {
   "cell_type": "code",
   "execution_count": null,
   "metadata": {},
   "outputs": [],
   "source": [
    "DF_roads_toronto.to_file(\"Data/Toronto_final/Roads_Toronto.shp\")\n",
    "DF_buildings_toronto.to_file(\"Data/Toronto_final/Buildings_Toronto.shp\")"
   ]
  },
  {
   "cell_type": "code",
   "execution_count": null,
   "metadata": {},
   "outputs": [],
   "source": [
    "DF_public_places_toronto[DF_public_places_toronto.fclass == \"hospital\"].to_file(\"Data/Toronto_final/Hospitals_toronto.shp\")"
   ]
  },
  {
   "cell_type": "code",
   "execution_count": null,
   "metadata": {},
   "outputs": [],
   "source": [
    "print(DF_roads_toronto.shape)\n",
    "print(DF_buildings_toronto.shape)\n",
    "print(DF_railway_toronto.shape)\n",
    "print(DF_parking_toronto.shape)"
   ]
  },
  {
   "cell_type": "code",
   "execution_count": null,
   "metadata": {
    "scrolled": true
   },
   "outputs": [],
   "source": [
    "\"\"\"\n",
    "# matplotlib qt permette di avere una figura interattiva\n",
    "# %matplotlib qt\n",
    "\n",
    "#%matplotlib inline\n",
    "\n",
    "fig, ax = plt.subplots(figsize=(20, 20))\n",
    "DF_roads_toronto.plot(ax = ax, alpha = 0.4, color = \"black\")\n",
    "DF_buildings_toronto.plot(ax = ax, alpha = 0.8, color = \"orange\")\n",
    "DF_public_places_toronto.plot(ax = ax , alpha = 0.6, color = \"pink\")\n",
    "DF_parking_toronto.plot(ax = ax, alpha = 0.7, color = \"blue\")\n",
    "DF_churches_toronto.plot(ax = ax, alpha = 0.7, color = \"green\")\n",
    "DF_railway_toronto.plot(ax = ax, alpha = 0.4, color = \"red\")\n",
    "#fig.savefig(\"Data/Toronto_Net.png\", dpi = 1200)\n",
    "\"\"\";"
   ]
  },
  {
   "cell_type": "markdown",
   "metadata": {},
   "source": [
    "## [3D Massing Data](https://ckan0.cf.opendata.inter.prod-toronto.ca/tl/dataset/3d-massing)"
   ]
  },
  {
   "cell_type": "code",
   "execution_count": null,
   "metadata": {},
   "outputs": [],
   "source": [
    "height_buildings = gpd.read_file(\"Data/Buildings/3DMassingShapefile_2019_WGS84/3DMassing_2019_WGS84.shp\")\n",
    "# There was a mismatch in zoning and buildings coordinates\n",
    "# we need to reproject buildings in order to compare coordinates\n",
    "# zoning epsg:4326 --> the correct one\n",
    "height_buildings = height_buildings.to_crs(epsg= 4326)"
   ]
  },
  {
   "cell_type": "code",
   "execution_count": null,
   "metadata": {},
   "outputs": [],
   "source": [
    "# filtering useful columns\n",
    "height_buildings = height_buildings.loc[:, height_buildings.columns.intersection(['AVG_HEIGHT','LONGITUDE', 'geometry', 'LATITUDE', 'POLY_AREA', \"PERIMETER\"])]"
   ]
  },
  {
   "cell_type": "code",
   "execution_count": null,
   "metadata": {},
   "outputs": [],
   "source": [
    "height_buildings = height_buildings.reset_index()"
   ]
  },
  {
   "cell_type": "code",
   "execution_count": null,
   "metadata": {},
   "outputs": [],
   "source": [
    "height_buildings = height_buildings.rename(columns = {\"index\":\"ID\"})"
   ]
  },
  {
   "cell_type": "code",
   "execution_count": null,
   "metadata": {
    "scrolled": false
   },
   "outputs": [],
   "source": [
    "height_buildings.head()"
   ]
  },
  {
   "cell_type": "code",
   "execution_count": null,
   "metadata": {},
   "outputs": [],
   "source": [
    "# average apartment : 50 square meters\n",
    "# altezza soffitto per legge: sopra i 2.3 metri --> mettere la media poco sopra a questo \n",
    "# per mettere le persone negli edifici (ref: http://www.buildingcode.online/1267.html)"
   ]
  },
  {
   "cell_type": "code",
   "execution_count": null,
   "metadata": {},
   "outputs": [],
   "source": [
    "\"\"\"\n",
    "fig, ax = plt.subplots(1, 1, figsize = (15,8))\n",
    "height_buildings.plot(column = \"AVG_HEIGHT\", ax = ax, linewidth=0.2 , legend = True, cmap = \"viridis\",\n",
    "                    vmin=height_buildings.MAX_HEIGHT.min(), vmax=height_buildings.MAX_HEIGHT.max())\n",
    "#fig.savefig(\"Data/Buildings_Height.png\", dpi = 600)\n",
    "\"\"\";"
   ]
  },
  {
   "cell_type": "markdown",
   "metadata": {},
   "source": [
    "## [Zoning By Law](https://ckan0.cf.opendata.inter.prod-toronto.ca/dataset/zoning-by-law)\n",
    "\n",
    "Ref: https://www.toronto.ca/wp-content/uploads/2017/10/9706-City-Planning-Zoning-city-wide-zoning-map.pdf"
   ]
  },
  {
   "cell_type": "code",
   "execution_count": null,
   "metadata": {},
   "outputs": [],
   "source": [
    "zoning = gpd.read_file(\"Data/Buildings/ZoningByLaw/ZONING_ZONE_CATAGORIES_WGS84.shp\")"
   ]
  },
  {
   "cell_type": "code",
   "execution_count": null,
   "metadata": {},
   "outputs": [],
   "source": [
    "# There are some NaN values, replace them with \"UNASSIGNED\" zone category - which is OK \n",
    "zoning[\"ZN_ZONE\"] = zoning[\"ZN_ZONE\"].fillna(\"UNASSIGNED\")\n",
    "zoning[\"ZN_ZONE\"] = zoning[\"ZN_ZONE\"].replace(\"TBD\",\"UNASSIGNED\")\n",
    "#zoning[\"ZN_ZONE\"] = zoning[\"ZN_ZONE\"].replace(None,\"UNASSIGNED\")\n",
    "# Encoding Zone categories, so that we have numbers and not strings, for plotting purposes\n",
    "zoning[\"ZONE_LABEL\"]  = LabelEncoder().fit_transform(zoning[\"ZN_ZONE\"].astype(str))\n",
    "\n",
    "### Explaining ZN_ZONE\n",
    "zones_dict = {\"R\": \"Residential\", \"RD\":\"Residential Detached\", \"RA\": \"Residential Apartment\",\n",
    "              \"CR\": \"Commercial Residential\" , \"E\":\"Employment Industrial\", \"CRE\":\"Commercial Residential Employment\",\n",
    "               \"O\":\"Open Space\", \"CL\":\"Commercial Local\",\"OR\":\"Open Space Recreation\",\"ON\":\"Open Space Natural\",\n",
    "              \"RM\":\"Residential Multiple Dwelling\",\"RAC\":\"Residential Apartment Commercial\",\"IPW\":\"Institutional Place of Worship\",\n",
    "              \"EL\":\"Employment Light Industrial\", \"RS\":\"Residential Semi Detached\", \"RT\":\"Residential Townhouse\", \"EH\":\"Employment Heavy Industrial\",\n",
    "             \"UNASSIGNED\":\"UNKNOWN\", \"I\": \"Institutional General\", \"EO\":\"Employment Industrial Office\", \"OC\":\"Open Space Cemetery\",\n",
    "             \"IS\":\"Institutional School\", \"IH\":\"Institutional Hospital\", \"UT\" : \"Utility and Transportation\", \n",
    "              \"IE\":\"Institutional Education\", \"U\":\"Utility\", \"OG\" : \"Open Space Golf Course\", \"OM\":\"Open Space Marina\",\n",
    "              \"EC\":\"Employment Industrial Commercial\" }\n",
    "\n",
    "zoning[\"ZN_ZONE_EXT\"] = zoning.ZN_ZONE.replace(zones_dict)\n",
    "\n",
    "## Filtering useful columns for GAMA\n",
    "zoning = zoning.loc[:, zoning.columns.intersection(['OBJECTID','ZN_ZONE', 'geometry', 'ZONE_LABEL', 'ZN_ZONE_EXT'])]\n",
    "zoning.OBJECTID = zoning.OBJECTID - 1"
   ]
  },
  {
   "cell_type": "code",
   "execution_count": null,
   "metadata": {},
   "outputs": [],
   "source": []
  },
  {
   "cell_type": "code",
   "execution_count": null,
   "metadata": {},
   "outputs": [],
   "source": [
    "zoning.head()"
   ]
  },
  {
   "cell_type": "code",
   "execution_count": null,
   "metadata": {
    "scrolled": true
   },
   "outputs": [],
   "source": [
    "#index = 0\n",
    "#height_buildings.ZN_ZONE_EXT.values[row]"
   ]
  },
  {
   "cell_type": "code",
   "execution_count": null,
   "metadata": {},
   "outputs": [],
   "source": [
    "#Init, fully optimized approx 12 sec\n",
    "#height_buildings[\"ZN_ZONE_EXT\"] = height_buildings.index.apply(lambda row: zoning.ZN_ZONE_EXT.values[0] if zoning.geometry.values[0].contains(row.geometry) else \"UNKNOWN\"  , axis = 1)\n",
    "#height_buildings[\"ZN_ZONE_EXT\"] = height_buildings.ID.apply(lambda row: zoning.ZN_ZONE_EXT.values[0] if zoning.geometry.values[0].contains(height_buildings.geometry.values[row]) else \"UNKNOWN\")"
   ]
  },
  {
   "cell_type": "code",
   "execution_count": null,
   "metadata": {},
   "outputs": [],
   "source": [
    "# delete nonetype columns\n",
    "# zoning = zoning[zoning.geometry != zoning.geometry.values[8483]]\n",
    "# zoning = zoning.reset_index()\n"
   ]
  },
  {
   "cell_type": "code",
   "execution_count": null,
   "metadata": {},
   "outputs": [],
   "source": []
  },
  {
   "cell_type": "code",
   "execution_count": null,
   "metadata": {},
   "outputs": [],
   "source": [
    "\"\"\"\n",
    "# takes a few days \n",
    "# for loop --> fermi a 8084\n",
    "for index in tqdm(range(8459,zoning.shape[0]), total= zoning.shape[0] - 8459):\n",
    "    height_buildings[\"ZN_ZONE_EXT\"] = height_buildings.ID.apply(lambda row: zoning.ZN_ZONE_EXT.values[index]\n",
    "                                                         if zoning.geometry.values[index].contains(height_buildings.geometry.values[row]) \n",
    "                                                         else height_buildings.ZN_ZONE_EXT.values[row] )\n",
    "\"\"\""
   ]
  },
  {
   "cell_type": "code",
   "execution_count": null,
   "metadata": {
    "scrolled": false
   },
   "outputs": [],
   "source": [
    "import collections\n",
    "collections.Counter(height_buildings[\"ZN_ZONE_EXT\"])\n",
    "\n",
    "height_buildings.ZN_ZONE_EXT = height_buildings[\"ZN_ZONE_EXT\"].astype(object)"
   ]
  },
  {
   "cell_type": "code",
   "execution_count": null,
   "metadata": {},
   "outputs": [],
   "source": [
    "#height_buildings.to_pickle(\"Data/Buildings/height_buildings.pkl\")"
   ]
  },
  {
   "cell_type": "code",
   "execution_count": null,
   "metadata": {},
   "outputs": [],
   "source": [
    "#height_buildings.to_file(\"Data/Buildings/height_buildings.shp\")"
   ]
  },
  {
   "cell_type": "code",
   "execution_count": null,
   "metadata": {},
   "outputs": [],
   "source": [
    "#a.to_file(\"Data/Buildings/height_build_23_neigh.shp\")"
   ]
  },
  {
   "cell_type": "code",
   "execution_count": 35,
   "metadata": {},
   "outputs": [],
   "source": [
    "height_buildings = gpd.read_file(\"Data/Buildings/buildings_shp/height_buildings.shp\")\n"
   ]
  },
  {
   "cell_type": "code",
   "execution_count": 46,
   "metadata": {},
   "outputs": [],
   "source": [
    "zones_dict = {\"R\": \"Residential\", \"RD\":\"Residential Detached\", \"RA\": \"Residential Apartment\",\n",
    "              \"CR\": \"Commercial Residential\" , \"E\":\"Employment Industrial\", \"CRE\":\"Commercial Residential Employment\",\n",
    "               \"O\":\"Open Space\", \"CL\":\"Commercial Local\",\"OR\":\"Open Space Recreation\",\"ON\":\"Open Space Natural\",\n",
    "              \"RM\":\"Residential Multiple Dwelling\",\"RAC\":\"Residential Apartment Commercial\",\"IPW\":\"Institutional Place of Worship\",\n",
    "              \"EL\":\"Employment Light Industrial\", \"RS\":\"Residential Semi Detached\", \"RT\":\"Residential Townhouse\", \"EH\":\"Employment Heavy Industrial\",\n",
    "             \"UNASSIGNED\":\"UNKNOWN\", \"I\": \"Institutional General\", \"EO\":\"Employment Industrial Office\", \"OC\":\"Open Space Cemetery\",\n",
    "             \"IS\":\"Institutional School\", \"IH\":\"Institutional Hospital\", \"UT\" : \"Utility and Transportation\", \n",
    "              \"IE\":\"Institutional Education\", \"U\":\"Utility\", \"OG\" : \"Open Space Golf Course\", \"OM\":\"Open Space Marina\",\n",
    "              \"EC\":\"Employment Industrial Commercial\" }"
   ]
  },
  {
   "cell_type": "code",
   "execution_count": 47,
   "metadata": {},
   "outputs": [
    {
     "data": {
      "text/plain": [
       "{'R': 'Residential',\n",
       " 'RD': 'Residential Detached',\n",
       " 'RA': 'Residential Apartment',\n",
       " 'CR': 'Commercial Residential',\n",
       " 'E': 'Employment Industrial',\n",
       " 'CRE': 'Commercial Residential Employment',\n",
       " 'O': 'Open Space',\n",
       " 'CL': 'Commercial Local',\n",
       " 'OR': 'Open Space Recreation',\n",
       " 'ON': 'Open Space Natural',\n",
       " 'RM': 'Residential Multiple Dwelling',\n",
       " 'RAC': 'Residential Apartment Commercial',\n",
       " 'IPW': 'Institutional Place of Worship',\n",
       " 'EL': 'Employment Light Industrial',\n",
       " 'RS': 'Residential Semi Detached',\n",
       " 'RT': 'Residential Townhouse',\n",
       " 'EH': 'Employment Heavy Industrial',\n",
       " 'UNASSIGNED': 'UNKNOWN',\n",
       " 'I': 'Institutional General',\n",
       " 'EO': 'Employment Industrial Office',\n",
       " 'OC': 'Open Space Cemetery',\n",
       " 'IS': 'Institutional School',\n",
       " 'IH': 'Institutional Hospital',\n",
       " 'UT': 'Utility and Transportation',\n",
       " 'IE': 'Institutional Education',\n",
       " 'U': 'Utility',\n",
       " 'OG': 'Open Space Golf Course',\n",
       " 'OM': 'Open Space Marina',\n",
       " 'EC': 'Employment Industrial Commercial'}"
      ]
     },
     "execution_count": 47,
     "metadata": {},
     "output_type": "execute_result"
    }
   ],
   "source": [
    "zones_dict"
   ]
  },
  {
   "cell_type": "code",
   "execution_count": null,
   "metadata": {},
   "outputs": [],
   "source": []
  },
  {
   "cell_type": "code",
   "execution_count": null,
   "metadata": {},
   "outputs": [],
   "source": []
  },
  {
   "cell_type": "code",
   "execution_count": 40,
   "metadata": {},
   "outputs": [],
   "source": [
    "mask_buildings_1st = height_buildings.within(bbox_1st)\n",
    "height_buildings_1st = height_buildings.loc[mask_buildings_1st]"
   ]
  },
  {
   "cell_type": "code",
   "execution_count": 44,
   "metadata": {},
   "outputs": [
    {
     "data": {
      "text/html": [
       "<div>\n",
       "<style scoped>\n",
       "    .dataframe tbody tr th:only-of-type {\n",
       "        vertical-align: middle;\n",
       "    }\n",
       "\n",
       "    .dataframe tbody tr th {\n",
       "        vertical-align: top;\n",
       "    }\n",
       "\n",
       "    .dataframe thead th {\n",
       "        text-align: right;\n",
       "    }\n",
       "</style>\n",
       "<table border=\"1\" class=\"dataframe\">\n",
       "  <thead>\n",
       "    <tr style=\"text-align: right;\">\n",
       "      <th></th>\n",
       "      <th>ID</th>\n",
       "      <th>AVG_HEIGHT</th>\n",
       "      <th>LONGITUDE</th>\n",
       "      <th>LATITUDE</th>\n",
       "      <th>POLY_AREA</th>\n",
       "      <th>PERIMETER</th>\n",
       "      <th>ZN_ZONE_EX</th>\n",
       "      <th>geometry</th>\n",
       "    </tr>\n",
       "  </thead>\n",
       "  <tbody>\n",
       "    <tr>\n",
       "      <th>8700</th>\n",
       "      <td>8700</td>\n",
       "      <td>5.1465</td>\n",
       "      <td>-79.587470</td>\n",
       "      <td>43.681862</td>\n",
       "      <td>4268.028591</td>\n",
       "      <td>364.923219</td>\n",
       "      <td>Employment Industrial</td>\n",
       "      <td>POLYGON Z ((-79.58654 43.68194 0.00000, -79.58...</td>\n",
       "    </tr>\n",
       "    <tr>\n",
       "      <th>8701</th>\n",
       "      <td>8701</td>\n",
       "      <td>5.0808</td>\n",
       "      <td>-79.587942</td>\n",
       "      <td>43.682367</td>\n",
       "      <td>3316.661157</td>\n",
       "      <td>269.830736</td>\n",
       "      <td>Employment Industrial</td>\n",
       "      <td>POLYGON Z ((-79.58727 43.68247 0.00000, -79.58...</td>\n",
       "    </tr>\n",
       "    <tr>\n",
       "      <th>8702</th>\n",
       "      <td>8702</td>\n",
       "      <td>5.1220</td>\n",
       "      <td>-79.588456</td>\n",
       "      <td>43.682791</td>\n",
       "      <td>2634.191937</td>\n",
       "      <td>229.735680</td>\n",
       "      <td>Employment Industrial</td>\n",
       "      <td>POLYGON Z ((-79.58898 43.68272 0.00000, -79.58...</td>\n",
       "    </tr>\n",
       "    <tr>\n",
       "      <th>8703</th>\n",
       "      <td>8703</td>\n",
       "      <td>6.6207</td>\n",
       "      <td>-79.582773</td>\n",
       "      <td>43.685527</td>\n",
       "      <td>1782.272214</td>\n",
       "      <td>204.933500</td>\n",
       "      <td>Employment Industrial Office</td>\n",
       "      <td>POLYGON Z ((-79.58322 43.68536 0.00000, -79.58...</td>\n",
       "    </tr>\n",
       "    <tr>\n",
       "      <th>8704</th>\n",
       "      <td>8704</td>\n",
       "      <td>6.5732</td>\n",
       "      <td>-79.583016</td>\n",
       "      <td>43.686002</td>\n",
       "      <td>1761.955534</td>\n",
       "      <td>211.903507</td>\n",
       "      <td>Employment Industrial Office</td>\n",
       "      <td>POLYGON Z ((-79.58273 43.68599 0.00000, -79.58...</td>\n",
       "    </tr>\n",
       "  </tbody>\n",
       "</table>\n",
       "</div>"
      ],
      "text/plain": [
       "        ID  AVG_HEIGHT  LONGITUDE   LATITUDE    POLY_AREA   PERIMETER  \\\n",
       "8700  8700      5.1465 -79.587470  43.681862  4268.028591  364.923219   \n",
       "8701  8701      5.0808 -79.587942  43.682367  3316.661157  269.830736   \n",
       "8702  8702      5.1220 -79.588456  43.682791  2634.191937  229.735680   \n",
       "8703  8703      6.6207 -79.582773  43.685527  1782.272214  204.933500   \n",
       "8704  8704      6.5732 -79.583016  43.686002  1761.955534  211.903507   \n",
       "\n",
       "                        ZN_ZONE_EX  \\\n",
       "8700         Employment Industrial   \n",
       "8701         Employment Industrial   \n",
       "8702         Employment Industrial   \n",
       "8703  Employment Industrial Office   \n",
       "8704  Employment Industrial Office   \n",
       "\n",
       "                                               geometry  \n",
       "8700  POLYGON Z ((-79.58654 43.68194 0.00000, -79.58...  \n",
       "8701  POLYGON Z ((-79.58727 43.68247 0.00000, -79.58...  \n",
       "8702  POLYGON Z ((-79.58898 43.68272 0.00000, -79.58...  \n",
       "8703  POLYGON Z ((-79.58322 43.68536 0.00000, -79.58...  \n",
       "8704  POLYGON Z ((-79.58273 43.68599 0.00000, -79.58...  "
      ]
     },
     "execution_count": 44,
     "metadata": {},
     "output_type": "execute_result"
    }
   ],
   "source": [
    "height_buildings_1st.head()"
   ]
  },
  {
   "cell_type": "code",
   "execution_count": null,
   "metadata": {},
   "outputs": [],
   "source": []
  },
  {
   "cell_type": "code",
   "execution_count": null,
   "metadata": {},
   "outputs": [],
   "source": []
  },
  {
   "cell_type": "code",
   "execution_count": null,
   "metadata": {},
   "outputs": [],
   "source": []
  },
  {
   "cell_type": "code",
   "execution_count": 41,
   "metadata": {},
   "outputs": [],
   "source": [
    "height_buildings_1st.to_file(\"Data/Buildings/buildings_shp/height_buildings_1st_neigh.shp\")"
   ]
  },
  {
   "cell_type": "code",
   "execution_count": null,
   "metadata": {},
   "outputs": [],
   "source": [
    "\"\"\"\n",
    "fig, ax = plt.subplots(1, 1, figsize = (15,8))\n",
    "zoning.plot(column = \"ZONE_LABEL\", ax = ax, cmap = \"coolwarm\", legend = True)\n",
    "#fig.savefig(\"Data/toronto_zones.png\", dpi = 1200)\n",
    "\"\"\";"
   ]
  },
  {
   "cell_type": "markdown",
   "metadata": {},
   "source": [
    "### Extracting traffic congestion time series\n",
    "(https://www.tomtom.com/en_gb/traffic-index/toronto-traffic/)"
   ]
  },
  {
   "cell_type": "code",
   "execution_count": null,
   "metadata": {},
   "outputs": [],
   "source": [
    "time_ser_str1 = \"0 55.714285714285715 L 5.523255813953488 59.42857142857143 L 11.046511627906977 59.42857142857143 L 16.569767441860463 70.57142857142857 L 22.093023255813954 98.42857142857143 L 27.61627906976744 120.71428571428571 L 33.13953488372093 141.14285714285714 L 38.66279069767442 102.14285714285714 L 44.18604651162791 59.42857142857143 L 49.70930385981912 39 L 55.23255813953488 29.714285714285715 L 60.75581395348837 22.285714285714285 L 66.27906976744185 14.857142857142858 L 71.80232558139535 7.428571428571429 L 77.32558139534883 3.7142857142857144 L 82.84883720930233 0 L 88.37209302325581 0 L 93.89535037144702 0 L 99.4186046511628 3.7142857142857144 L 104.94186046511628 29.714285714285715 L 110.46511627906976 61.285714285714285 L 115.98837209302326 85.42857142857143 L 121.51162790697674 63.142857142857146 L 127.03488372093024 50.142857142857146 L 132.55814106912143 55.714285714285715 L 138.08139534883722 65 L 143.60465269702843 68.71428571428571 L 149.12790697674419 79.85714285714286 L 154.65116279069767 100.28571428571429 L 160.17441860465115 113.28571428571429 L 165.6516472868217 117 L 171.22093023255815 87.28571428571429 L 176.74418604651163 59.42857142857143 L 182.26744339470284 40.857142857142854 L 187.7906976744186 31.571428571428573 L 193.3139534883721 27.857142857142858 L 198.8372093023256 22.285714285714285 L 204.36046511627907 14.857142857142858 L 209.88372093023256 7.428571428571429 L 215.40697674418604 3.7142857142857144 L 220.93023255813952 0 L 226.45348837209303 0 L 231.97674418604652 0 L 237.5 0 L 243.02325581395348 5.571428571428571 L 248.54651162790697 14.857142857142858 L 254.06976744186048 27.857142857142858 L 259.5930247900517 39 L 265.11628060400517 52 L 270.63953488372096 63.142857142857146 L 276.16279069767444 66.85714285714286 L 281.6860465116279 66.85714285714286 L 287.2093023255814 66.85714285714286 L 292.7325581395349 65 L 298.25581395348837 61.285714285714285 L 303.7790713016796 59.42857142857143 L 309.3023271156331 46.42857142857143 L 314.8255813953488 33.42857142857143 L 320.3488372093023 29.714285714285715 L 325.8720930232558 27.857142857142858 L 331.3953488372093 24.142857142857142 L 336.9186046511628 16.714285714285715 L 342.4418604651163 9.285714285714286 L 347.9651162790698 5.571428571428571 L 353.48837209302326 1.8571428571428572 L 359.01162790697674 0 L 364.5348837209302 0 L 370.0581395348837 0 L 375.5813953488372 1.8571428571428572 L 381.1046511627907 5.571428571428571 L 386.6279069767442 14.857142857142858 L 392.1511627906977 24.142857142857142 L 397.6744201388889 35.285714285714285 L 403.19767441860466 44.57142857142857 L 408.72093023255815 50.142857142857146 L 414.24418604651163 52 L 419.7674418604651 52 L 425.2906976744186 48.285714285714285 L 430.8139534883721 46.42857142857143 L 436.33720930232556 40.857142857142854 L 441.86046511627904 33.42857142857143 L 447.3837209302326 26 L 452.90697827842376 22.285714285714285 L 458.43023409237725 16.714285714285715 L 463.95348837209303 9.285714285714286 L 469.4767441860465 1.8571428571428572 L 475 0 L 480.5232558139535 0 L 486.04651162790697 0 L 491.56976744186045 0 L 497.09302325581393 7.428571428571429 L 502.6162790697674 37.142857142857146 L 508.13953488372096 74.28571428571429 L 513.6627906976744 102.14285714285714 L 519.1860465116279 68.71428571428571 L 524.7093023255813 44.57142857142857 L 530.2325596737726 42.714285714285715 L 535.7558139534884 46.42857142857143 L 541.2790713016796 46.42857142857143 L 546.8023255813954 57.57142857142857 L 552.3255813953489 79.85714285714286 L 557.84883874354 98.42857142857143 L 563.3720930232558 113.28571428571429 L 568.8953488372093 78 L 574.4186046511628 42.714285714285715 L 579.941861999354 27.857142857142858 L 585.4651162790698 22.285714285714285 L 590.9883720930233 16.714285714285715 L 596.5116279069767 9.285714285714286 L 602.0348837209302 5.571428571428571 L 607.5581395348837 3.7142857142857144 L 613.0813953488372 1.8571428571428572 L 618.6046511627907 0 L 624.1279069767442 0 L 629.6511627906976 5.571428571428571 L 635.1744186046511 39 L 640.6976744186046 79.85714285714286 L 646.2209302325581 111.42857142857143 L 651.7441860465116 78 L 657.2674433947028 53.857142857142854 L 662.7906976744187 50.142857142857146 L 668.3139534883721 53.857142857142854 L 673.8372093023256 52 L 679.3604651162791 63.142857142857146 L 684.8837209302326 89.14285714285714 L 690.4069767441861 109.57142857142857 L 695.9302325581396 128.14285714285714 L 701.453488372093 91 L 706.9767441860465 48.285714285714285 L 712.5 29.714285714285715 L 718.0232558139535 24.142857142857142 L 723.546511627907 16.714285714285715 L 729.0697689760982 11.142857142857142 L 734.5930232558139 3.7142857142857144 L 740.1162790697674 0 L 745.6395364179587 0 L 751.1627906976744 0 L 756.6860465116279 0 L 762.2093023255813 5.571428571428571 L 767.7325581395348 39 L 773.2558139534884 79.85714285714286 L 778.7790697674419 111.42857142857143 L 784.3023255813954 81.71428571428571 L 789.8255829295865 55.714285714285715 L 795.34883874354 53.857142857142854 L 800.8720930232558 57.57142857142857 L 806.3953488372093 55.714285714285715 L 811.9186046511628 66.85714285714286 L 817.4418604651163 94.71428571428571 L 822.9651162790698 113.28571428571429 L 828.4883720930233 133.71428571428572 L 834.0116279069767 96.57142857142857 L 839.5348837209302 55.714285714285715 L 845.0581395348837 35.285714285714285 L 850.5813953488372 27.857142857142858 L 856.1046511627907 20.428571428571427 L 861.6279069767442 13 L 867.1511627906976 5.571428571428571 L 872.6744186046511 1.8571428571428572 L 878.1976744186046 0 L 883.7209302325581 0 L 889.2441875807493 0 L 894.7674418604652 5.571428571428571 L 900.2906976744187 37.142857142857146 L 905.8139534883721 76.14285714285714 L 911.3372093023256 109.57142857142857 L 916.8604666505167 78 L 922.3837209302326 55.714285714285715 L 927.9069767441861 55.714285714285715\"\n",
    "time_ser_str1 = time_ser_str1.replace(\" L \", \",\")\n",
    "time_ser_str1 = time_ser_str1.replace(\" \", \",\")\n",
    "time_ser1 = np.array(list(map(float, time_ser_str1.split(','))))\n",
    "time_ser1 = time_ser1.reshape((time_ser1.shape[0]//2, 2))"
   ]
  },
  {
   "cell_type": "code",
   "execution_count": null,
   "metadata": {},
   "outputs": [],
   "source": [
    "plt.plot(time_ser1[:,0], time_ser1[:,1])"
   ]
  },
  {
   "cell_type": "code",
   "execution_count": null,
   "metadata": {},
   "outputs": [],
   "source": [
    "time_ser_str2 = \"0 33.42857142857143 L 5.523255813953488 35.285714285714285 L 11.046511627906977 35.285714285714285 L 16.569767441860463 42.714285714285715 L 22.093023255813954 63.142857142857146 L 27.61627906976744 65 L 33.13953488372093 63.142857142857146 L 38.66279069767442 57.57142857142857 L 44.18604651162791 39 L 49.70930385981912 27.857142857142858 L 55.23255813953488 16.714285714285715 L 60.75581395348837 9.285714285714286 L 66.27906976744185 5.571428571428571 L 71.80232558139535 1.8571428571428572 L 77.32558139534883 0 L 82.84883720930233 0 L 88.37209302325581 0 L 93.89535037144702 0 L 99.4186046511628 0 L 104.94186046511628 13 L 110.46511627906976 24.142857142857142 L 115.98837209302326 39 L 121.51162790697674 39 L 127.03488372093024 26 L 132.55814106912143 39 L 138.08139534883722 44.57142857142857 L 143.60465269702843 46.42857142857143 L 149.12790697674419 55.714285714285715 L 154.65116279069767 74.28571428571429 L 160.17441860465115 76.14285714285714 L 165.6516472868217 72.42857142857143 L 171.22093023255815 61.285714285714285 L 176.74418604651163 46.42857142857143 L 182.26744339470284 35.285714285714285 L 187.7906976744186 24.142857142857142 L 193.3139534883721 11.142857142857142 L 198.8372093023256 9.285714285714286 L 204.36046511627907 3.7142857142857144 L 209.88372093023256 0 L 215.40697674418604 0 L 220.93023255813952 0 L 226.45348837209303 0 L 231.97674418604652 0 L 237.5 0 L 243.02325581395348 0 L 248.54651162790697 5.571428571428571 L 254.06976744186048 11.142857142857142 L 259.5930247900517 20.428571428571427 L 265.11628060400517 29.714285714285715 L 270.63953488372096 42.714285714285715 L 276.16279069767444 46.42857142857143 L 281.6860465116279 50.142857142857146 L 287.2093023255814 50.142857142857146 L 292.7325581395349 48.285714285714285 L 298.25581395348837 42.714285714285715 L 303.7790713016796 37.142857142857146 L 309.3023271156331 31.571428571428573 L 314.8255813953488 27.857142857142858 L 320.3488372093023 16.714285714285715 L 325.8720930232558 9.285714285714286 L 331.3953488372093 7.428571428571429 L 336.9186046511628 3.7142857142857144 L 342.4418604651163 0 L 347.9651162790698 0 L 353.48837209302326 0 L 359.01162790697674 0 L 364.5348837209302 0 L 370.0581395348837 0 L 375.5813953488372 0 L 381.1046511627907 0 L 386.6279069767442 3.7142857142857144 L 392.1511627906977 7.428571428571429 L 397.6744201388889 14.857142857142858 L 403.19767441860466 20.428571428571427 L 408.72093023255815 27.857142857142858 L 414.24418604651163 29.714285714285715 L 419.7674418604651 29.714285714285715 L 425.2906976744186 29.714285714285715 L 430.8139534883721 26 L 436.33720930232556 24.142857142857142 L 441.86046511627904 22.285714285714285 L 447.3837209302326 20.428571428571427 L 452.90697827842376 16.714285714285715 L 458.43023409237725 5.571428571428571 L 463.95348837209303 3.7142857142857144 L 469.4767441860465 1.8571428571428572 L 475 0 L 480.5232558139535 0 L 486.04651162790697 0 L 491.56976744186045 0 L 497.09302325581393 0 L 502.6162790697674 14.857142857142858 L 508.13953488372096 26 L 513.6627906976744 39 L 519.1860465116279 39 L 524.7093023255813 22.285714285714285 L 530.2325596737726 27.857142857142858 L 535.7558139534884 27.857142857142858 L 541.2790713016796 29.714285714285715 L 546.8023255813954 37.142857142857146 L 552.3255813953489 52 L 557.84883874354 53.857142857142854 L 563.3720930232558 52 L 568.8953488372093 44.57142857142857 L 574.4186046511628 26 L 579.941861999354 20.428571428571427 L 585.4651162790698 11.142857142857142 L 590.9883720930233 5.571428571428571 L 596.5116279069767 3.7142857142857144 L 602.0348837209302 1.8571428571428572 L 607.5581395348837 0 L 613.0813953488372 0 L 618.6046511627907 0 L 624.1279069767442 0 L 629.6511627906976 1.8571428571428572 L 635.1744186046511 22.285714285714285 L 640.6976744186046 27.857142857142858 L 646.2209302325581 40.857142857142854 L 651.7441860465116 39 L 657.2674433947028 26 L 662.7906976744187 27.857142857142858 L 668.3139534883721 31.571428571428573 L 673.8372093023256 31.571428571428573 L 679.3604651162791 37.142857142857146 L 684.8837209302326 55.714285714285715 L 690.4069767441861 57.57142857142857 L 695.9302325581396 57.57142857142857 L 701.453488372093 50.142857142857146 L 706.9767441860465 29.714285714285715 L 712.5 22.285714285714285 L 718.0232558139535 13 L 723.546511627907 7.428571428571429 L 729.0697689760982 3.7142857142857144 L 734.5930232558139 0 L 740.1162790697674 0 L 745.6395364179587 0 L 751.1627906976744 0 L 756.6860465116279 0 L 762.2093023255813 0 L 767.7325581395348 27.857142857142858 L 773.2558139534884 33.42857142857143 L 778.7790697674419 46.42857142857143 L 784.3023255813954 46.42857142857143 L 789.8255829295865 27.857142857142858 L 795.34883874354 29.714285714285715 L 800.8720930232558 31.571428571428573 L 806.3953488372093 31.571428571428573 L 811.9186046511628 42.714285714285715 L 817.4418604651163 61.285714285714285 L 822.9651162790698 63.142857142857146 L 828.4883720930233 59.42857142857143 L 834.0116279069767 52 L 839.5348837209302 33.42857142857143 L 845.0581395348837 26 L 850.5813953488372 14.857142857142858 L 856.1046511627907 9.285714285714286 L 861.6279069767442 5.571428571428571 L 867.1511627906976 3.7142857142857144 L 872.6744186046511 0 L 878.1976744186046 0 L 883.7209302325581 0 L 889.2441875807493 0 L 894.7674418604652 0 L 900.2906976744187 16.714285714285715 L 905.8139534883721 29.714285714285715 L 911.3372093023256 48.285714285714285 L 916.8604666505167 46.42857142857143 L 922.3837209302326 29.714285714285715 L 927.9069767441861 29.714285714285715\"\n",
    "time_ser_str2 = time_ser_str2.replace(\" L \", \",\")\n",
    "time_ser_str2 = time_ser_str2.replace(\" \", \",\")\n",
    "time_ser2 = np.array(list(map(float, time_ser_str2.split(','))))\n",
    "time_ser2 = time_ser2.reshape((time_ser2.shape[0]//2, 2))"
   ]
  },
  {
   "cell_type": "code",
   "execution_count": null,
   "metadata": {},
   "outputs": [],
   "source": [
    "plt.plot(time_ser2[:,0], time_ser2[:,1])"
   ]
  },
  {
   "cell_type": "code",
   "execution_count": null,
   "metadata": {},
   "outputs": [],
   "source": [
    "time_ser_str3 = \"0 29.714285714285715 L 5.523255813953488 33.42857142857143 L 11.046511627906977 33.42857142857143 L 16.569767441860463 42.714285714285715 L 22.093023255813954 65 L 27.61627906976744 72.42857142857143 L 33.13953488372093 66.85714285714286 L 38.66279069767442 57.57142857142857 L 44.18604651162791 37.142857142857146 L 49.70930385981912 26 L 55.23255813953488 13 L 60.75581395348837 7.428571428571429 L 66.27906976744185 3.7142857142857144 L 71.80232558139535 0 L 77.32558139534883 0 L 82.84883720930233 0 L 88.37209302325581 0 L 93.89535037144702 0 L 99.4186046511628 0 L 104.94186046511628 13 L 110.46511627906976 20.428571428571427 L 115.98837209302326 33.42857142857143 L 121.51162790697674 35.285714285714285 L 127.03488372093024 26 L 132.55814106912143 33.42857142857143 L 138.08139534883722 42.714285714285715 L 143.60465269702843 44.57142857142857 L 149.12790697674419 55.714285714285715 L 154.65116279069767 74.28571428571429 L 160.17441860465115 78 L 165.6516472868217 70.57142857142857 L 171.22093023255815 63.142857142857146 L 176.74418604651163 50.142857142857146 L 182.26744339470284 44.57142857142857 L 187.7906976744186 27.857142857142858 L 193.3139534883721 14.857142857142858 L 198.8372093023256 11.142857142857142 L 204.36046511627907 7.428571428571429 L 209.88372093023256 0 L 215.40697674418604 0 L 220.93023255813952 0 L 226.45348837209303 0 L 231.97674418604652 0 L 237.5 1.8571428571428572 L 243.02325581395348 1.8571428571428572 L 248.54651162790697 5.571428571428571 L 254.06976744186048 11.142857142857142 L 259.5930247900517 22.285714285714285 L 265.11628060400517 35.285714285714285 L 270.63953488372096 42.714285714285715 L 276.16279069767444 44.57142857142857 L 281.6860465116279 48.285714285714285 L 287.2093023255814 48.285714285714285 L 292.7325581395349 46.42857142857143 L 298.25581395348837 40.857142857142854 L 303.7790713016796 35.285714285714285 L 309.3023271156331 33.42857142857143 L 314.8255813953488 31.571428571428573 L 320.3488372093023 18.571428571428573 L 325.8720930232558 11.142857142857142 L 331.3953488372093 11.142857142857142 L 336.9186046511628 1.8571428571428572 L 342.4418604651163 0 L 347.9651162790698 0 L 353.48837209302326 0 L 359.01162790697674 0 L 364.5348837209302 0 L 370.0581395348837 0 L 375.5813953488372 0 L 381.1046511627907 0 L 386.6279069767442 3.7142857142857144 L 392.1511627906977 9.285714285714286 L 397.6744201388889 14.857142857142858 L 403.19767441860466 24.142857142857142 L 408.72093023255815 29.714285714285715 L 414.24418604651163 33.42857142857143 L 419.7674418604651 31.571428571428573 L 425.2906976744186 29.714285714285715 L 430.8139534883721 27.857142857142858 L 436.33720930232556 26 L 441.86046511627904 24.142857142857142 L 447.3837209302326 24.142857142857142 L 452.90697827842376 18.571428571428573 L 458.43023409237725 5.571428571428571 L 463.95348837209303 1.8571428571428572 L 469.4767441860465 0 L 475 0 L 480.5232558139535 0 L 486.04651162790697 0 L 491.56976744186045 0 L 497.09302325581393 0 L 502.6162790697674 16.714285714285715 L 508.13953488372096 29.714285714285715 L 513.6627906976744 37.142857142857146 L 519.1860465116279 37.142857142857146 L 524.7093023255813 22.285714285714285 L 530.2325596737726 24.142857142857142 L 535.7558139534884 29.714285714285715 L 541.2790713016796 29.714285714285715 L 546.8023255813954 35.285714285714285 L 552.3255813953489 50.142857142857146 L 557.84883874354 50.142857142857146 L 563.3720930232558 46.42857142857143 L 568.8953488372093 39 L 574.4186046511628 24.142857142857142 L 579.941861999354 20.428571428571427 L 585.4651162790698 14.857142857142858 L 590.9883720930233 9.285714285714286 L 596.5116279069767 5.571428571428571 L 602.0348837209302 3.7142857142857144 L 607.5581395348837 1.8571428571428572 L 613.0813953488372 0 L 618.6046511627907 0 L 624.1279069767442 0 L 629.6511627906976 0 L 635.1744186046511 16.714285714285715 L 640.6976744186046 27.857142857142858 L 646.2209302325581 40.857142857142854 L 651.7441860465116 39 L 657.2674433947028 26 L 662.7906976744187 27.857142857142858 L 668.3139534883721 29.714285714285715 L 673.8372093023256 31.571428571428573 L 679.3604651162791 37.142857142857146 L 684.8837209302326 57.57142857142857 L 690.4069767441861 57.57142857142857 L 695.9302325581396 52 L 701.453488372093 46.42857142857143 L 706.9767441860465 33.42857142857143 L 712.5 22.285714285714285 L 718.0232558139535 13 L 723.546511627907 7.428571428571429 L 729.0697689760982 5.571428571428571 L 734.5930232558139 3.7142857142857144 L 740.1162790697674 0 L 745.6395364179587 0 L 751.1627906976744 0 L 756.6860465116279 0 L 762.2093023255813 0 L 767.7325581395348 22.285714285714285 L 773.2558139534884 29.714285714285715 L 778.7790697674419 44.57142857142857 L 784.3023255813954 42.714285714285715 L 789.8255829295865 26 L 795.34883874354 29.714285714285715 L 800.8720930232558 31.571428571428573 L 806.3953488372093 31.571428571428573 L 811.9186046511628 37.142857142857146 L 817.4418604651163 63.142857142857146 L 822.9651162790698 78 L 828.4883720930233 87.28571428571429 L 834.0116279069767 72.42857142857143 L 839.5348837209302 35.285714285714285 L 845.0581395348837 22.285714285714285 L 850.5813953488372 13 L 856.1046511627907 7.428571428571429 L 861.6279069767442 5.571428571428571 L 867.1511627906976 1.8571428571428572 L 872.6744186046511 0 L 878.1976744186046 0 L 883.7209302325581 0 L 889.2441875807493 0 L 894.7674418604652 0 L 900.2906976744187 14.857142857142858 L 905.8139534883721 26 L 911.3372093023256 44.57142857142857 L 916.8604666505167 44.57142857142857 L 922.3837209302326 29.714285714285715 L 927.9069767441861 27.857142857142858\"\n",
    "time_ser_str3 = time_ser_str3.replace(\" L \", \",\")\n",
    "time_ser_str3 = time_ser_str3.replace(\" \", \",\")\n",
    "time_ser3 = np.array(list(map(float, time_ser_str3.split(','))))\n",
    "time_ser3 = time_ser3.reshape((time_ser3.shape[0]//2, 2))"
   ]
  },
  {
   "cell_type": "code",
   "execution_count": null,
   "metadata": {},
   "outputs": [],
   "source": [
    "plt.plot(time_ser3[:,0], time_ser3[:,1])"
   ]
  },
  {
   "cell_type": "code",
   "execution_count": null,
   "metadata": {},
   "outputs": [],
   "source": [
    "fig, ax = plt.subplots(1, 1, figsize = (15,8))\n",
    "ax.grid()\n",
    "\n",
    "ax.plot(time_ser1[:,0], time_ser1[:,1]/2, label = \"Weekly congestion- avg over 2019\")\n",
    "ax.plot(time_ser2[:,0], time_ser2[:,1]/2, label = \"Previous week congestion\")\n",
    "# Si parla della settimana 25 sept - 1 oct per la curva live congestion\n",
    "ax.plot(time_ser3[:,0], time_ser3[:,1]/2, label = \"Live congestion\")\n",
    "ax.legend();"
   ]
  },
  {
   "cell_type": "code",
   "execution_count": null,
   "metadata": {},
   "outputs": [],
   "source": [
    "# Così trasliamo il tempo, facendo partire la serie da lunedì notte\n",
    "pt_1 = time_ser1[:88,1]\n",
    "pt_2 = time_ser1[88:,1] \n",
    "time_ser1[:, 1] = np.hstack((pt_2,pt_1))/2\n",
    "time_ser1 = time_ser1[:-1,:] "
   ]
  },
  {
   "cell_type": "code",
   "execution_count": null,
   "metadata": {},
   "outputs": [],
   "source": [
    "plt.plot(time_ser1[:,0], time_ser1[:,1])"
   ]
  },
  {
   "cell_type": "code",
   "execution_count": null,
   "metadata": {},
   "outputs": [],
   "source": [
    "### Dobbiamo decrittare l'encoding temporale, fortunatamente si hanno dei riferimenti sul sito\n",
    "### i picchi corrispondono a ore precise e così si ricostruisce la singola giornata \n",
    "#time_ser1[87,1].max() # 5 pm di giovedì \n",
    "#time_ser1[77,1] # 8 am di giovedì\n",
    "# dobbiamo rimuovere un elemento per avere una perfetta divisione in giorni \n",
    "# time_ser1[:-1,1].shape[0]/7 = 24.0\n",
    "\n",
    "day1 = time_ser1[:24,:][:,1]\n",
    "day2 = time_ser1[24:48,:][:,1]\n",
    "day3 = time_ser1[48:72,:][:,1]\n",
    "day4 = time_ser1[72:96,:][:,1]\n",
    "day5 = time_ser1[96:120,:][:,1]\n",
    "day6 = time_ser1[120:144,:][:,1]\n",
    "day7 = time_ser1[144:,:][:,1]\n",
    "\n",
    "day1_norm = day1/day1.max()\n",
    "day2_norm = day2/day2.max()\n",
    "day3_norm = day3/day3.max()\n",
    "day4_norm = day4/day4.max()\n",
    "day5_norm = day5/day5.max()\n",
    "day6_norm = day6/day6.max()\n",
    "day7_norm = day7/day7.max()"
   ]
  },
  {
   "cell_type": "code",
   "execution_count": null,
   "metadata": {},
   "outputs": [],
   "source": [
    "week = np.concatenate((day1_norm, day2_norm, day3_norm, day4_norm, day5_norm, day6_norm, day7_norm))"
   ]
  },
  {
   "cell_type": "code",
   "execution_count": null,
   "metadata": {},
   "outputs": [],
   "source": [
    "np.savetxt(\"trafficweek.csv\", week, delimiter =\",\")"
   ]
  },
  {
   "cell_type": "code",
   "execution_count": null,
   "metadata": {},
   "outputs": [],
   "source": [
    "fig, ax = plt.subplots(1, 1, figsize = (15,8))\n",
    "ax.grid()\n",
    "\n",
    "ax.plot(day1[:,0], day1[:,1], label = \"Monday\")\n",
    "ax.plot(day2[:,0], day2[:,1], label = \"Tuesday\")\n",
    "ax.plot(day3[:,0], day3[:,1], label = \"Wedsnesday\")\n",
    "ax.plot(day4[:,0], day4[:,1], label = \"Thursday\")\n",
    "ax.plot(day5[:,0], day5[:,1], label = \"Friday\")\n",
    "ax.plot(day6[:,0], day6[:,1], label = \"Saturday\")\n",
    "ax.plot(day7[:,0], day7[:,1], label = \"Sunday\")\n",
    "\n",
    "\n",
    "ax.legend();\n",
    "#fig.savefig(\"traffic_congestion.png\")"
   ]
  }
 ],
 "metadata": {
  "kernelspec": {
   "display_name": "Python 3",
   "language": "python",
   "name": "python3"
  },
  "language_info": {
   "codemirror_mode": {
    "name": "ipython",
    "version": 3
   },
   "file_extension": ".py",
   "mimetype": "text/x-python",
   "name": "python",
   "nbconvert_exporter": "python",
   "pygments_lexer": "ipython3",
   "version": "3.7.3"
  }
 },
 "nbformat": 4,
 "nbformat_minor": 2
}
