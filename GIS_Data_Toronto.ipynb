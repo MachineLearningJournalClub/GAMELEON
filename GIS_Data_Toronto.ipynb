{
 "cells": [
  {
   "cell_type": "code",
   "execution_count": 3,
   "metadata": {},
   "outputs": [],
   "source": [
    "import pandas as pd \n",
    "import geopandas as gpd\n",
    "from scipy.io import mmread\n",
    "import networkx as nx\n",
    "import numpy as np\n",
    "import matplotlib.pyplot as plt "
   ]
  },
  {
   "cell_type": "markdown",
   "metadata": {},
   "source": [
    "# Toronto \n",
    "### Cases"
   ]
  },
  {
   "cell_type": "code",
   "execution_count": 2,
   "metadata": {},
   "outputs": [
    {
     "data": {
      "text/plain": [
       "Index(['_id', 'Assigned_ID', 'Outbreak Associated', 'Age Group',\n",
       "       'Neighbourhood Name', 'FSA', 'Source of Infection', 'Classification',\n",
       "       'Episode Date', 'Reported Date', 'Client Gender', 'Outcome',\n",
       "       'Currently Hospitalized', 'Currently in ICU', 'Currently Intubated',\n",
       "       'Ever Hospitalized', 'Ever in ICU', 'Ever Intubated'],\n",
       "      dtype='object')"
      ]
     },
     "execution_count": 2,
     "metadata": {},
     "output_type": "execute_result"
    }
   ],
   "source": [
    "df_tor = pd.read_csv(\"Data/CasesToronto.csv\")\n",
    "#df_tor[\"Neighbourhood Name\"].value_counts()\n",
    "#df_tor.Outcome.value_counts()\n",
    "df_tor.columns"
   ]
  },
  {
   "cell_type": "code",
   "execution_count": 4,
   "metadata": {},
   "outputs": [],
   "source": [
    "traffic_toronto = gpd.read_file(\"Data/2019-04-01-Toronto.geojson\")\n",
    "traffic_toronto = traffic_toronto.iloc[1:]"
   ]
  },
  {
   "cell_type": "code",
   "execution_count": 5,
   "metadata": {
    "scrolled": true
   },
   "outputs": [],
   "source": [
    "traffic_toronto = traffic_toronto.drop([\"jobName\", \"creationTime\", \"userPreference\", \"dateRanges\", \"timeSets\", \"networkName\", \"zoneId\", \"probeSource\", \"segmentId\"], axis = 1)"
   ]
  },
  {
   "cell_type": "code",
   "execution_count": 6,
   "metadata": {
    "scrolled": true
   },
   "outputs": [
    {
     "data": {
      "text/html": [
       "<div>\n",
       "<style scoped>\n",
       "    .dataframe tbody tr th:only-of-type {\n",
       "        vertical-align: middle;\n",
       "    }\n",
       "\n",
       "    .dataframe tbody tr th {\n",
       "        vertical-align: top;\n",
       "    }\n",
       "\n",
       "    .dataframe thead th {\n",
       "        text-align: right;\n",
       "    }\n",
       "</style>\n",
       "<table border=\"1\" class=\"dataframe\">\n",
       "  <thead>\n",
       "    <tr style=\"text-align: right;\">\n",
       "      <th></th>\n",
       "      <th>newSegmentId</th>\n",
       "      <th>speedLimit</th>\n",
       "      <th>frc</th>\n",
       "      <th>streetName</th>\n",
       "      <th>distance</th>\n",
       "      <th>segmentTimeResults</th>\n",
       "      <th>geometry</th>\n",
       "    </tr>\n",
       "  </thead>\n",
       "  <tbody>\n",
       "    <tr>\n",
       "      <th>1</th>\n",
       "      <td>-0000434f-5000-0400-0000-000000a7daf6</td>\n",
       "      <td>60.0</td>\n",
       "      <td>3.0</td>\n",
       "      <td>Steeles Ave W</td>\n",
       "      <td>46.29</td>\n",
       "      <td>[ { \"timeSet\": 2, \"dateRange\": 1, \"harmonicAve...</td>\n",
       "      <td>LINESTRING (-79.52444 43.77480, -79.52388 43.7...</td>\n",
       "    </tr>\n",
       "    <tr>\n",
       "      <th>2</th>\n",
       "      <td>-0000434f-5000-0400-0000-000000a7daff</td>\n",
       "      <td>60.0</td>\n",
       "      <td>3.0</td>\n",
       "      <td>Steeles Ave W</td>\n",
       "      <td>59.18</td>\n",
       "      <td>[ { \"timeSet\": 2, \"dateRange\": 1, \"harmonicAve...</td>\n",
       "      <td>LINESTRING (-79.46387 43.78851, -79.46316 43.7...</td>\n",
       "    </tr>\n",
       "    <tr>\n",
       "      <th>3</th>\n",
       "      <td>-0000434f-5000-0400-0000-000000a7db02</td>\n",
       "      <td>60.0</td>\n",
       "      <td>4.0</td>\n",
       "      <td>Steeles Ave E</td>\n",
       "      <td>52.77</td>\n",
       "      <td>[ { \"timeSet\": 2, \"dateRange\": 1, \"harmonicAve...</td>\n",
       "      <td>LINESTRING (-79.30009 43.82530, -79.30072 43.8...</td>\n",
       "    </tr>\n",
       "    <tr>\n",
       "      <th>4</th>\n",
       "      <td>-0000434f-5000-0400-0000-000000a7db0d</td>\n",
       "      <td>60.0</td>\n",
       "      <td>3.0</td>\n",
       "      <td>Steeles Ave W</td>\n",
       "      <td>36.22</td>\n",
       "      <td>[ { \"timeSet\": 2, \"dateRange\": 1, \"harmonicAve...</td>\n",
       "      <td>LINESTRING (-79.53222 43.77324, -79.53211 43.7...</td>\n",
       "    </tr>\n",
       "    <tr>\n",
       "      <th>5</th>\n",
       "      <td>-0000434f-5000-0400-0000-000000a7db18</td>\n",
       "      <td>60.0</td>\n",
       "      <td>3.0</td>\n",
       "      <td>Steeles Ave W</td>\n",
       "      <td>49.58</td>\n",
       "      <td>[ { \"timeSet\": 2, \"dateRange\": 1, \"harmonicAve...</td>\n",
       "      <td>LINESTRING (-79.63014 43.75182, -79.62955 43.7...</td>\n",
       "    </tr>\n",
       "  </tbody>\n",
       "</table>\n",
       "</div>"
      ],
      "text/plain": [
       "                            newSegmentId  speedLimit  frc     streetName  \\\n",
       "1  -0000434f-5000-0400-0000-000000a7daf6        60.0  3.0  Steeles Ave W   \n",
       "2  -0000434f-5000-0400-0000-000000a7daff        60.0  3.0  Steeles Ave W   \n",
       "3  -0000434f-5000-0400-0000-000000a7db02        60.0  4.0  Steeles Ave E   \n",
       "4  -0000434f-5000-0400-0000-000000a7db0d        60.0  3.0  Steeles Ave W   \n",
       "5  -0000434f-5000-0400-0000-000000a7db18        60.0  3.0  Steeles Ave W   \n",
       "\n",
       "   distance                                 segmentTimeResults  \\\n",
       "1     46.29  [ { \"timeSet\": 2, \"dateRange\": 1, \"harmonicAve...   \n",
       "2     59.18  [ { \"timeSet\": 2, \"dateRange\": 1, \"harmonicAve...   \n",
       "3     52.77  [ { \"timeSet\": 2, \"dateRange\": 1, \"harmonicAve...   \n",
       "4     36.22  [ { \"timeSet\": 2, \"dateRange\": 1, \"harmonicAve...   \n",
       "5     49.58  [ { \"timeSet\": 2, \"dateRange\": 1, \"harmonicAve...   \n",
       "\n",
       "                                            geometry  \n",
       "1  LINESTRING (-79.52444 43.77480, -79.52388 43.7...  \n",
       "2  LINESTRING (-79.46387 43.78851, -79.46316 43.7...  \n",
       "3  LINESTRING (-79.30009 43.82530, -79.30072 43.8...  \n",
       "4  LINESTRING (-79.53222 43.77324, -79.53211 43.7...  \n",
       "5  LINESTRING (-79.63014 43.75182, -79.62955 43.7...  "
      ]
     },
     "execution_count": 6,
     "metadata": {},
     "output_type": "execute_result"
    }
   ],
   "source": [
    "traffic_toronto.head()"
   ]
  },
  {
   "cell_type": "code",
   "execution_count": null,
   "metadata": {},
   "outputs": [
    {
     "data": {
      "text/plain": [
       "'[ { \"timeSet\": 2, \"dateRange\": 1, \"harmonicAverageSpeed\": 16.820000, \"medianSpeed\": 31.200000, \"averageSpeed\": 32.780000, \"standardDeviationSpeed\": 19.390000, \"travelTimeStandardDeviation\": 15.410000, \"sampleSize\": 1772, \"averageTravelTime\": 9.910000, \"medianTravelTime\": 5.340000, \"travelTimeRatio\": 1.000000, \"speedPercentiles\": [ 5, 7, 9, 14, 18, 21, 24, 28, 29, 31, 32, 32, 37, 47, 50, 54, 57, 57, 64 ] } ]'"
      ]
     },
     "execution_count": 7,
     "metadata": {},
     "output_type": "execute_result"
    }
   ],
   "source": [
    "traffic_toronto.segmentTimeResults[1]"
   ]
  },
  {
   "cell_type": "code",
   "execution_count": null,
   "metadata": {},
   "outputs": [
    {
     "data": {
      "text/plain": [
       "<matplotlib.axes._subplots.AxesSubplot at 0x1ac7b17eac8>"
      ]
     },
     "execution_count": 8,
     "metadata": {},
     "output_type": "execute_result"
    },
    {
     "data": {
      "image/png": "[encoded data removed]",
      "text/plain": [
       "<Figure size 432x288 with 1 Axes>"
      ]
     },
     "metadata": {
      "needs_background": "light"
     },
     "output_type": "display_data"
    }
   ],
   "source": [
    "traffic_toronto.plot()"
   ]
  },
  {
   "cell_type": "markdown",
   "metadata": {},
   "source": []
  },
  {
   "cell_type": "code",
   "execution_count": null,
   "metadata": {},
   "outputs": [],
   "source": [
    "# http://polygons.openstreetmap.fr/index.py?id=43992 , polygon creation from osm id (turin = 43992)\n",
    "boundary_toronto = gpd.read_file(\"Data/Toronto.geojson\")\n",
    "#bbox = boundary_turin.envelope \n",
    "#df_bbox = gpd.GeoDataFrame(gpd.GeoSeries(bbox), columns = [\"geometry\"])\n",
    "#intersections = gpd.overlay(df_bbox, DF_roads_turin, how = \"intersection\")"
   ]
  },
  {
   "cell_type": "code",
   "execution_count": null,
   "metadata": {},
   "outputs": [],
   "source": [
    "# bbox = (7.25,44.8,8.1,45.4)\n",
    "DF_roads_toronto = gpd.read_file(\"Data/ontario-latest-free.shp/gis_osm_roads_free_1.shp\", bbox = boundary_toronto)\n",
    "DF_buildings_toronto = gpd.read_file(\"Data/ontario-latest-free.shp/gis_osm_buildings_a_free_1.shp\", bbox = boundary_toronto)\n",
    "# ferrovie di treni e tram\n",
    "DF_railway_toronto = gpd.read_file(\"Data/ontario-latest-free.shp/gis_osm_railways_free_1.shp\", bbox = boundary_toronto)\n",
    "#parcheggi, anche multipiano\n",
    "DF_parking_toronto = gpd.read_file(\"Data/ontario-latest-free.shp/gis_osm_traffic_a_free_1.shp\", bbox = boundary_toronto)\n",
    "\n",
    "# suburbs --> nella parte di sincronizzazione tra le misure restrittive, effetti lockdown \n",
    "DF_suburbs_toronto =  gpd.read_file(\"Data/ontario-latest-free.shp/gis_osm_places_a_free_1.shp\", bbox = boundary_toronto)\n",
    "# just in case\n",
    "DF_churches_toronto = gpd.read_file(\"Data/ontario-latest-free.shp/gis_osm_pofw_a_free_1.shp\", bbox = boundary_toronto)\n",
    "# ospedali, parchi, teatri \n",
    "DF_public_places_toronto = gpd.read_file(\"Data/ontario-latest-free.shp/gis_osm_pois_a_free_1.shp\", bbox = boundary_toronto)\n",
    "# DF_public_places_toronto[DF_public_places_toronto.fclass == \"hospital\"]\n",
    "# stazioni ferroviarie, fermate bus, tram, traghetto (lol?), taxi \n",
    "DF_transport_toronto = gpd.read_file(\"Data/ontario-latest-free.shp/gis_osm_transport_a_free_1.shp\", bbox = boundary_toronto)"
   ]
  },
  {
   "cell_type": "code",
   "execution_count": null,
   "metadata": {},
   "outputs": [],
   "source": [
    "DF_roads_toronto.to_file(\"Data/Toronto_final/Roads_Toronto.shp\")\n",
    "DF_buildings_toronto.to_file(\"Data/Toronto_final/Buildings_Toronto.shp\")"
   ]
  },
  {
   "cell_type": "code",
   "execution_count": null,
   "metadata": {},
   "outputs": [],
   "source": [
    "DF_public_places_toronto[DF_public_places_toronto.fclass == \"hospital\"].to_file(\"Data/Toronto_final/Hospitals_toronto.shp\")"
   ]
  },
  {
   "cell_type": "code",
   "execution_count": null,
   "metadata": {},
   "outputs": [],
   "source": [
    "print(DF_roads_toronto.shape)\n",
    "print(DF_buildings_toronto.shape)\n",
    "print(DF_railway_toronto.shape)\n",
    "print(DF_parking_toronto.shape)"
   ]
  },
  {
   "cell_type": "code",
   "execution_count": null,
   "metadata": {},
   "outputs": [],
   "source": [
    "# matplotlib qt permette di avere una figura interattiva\n",
    "# %matplotlib qt\n",
    "\n",
    "#%matplotlib inline\n",
    "\n",
    "fig, ax = plt.subplots(figsize=(20, 20))\n",
    "DF_roads_toronto.plot(ax = ax, alpha = 0.4, color = \"black\")\n",
    "DF_buildings_toronto.plot(ax = ax, alpha = 0.8, color = \"orange\")\n",
    "DF_public_places_toronto.plot(ax = ax , alpha = 0.6, color = \"pink\")\n",
    "DF_parking_toronto.plot(ax = ax, alpha = 0.7, color = \"blue\")\n",
    "DF_churches_toronto.plot(ax = ax, alpha = 0.7, color = \"green\")\n",
    "DF_railway_toronto.plot(ax = ax, alpha = 0.4, color = \"red\")\n",
    "fig.savefig(\"Toronto_Net.png\", dpi = 300)\n",
    "#ax.set_xlim([7.56, 7.78])\n",
    "#ax.set_ylim([45, 45.155])"
   ]
  },
  {
   "cell_type": "code",
   "execution_count": null,
   "metadata": {},
   "outputs": [],
   "source": []
  },
  {
   "cell_type": "code",
   "execution_count": null,
   "metadata": {},
   "outputs": [],
   "source": []
  },
  {
   "cell_type": "code",
   "execution_count": null,
   "metadata": {},
   "outputs": [],
   "source": []
  },
  {
   "cell_type": "code",
   "execution_count": null,
   "metadata": {},
   "outputs": [],
   "source": []
  },
  {
   "cell_type": "code",
   "execution_count": null,
   "metadata": {},
   "outputs": [],
   "source": []
  },
  {
   "cell_type": "code",
   "execution_count": null,
   "metadata": {},
   "outputs": [],
   "source": []
  },
  {
   "cell_type": "code",
   "execution_count": null,
   "metadata": {},
   "outputs": [],
   "source": []
  },
  {
   "cell_type": "code",
   "execution_count": null,
   "metadata": {},
   "outputs": [],
   "source": []
  },
  {
   "cell_type": "code",
   "execution_count": null,
   "metadata": {},
   "outputs": [],
   "source": []
  },
  {
   "cell_type": "code",
   "execution_count": null,
   "metadata": {},
   "outputs": [],
   "source": []
  },
  {
   "cell_type": "code",
   "execution_count": null,
   "metadata": {},
   "outputs": [],
   "source": []
  },
  {
   "cell_type": "code",
   "execution_count": null,
   "metadata": {},
   "outputs": [],
   "source": []
  },
  {
   "cell_type": "code",
   "execution_count": null,
   "metadata": {},
   "outputs": [],
   "source": []
  }
 ],
 "metadata": {
  "kernelspec": {
   "display_name": "Python 3",
   "language": "python",
   "name": "python3"
  },
  "language_info": {
   "codemirror_mode": {
    "name": "ipython",
    "version": 3
   },
   "file_extension": ".py",
   "mimetype": "text/x-python",
   "name": "python",
   "nbconvert_exporter": "python",
   "pygments_lexer": "ipython3",
   "version": "3.7.3"
  }
 },
 "nbformat": 4,
 "nbformat_minor": 2
}
