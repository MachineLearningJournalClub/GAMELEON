{
  "nbformat": 4,
  "nbformat_minor": 0,
  "metadata": {
    "colab": {
      "name": "Multiplex_Analysis.ipynb",
      "provenance": [],
      "collapsed_sections": [],
      "authorship_tag": "ABX9TyPWqjNEwiQVH1SwfneyGQ8G",
      "include_colab_link": true
    },
    "kernelspec": {
      "name": "python3",
      "display_name": "Python 3"
    },
    "widgets": {
      "application/vnd.jupyter.widget-state+json": {
        "58165331c87140329aacfcdf0237aaba": {
          "model_module": "@jupyter-widgets/controls",
          "model_name": "HBoxModel",
          "state": {
            "_view_name": "HBoxView",
            "_dom_classes": [],
            "_model_name": "HBoxModel",
            "_view_module": "@jupyter-widgets/controls",
            "_model_module_version": "1.5.0",
            "_view_count": null,
            "_view_module_version": "1.5.0",
            "box_style": "",
            "layout": "IPY_MODEL_2fb1f41be8a147409983618e6cb0f168",
            "_model_module": "@jupyter-widgets/controls",
            "children": [
              "IPY_MODEL_3fb1113b68a640e5b451c2e3a8e47b73",
              "IPY_MODEL_76839ba4915d428f8e57856646c70250"
            ]
          }
        },
        "2fb1f41be8a147409983618e6cb0f168": {
          "model_module": "@jupyter-widgets/base",
          "model_name": "LayoutModel",
          "state": {
            "_view_name": "LayoutView",
            "grid_template_rows": null,
            "right": null,
            "justify_content": null,
            "_view_module": "@jupyter-widgets/base",
            "overflow": null,
            "_model_module_version": "1.2.0",
            "_view_count": null,
            "flex_flow": null,
            "width": null,
            "min_width": null,
            "border": null,
            "align_items": null,
            "bottom": null,
            "_model_module": "@jupyter-widgets/base",
            "top": null,
            "grid_column": null,
            "overflow_y": null,
            "overflow_x": null,
            "grid_auto_flow": null,
            "grid_area": null,
            "grid_template_columns": null,
            "flex": null,
            "_model_name": "LayoutModel",
            "justify_items": null,
            "grid_row": null,
            "max_height": null,
            "align_content": null,
            "visibility": null,
            "align_self": null,
            "height": null,
            "min_height": null,
            "padding": null,
            "grid_auto_rows": null,
            "grid_gap": null,
            "max_width": null,
            "order": null,
            "_view_module_version": "1.2.0",
            "grid_template_areas": null,
            "object_position": null,
            "object_fit": null,
            "grid_auto_columns": null,
            "margin": null,
            "display": null,
            "left": null
          }
        },
        "3fb1113b68a640e5b451c2e3a8e47b73": {
          "model_module": "@jupyter-widgets/controls",
          "model_name": "FloatProgressModel",
          "state": {
            "_view_name": "ProgressView",
            "style": "IPY_MODEL_fb1b7e489d8c4176b9b4cb00b0ab50db",
            "_dom_classes": [],
            "description": "100%",
            "_model_name": "FloatProgressModel",
            "bar_style": "success",
            "max": 1200,
            "_view_module": "@jupyter-widgets/controls",
            "_model_module_version": "1.5.0",
            "value": 1200,
            "_view_count": null,
            "_view_module_version": "1.5.0",
            "orientation": "horizontal",
            "min": 0,
            "description_tooltip": null,
            "_model_module": "@jupyter-widgets/controls",
            "layout": "IPY_MODEL_18efe6730760406bb5981d3b960b6372"
          }
        },
        "76839ba4915d428f8e57856646c70250": {
          "model_module": "@jupyter-widgets/controls",
          "model_name": "HTMLModel",
          "state": {
            "_view_name": "HTMLView",
            "style": "IPY_MODEL_9fa9f886b2dc40fb88ea4d0357ee4d03",
            "_dom_classes": [],
            "description": "",
            "_model_name": "HTMLModel",
            "placeholder": "​",
            "_view_module": "@jupyter-widgets/controls",
            "_model_module_version": "1.5.0",
            "value": " 1200/1200 [17:08&lt;00:00,  1.17it/s]",
            "_view_count": null,
            "_view_module_version": "1.5.0",
            "description_tooltip": null,
            "_model_module": "@jupyter-widgets/controls",
            "layout": "IPY_MODEL_1223fead982748509b3bc5c1ed67dcec"
          }
        },
        "fb1b7e489d8c4176b9b4cb00b0ab50db": {
          "model_module": "@jupyter-widgets/controls",
          "model_name": "ProgressStyleModel",
          "state": {
            "_view_name": "StyleView",
            "_model_name": "ProgressStyleModel",
            "description_width": "initial",
            "_view_module": "@jupyter-widgets/base",
            "_model_module_version": "1.5.0",
            "_view_count": null,
            "_view_module_version": "1.2.0",
            "bar_color": null,
            "_model_module": "@jupyter-widgets/controls"
          }
        },
        "18efe6730760406bb5981d3b960b6372": {
          "model_module": "@jupyter-widgets/base",
          "model_name": "LayoutModel",
          "state": {
            "_view_name": "LayoutView",
            "grid_template_rows": null,
            "right": null,
            "justify_content": null,
            "_view_module": "@jupyter-widgets/base",
            "overflow": null,
            "_model_module_version": "1.2.0",
            "_view_count": null,
            "flex_flow": null,
            "width": null,
            "min_width": null,
            "border": null,
            "align_items": null,
            "bottom": null,
            "_model_module": "@jupyter-widgets/base",
            "top": null,
            "grid_column": null,
            "overflow_y": null,
            "overflow_x": null,
            "grid_auto_flow": null,
            "grid_area": null,
            "grid_template_columns": null,
            "flex": null,
            "_model_name": "LayoutModel",
            "justify_items": null,
            "grid_row": null,
            "max_height": null,
            "align_content": null,
            "visibility": null,
            "align_self": null,
            "height": null,
            "min_height": null,
            "padding": null,
            "grid_auto_rows": null,
            "grid_gap": null,
            "max_width": null,
            "order": null,
            "_view_module_version": "1.2.0",
            "grid_template_areas": null,
            "object_position": null,
            "object_fit": null,
            "grid_auto_columns": null,
            "margin": null,
            "display": null,
            "left": null
          }
        },
        "9fa9f886b2dc40fb88ea4d0357ee4d03": {
          "model_module": "@jupyter-widgets/controls",
          "model_name": "DescriptionStyleModel",
          "state": {
            "_view_name": "StyleView",
            "_model_name": "DescriptionStyleModel",
            "description_width": "",
            "_view_module": "@jupyter-widgets/base",
            "_model_module_version": "1.5.0",
            "_view_count": null,
            "_view_module_version": "1.2.0",
            "_model_module": "@jupyter-widgets/controls"
          }
        },
        "1223fead982748509b3bc5c1ed67dcec": {
          "model_module": "@jupyter-widgets/base",
          "model_name": "LayoutModel",
          "state": {
            "_view_name": "LayoutView",
            "grid_template_rows": null,
            "right": null,
            "justify_content": null,
            "_view_module": "@jupyter-widgets/base",
            "overflow": null,
            "_model_module_version": "1.2.0",
            "_view_count": null,
            "flex_flow": null,
            "width": null,
            "min_width": null,
            "border": null,
            "align_items": null,
            "bottom": null,
            "_model_module": "@jupyter-widgets/base",
            "top": null,
            "grid_column": null,
            "overflow_y": null,
            "overflow_x": null,
            "grid_auto_flow": null,
            "grid_area": null,
            "grid_template_columns": null,
            "flex": null,
            "_model_name": "LayoutModel",
            "justify_items": null,
            "grid_row": null,
            "max_height": null,
            "align_content": null,
            "visibility": null,
            "align_self": null,
            "height": null,
            "min_height": null,
            "padding": null,
            "grid_auto_rows": null,
            "grid_gap": null,
            "max_width": null,
            "order": null,
            "_view_module_version": "1.2.0",
            "grid_template_areas": null,
            "object_position": null,
            "object_fit": null,
            "grid_auto_columns": null,
            "margin": null,
            "display": null,
            "left": null
          }
        }
      }
    }
  },
  "cells": [
    {
      "cell_type": "markdown",
      "metadata": {
        "id": "view-in-github",
        "colab_type": "text"
      },
      "source": [
        "<a href=\"https://colab.research.google.com/github/sazio/MultiAgentCovid/blob/master/Multiplex_Analysis.ipynb\" target=\"_parent\"><img src=\"https://colab.research.google.com/assets/colab-badge.svg\" alt=\"Open In Colab\"/></a>"
      ]
    },
    {
      "cell_type": "markdown",
      "metadata": {
        "id": "r7eBo3xjzz6r"
      },
      "source": [
        "## Import Data and match Agents with Buildings"
      ]
    },
    {
      "cell_type": "code",
      "metadata": {
        "id": "2_TEwY8VzvIa"
      },
      "source": [
        "import numpy as np\n",
        "import pandas as pd \n",
        "import glob \n",
        "from tqdm.notebook import tqdm "
      ],
      "execution_count": 43,
      "outputs": []
    },
    {
      "cell_type": "code",
      "metadata": {
        "colab": {
          "base_uri": "https://localhost:8080/"
        },
        "id": "6X0r82Gdz7-q",
        "outputId": "51f5a258-7f3a-4d40-bab6-55e9251ee590"
      },
      "source": [
        "from google.colab import drive\n",
        "drive.mount('/content/drive', force_remount= True)"
      ],
      "execution_count": 2,
      "outputs": [
        {
          "output_type": "stream",
          "text": [
            "Mounted at /content/drive\n"
          ],
          "name": "stdout"
        }
      ]
    },
    {
      "cell_type": "code",
      "metadata": {
        "id": "ihMbH7cU0cdj"
      },
      "source": [
        "path = \"drive/MyDrive/MAS/Data/Output_GAMA/Data\"\n",
        "\n",
        "agents_path = path + \"/Agents\"\n",
        "buildings_path = path + \"/Buildings\"\n",
        "\n",
        "agents_files = glob.glob(agents_path + \"/*.csv\")\n",
        "buildings_file = glob.glob(buildings_path + \"/*.csv\")\n",
        "\n",
        "agents_1_day = [agents_files[i] for i in range(0,24)]"
      ],
      "execution_count": 73,
      "outputs": []
    },
    {
      "cell_type": "code",
      "metadata": {
        "id": "Rr1lfojv1lnl",
        "colab": {
          "base_uri": "https://localhost:8080/",
          "height": 204
        },
        "outputId": "8e098d2f-e808-4da9-914c-5509916cfd74"
      },
      "source": [
        "DF_buildings = pd.read_csv(buildings_file[0], sep = \",\", names = [\"name\", \"loc_x\", \"loc_y\", \"loc_z\"])\n",
        "DF_buildings = DF_buildings.iloc[1:]\n",
        "DF_buildings = DF_buildings.reset_index(drop = True)\n",
        "DF_buildings[\"name\"] = DF_buildings[\"name\"].str[:8] + \"(\" + DF_buildings[\"name\"].str[8:] + \")\"\n",
        "DF_buildings[\"loc_x\"] = DF_buildings[\"loc_x\"].str[1:].astype(np.float32)\n",
        "DF_buildings[\"loc_y\"] = DF_buildings[\"loc_y\"].astype(np.float32)\n",
        "DF_buildings[\"loc_z\"] = DF_buildings[\"loc_z\"].str[:-1].astype(np.float32)\n",
        "\n",
        "DF_buildings.head()"
      ],
      "execution_count": 5,
      "outputs": [
        {
          "output_type": "execute_result",
          "data": {
            "text/html": [
              "<div>\n",
              "<style scoped>\n",
              "    .dataframe tbody tr th:only-of-type {\n",
              "        vertical-align: middle;\n",
              "    }\n",
              "\n",
              "    .dataframe tbody tr th {\n",
              "        vertical-align: top;\n",
              "    }\n",
              "\n",
              "    .dataframe thead th {\n",
              "        text-align: right;\n",
              "    }\n",
              "</style>\n",
              "<table border=\"1\" class=\"dataframe\">\n",
              "  <thead>\n",
              "    <tr style=\"text-align: right;\">\n",
              "      <th></th>\n",
              "      <th>name</th>\n",
              "      <th>loc_x</th>\n",
              "      <th>loc_y</th>\n",
              "      <th>loc_z</th>\n",
              "    </tr>\n",
              "  </thead>\n",
              "  <tbody>\n",
              "    <tr>\n",
              "      <th>0</th>\n",
              "      <td>building(0)</td>\n",
              "      <td>4258.587891</td>\n",
              "      <td>8622.923828</td>\n",
              "      <td>0.0</td>\n",
              "    </tr>\n",
              "    <tr>\n",
              "      <th>1</th>\n",
              "      <td>building(1)</td>\n",
              "      <td>4205.688477</td>\n",
              "      <td>8554.613281</td>\n",
              "      <td>0.0</td>\n",
              "    </tr>\n",
              "    <tr>\n",
              "      <th>2</th>\n",
              "      <td>building(2)</td>\n",
              "      <td>4172.957031</td>\n",
              "      <td>8508.589844</td>\n",
              "      <td>0.0</td>\n",
              "    </tr>\n",
              "    <tr>\n",
              "      <th>3</th>\n",
              "      <td>building(3)</td>\n",
              "      <td>4653.243164</td>\n",
              "      <td>8230.745117</td>\n",
              "      <td>0.0</td>\n",
              "    </tr>\n",
              "    <tr>\n",
              "      <th>4</th>\n",
              "      <td>building(4)</td>\n",
              "      <td>4630.689941</td>\n",
              "      <td>8173.111816</td>\n",
              "      <td>0.0</td>\n",
              "    </tr>\n",
              "  </tbody>\n",
              "</table>\n",
              "</div>"
            ],
            "text/plain": [
              "          name        loc_x        loc_y  loc_z\n",
              "0  building(0)  4258.587891  8622.923828    0.0\n",
              "1  building(1)  4205.688477  8554.613281    0.0\n",
              "2  building(2)  4172.957031  8508.589844    0.0\n",
              "3  building(3)  4653.243164  8230.745117    0.0\n",
              "4  building(4)  4630.689941  8173.111816    0.0"
            ]
          },
          "metadata": {
            "tags": []
          },
          "execution_count": 5
        }
      ]
    },
    {
      "cell_type": "code",
      "metadata": {
        "colab": {
          "base_uri": "https://localhost:8080/",
          "height": 204
        },
        "id": "DVje05BS27hQ",
        "outputId": "8be6497d-3eb8-4dd1-c736-1846f5f79c9a"
      },
      "source": [
        "# First Agents file as example (ToDo --> function from this stuff)\n",
        "DF_agents = pd.read_csv(agents_files[0], sep = \",\", names = [\"name\", \"cycle\",\"loc_x\", \"loc_y\", \"loc_z\",\"living_place\",\n",
        "\"working_place\",\"stuff_place\", \"is_susceptible\", \"is_infected\", \"is_immune\"])\n",
        "DF_agents = DF_agents.iloc[1:]\n",
        "DF_agents = DF_agents.reset_index(drop = True)\n",
        "DF_agents[\"loc_x\"] = DF_agents[\"loc_x\"].str[1:].astype(np.float32)\n",
        "DF_agents[\"loc_y\"] = DF_agents[\"loc_y\"].astype(np.float32)\n",
        "DF_agents[\"loc_z\"] = DF_agents[\"loc_z\"].str[:-1].astype(np.float32)\n",
        "\n",
        "DF_agents = DF_agents.replace({\"is_susceptible\":{\"true\":True, \"false\":False}})\n",
        "DF_agents = DF_agents.replace({\"is_infected\":{\"True\":True, \"False\":False}})\n",
        "DF_agents = DF_agents.replace({\"is_immune\":{\"True\":True, \"False\":False}})\n",
        "\n",
        "DF_agents.head()"
      ],
      "execution_count": 6,
      "outputs": [
        {
          "output_type": "execute_result",
          "data": {
            "text/html": [
              "<div>\n",
              "<style scoped>\n",
              "    .dataframe tbody tr th:only-of-type {\n",
              "        vertical-align: middle;\n",
              "    }\n",
              "\n",
              "    .dataframe tbody tr th {\n",
              "        vertical-align: top;\n",
              "    }\n",
              "\n",
              "    .dataframe thead th {\n",
              "        text-align: right;\n",
              "    }\n",
              "</style>\n",
              "<table border=\"1\" class=\"dataframe\">\n",
              "  <thead>\n",
              "    <tr style=\"text-align: right;\">\n",
              "      <th></th>\n",
              "      <th>name</th>\n",
              "      <th>cycle</th>\n",
              "      <th>loc_x</th>\n",
              "      <th>loc_y</th>\n",
              "      <th>loc_z</th>\n",
              "      <th>living_place</th>\n",
              "      <th>working_place</th>\n",
              "      <th>stuff_place</th>\n",
              "      <th>is_susceptible</th>\n",
              "      <th>is_infected</th>\n",
              "      <th>is_immune</th>\n",
              "    </tr>\n",
              "  </thead>\n",
              "  <tbody>\n",
              "    <tr>\n",
              "      <th>0</th>\n",
              "      <td>people0</td>\n",
              "      <td>401</td>\n",
              "      <td>4047.333740</td>\n",
              "      <td>2014.397461</td>\n",
              "      <td>0.0</td>\n",
              "      <td>building(1408)</td>\n",
              "      <td>building(220)</td>\n",
              "      <td>building(3381)</td>\n",
              "      <td>False</td>\n",
              "      <td>False</td>\n",
              "      <td>True</td>\n",
              "    </tr>\n",
              "    <tr>\n",
              "      <th>1</th>\n",
              "      <td>people1</td>\n",
              "      <td>401</td>\n",
              "      <td>1911.168823</td>\n",
              "      <td>3917.855225</td>\n",
              "      <td>0.0</td>\n",
              "      <td>building(1350)</td>\n",
              "      <td>building(5862)</td>\n",
              "      <td>building(6186)</td>\n",
              "      <td>False</td>\n",
              "      <td>True</td>\n",
              "      <td>False</td>\n",
              "    </tr>\n",
              "    <tr>\n",
              "      <th>2</th>\n",
              "      <td>people2</td>\n",
              "      <td>401</td>\n",
              "      <td>3277.526123</td>\n",
              "      <td>657.434082</td>\n",
              "      <td>0.0</td>\n",
              "      <td>building(2112)</td>\n",
              "      <td>building(84)</td>\n",
              "      <td>building(6398)</td>\n",
              "      <td>True</td>\n",
              "      <td>False</td>\n",
              "      <td>False</td>\n",
              "    </tr>\n",
              "    <tr>\n",
              "      <th>3</th>\n",
              "      <td>people3</td>\n",
              "      <td>401</td>\n",
              "      <td>3803.600098</td>\n",
              "      <td>1790.961182</td>\n",
              "      <td>0.0</td>\n",
              "      <td>building(5496)</td>\n",
              "      <td>building(5860)</td>\n",
              "      <td>building(6211)</td>\n",
              "      <td>True</td>\n",
              "      <td>False</td>\n",
              "      <td>False</td>\n",
              "    </tr>\n",
              "    <tr>\n",
              "      <th>4</th>\n",
              "      <td>people4</td>\n",
              "      <td>401</td>\n",
              "      <td>3402.263672</td>\n",
              "      <td>7576.838379</td>\n",
              "      <td>0.0</td>\n",
              "      <td>building(1101)</td>\n",
              "      <td>building(266)</td>\n",
              "      <td>building(2286)</td>\n",
              "      <td>True</td>\n",
              "      <td>False</td>\n",
              "      <td>False</td>\n",
              "    </tr>\n",
              "  </tbody>\n",
              "</table>\n",
              "</div>"
            ],
            "text/plain": [
              "      name cycle        loc_x  ...  is_susceptible  is_infected is_immune\n",
              "0  people0   401  4047.333740  ...           False        False      True\n",
              "1  people1   401  1911.168823  ...           False         True     False\n",
              "2  people2   401  3277.526123  ...            True        False     False\n",
              "3  people3   401  3803.600098  ...            True        False     False\n",
              "4  people4   401  3402.263672  ...            True        False     False\n",
              "\n",
              "[5 rows x 11 columns]"
            ]
          },
          "metadata": {
            "tags": []
          },
          "execution_count": 6
        }
      ]
    },
    {
      "cell_type": "code",
      "metadata": {
        "id": "7Yu2mzhXJBuq"
      },
      "source": [
        "def is_in_which_building(DF_buildings, DF_agents, agent_index):\n",
        "\n",
        "  \"\"\"\n",
        "  Check if the agent is in some building or in the street (if alive), useful to build a multiplex network \n",
        "\n",
        "  \"\"\"\n",
        "  # In case some of the locations are \"nil\", i.e. non existing, it basically means that our agent is dead\n",
        "  if DF_agents.values[agent_index,5]  == \"nil\":\n",
        "    return \"Dead\"\n",
        "\n",
        "  elif DF_agents.values[agent_index,6] == \"nil\":  \n",
        "    return \"Dead\"\n",
        "\n",
        "  elif DF_agents.values[agent_index,7] == \"nil\": \n",
        "    return \"Dead\"\n",
        "\n",
        "  # In case our agent is alive \n",
        "  else:\n",
        "\n",
        "    living_coord = DF_buildings[DF_buildings.name == DF_agents.values[agent_index,5]].values[0][1:3]\n",
        "    working_coord = DF_buildings[DF_buildings.name == DF_agents.values[agent_index,6]].values[0][1:3]\n",
        "    stuff_coord = DF_buildings[DF_buildings.name == DF_agents.values[agent_index,7]].values[0][1:3]\n",
        "\n",
        "    agent_coord = DF_agents.values[agent_index,2:4]\n",
        "\n",
        "    liv_ag_dist = np.linalg.norm(living_coord - agent_coord)\n",
        "    wor_ag_dist = np.linalg.norm(working_coord - agent_coord)\n",
        "    stu_ag_dist = np.linalg.norm(stuff_coord - agent_coord)\n",
        "\n",
        "    if min(liv_ag_dist, wor_ag_dist, stu_ag_dist) == liv_ag_dist and liv_ag_dist < 80:\n",
        "\n",
        "      return DF_agents.values[agent_index,5]\n",
        "\n",
        "    elif  min(liv_ag_dist, wor_ag_dist, stu_ag_dist) == wor_ag_dist and wor_ag_dist < 80:\n",
        "\n",
        "      return DF_agents.values[agent_index,6]\n",
        "\n",
        "    elif  min(liv_ag_dist, wor_ag_dist, stu_ag_dist) == stu_ag_dist and stu_ag_dist < 80:\n",
        "\n",
        "      return DF_agents.values[agent_index,7]\n",
        "\n",
        "    # In case our agent is on the road to some place \n",
        "    else: \n",
        "\n",
        "      return \"None\""
      ],
      "execution_count": 68,
      "outputs": []
    },
    {
      "cell_type": "code",
      "metadata": {
        "colab": {
          "base_uri": "https://localhost:8080/",
          "height": 66,
          "referenced_widgets": [
            "58165331c87140329aacfcdf0237aaba",
            "2fb1f41be8a147409983618e6cb0f168",
            "3fb1113b68a640e5b451c2e3a8e47b73",
            "76839ba4915d428f8e57856646c70250",
            "fb1b7e489d8c4176b9b4cb00b0ab50db",
            "18efe6730760406bb5981d3b960b6372",
            "9fa9f886b2dc40fb88ea4d0357ee4d03",
            "1223fead982748509b3bc5c1ed67dcec"
          ]
        },
        "id": "vUfP4q-YLPbA",
        "outputId": "923c9302-611d-414e-8ed3-af9850f6aa14"
      },
      "source": [
        "# ToDo, iterrows is not the most efficient, find a faster way (e.g. apply)\n",
        "for index,row in tqdm(DF_agents.iterrows(), total = DF_agents.shape[0]):\n",
        "    DF_agents.loc[index,'current_location'] = is_in_which_building(DF_buildings, DF_agents, agent_index = index)"
      ],
      "execution_count": 69,
      "outputs": [
        {
          "output_type": "display_data",
          "data": {
            "application/vnd.jupyter.widget-view+json": {
              "model_id": "58165331c87140329aacfcdf0237aaba",
              "version_minor": 0,
              "version_major": 2
            },
            "text/plain": [
              "HBox(children=(FloatProgress(value=0.0, max=1200.0), HTML(value='')))"
            ]
          },
          "metadata": {
            "tags": []
          }
        },
        {
          "output_type": "stream",
          "text": [
            "\n"
          ],
          "name": "stdout"
        }
      ]
    },
    {
      "cell_type": "code",
      "metadata": {
        "id": "SHVsDr43SUVi",
        "outputId": "76e8bfd5-4413-4a59-f106-a44bc4d2b0a1",
        "colab": {
          "base_uri": "https://localhost:8080/",
          "height": 204
        }
      },
      "source": [
        "DF_agents[DF_agents.current_location.duplicated()].head()"
      ],
      "execution_count": 80,
      "outputs": [
        {
          "output_type": "execute_result",
          "data": {
            "text/html": [
              "<div>\n",
              "<style scoped>\n",
              "    .dataframe tbody tr th:only-of-type {\n",
              "        vertical-align: middle;\n",
              "    }\n",
              "\n",
              "    .dataframe tbody tr th {\n",
              "        vertical-align: top;\n",
              "    }\n",
              "\n",
              "    .dataframe thead th {\n",
              "        text-align: right;\n",
              "    }\n",
              "</style>\n",
              "<table border=\"1\" class=\"dataframe\">\n",
              "  <thead>\n",
              "    <tr style=\"text-align: right;\">\n",
              "      <th></th>\n",
              "      <th>name</th>\n",
              "      <th>cycle</th>\n",
              "      <th>loc_x</th>\n",
              "      <th>loc_y</th>\n",
              "      <th>loc_z</th>\n",
              "      <th>living_place</th>\n",
              "      <th>working_place</th>\n",
              "      <th>stuff_place</th>\n",
              "      <th>is_susceptible</th>\n",
              "      <th>is_infected</th>\n",
              "      <th>is_immune</th>\n",
              "      <th>current_location</th>\n",
              "    </tr>\n",
              "  </thead>\n",
              "  <tbody>\n",
              "    <tr>\n",
              "      <th>10</th>\n",
              "      <td>people10</td>\n",
              "      <td>401</td>\n",
              "      <td>3804.095215</td>\n",
              "      <td>1785.334595</td>\n",
              "      <td>0.0</td>\n",
              "      <td>building(1800)</td>\n",
              "      <td>building(336)</td>\n",
              "      <td>building(6211)</td>\n",
              "      <td>True</td>\n",
              "      <td>False</td>\n",
              "      <td>False</td>\n",
              "      <td>building(6211)</td>\n",
              "    </tr>\n",
              "    <tr>\n",
              "      <th>13</th>\n",
              "      <td>people15</td>\n",
              "      <td>401</td>\n",
              "      <td>3664.964355</td>\n",
              "      <td>2534.839355</td>\n",
              "      <td>0.0</td>\n",
              "      <td>building(2221)</td>\n",
              "      <td>building(260)</td>\n",
              "      <td>building(6446)</td>\n",
              "      <td>True</td>\n",
              "      <td>False</td>\n",
              "      <td>False</td>\n",
              "      <td>None</td>\n",
              "    </tr>\n",
              "    <tr>\n",
              "      <th>14</th>\n",
              "      <td>people16</td>\n",
              "      <td>401</td>\n",
              "      <td>4290.428223</td>\n",
              "      <td>4583.939941</td>\n",
              "      <td>0.0</td>\n",
              "      <td>building(6702)</td>\n",
              "      <td>building(1228)</td>\n",
              "      <td>building(6186)</td>\n",
              "      <td>False</td>\n",
              "      <td>False</td>\n",
              "      <td>True</td>\n",
              "      <td>None</td>\n",
              "    </tr>\n",
              "    <tr>\n",
              "      <th>18</th>\n",
              "      <td>people20</td>\n",
              "      <td>401</td>\n",
              "      <td>3480.477539</td>\n",
              "      <td>395.809479</td>\n",
              "      <td>0.0</td>\n",
              "      <td>building(5497)</td>\n",
              "      <td>building(222)</td>\n",
              "      <td>building(1325)</td>\n",
              "      <td>False</td>\n",
              "      <td>False</td>\n",
              "      <td>True</td>\n",
              "      <td>None</td>\n",
              "    </tr>\n",
              "    <tr>\n",
              "      <th>20</th>\n",
              "      <td>people22</td>\n",
              "      <td>401</td>\n",
              "      <td>3220.980225</td>\n",
              "      <td>2934.556396</td>\n",
              "      <td>0.0</td>\n",
              "      <td>building(6524)</td>\n",
              "      <td>building(3198)</td>\n",
              "      <td>building(1407)</td>\n",
              "      <td>False</td>\n",
              "      <td>True</td>\n",
              "      <td>False</td>\n",
              "      <td>None</td>\n",
              "    </tr>\n",
              "  </tbody>\n",
              "</table>\n",
              "</div>"
            ],
            "text/plain": [
              "        name cycle        loc_x  ...  is_infected  is_immune current_location\n",
              "10  people10   401  3804.095215  ...        False      False   building(6211)\n",
              "13  people15   401  3664.964355  ...        False      False             None\n",
              "14  people16   401  4290.428223  ...        False       True             None\n",
              "18  people20   401  3480.477539  ...        False       True             None\n",
              "20  people22   401  3220.980225  ...         True      False             None\n",
              "\n",
              "[5 rows x 12 columns]"
            ]
          },
          "metadata": {
            "tags": []
          },
          "execution_count": 80
        }
      ]
    },
    {
      "cell_type": "code",
      "metadata": {
        "id": "6UYqueAtEMUy",
        "outputId": "81c4e8ee-2a7d-44bc-a83d-73f6daa463e0",
        "colab": {
          "base_uri": "https://localhost:8080/",
          "height": 204
        }
      },
      "source": [
        "DF_agents[DF_agents.current_location == \"building(6211)\"].head()"
      ],
      "execution_count": 79,
      "outputs": [
        {
          "output_type": "execute_result",
          "data": {
            "text/html": [
              "<div>\n",
              "<style scoped>\n",
              "    .dataframe tbody tr th:only-of-type {\n",
              "        vertical-align: middle;\n",
              "    }\n",
              "\n",
              "    .dataframe tbody tr th {\n",
              "        vertical-align: top;\n",
              "    }\n",
              "\n",
              "    .dataframe thead th {\n",
              "        text-align: right;\n",
              "    }\n",
              "</style>\n",
              "<table border=\"1\" class=\"dataframe\">\n",
              "  <thead>\n",
              "    <tr style=\"text-align: right;\">\n",
              "      <th></th>\n",
              "      <th>name</th>\n",
              "      <th>cycle</th>\n",
              "      <th>loc_x</th>\n",
              "      <th>loc_y</th>\n",
              "      <th>loc_z</th>\n",
              "      <th>living_place</th>\n",
              "      <th>working_place</th>\n",
              "      <th>stuff_place</th>\n",
              "      <th>is_susceptible</th>\n",
              "      <th>is_infected</th>\n",
              "      <th>is_immune</th>\n",
              "      <th>current_location</th>\n",
              "    </tr>\n",
              "  </thead>\n",
              "  <tbody>\n",
              "    <tr>\n",
              "      <th>3</th>\n",
              "      <td>people3</td>\n",
              "      <td>401</td>\n",
              "      <td>3803.600098</td>\n",
              "      <td>1790.961182</td>\n",
              "      <td>0.0</td>\n",
              "      <td>building(5496)</td>\n",
              "      <td>building(5860)</td>\n",
              "      <td>building(6211)</td>\n",
              "      <td>True</td>\n",
              "      <td>False</td>\n",
              "      <td>False</td>\n",
              "      <td>building(6211)</td>\n",
              "    </tr>\n",
              "    <tr>\n",
              "      <th>10</th>\n",
              "      <td>people10</td>\n",
              "      <td>401</td>\n",
              "      <td>3804.095215</td>\n",
              "      <td>1785.334595</td>\n",
              "      <td>0.0</td>\n",
              "      <td>building(1800)</td>\n",
              "      <td>building(336)</td>\n",
              "      <td>building(6211)</td>\n",
              "      <td>True</td>\n",
              "      <td>False</td>\n",
              "      <td>False</td>\n",
              "      <td>building(6211)</td>\n",
              "    </tr>\n",
              "    <tr>\n",
              "      <th>62</th>\n",
              "      <td>people69</td>\n",
              "      <td>401</td>\n",
              "      <td>3817.859375</td>\n",
              "      <td>1793.564697</td>\n",
              "      <td>0.0</td>\n",
              "      <td>building(904)</td>\n",
              "      <td>building(2088)</td>\n",
              "      <td>building(6211)</td>\n",
              "      <td>False</td>\n",
              "      <td>False</td>\n",
              "      <td>True</td>\n",
              "      <td>building(6211)</td>\n",
              "    </tr>\n",
              "    <tr>\n",
              "      <th>90</th>\n",
              "      <td>people101</td>\n",
              "      <td>401</td>\n",
              "      <td>3826.621826</td>\n",
              "      <td>1795.730347</td>\n",
              "      <td>0.0</td>\n",
              "      <td>building(1330)</td>\n",
              "      <td>building(306)</td>\n",
              "      <td>building(6211)</td>\n",
              "      <td>True</td>\n",
              "      <td>False</td>\n",
              "      <td>False</td>\n",
              "      <td>building(6211)</td>\n",
              "    </tr>\n",
              "    <tr>\n",
              "      <th>100</th>\n",
              "      <td>people117</td>\n",
              "      <td>401</td>\n",
              "      <td>3827.175537</td>\n",
              "      <td>1791.492920</td>\n",
              "      <td>0.0</td>\n",
              "      <td>building(1418)</td>\n",
              "      <td>building(2241)</td>\n",
              "      <td>building(6211)</td>\n",
              "      <td>False</td>\n",
              "      <td>False</td>\n",
              "      <td>True</td>\n",
              "      <td>building(6211)</td>\n",
              "    </tr>\n",
              "  </tbody>\n",
              "</table>\n",
              "</div>"
            ],
            "text/plain": [
              "          name cycle        loc_x  ...  is_infected  is_immune current_location\n",
              "3      people3   401  3803.600098  ...        False      False   building(6211)\n",
              "10    people10   401  3804.095215  ...        False      False   building(6211)\n",
              "62    people69   401  3817.859375  ...        False       True   building(6211)\n",
              "90   people101   401  3826.621826  ...        False      False   building(6211)\n",
              "100  people117   401  3827.175537  ...        False       True   building(6211)\n",
              "\n",
              "[5 rows x 12 columns]"
            ]
          },
          "metadata": {
            "tags": []
          },
          "execution_count": 79
        }
      ]
    },
    {
      "cell_type": "code",
      "metadata": {
        "id": "SZ_MAGSqNYKM"
      },
      "source": [
        ""
      ],
      "execution_count": null,
      "outputs": []
    }
  ]
}