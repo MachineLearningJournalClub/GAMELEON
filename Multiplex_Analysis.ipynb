{
  "nbformat": 4,
  "nbformat_minor": 0,
  "metadata": {
    "colab": {
      "name": "Multiplex_Analysis.ipynb",
      "provenance": [],
      "collapsed_sections": [],
      "authorship_tag": "ABX9TyMW9Gaqu7brjujI0aBUop4E",
      "include_colab_link": true
    },
    "kernelspec": {
      "name": "python3",
      "display_name": "Python 3"
    },
    "widgets": {
      "application/vnd.jupyter.widget-state+json": {
        "95f3890333874acb80dd2884f315c943": {
          "model_module": "@jupyter-widgets/controls",
          "model_name": "HBoxModel",
          "state": {
            "_view_name": "HBoxView",
            "_dom_classes": [],
            "_model_name": "HBoxModel",
            "_view_module": "@jupyter-widgets/controls",
            "_model_module_version": "1.5.0",
            "_view_count": null,
            "_view_module_version": "1.5.0",
            "box_style": "",
            "layout": "IPY_MODEL_d395d8e3c97d4a00822127a6629b3d27",
            "_model_module": "@jupyter-widgets/controls",
            "children": [
              "IPY_MODEL_ca91956b91bc4952bd1f728ae08681ef",
              "IPY_MODEL_851e269436654e5b8c4ad6226f215d66"
            ]
          }
        },
        "d395d8e3c97d4a00822127a6629b3d27": {
          "model_module": "@jupyter-widgets/base",
          "model_name": "LayoutModel",
          "state": {
            "_view_name": "LayoutView",
            "grid_template_rows": null,
            "right": null,
            "justify_content": null,
            "_view_module": "@jupyter-widgets/base",
            "overflow": null,
            "_model_module_version": "1.2.0",
            "_view_count": null,
            "flex_flow": null,
            "width": null,
            "min_width": null,
            "border": null,
            "align_items": null,
            "bottom": null,
            "_model_module": "@jupyter-widgets/base",
            "top": null,
            "grid_column": null,
            "overflow_y": null,
            "overflow_x": null,
            "grid_auto_flow": null,
            "grid_area": null,
            "grid_template_columns": null,
            "flex": null,
            "_model_name": "LayoutModel",
            "justify_items": null,
            "grid_row": null,
            "max_height": null,
            "align_content": null,
            "visibility": null,
            "align_self": null,
            "height": null,
            "min_height": null,
            "padding": null,
            "grid_auto_rows": null,
            "grid_gap": null,
            "max_width": null,
            "order": null,
            "_view_module_version": "1.2.0",
            "grid_template_areas": null,
            "object_position": null,
            "object_fit": null,
            "grid_auto_columns": null,
            "margin": null,
            "display": null,
            "left": null
          }
        },
        "ca91956b91bc4952bd1f728ae08681ef": {
          "model_module": "@jupyter-widgets/controls",
          "model_name": "FloatProgressModel",
          "state": {
            "_view_name": "ProgressView",
            "style": "IPY_MODEL_c8bef719596a4a40a00dee5a29fa3eb5",
            "_dom_classes": [],
            "description": "100%",
            "_model_name": "FloatProgressModel",
            "bar_style": "success",
            "max": 1079,
            "_view_module": "@jupyter-widgets/controls",
            "_model_module_version": "1.5.0",
            "value": 1079,
            "_view_count": null,
            "_view_module_version": "1.5.0",
            "orientation": "horizontal",
            "min": 0,
            "description_tooltip": null,
            "_model_module": "@jupyter-widgets/controls",
            "layout": "IPY_MODEL_5b23cbd22c824958bc9c1a5b1972385a"
          }
        },
        "851e269436654e5b8c4ad6226f215d66": {
          "model_module": "@jupyter-widgets/controls",
          "model_name": "HTMLModel",
          "state": {
            "_view_name": "HTMLView",
            "style": "IPY_MODEL_d23f8b105c9e4746ab99bb033b1f5c85",
            "_dom_classes": [],
            "description": "",
            "_model_name": "HTMLModel",
            "placeholder": "​",
            "_view_module": "@jupyter-widgets/controls",
            "_model_module_version": "1.5.0",
            "value": " 1079/1079 [18:52&lt;00:00,  1.05s/it]",
            "_view_count": null,
            "_view_module_version": "1.5.0",
            "description_tooltip": null,
            "_model_module": "@jupyter-widgets/controls",
            "layout": "IPY_MODEL_4e5c8a3ad9154a80b06d1d1e43b0f513"
          }
        },
        "c8bef719596a4a40a00dee5a29fa3eb5": {
          "model_module": "@jupyter-widgets/controls",
          "model_name": "ProgressStyleModel",
          "state": {
            "_view_name": "StyleView",
            "_model_name": "ProgressStyleModel",
            "description_width": "initial",
            "_view_module": "@jupyter-widgets/base",
            "_model_module_version": "1.5.0",
            "_view_count": null,
            "_view_module_version": "1.2.0",
            "bar_color": null,
            "_model_module": "@jupyter-widgets/controls"
          }
        },
        "5b23cbd22c824958bc9c1a5b1972385a": {
          "model_module": "@jupyter-widgets/base",
          "model_name": "LayoutModel",
          "state": {
            "_view_name": "LayoutView",
            "grid_template_rows": null,
            "right": null,
            "justify_content": null,
            "_view_module": "@jupyter-widgets/base",
            "overflow": null,
            "_model_module_version": "1.2.0",
            "_view_count": null,
            "flex_flow": null,
            "width": null,
            "min_width": null,
            "border": null,
            "align_items": null,
            "bottom": null,
            "_model_module": "@jupyter-widgets/base",
            "top": null,
            "grid_column": null,
            "overflow_y": null,
            "overflow_x": null,
            "grid_auto_flow": null,
            "grid_area": null,
            "grid_template_columns": null,
            "flex": null,
            "_model_name": "LayoutModel",
            "justify_items": null,
            "grid_row": null,
            "max_height": null,
            "align_content": null,
            "visibility": null,
            "align_self": null,
            "height": null,
            "min_height": null,
            "padding": null,
            "grid_auto_rows": null,
            "grid_gap": null,
            "max_width": null,
            "order": null,
            "_view_module_version": "1.2.0",
            "grid_template_areas": null,
            "object_position": null,
            "object_fit": null,
            "grid_auto_columns": null,
            "margin": null,
            "display": null,
            "left": null
          }
        },
        "d23f8b105c9e4746ab99bb033b1f5c85": {
          "model_module": "@jupyter-widgets/controls",
          "model_name": "DescriptionStyleModel",
          "state": {
            "_view_name": "StyleView",
            "_model_name": "DescriptionStyleModel",
            "description_width": "",
            "_view_module": "@jupyter-widgets/base",
            "_model_module_version": "1.5.0",
            "_view_count": null,
            "_view_module_version": "1.2.0",
            "_model_module": "@jupyter-widgets/controls"
          }
        },
        "4e5c8a3ad9154a80b06d1d1e43b0f513": {
          "model_module": "@jupyter-widgets/base",
          "model_name": "LayoutModel",
          "state": {
            "_view_name": "LayoutView",
            "grid_template_rows": null,
            "right": null,
            "justify_content": null,
            "_view_module": "@jupyter-widgets/base",
            "overflow": null,
            "_model_module_version": "1.2.0",
            "_view_count": null,
            "flex_flow": null,
            "width": null,
            "min_width": null,
            "border": null,
            "align_items": null,
            "bottom": null,
            "_model_module": "@jupyter-widgets/base",
            "top": null,
            "grid_column": null,
            "overflow_y": null,
            "overflow_x": null,
            "grid_auto_flow": null,
            "grid_area": null,
            "grid_template_columns": null,
            "flex": null,
            "_model_name": "LayoutModel",
            "justify_items": null,
            "grid_row": null,
            "max_height": null,
            "align_content": null,
            "visibility": null,
            "align_self": null,
            "height": null,
            "min_height": null,
            "padding": null,
            "grid_auto_rows": null,
            "grid_gap": null,
            "max_width": null,
            "order": null,
            "_view_module_version": "1.2.0",
            "grid_template_areas": null,
            "object_position": null,
            "object_fit": null,
            "grid_auto_columns": null,
            "margin": null,
            "display": null,
            "left": null
          }
        },
        "26965c8b47e6479db6440dd56e0654d6": {
          "model_module": "@jupyter-widgets/controls",
          "model_name": "HBoxModel",
          "state": {
            "_view_name": "HBoxView",
            "_dom_classes": [],
            "_model_name": "HBoxModel",
            "_view_module": "@jupyter-widgets/controls",
            "_model_module_version": "1.5.0",
            "_view_count": null,
            "_view_module_version": "1.5.0",
            "box_style": "",
            "layout": "IPY_MODEL_ffe5913ba086445e8f512506835dd309",
            "_model_module": "@jupyter-widgets/controls",
            "children": [
              "IPY_MODEL_2047a7e1b6284f3aaf001e9e589c46db",
              "IPY_MODEL_cc3f4fa5eb0246b5b0e4e5c558ed8cb2"
            ]
          }
        },
        "ffe5913ba086445e8f512506835dd309": {
          "model_module": "@jupyter-widgets/base",
          "model_name": "LayoutModel",
          "state": {
            "_view_name": "LayoutView",
            "grid_template_rows": null,
            "right": null,
            "justify_content": null,
            "_view_module": "@jupyter-widgets/base",
            "overflow": null,
            "_model_module_version": "1.2.0",
            "_view_count": null,
            "flex_flow": null,
            "width": null,
            "min_width": null,
            "border": null,
            "align_items": null,
            "bottom": null,
            "_model_module": "@jupyter-widgets/base",
            "top": null,
            "grid_column": null,
            "overflow_y": null,
            "overflow_x": null,
            "grid_auto_flow": null,
            "grid_area": null,
            "grid_template_columns": null,
            "flex": null,
            "_model_name": "LayoutModel",
            "justify_items": null,
            "grid_row": null,
            "max_height": null,
            "align_content": null,
            "visibility": null,
            "align_self": null,
            "height": null,
            "min_height": null,
            "padding": null,
            "grid_auto_rows": null,
            "grid_gap": null,
            "max_width": null,
            "order": null,
            "_view_module_version": "1.2.0",
            "grid_template_areas": null,
            "object_position": null,
            "object_fit": null,
            "grid_auto_columns": null,
            "margin": null,
            "display": null,
            "left": null
          }
        },
        "2047a7e1b6284f3aaf001e9e589c46db": {
          "model_module": "@jupyter-widgets/controls",
          "model_name": "FloatProgressModel",
          "state": {
            "_view_name": "ProgressView",
            "style": "IPY_MODEL_cebce1fd7f7d48e9abda436d3aacc1d9",
            "_dom_classes": [],
            "description": "100%",
            "_model_name": "FloatProgressModel",
            "bar_style": "success",
            "max": 1079,
            "_view_module": "@jupyter-widgets/controls",
            "_model_module_version": "1.5.0",
            "value": 1079,
            "_view_count": null,
            "_view_module_version": "1.5.0",
            "orientation": "horizontal",
            "min": 0,
            "description_tooltip": null,
            "_model_module": "@jupyter-widgets/controls",
            "layout": "IPY_MODEL_6265e97d67924683b8a1bc723bf19d91"
          }
        },
        "cc3f4fa5eb0246b5b0e4e5c558ed8cb2": {
          "model_module": "@jupyter-widgets/controls",
          "model_name": "HTMLModel",
          "state": {
            "_view_name": "HTMLView",
            "style": "IPY_MODEL_0495343e58bb4e7a9172342ee502f39c",
            "_dom_classes": [],
            "description": "",
            "_model_name": "HTMLModel",
            "placeholder": "​",
            "_view_module": "@jupyter-widgets/controls",
            "_model_module_version": "1.5.0",
            "value": " 1079/1079 [17:56&lt;00:00,  1.00it/s]",
            "_view_count": null,
            "_view_module_version": "1.5.0",
            "description_tooltip": null,
            "_model_module": "@jupyter-widgets/controls",
            "layout": "IPY_MODEL_61e4f8c6e5e448e3bba411d061ae95dc"
          }
        },
        "cebce1fd7f7d48e9abda436d3aacc1d9": {
          "model_module": "@jupyter-widgets/controls",
          "model_name": "ProgressStyleModel",
          "state": {
            "_view_name": "StyleView",
            "_model_name": "ProgressStyleModel",
            "description_width": "initial",
            "_view_module": "@jupyter-widgets/base",
            "_model_module_version": "1.5.0",
            "_view_count": null,
            "_view_module_version": "1.2.0",
            "bar_color": null,
            "_model_module": "@jupyter-widgets/controls"
          }
        },
        "6265e97d67924683b8a1bc723bf19d91": {
          "model_module": "@jupyter-widgets/base",
          "model_name": "LayoutModel",
          "state": {
            "_view_name": "LayoutView",
            "grid_template_rows": null,
            "right": null,
            "justify_content": null,
            "_view_module": "@jupyter-widgets/base",
            "overflow": null,
            "_model_module_version": "1.2.0",
            "_view_count": null,
            "flex_flow": null,
            "width": null,
            "min_width": null,
            "border": null,
            "align_items": null,
            "bottom": null,
            "_model_module": "@jupyter-widgets/base",
            "top": null,
            "grid_column": null,
            "overflow_y": null,
            "overflow_x": null,
            "grid_auto_flow": null,
            "grid_area": null,
            "grid_template_columns": null,
            "flex": null,
            "_model_name": "LayoutModel",
            "justify_items": null,
            "grid_row": null,
            "max_height": null,
            "align_content": null,
            "visibility": null,
            "align_self": null,
            "height": null,
            "min_height": null,
            "padding": null,
            "grid_auto_rows": null,
            "grid_gap": null,
            "max_width": null,
            "order": null,
            "_view_module_version": "1.2.0",
            "grid_template_areas": null,
            "object_position": null,
            "object_fit": null,
            "grid_auto_columns": null,
            "margin": null,
            "display": null,
            "left": null
          }
        },
        "0495343e58bb4e7a9172342ee502f39c": {
          "model_module": "@jupyter-widgets/controls",
          "model_name": "DescriptionStyleModel",
          "state": {
            "_view_name": "StyleView",
            "_model_name": "DescriptionStyleModel",
            "description_width": "",
            "_view_module": "@jupyter-widgets/base",
            "_model_module_version": "1.5.0",
            "_view_count": null,
            "_view_module_version": "1.2.0",
            "_model_module": "@jupyter-widgets/controls"
          }
        },
        "61e4f8c6e5e448e3bba411d061ae95dc": {
          "model_module": "@jupyter-widgets/base",
          "model_name": "LayoutModel",
          "state": {
            "_view_name": "LayoutView",
            "grid_template_rows": null,
            "right": null,
            "justify_content": null,
            "_view_module": "@jupyter-widgets/base",
            "overflow": null,
            "_model_module_version": "1.2.0",
            "_view_count": null,
            "flex_flow": null,
            "width": null,
            "min_width": null,
            "border": null,
            "align_items": null,
            "bottom": null,
            "_model_module": "@jupyter-widgets/base",
            "top": null,
            "grid_column": null,
            "overflow_y": null,
            "overflow_x": null,
            "grid_auto_flow": null,
            "grid_area": null,
            "grid_template_columns": null,
            "flex": null,
            "_model_name": "LayoutModel",
            "justify_items": null,
            "grid_row": null,
            "max_height": null,
            "align_content": null,
            "visibility": null,
            "align_self": null,
            "height": null,
            "min_height": null,
            "padding": null,
            "grid_auto_rows": null,
            "grid_gap": null,
            "max_width": null,
            "order": null,
            "_view_module_version": "1.2.0",
            "grid_template_areas": null,
            "object_position": null,
            "object_fit": null,
            "grid_auto_columns": null,
            "margin": null,
            "display": null,
            "left": null
          }
        },
        "3a038328c87648598a2b820b4d218b7e": {
          "model_module": "@jupyter-widgets/controls",
          "model_name": "HBoxModel",
          "state": {
            "_view_name": "HBoxView",
            "_dom_classes": [],
            "_model_name": "HBoxModel",
            "_view_module": "@jupyter-widgets/controls",
            "_model_module_version": "1.5.0",
            "_view_count": null,
            "_view_module_version": "1.5.0",
            "box_style": "",
            "layout": "IPY_MODEL_1b9b64446c1e4b5f8b0aace68eddf1bb",
            "_model_module": "@jupyter-widgets/controls",
            "children": [
              "IPY_MODEL_88fee9ead54049ca8026d0b23467493a",
              "IPY_MODEL_5845a72e374a470997f7db7c536730a7"
            ]
          }
        },
        "1b9b64446c1e4b5f8b0aace68eddf1bb": {
          "model_module": "@jupyter-widgets/base",
          "model_name": "LayoutModel",
          "state": {
            "_view_name": "LayoutView",
            "grid_template_rows": null,
            "right": null,
            "justify_content": null,
            "_view_module": "@jupyter-widgets/base",
            "overflow": null,
            "_model_module_version": "1.2.0",
            "_view_count": null,
            "flex_flow": null,
            "width": null,
            "min_width": null,
            "border": null,
            "align_items": null,
            "bottom": null,
            "_model_module": "@jupyter-widgets/base",
            "top": null,
            "grid_column": null,
            "overflow_y": null,
            "overflow_x": null,
            "grid_auto_flow": null,
            "grid_area": null,
            "grid_template_columns": null,
            "flex": null,
            "_model_name": "LayoutModel",
            "justify_items": null,
            "grid_row": null,
            "max_height": null,
            "align_content": null,
            "visibility": null,
            "align_self": null,
            "height": null,
            "min_height": null,
            "padding": null,
            "grid_auto_rows": null,
            "grid_gap": null,
            "max_width": null,
            "order": null,
            "_view_module_version": "1.2.0",
            "grid_template_areas": null,
            "object_position": null,
            "object_fit": null,
            "grid_auto_columns": null,
            "margin": null,
            "display": null,
            "left": null
          }
        },
        "88fee9ead54049ca8026d0b23467493a": {
          "model_module": "@jupyter-widgets/controls",
          "model_name": "FloatProgressModel",
          "state": {
            "_view_name": "ProgressView",
            "style": "IPY_MODEL_c2527a568dbf46359f08522a436c328f",
            "_dom_classes": [],
            "description": "100%",
            "_model_name": "FloatProgressModel",
            "bar_style": "success",
            "max": 1079,
            "_view_module": "@jupyter-widgets/controls",
            "_model_module_version": "1.5.0",
            "value": 1079,
            "_view_count": null,
            "_view_module_version": "1.5.0",
            "orientation": "horizontal",
            "min": 0,
            "description_tooltip": null,
            "_model_module": "@jupyter-widgets/controls",
            "layout": "IPY_MODEL_b032a1c11b67450faadb78c2cd499bae"
          }
        },
        "5845a72e374a470997f7db7c536730a7": {
          "model_module": "@jupyter-widgets/controls",
          "model_name": "HTMLModel",
          "state": {
            "_view_name": "HTMLView",
            "style": "IPY_MODEL_ca7fa04af0a04a31b15889eb67a8a0e7",
            "_dom_classes": [],
            "description": "",
            "_model_name": "HTMLModel",
            "placeholder": "​",
            "_view_module": "@jupyter-widgets/controls",
            "_model_module_version": "1.5.0",
            "value": " 1079/1079 [17:44&lt;00:00,  1.01it/s]",
            "_view_count": null,
            "_view_module_version": "1.5.0",
            "description_tooltip": null,
            "_model_module": "@jupyter-widgets/controls",
            "layout": "IPY_MODEL_f002e54006b145a094c0bb39ef2f4a0d"
          }
        },
        "c2527a568dbf46359f08522a436c328f": {
          "model_module": "@jupyter-widgets/controls",
          "model_name": "ProgressStyleModel",
          "state": {
            "_view_name": "StyleView",
            "_model_name": "ProgressStyleModel",
            "description_width": "initial",
            "_view_module": "@jupyter-widgets/base",
            "_model_module_version": "1.5.0",
            "_view_count": null,
            "_view_module_version": "1.2.0",
            "bar_color": null,
            "_model_module": "@jupyter-widgets/controls"
          }
        },
        "b032a1c11b67450faadb78c2cd499bae": {
          "model_module": "@jupyter-widgets/base",
          "model_name": "LayoutModel",
          "state": {
            "_view_name": "LayoutView",
            "grid_template_rows": null,
            "right": null,
            "justify_content": null,
            "_view_module": "@jupyter-widgets/base",
            "overflow": null,
            "_model_module_version": "1.2.0",
            "_view_count": null,
            "flex_flow": null,
            "width": null,
            "min_width": null,
            "border": null,
            "align_items": null,
            "bottom": null,
            "_model_module": "@jupyter-widgets/base",
            "top": null,
            "grid_column": null,
            "overflow_y": null,
            "overflow_x": null,
            "grid_auto_flow": null,
            "grid_area": null,
            "grid_template_columns": null,
            "flex": null,
            "_model_name": "LayoutModel",
            "justify_items": null,
            "grid_row": null,
            "max_height": null,
            "align_content": null,
            "visibility": null,
            "align_self": null,
            "height": null,
            "min_height": null,
            "padding": null,
            "grid_auto_rows": null,
            "grid_gap": null,
            "max_width": null,
            "order": null,
            "_view_module_version": "1.2.0",
            "grid_template_areas": null,
            "object_position": null,
            "object_fit": null,
            "grid_auto_columns": null,
            "margin": null,
            "display": null,
            "left": null
          }
        },
        "ca7fa04af0a04a31b15889eb67a8a0e7": {
          "model_module": "@jupyter-widgets/controls",
          "model_name": "DescriptionStyleModel",
          "state": {
            "_view_name": "StyleView",
            "_model_name": "DescriptionStyleModel",
            "description_width": "",
            "_view_module": "@jupyter-widgets/base",
            "_model_module_version": "1.5.0",
            "_view_count": null,
            "_view_module_version": "1.2.0",
            "_model_module": "@jupyter-widgets/controls"
          }
        },
        "f002e54006b145a094c0bb39ef2f4a0d": {
          "model_module": "@jupyter-widgets/base",
          "model_name": "LayoutModel",
          "state": {
            "_view_name": "LayoutView",
            "grid_template_rows": null,
            "right": null,
            "justify_content": null,
            "_view_module": "@jupyter-widgets/base",
            "overflow": null,
            "_model_module_version": "1.2.0",
            "_view_count": null,
            "flex_flow": null,
            "width": null,
            "min_width": null,
            "border": null,
            "align_items": null,
            "bottom": null,
            "_model_module": "@jupyter-widgets/base",
            "top": null,
            "grid_column": null,
            "overflow_y": null,
            "overflow_x": null,
            "grid_auto_flow": null,
            "grid_area": null,
            "grid_template_columns": null,
            "flex": null,
            "_model_name": "LayoutModel",
            "justify_items": null,
            "grid_row": null,
            "max_height": null,
            "align_content": null,
            "visibility": null,
            "align_self": null,
            "height": null,
            "min_height": null,
            "padding": null,
            "grid_auto_rows": null,
            "grid_gap": null,
            "max_width": null,
            "order": null,
            "_view_module_version": "1.2.0",
            "grid_template_areas": null,
            "object_position": null,
            "object_fit": null,
            "grid_auto_columns": null,
            "margin": null,
            "display": null,
            "left": null
          }
        },
        "3e535e724ad444ac8db469f4b478c02d": {
          "model_module": "@jupyter-widgets/controls",
          "model_name": "HBoxModel",
          "state": {
            "_view_name": "HBoxView",
            "_dom_classes": [],
            "_model_name": "HBoxModel",
            "_view_module": "@jupyter-widgets/controls",
            "_model_module_version": "1.5.0",
            "_view_count": null,
            "_view_module_version": "1.5.0",
            "box_style": "",
            "layout": "IPY_MODEL_5041d392ea5046f7931e3c833bfe96e5",
            "_model_module": "@jupyter-widgets/controls",
            "children": [
              "IPY_MODEL_82166024dbc146f2884446e42911ef18",
              "IPY_MODEL_3da32fa614a14d40aae9b34dda7a0da4"
            ]
          }
        },
        "5041d392ea5046f7931e3c833bfe96e5": {
          "model_module": "@jupyter-widgets/base",
          "model_name": "LayoutModel",
          "state": {
            "_view_name": "LayoutView",
            "grid_template_rows": null,
            "right": null,
            "justify_content": null,
            "_view_module": "@jupyter-widgets/base",
            "overflow": null,
            "_model_module_version": "1.2.0",
            "_view_count": null,
            "flex_flow": null,
            "width": null,
            "min_width": null,
            "border": null,
            "align_items": null,
            "bottom": null,
            "_model_module": "@jupyter-widgets/base",
            "top": null,
            "grid_column": null,
            "overflow_y": null,
            "overflow_x": null,
            "grid_auto_flow": null,
            "grid_area": null,
            "grid_template_columns": null,
            "flex": null,
            "_model_name": "LayoutModel",
            "justify_items": null,
            "grid_row": null,
            "max_height": null,
            "align_content": null,
            "visibility": null,
            "align_self": null,
            "height": null,
            "min_height": null,
            "padding": null,
            "grid_auto_rows": null,
            "grid_gap": null,
            "max_width": null,
            "order": null,
            "_view_module_version": "1.2.0",
            "grid_template_areas": null,
            "object_position": null,
            "object_fit": null,
            "grid_auto_columns": null,
            "margin": null,
            "display": null,
            "left": null
          }
        },
        "82166024dbc146f2884446e42911ef18": {
          "model_module": "@jupyter-widgets/controls",
          "model_name": "FloatProgressModel",
          "state": {
            "_view_name": "ProgressView",
            "style": "IPY_MODEL_7c4e80f1fec547a6a7a2077f803d6d4a",
            "_dom_classes": [],
            "description": "100%",
            "_model_name": "FloatProgressModel",
            "bar_style": "success",
            "max": 1079,
            "_view_module": "@jupyter-widgets/controls",
            "_model_module_version": "1.5.0",
            "value": 1079,
            "_view_count": null,
            "_view_module_version": "1.5.0",
            "orientation": "horizontal",
            "min": 0,
            "description_tooltip": null,
            "_model_module": "@jupyter-widgets/controls",
            "layout": "IPY_MODEL_17d94f677fa949f3b0d299aac03d9ec7"
          }
        },
        "3da32fa614a14d40aae9b34dda7a0da4": {
          "model_module": "@jupyter-widgets/controls",
          "model_name": "HTMLModel",
          "state": {
            "_view_name": "HTMLView",
            "style": "IPY_MODEL_50362bdc083c4923b60479eb7b99e009",
            "_dom_classes": [],
            "description": "",
            "_model_name": "HTMLModel",
            "placeholder": "​",
            "_view_module": "@jupyter-widgets/controls",
            "_model_module_version": "1.5.0",
            "value": " 1079/1079 [11:54&lt;00:00,  1.51it/s]",
            "_view_count": null,
            "_view_module_version": "1.5.0",
            "description_tooltip": null,
            "_model_module": "@jupyter-widgets/controls",
            "layout": "IPY_MODEL_671a0ba4efb1406da97a73495db34e44"
          }
        },
        "7c4e80f1fec547a6a7a2077f803d6d4a": {
          "model_module": "@jupyter-widgets/controls",
          "model_name": "ProgressStyleModel",
          "state": {
            "_view_name": "StyleView",
            "_model_name": "ProgressStyleModel",
            "description_width": "initial",
            "_view_module": "@jupyter-widgets/base",
            "_model_module_version": "1.5.0",
            "_view_count": null,
            "_view_module_version": "1.2.0",
            "bar_color": null,
            "_model_module": "@jupyter-widgets/controls"
          }
        },
        "17d94f677fa949f3b0d299aac03d9ec7": {
          "model_module": "@jupyter-widgets/base",
          "model_name": "LayoutModel",
          "state": {
            "_view_name": "LayoutView",
            "grid_template_rows": null,
            "right": null,
            "justify_content": null,
            "_view_module": "@jupyter-widgets/base",
            "overflow": null,
            "_model_module_version": "1.2.0",
            "_view_count": null,
            "flex_flow": null,
            "width": null,
            "min_width": null,
            "border": null,
            "align_items": null,
            "bottom": null,
            "_model_module": "@jupyter-widgets/base",
            "top": null,
            "grid_column": null,
            "overflow_y": null,
            "overflow_x": null,
            "grid_auto_flow": null,
            "grid_area": null,
            "grid_template_columns": null,
            "flex": null,
            "_model_name": "LayoutModel",
            "justify_items": null,
            "grid_row": null,
            "max_height": null,
            "align_content": null,
            "visibility": null,
            "align_self": null,
            "height": null,
            "min_height": null,
            "padding": null,
            "grid_auto_rows": null,
            "grid_gap": null,
            "max_width": null,
            "order": null,
            "_view_module_version": "1.2.0",
            "grid_template_areas": null,
            "object_position": null,
            "object_fit": null,
            "grid_auto_columns": null,
            "margin": null,
            "display": null,
            "left": null
          }
        },
        "50362bdc083c4923b60479eb7b99e009": {
          "model_module": "@jupyter-widgets/controls",
          "model_name": "DescriptionStyleModel",
          "state": {
            "_view_name": "StyleView",
            "_model_name": "DescriptionStyleModel",
            "description_width": "",
            "_view_module": "@jupyter-widgets/base",
            "_model_module_version": "1.5.0",
            "_view_count": null,
            "_view_module_version": "1.2.0",
            "_model_module": "@jupyter-widgets/controls"
          }
        },
        "671a0ba4efb1406da97a73495db34e44": {
          "model_module": "@jupyter-widgets/base",
          "model_name": "LayoutModel",
          "state": {
            "_view_name": "LayoutView",
            "grid_template_rows": null,
            "right": null,
            "justify_content": null,
            "_view_module": "@jupyter-widgets/base",
            "overflow": null,
            "_model_module_version": "1.2.0",
            "_view_count": null,
            "flex_flow": null,
            "width": null,
            "min_width": null,
            "border": null,
            "align_items": null,
            "bottom": null,
            "_model_module": "@jupyter-widgets/base",
            "top": null,
            "grid_column": null,
            "overflow_y": null,
            "overflow_x": null,
            "grid_auto_flow": null,
            "grid_area": null,
            "grid_template_columns": null,
            "flex": null,
            "_model_name": "LayoutModel",
            "justify_items": null,
            "grid_row": null,
            "max_height": null,
            "align_content": null,
            "visibility": null,
            "align_self": null,
            "height": null,
            "min_height": null,
            "padding": null,
            "grid_auto_rows": null,
            "grid_gap": null,
            "max_width": null,
            "order": null,
            "_view_module_version": "1.2.0",
            "grid_template_areas": null,
            "object_position": null,
            "object_fit": null,
            "grid_auto_columns": null,
            "margin": null,
            "display": null,
            "left": null
          }
        },
        "dc881a745f404d9cbd49204bb389a497": {
          "model_module": "@jupyter-widgets/controls",
          "model_name": "HBoxModel",
          "state": {
            "_view_name": "HBoxView",
            "_dom_classes": [],
            "_model_name": "HBoxModel",
            "_view_module": "@jupyter-widgets/controls",
            "_model_module_version": "1.5.0",
            "_view_count": null,
            "_view_module_version": "1.5.0",
            "box_style": "",
            "layout": "IPY_MODEL_bdcb0c596cdc445486b41defde0d18a8",
            "_model_module": "@jupyter-widgets/controls",
            "children": [
              "IPY_MODEL_2946567cb08f49808faebb3c596ea923",
              "IPY_MODEL_c1105ba22da847009052e7bab3637505"
            ]
          }
        },
        "bdcb0c596cdc445486b41defde0d18a8": {
          "model_module": "@jupyter-widgets/base",
          "model_name": "LayoutModel",
          "state": {
            "_view_name": "LayoutView",
            "grid_template_rows": null,
            "right": null,
            "justify_content": null,
            "_view_module": "@jupyter-widgets/base",
            "overflow": null,
            "_model_module_version": "1.2.0",
            "_view_count": null,
            "flex_flow": null,
            "width": null,
            "min_width": null,
            "border": null,
            "align_items": null,
            "bottom": null,
            "_model_module": "@jupyter-widgets/base",
            "top": null,
            "grid_column": null,
            "overflow_y": null,
            "overflow_x": null,
            "grid_auto_flow": null,
            "grid_area": null,
            "grid_template_columns": null,
            "flex": null,
            "_model_name": "LayoutModel",
            "justify_items": null,
            "grid_row": null,
            "max_height": null,
            "align_content": null,
            "visibility": null,
            "align_self": null,
            "height": null,
            "min_height": null,
            "padding": null,
            "grid_auto_rows": null,
            "grid_gap": null,
            "max_width": null,
            "order": null,
            "_view_module_version": "1.2.0",
            "grid_template_areas": null,
            "object_position": null,
            "object_fit": null,
            "grid_auto_columns": null,
            "margin": null,
            "display": null,
            "left": null
          }
        },
        "2946567cb08f49808faebb3c596ea923": {
          "model_module": "@jupyter-widgets/controls",
          "model_name": "FloatProgressModel",
          "state": {
            "_view_name": "ProgressView",
            "style": "IPY_MODEL_c7f9a665175846c1b499833664624763",
            "_dom_classes": [],
            "description": "100%",
            "_model_name": "FloatProgressModel",
            "bar_style": "success",
            "max": 1079,
            "_view_module": "@jupyter-widgets/controls",
            "_model_module_version": "1.5.0",
            "value": 1079,
            "_view_count": null,
            "_view_module_version": "1.5.0",
            "orientation": "horizontal",
            "min": 0,
            "description_tooltip": null,
            "_model_module": "@jupyter-widgets/controls",
            "layout": "IPY_MODEL_855eeb58d93e4733a928a15999021f11"
          }
        },
        "c1105ba22da847009052e7bab3637505": {
          "model_module": "@jupyter-widgets/controls",
          "model_name": "HTMLModel",
          "state": {
            "_view_name": "HTMLView",
            "style": "IPY_MODEL_e3457614d4984b75bcf28eb4f96a79b5",
            "_dom_classes": [],
            "description": "",
            "_model_name": "HTMLModel",
            "placeholder": "​",
            "_view_module": "@jupyter-widgets/controls",
            "_model_module_version": "1.5.0",
            "value": " 1079/1079 [07:09&lt;00:00,  2.51it/s]",
            "_view_count": null,
            "_view_module_version": "1.5.0",
            "description_tooltip": null,
            "_model_module": "@jupyter-widgets/controls",
            "layout": "IPY_MODEL_db3daacf17614da48ab50d250e784369"
          }
        },
        "c7f9a665175846c1b499833664624763": {
          "model_module": "@jupyter-widgets/controls",
          "model_name": "ProgressStyleModel",
          "state": {
            "_view_name": "StyleView",
            "_model_name": "ProgressStyleModel",
            "description_width": "initial",
            "_view_module": "@jupyter-widgets/base",
            "_model_module_version": "1.5.0",
            "_view_count": null,
            "_view_module_version": "1.2.0",
            "bar_color": null,
            "_model_module": "@jupyter-widgets/controls"
          }
        },
        "855eeb58d93e4733a928a15999021f11": {
          "model_module": "@jupyter-widgets/base",
          "model_name": "LayoutModel",
          "state": {
            "_view_name": "LayoutView",
            "grid_template_rows": null,
            "right": null,
            "justify_content": null,
            "_view_module": "@jupyter-widgets/base",
            "overflow": null,
            "_model_module_version": "1.2.0",
            "_view_count": null,
            "flex_flow": null,
            "width": null,
            "min_width": null,
            "border": null,
            "align_items": null,
            "bottom": null,
            "_model_module": "@jupyter-widgets/base",
            "top": null,
            "grid_column": null,
            "overflow_y": null,
            "overflow_x": null,
            "grid_auto_flow": null,
            "grid_area": null,
            "grid_template_columns": null,
            "flex": null,
            "_model_name": "LayoutModel",
            "justify_items": null,
            "grid_row": null,
            "max_height": null,
            "align_content": null,
            "visibility": null,
            "align_self": null,
            "height": null,
            "min_height": null,
            "padding": null,
            "grid_auto_rows": null,
            "grid_gap": null,
            "max_width": null,
            "order": null,
            "_view_module_version": "1.2.0",
            "grid_template_areas": null,
            "object_position": null,
            "object_fit": null,
            "grid_auto_columns": null,
            "margin": null,
            "display": null,
            "left": null
          }
        },
        "e3457614d4984b75bcf28eb4f96a79b5": {
          "model_module": "@jupyter-widgets/controls",
          "model_name": "DescriptionStyleModel",
          "state": {
            "_view_name": "StyleView",
            "_model_name": "DescriptionStyleModel",
            "description_width": "",
            "_view_module": "@jupyter-widgets/base",
            "_model_module_version": "1.5.0",
            "_view_count": null,
            "_view_module_version": "1.2.0",
            "_model_module": "@jupyter-widgets/controls"
          }
        },
        "db3daacf17614da48ab50d250e784369": {
          "model_module": "@jupyter-widgets/base",
          "model_name": "LayoutModel",
          "state": {
            "_view_name": "LayoutView",
            "grid_template_rows": null,
            "right": null,
            "justify_content": null,
            "_view_module": "@jupyter-widgets/base",
            "overflow": null,
            "_model_module_version": "1.2.0",
            "_view_count": null,
            "flex_flow": null,
            "width": null,
            "min_width": null,
            "border": null,
            "align_items": null,
            "bottom": null,
            "_model_module": "@jupyter-widgets/base",
            "top": null,
            "grid_column": null,
            "overflow_y": null,
            "overflow_x": null,
            "grid_auto_flow": null,
            "grid_area": null,
            "grid_template_columns": null,
            "flex": null,
            "_model_name": "LayoutModel",
            "justify_items": null,
            "grid_row": null,
            "max_height": null,
            "align_content": null,
            "visibility": null,
            "align_self": null,
            "height": null,
            "min_height": null,
            "padding": null,
            "grid_auto_rows": null,
            "grid_gap": null,
            "max_width": null,
            "order": null,
            "_view_module_version": "1.2.0",
            "grid_template_areas": null,
            "object_position": null,
            "object_fit": null,
            "grid_auto_columns": null,
            "margin": null,
            "display": null,
            "left": null
          }
        }
      }
    }
  },
  "cells": [
    {
      "cell_type": "markdown",
      "metadata": {
        "id": "view-in-github",
        "colab_type": "text"
      },
      "source": [
        "<a href=\"https://colab.research.google.com/github/sazio/MultiAgentCovid/blob/master/Multiplex_Analysis.ipynb\" target=\"_parent\"><img src=\"https://colab.research.google.com/assets/colab-badge.svg\" alt=\"Open In Colab\"/></a>"
      ]
    },
    {
      "cell_type": "markdown",
      "metadata": {
        "id": "r7eBo3xjzz6r"
      },
      "source": [
        "## Import Data and match Agents with Buildings"
      ]
    },
    {
      "cell_type": "code",
      "metadata": {
        "id": "2_TEwY8VzvIa"
      },
      "source": [
        "import numpy as np\n",
        "import pandas as pd \n",
        "import glob \n",
        "from tqdm.notebook import tqdm \n",
        "from scipy import sparse\n",
        "import matplotlib.pyplot as plt\n",
        "\n",
        "import warnings\n",
        "warnings.filterwarnings('ignore')"
      ],
      "execution_count": 163,
      "outputs": []
    },
    {
      "cell_type": "code",
      "metadata": {
        "colab": {
          "base_uri": "https://localhost:8080/"
        },
        "id": "6X0r82Gdz7-q",
        "outputId": "0a55ccd6-ad7c-4987-ce31-89d793dadf42"
      },
      "source": [
        "from google.colab import drive\n",
        "drive.mount('/content/drive', force_remount= True)"
      ],
      "execution_count": 81,
      "outputs": [
        {
          "output_type": "stream",
          "text": [
            "Mounted at /content/drive\n"
          ],
          "name": "stdout"
        }
      ]
    },
    {
      "cell_type": "code",
      "metadata": {
        "id": "ihMbH7cU0cdj"
      },
      "source": [
        "path = \"drive/MyDrive/MAS/Data/Output_GAMA/Data\"\n",
        "\n",
        "agents_path = path + \"/Agents\"\n",
        "buildings_path = path + \"/Buildings\"\n",
        "\n",
        "agents_files = glob.glob(agents_path + \"/*.csv\")\n",
        "buildings_file = glob.glob(buildings_path + \"/*.csv\")\n",
        "\n",
        "agents_1_day = [agents_files[i] for i in range(0,24)]"
      ],
      "execution_count": 82,
      "outputs": []
    },
    {
      "cell_type": "code",
      "metadata": {
        "id": "Rr1lfojv1lnl",
        "colab": {
          "base_uri": "https://localhost:8080/",
          "height": 204
        },
        "outputId": "8e098d2f-e808-4da9-914c-5509916cfd74"
      },
      "source": [
        "DF_buildings = pd.read_csv(buildings_file[0], sep = \",\", names = [\"name\", \"loc_x\", \"loc_y\", \"loc_z\"])\n",
        "DF_buildings = DF_buildings.iloc[1:]\n",
        "DF_buildings = DF_buildings.reset_index(drop = True)\n",
        "DF_buildings[\"name\"] = DF_buildings[\"name\"].str[:8] + \"(\" + DF_buildings[\"name\"].str[8:] + \")\"\n",
        "DF_buildings[\"loc_x\"] = DF_buildings[\"loc_x\"].str[1:].astype(np.float32)\n",
        "DF_buildings[\"loc_y\"] = DF_buildings[\"loc_y\"].astype(np.float32)\n",
        "DF_buildings[\"loc_z\"] = DF_buildings[\"loc_z\"].str[:-1].astype(np.float32)\n",
        "\n",
        "DF_buildings.head()"
      ],
      "execution_count": 5,
      "outputs": [
        {
          "output_type": "execute_result",
          "data": {
            "text/html": [
              "<div>\n",
              "<style scoped>\n",
              "    .dataframe tbody tr th:only-of-type {\n",
              "        vertical-align: middle;\n",
              "    }\n",
              "\n",
              "    .dataframe tbody tr th {\n",
              "        vertical-align: top;\n",
              "    }\n",
              "\n",
              "    .dataframe thead th {\n",
              "        text-align: right;\n",
              "    }\n",
              "</style>\n",
              "<table border=\"1\" class=\"dataframe\">\n",
              "  <thead>\n",
              "    <tr style=\"text-align: right;\">\n",
              "      <th></th>\n",
              "      <th>name</th>\n",
              "      <th>loc_x</th>\n",
              "      <th>loc_y</th>\n",
              "      <th>loc_z</th>\n",
              "    </tr>\n",
              "  </thead>\n",
              "  <tbody>\n",
              "    <tr>\n",
              "      <th>0</th>\n",
              "      <td>building(0)</td>\n",
              "      <td>4258.587891</td>\n",
              "      <td>8622.923828</td>\n",
              "      <td>0.0</td>\n",
              "    </tr>\n",
              "    <tr>\n",
              "      <th>1</th>\n",
              "      <td>building(1)</td>\n",
              "      <td>4205.688477</td>\n",
              "      <td>8554.613281</td>\n",
              "      <td>0.0</td>\n",
              "    </tr>\n",
              "    <tr>\n",
              "      <th>2</th>\n",
              "      <td>building(2)</td>\n",
              "      <td>4172.957031</td>\n",
              "      <td>8508.589844</td>\n",
              "      <td>0.0</td>\n",
              "    </tr>\n",
              "    <tr>\n",
              "      <th>3</th>\n",
              "      <td>building(3)</td>\n",
              "      <td>4653.243164</td>\n",
              "      <td>8230.745117</td>\n",
              "      <td>0.0</td>\n",
              "    </tr>\n",
              "    <tr>\n",
              "      <th>4</th>\n",
              "      <td>building(4)</td>\n",
              "      <td>4630.689941</td>\n",
              "      <td>8173.111816</td>\n",
              "      <td>0.0</td>\n",
              "    </tr>\n",
              "  </tbody>\n",
              "</table>\n",
              "</div>"
            ],
            "text/plain": [
              "          name        loc_x        loc_y  loc_z\n",
              "0  building(0)  4258.587891  8622.923828    0.0\n",
              "1  building(1)  4205.688477  8554.613281    0.0\n",
              "2  building(2)  4172.957031  8508.589844    0.0\n",
              "3  building(3)  4653.243164  8230.745117    0.0\n",
              "4  building(4)  4630.689941  8173.111816    0.0"
            ]
          },
          "metadata": {
            "tags": []
          },
          "execution_count": 5
        }
      ]
    },
    {
      "cell_type": "code",
      "metadata": {
        "colab": {
          "base_uri": "https://localhost:8080/",
          "height": 204
        },
        "id": "DVje05BS27hQ",
        "outputId": "ced51cc2-0ed2-4e4d-f8b2-31be8d126e29"
      },
      "source": [
        "# First Agents file as example (ToDo --> function from this stuff)\n",
        "DF_agents = pd.read_csv(agents_files[0], sep = \",\", names = [\"name\", \"cycle\",\"loc_x\", \"loc_y\", \"loc_z\",\"living_place\",\n",
        "\"working_place\",\"stuff_place\", \"is_susceptible\", \"is_infected\", \"is_immune\"])\n",
        "DF_agents = DF_agents.iloc[1:]\n",
        "DF_agents = DF_agents.reset_index(drop = True)\n",
        "DF_agents[\"loc_x\"] = DF_agents[\"loc_x\"].str[1:].astype(np.float32)\n",
        "DF_agents[\"loc_y\"] = DF_agents[\"loc_y\"].astype(np.float32)\n",
        "DF_agents[\"loc_z\"] = DF_agents[\"loc_z\"].str[:-1].astype(np.float32)\n",
        "\n",
        "DF_agents = DF_agents.replace({\"is_susceptible\":{\"true\":True, \"false\":False}})\n",
        "DF_agents = DF_agents.replace({\"is_infected\":{\"True\":True, \"False\":False}})\n",
        "DF_agents = DF_agents.replace({\"is_immune\":{\"True\":True, \"False\":False}})\n",
        "\n",
        "DF_agents = DF_agents[DF_agents.living_place != \"nil\"]\n",
        "DF_agents = DF_agents[DF_agents.working_place != \"nil\"]\n",
        "DF_agents = DF_agents[DF_agents.stuff_place != \"nil\"]\n",
        "\n",
        "DF_agents.head()"
      ],
      "execution_count": 274,
      "outputs": [
        {
          "output_type": "execute_result",
          "data": {
            "text/html": [
              "<div>\n",
              "<style scoped>\n",
              "    .dataframe tbody tr th:only-of-type {\n",
              "        vertical-align: middle;\n",
              "    }\n",
              "\n",
              "    .dataframe tbody tr th {\n",
              "        vertical-align: top;\n",
              "    }\n",
              "\n",
              "    .dataframe thead th {\n",
              "        text-align: right;\n",
              "    }\n",
              "</style>\n",
              "<table border=\"1\" class=\"dataframe\">\n",
              "  <thead>\n",
              "    <tr style=\"text-align: right;\">\n",
              "      <th></th>\n",
              "      <th>name</th>\n",
              "      <th>cycle</th>\n",
              "      <th>loc_x</th>\n",
              "      <th>loc_y</th>\n",
              "      <th>loc_z</th>\n",
              "      <th>living_place</th>\n",
              "      <th>working_place</th>\n",
              "      <th>stuff_place</th>\n",
              "      <th>is_susceptible</th>\n",
              "      <th>is_infected</th>\n",
              "      <th>is_immune</th>\n",
              "    </tr>\n",
              "  </thead>\n",
              "  <tbody>\n",
              "    <tr>\n",
              "      <th>0</th>\n",
              "      <td>people0</td>\n",
              "      <td>401</td>\n",
              "      <td>4047.333740</td>\n",
              "      <td>2014.397461</td>\n",
              "      <td>0.0</td>\n",
              "      <td>building(1408)</td>\n",
              "      <td>building(220)</td>\n",
              "      <td>building(3381)</td>\n",
              "      <td>False</td>\n",
              "      <td>False</td>\n",
              "      <td>True</td>\n",
              "    </tr>\n",
              "    <tr>\n",
              "      <th>1</th>\n",
              "      <td>people1</td>\n",
              "      <td>401</td>\n",
              "      <td>1911.168823</td>\n",
              "      <td>3917.855225</td>\n",
              "      <td>0.0</td>\n",
              "      <td>building(1350)</td>\n",
              "      <td>building(5862)</td>\n",
              "      <td>building(6186)</td>\n",
              "      <td>False</td>\n",
              "      <td>True</td>\n",
              "      <td>False</td>\n",
              "    </tr>\n",
              "    <tr>\n",
              "      <th>2</th>\n",
              "      <td>people2</td>\n",
              "      <td>401</td>\n",
              "      <td>3277.526123</td>\n",
              "      <td>657.434082</td>\n",
              "      <td>0.0</td>\n",
              "      <td>building(2112)</td>\n",
              "      <td>building(84)</td>\n",
              "      <td>building(6398)</td>\n",
              "      <td>True</td>\n",
              "      <td>False</td>\n",
              "      <td>False</td>\n",
              "    </tr>\n",
              "    <tr>\n",
              "      <th>3</th>\n",
              "      <td>people3</td>\n",
              "      <td>401</td>\n",
              "      <td>3803.600098</td>\n",
              "      <td>1790.961182</td>\n",
              "      <td>0.0</td>\n",
              "      <td>building(5496)</td>\n",
              "      <td>building(5860)</td>\n",
              "      <td>building(6211)</td>\n",
              "      <td>True</td>\n",
              "      <td>False</td>\n",
              "      <td>False</td>\n",
              "    </tr>\n",
              "    <tr>\n",
              "      <th>4</th>\n",
              "      <td>people4</td>\n",
              "      <td>401</td>\n",
              "      <td>3402.263672</td>\n",
              "      <td>7576.838379</td>\n",
              "      <td>0.0</td>\n",
              "      <td>building(1101)</td>\n",
              "      <td>building(266)</td>\n",
              "      <td>building(2286)</td>\n",
              "      <td>True</td>\n",
              "      <td>False</td>\n",
              "      <td>False</td>\n",
              "    </tr>\n",
              "  </tbody>\n",
              "</table>\n",
              "</div>"
            ],
            "text/plain": [
              "      name cycle        loc_x  ...  is_susceptible  is_infected is_immune\n",
              "0  people0   401  4047.333740  ...           False        False      True\n",
              "1  people1   401  1911.168823  ...           False         True     False\n",
              "2  people2   401  3277.526123  ...            True        False     False\n",
              "3  people3   401  3803.600098  ...            True        False     False\n",
              "4  people4   401  3402.263672  ...            True        False     False\n",
              "\n",
              "[5 rows x 11 columns]"
            ]
          },
          "metadata": {
            "tags": []
          },
          "execution_count": 274
        }
      ]
    },
    {
      "cell_type": "code",
      "metadata": {
        "id": "7Yu2mzhXJBuq"
      },
      "source": [
        "def is_in_which_building(DF_buildings, DF_agents, agent_index):\n",
        "\n",
        "  \"\"\"\n",
        "  Check if the agent is in some building or in the street (if alive), useful to build a multiplex network \n",
        "\n",
        "  \"\"\"\n",
        "  # In case some of the locations are \"nil\", i.e. non existing, it basically means that our agent is dead\n",
        "  if DF_agents.values[agent_index,5]  == \"nil\":\n",
        "    return \"Dead\"\n",
        "\n",
        "  elif DF_agents.values[agent_index,6] == \"nil\":  \n",
        "    return \"Dead\"\n",
        "\n",
        "  elif DF_agents.values[agent_index,7] == \"nil\": \n",
        "    return \"Dead\"\n",
        "\n",
        "  # In case our agent is alive \n",
        "  else:\n",
        "\n",
        "    living_coord = DF_buildings[DF_buildings.name == DF_agents.values[agent_index,5]].values[0][1:3]\n",
        "    working_coord = DF_buildings[DF_buildings.name == DF_agents.values[agent_index,6]].values[0][1:3]\n",
        "    stuff_coord = DF_buildings[DF_buildings.name == DF_agents.values[agent_index,7]].values[0][1:3]\n",
        "\n",
        "    agent_coord = DF_agents.values[agent_index,2:4]\n",
        "\n",
        "    liv_ag_dist = np.linalg.norm(living_coord - agent_coord)\n",
        "    wor_ag_dist = np.linalg.norm(working_coord - agent_coord)\n",
        "    stu_ag_dist = np.linalg.norm(stuff_coord - agent_coord)\n",
        "\n",
        "    if min(liv_ag_dist, wor_ag_dist, stu_ag_dist) == liv_ag_dist and liv_ag_dist < 50:\n",
        "\n",
        "      return DF_agents.values[agent_index,5]\n",
        "\n",
        "    elif  min(liv_ag_dist, wor_ag_dist, stu_ag_dist) == wor_ag_dist and wor_ag_dist < 50:\n",
        "\n",
        "      return DF_agents.values[agent_index,6]\n",
        "\n",
        "    elif  min(liv_ag_dist, wor_ag_dist, stu_ag_dist) == stu_ag_dist and stu_ag_dist < 50:\n",
        "\n",
        "      return DF_agents.values[agent_index,7]\n",
        "\n",
        "    # In case our agent is on the road to some place \n",
        "    else: \n",
        "\n",
        "      return \"None\""
      ],
      "execution_count": 277,
      "outputs": []
    },
    {
      "cell_type": "code",
      "metadata": {
        "colab": {
          "base_uri": "https://localhost:8080/",
          "height": 66,
          "referenced_widgets": [
            "95f3890333874acb80dd2884f315c943",
            "d395d8e3c97d4a00822127a6629b3d27",
            "ca91956b91bc4952bd1f728ae08681ef",
            "851e269436654e5b8c4ad6226f215d66",
            "c8bef719596a4a40a00dee5a29fa3eb5",
            "5b23cbd22c824958bc9c1a5b1972385a",
            "d23f8b105c9e4746ab99bb033b1f5c85",
            "4e5c8a3ad9154a80b06d1d1e43b0f513"
          ]
        },
        "id": "vUfP4q-YLPbA",
        "outputId": "268b98dc-f547-408b-f4df-1ca55874712a"
      },
      "source": [
        "# ToDo, iterrows is not the most efficient, find a faster way (e.g. apply)\n",
        "for index,row in tqdm(DF_agents.iterrows(), total = DF_agents.shape[0]):\n",
        "    DF_agents.loc[index,'current_location'] = is_in_which_building(DF_buildings, DF_agents, agent_index = index)"
      ],
      "execution_count": 278,
      "outputs": [
        {
          "output_type": "display_data",
          "data": {
            "application/vnd.jupyter.widget-view+json": {
              "model_id": "95f3890333874acb80dd2884f315c943",
              "version_minor": 0,
              "version_major": 2
            },
            "text/plain": [
              "HBox(children=(FloatProgress(value=0.0, max=1079.0), HTML(value='')))"
            ]
          },
          "metadata": {
            "tags": []
          }
        },
        {
          "output_type": "stream",
          "text": [
            "\n"
          ],
          "name": "stdout"
        }
      ]
    },
    {
      "cell_type": "code",
      "metadata": {
        "colab": {
          "base_uri": "https://localhost:8080/",
          "height": 204
        },
        "id": "SHVsDr43SUVi",
        "outputId": "62838b46-628e-43f5-980a-4c711d88afad"
      },
      "source": [
        "DF_agents[DF_agents.current_location.duplicated()].head()"
      ],
      "execution_count": 279,
      "outputs": [
        {
          "output_type": "execute_result",
          "data": {
            "text/html": [
              "<div>\n",
              "<style scoped>\n",
              "    .dataframe tbody tr th:only-of-type {\n",
              "        vertical-align: middle;\n",
              "    }\n",
              "\n",
              "    .dataframe tbody tr th {\n",
              "        vertical-align: top;\n",
              "    }\n",
              "\n",
              "    .dataframe thead th {\n",
              "        text-align: right;\n",
              "    }\n",
              "</style>\n",
              "<table border=\"1\" class=\"dataframe\">\n",
              "  <thead>\n",
              "    <tr style=\"text-align: right;\">\n",
              "      <th></th>\n",
              "      <th>name</th>\n",
              "      <th>cycle</th>\n",
              "      <th>loc_x</th>\n",
              "      <th>loc_y</th>\n",
              "      <th>loc_z</th>\n",
              "      <th>living_place</th>\n",
              "      <th>working_place</th>\n",
              "      <th>stuff_place</th>\n",
              "      <th>is_susceptible</th>\n",
              "      <th>is_infected</th>\n",
              "      <th>is_immune</th>\n",
              "      <th>current_location</th>\n",
              "    </tr>\n",
              "  </thead>\n",
              "  <tbody>\n",
              "    <tr>\n",
              "      <th>6</th>\n",
              "      <td>people6</td>\n",
              "      <td>401</td>\n",
              "      <td>2042.102539</td>\n",
              "      <td>3271.883545</td>\n",
              "      <td>0.0</td>\n",
              "      <td>building(6504)</td>\n",
              "      <td>building(5664)</td>\n",
              "      <td>building(1325)</td>\n",
              "      <td>False</td>\n",
              "      <td>False</td>\n",
              "      <td>True</td>\n",
              "      <td>None</td>\n",
              "    </tr>\n",
              "    <tr>\n",
              "      <th>10</th>\n",
              "      <td>people10</td>\n",
              "      <td>401</td>\n",
              "      <td>3804.095215</td>\n",
              "      <td>1785.334595</td>\n",
              "      <td>0.0</td>\n",
              "      <td>building(1800)</td>\n",
              "      <td>building(336)</td>\n",
              "      <td>building(6211)</td>\n",
              "      <td>True</td>\n",
              "      <td>False</td>\n",
              "      <td>False</td>\n",
              "      <td>building(6211)</td>\n",
              "    </tr>\n",
              "    <tr>\n",
              "      <th>13</th>\n",
              "      <td>people15</td>\n",
              "      <td>401</td>\n",
              "      <td>3664.964355</td>\n",
              "      <td>2534.839355</td>\n",
              "      <td>0.0</td>\n",
              "      <td>building(2221)</td>\n",
              "      <td>building(260)</td>\n",
              "      <td>building(6446)</td>\n",
              "      <td>True</td>\n",
              "      <td>False</td>\n",
              "      <td>False</td>\n",
              "      <td>None</td>\n",
              "    </tr>\n",
              "    <tr>\n",
              "      <th>14</th>\n",
              "      <td>people16</td>\n",
              "      <td>401</td>\n",
              "      <td>4290.428223</td>\n",
              "      <td>4583.939941</td>\n",
              "      <td>0.0</td>\n",
              "      <td>building(6702)</td>\n",
              "      <td>building(1228)</td>\n",
              "      <td>building(6186)</td>\n",
              "      <td>False</td>\n",
              "      <td>False</td>\n",
              "      <td>True</td>\n",
              "      <td>None</td>\n",
              "    </tr>\n",
              "    <tr>\n",
              "      <th>18</th>\n",
              "      <td>people20</td>\n",
              "      <td>401</td>\n",
              "      <td>3480.477539</td>\n",
              "      <td>395.809479</td>\n",
              "      <td>0.0</td>\n",
              "      <td>building(5497)</td>\n",
              "      <td>building(222)</td>\n",
              "      <td>building(1325)</td>\n",
              "      <td>False</td>\n",
              "      <td>False</td>\n",
              "      <td>True</td>\n",
              "      <td>None</td>\n",
              "    </tr>\n",
              "  </tbody>\n",
              "</table>\n",
              "</div>"
            ],
            "text/plain": [
              "        name cycle        loc_x  ...  is_infected  is_immune current_location\n",
              "6    people6   401  2042.102539  ...        False       True             None\n",
              "10  people10   401  3804.095215  ...        False      False   building(6211)\n",
              "13  people15   401  3664.964355  ...        False      False             None\n",
              "14  people16   401  4290.428223  ...        False       True             None\n",
              "18  people20   401  3480.477539  ...        False       True             None\n",
              "\n",
              "[5 rows x 12 columns]"
            ]
          },
          "metadata": {
            "tags": []
          },
          "execution_count": 279
        }
      ]
    },
    {
      "cell_type": "code",
      "metadata": {
        "colab": {
          "base_uri": "https://localhost:8080/",
          "height": 204
        },
        "id": "6UYqueAtEMUy",
        "outputId": "a4c48802-4d28-4129-ff21-2bfda0267146"
      },
      "source": [
        "DF_agents[DF_agents.current_location == \"building(6211)\"].head()"
      ],
      "execution_count": 87,
      "outputs": [
        {
          "output_type": "execute_result",
          "data": {
            "text/html": [
              "<div>\n",
              "<style scoped>\n",
              "    .dataframe tbody tr th:only-of-type {\n",
              "        vertical-align: middle;\n",
              "    }\n",
              "\n",
              "    .dataframe tbody tr th {\n",
              "        vertical-align: top;\n",
              "    }\n",
              "\n",
              "    .dataframe thead th {\n",
              "        text-align: right;\n",
              "    }\n",
              "</style>\n",
              "<table border=\"1\" class=\"dataframe\">\n",
              "  <thead>\n",
              "    <tr style=\"text-align: right;\">\n",
              "      <th></th>\n",
              "      <th>name</th>\n",
              "      <th>cycle</th>\n",
              "      <th>loc_x</th>\n",
              "      <th>loc_y</th>\n",
              "      <th>loc_z</th>\n",
              "      <th>living_place</th>\n",
              "      <th>working_place</th>\n",
              "      <th>stuff_place</th>\n",
              "      <th>is_susceptible</th>\n",
              "      <th>is_infected</th>\n",
              "      <th>is_immune</th>\n",
              "      <th>current_location</th>\n",
              "    </tr>\n",
              "  </thead>\n",
              "  <tbody>\n",
              "    <tr>\n",
              "      <th>3</th>\n",
              "      <td>people3</td>\n",
              "      <td>401</td>\n",
              "      <td>3803.600098</td>\n",
              "      <td>1790.961182</td>\n",
              "      <td>0.0</td>\n",
              "      <td>building(5496)</td>\n",
              "      <td>building(5860)</td>\n",
              "      <td>building(6211)</td>\n",
              "      <td>True</td>\n",
              "      <td>False</td>\n",
              "      <td>False</td>\n",
              "      <td>building(6211)</td>\n",
              "    </tr>\n",
              "    <tr>\n",
              "      <th>10</th>\n",
              "      <td>people10</td>\n",
              "      <td>401</td>\n",
              "      <td>3804.095215</td>\n",
              "      <td>1785.334595</td>\n",
              "      <td>0.0</td>\n",
              "      <td>building(1800)</td>\n",
              "      <td>building(336)</td>\n",
              "      <td>building(6211)</td>\n",
              "      <td>True</td>\n",
              "      <td>False</td>\n",
              "      <td>False</td>\n",
              "      <td>building(6211)</td>\n",
              "    </tr>\n",
              "    <tr>\n",
              "      <th>62</th>\n",
              "      <td>people69</td>\n",
              "      <td>401</td>\n",
              "      <td>3817.859375</td>\n",
              "      <td>1793.564697</td>\n",
              "      <td>0.0</td>\n",
              "      <td>building(904)</td>\n",
              "      <td>building(2088)</td>\n",
              "      <td>building(6211)</td>\n",
              "      <td>False</td>\n",
              "      <td>False</td>\n",
              "      <td>True</td>\n",
              "      <td>building(6211)</td>\n",
              "    </tr>\n",
              "    <tr>\n",
              "      <th>90</th>\n",
              "      <td>people101</td>\n",
              "      <td>401</td>\n",
              "      <td>3826.621826</td>\n",
              "      <td>1795.730347</td>\n",
              "      <td>0.0</td>\n",
              "      <td>building(1330)</td>\n",
              "      <td>building(306)</td>\n",
              "      <td>building(6211)</td>\n",
              "      <td>True</td>\n",
              "      <td>False</td>\n",
              "      <td>False</td>\n",
              "      <td>building(6211)</td>\n",
              "    </tr>\n",
              "    <tr>\n",
              "      <th>100</th>\n",
              "      <td>people117</td>\n",
              "      <td>401</td>\n",
              "      <td>3827.175537</td>\n",
              "      <td>1791.492920</td>\n",
              "      <td>0.0</td>\n",
              "      <td>building(1418)</td>\n",
              "      <td>building(2241)</td>\n",
              "      <td>building(6211)</td>\n",
              "      <td>False</td>\n",
              "      <td>False</td>\n",
              "      <td>True</td>\n",
              "      <td>building(6211)</td>\n",
              "    </tr>\n",
              "  </tbody>\n",
              "</table>\n",
              "</div>"
            ],
            "text/plain": [
              "          name cycle        loc_x  ...  is_infected  is_immune current_location\n",
              "3      people3   401  3803.600098  ...        False      False   building(6211)\n",
              "10    people10   401  3804.095215  ...        False      False   building(6211)\n",
              "62    people69   401  3817.859375  ...        False       True   building(6211)\n",
              "90   people101   401  3826.621826  ...        False      False   building(6211)\n",
              "100  people117   401  3827.175537  ...        False       True   building(6211)\n",
              "\n",
              "[5 rows x 12 columns]"
            ]
          },
          "metadata": {
            "tags": []
          },
          "execution_count": 87
        }
      ]
    },
    {
      "cell_type": "markdown",
      "metadata": {
        "id": "0sLFLsJvbQQe"
      },
      "source": [
        "# Multiplex Analysis"
      ]
    },
    {
      "cell_type": "code",
      "metadata": {
        "id": "gXv8rjPwbSLY"
      },
      "source": [
        "#!pip install git+https://github.com/nkoub/multinetx.git"
      ],
      "execution_count": 103,
      "outputs": []
    },
    {
      "cell_type": "code",
      "metadata": {
        "id": "c1w0gqd5esqZ"
      },
      "source": [
        "import multinetx as mx"
      ],
      "execution_count": 89,
      "outputs": []
    },
    {
      "cell_type": "code",
      "metadata": {
        "colab": {
          "base_uri": "https://localhost:8080/"
        },
        "id": "Es_X1ZxyezqX",
        "outputId": "59ca4d29-fa22-4bb4-8a5c-82777f627b63"
      },
      "source": [
        "# Create weighted links in the same network "
      ],
      "execution_count": 271,
      "outputs": [
        {
          "output_type": "execute_result",
          "data": {
            "text/plain": [
              "2216.8833"
            ]
          },
          "metadata": {
            "tags": []
          },
          "execution_count": 271
        }
      ]
    },
    {
      "cell_type": "code",
      "metadata": {
        "colab": {
          "base_uri": "https://localhost:8080/",
          "height": 66,
          "referenced_widgets": [
            "26965c8b47e6479db6440dd56e0654d6",
            "ffe5913ba086445e8f512506835dd309",
            "2047a7e1b6284f3aaf001e9e589c46db",
            "cc3f4fa5eb0246b5b0e4e5c558ed8cb2",
            "cebce1fd7f7d48e9abda436d3aacc1d9",
            "6265e97d67924683b8a1bc723bf19d91",
            "0495343e58bb4e7a9172342ee502f39c",
            "61e4f8c6e5e448e3bba411d061ae95dc"
          ]
        },
        "id": "sQ8wHmQnI-oW",
        "outputId": "873c86fc-a23e-4182-8ff3-c5ed7ddb6abc"
      },
      "source": [
        "for index, row in tqdm(DF_agents.iterrows(), total = DF_agents.shape[0]):\n",
        "  DF_agents[\"x_liv\"] = DF_buildings[DF_buildings.name.isin([DF_agents.iloc[index].living_place])].loc_x.values[0]\n",
        "  DF_agents[\"y_liv\"] = DF_buildings[DF_buildings.name.isin([DF_agents.iloc[index].living_place])].loc_y.values[0]\n",
        "\n",
        "  DF_agents[\"x_wor\"] = DF_buildings[DF_buildings.name.isin([DF_agents.iloc[index].working_place])].loc_x.values[0]\n",
        "  DF_agents[\"y_wor\"] = DF_buildings[DF_buildings.name.isin([DF_agents.iloc[index].working_place])].loc_y.values[0]\n",
        "\n",
        "  DF_agents[\"x_stu\"] = DF_buildings[DF_buildings.name.isin([DF_agents.iloc[index].stuff_place])].loc_x.values[0]\n",
        "  DF_agents[\"y_stu\"] = DF_buildings[DF_buildings.name.isin([DF_agents.iloc[index].stuff_place])].loc_y.values[0]"
      ],
      "execution_count": 280,
      "outputs": [
        {
          "output_type": "display_data",
          "data": {
            "application/vnd.jupyter.widget-view+json": {
              "model_id": "26965c8b47e6479db6440dd56e0654d6",
              "version_minor": 0,
              "version_major": 2
            },
            "text/plain": [
              "HBox(children=(FloatProgress(value=0.0, max=1079.0), HTML(value='')))"
            ]
          },
          "metadata": {
            "tags": []
          }
        },
        {
          "output_type": "stream",
          "text": [
            "\n"
          ],
          "name": "stdout"
        }
      ]
    },
    {
      "cell_type": "code",
      "metadata": {
        "colab": {
          "base_uri": "https://localhost:8080/",
          "height": 204
        },
        "id": "P99aHS8jj3-V",
        "outputId": "6b924675-5c80-4e01-a848-0a3f5ecfa3e7"
      },
      "source": [
        "DF_agents.head()"
      ],
      "execution_count": 281,
      "outputs": [
        {
          "output_type": "execute_result",
          "data": {
            "text/html": [
              "<div>\n",
              "<style scoped>\n",
              "    .dataframe tbody tr th:only-of-type {\n",
              "        vertical-align: middle;\n",
              "    }\n",
              "\n",
              "    .dataframe tbody tr th {\n",
              "        vertical-align: top;\n",
              "    }\n",
              "\n",
              "    .dataframe thead th {\n",
              "        text-align: right;\n",
              "    }\n",
              "</style>\n",
              "<table border=\"1\" class=\"dataframe\">\n",
              "  <thead>\n",
              "    <tr style=\"text-align: right;\">\n",
              "      <th></th>\n",
              "      <th>name</th>\n",
              "      <th>cycle</th>\n",
              "      <th>loc_x</th>\n",
              "      <th>loc_y</th>\n",
              "      <th>loc_z</th>\n",
              "      <th>living_place</th>\n",
              "      <th>working_place</th>\n",
              "      <th>stuff_place</th>\n",
              "      <th>is_susceptible</th>\n",
              "      <th>is_infected</th>\n",
              "      <th>is_immune</th>\n",
              "      <th>current_location</th>\n",
              "      <th>x_liv</th>\n",
              "      <th>y_liv</th>\n",
              "      <th>x_wor</th>\n",
              "      <th>y_wor</th>\n",
              "      <th>x_stu</th>\n",
              "      <th>y_stu</th>\n",
              "    </tr>\n",
              "  </thead>\n",
              "  <tbody>\n",
              "    <tr>\n",
              "      <th>0</th>\n",
              "      <td>people0</td>\n",
              "      <td>401</td>\n",
              "      <td>4047.333740</td>\n",
              "      <td>2014.397461</td>\n",
              "      <td>0.0</td>\n",
              "      <td>building(1408)</td>\n",
              "      <td>building(220)</td>\n",
              "      <td>building(3381)</td>\n",
              "      <td>False</td>\n",
              "      <td>False</td>\n",
              "      <td>True</td>\n",
              "      <td>None</td>\n",
              "      <td>4347.223633</td>\n",
              "      <td>4471.383301</td>\n",
              "      <td>644.580139</td>\n",
              "      <td>950.980835</td>\n",
              "      <td>3811.535889</td>\n",
              "      <td>1789.275513</td>\n",
              "    </tr>\n",
              "    <tr>\n",
              "      <th>1</th>\n",
              "      <td>people1</td>\n",
              "      <td>401</td>\n",
              "      <td>1911.168823</td>\n",
              "      <td>3917.855225</td>\n",
              "      <td>0.0</td>\n",
              "      <td>building(1350)</td>\n",
              "      <td>building(5862)</td>\n",
              "      <td>building(6186)</td>\n",
              "      <td>False</td>\n",
              "      <td>True</td>\n",
              "      <td>False</td>\n",
              "      <td>building(1350)</td>\n",
              "      <td>4347.223633</td>\n",
              "      <td>4471.383301</td>\n",
              "      <td>644.580139</td>\n",
              "      <td>950.980835</td>\n",
              "      <td>3811.535889</td>\n",
              "      <td>1789.275513</td>\n",
              "    </tr>\n",
              "    <tr>\n",
              "      <th>2</th>\n",
              "      <td>people2</td>\n",
              "      <td>401</td>\n",
              "      <td>3277.526123</td>\n",
              "      <td>657.434082</td>\n",
              "      <td>0.0</td>\n",
              "      <td>building(2112)</td>\n",
              "      <td>building(84)</td>\n",
              "      <td>building(6398)</td>\n",
              "      <td>True</td>\n",
              "      <td>False</td>\n",
              "      <td>False</td>\n",
              "      <td>building(6398)</td>\n",
              "      <td>4347.223633</td>\n",
              "      <td>4471.383301</td>\n",
              "      <td>644.580139</td>\n",
              "      <td>950.980835</td>\n",
              "      <td>3811.535889</td>\n",
              "      <td>1789.275513</td>\n",
              "    </tr>\n",
              "    <tr>\n",
              "      <th>3</th>\n",
              "      <td>people3</td>\n",
              "      <td>401</td>\n",
              "      <td>3803.600098</td>\n",
              "      <td>1790.961182</td>\n",
              "      <td>0.0</td>\n",
              "      <td>building(5496)</td>\n",
              "      <td>building(5860)</td>\n",
              "      <td>building(6211)</td>\n",
              "      <td>True</td>\n",
              "      <td>False</td>\n",
              "      <td>False</td>\n",
              "      <td>building(6211)</td>\n",
              "      <td>4347.223633</td>\n",
              "      <td>4471.383301</td>\n",
              "      <td>644.580139</td>\n",
              "      <td>950.980835</td>\n",
              "      <td>3811.535889</td>\n",
              "      <td>1789.275513</td>\n",
              "    </tr>\n",
              "    <tr>\n",
              "      <th>4</th>\n",
              "      <td>people4</td>\n",
              "      <td>401</td>\n",
              "      <td>3402.263672</td>\n",
              "      <td>7576.838379</td>\n",
              "      <td>0.0</td>\n",
              "      <td>building(1101)</td>\n",
              "      <td>building(266)</td>\n",
              "      <td>building(2286)</td>\n",
              "      <td>True</td>\n",
              "      <td>False</td>\n",
              "      <td>False</td>\n",
              "      <td>building(266)</td>\n",
              "      <td>4347.223633</td>\n",
              "      <td>4471.383301</td>\n",
              "      <td>644.580139</td>\n",
              "      <td>950.980835</td>\n",
              "      <td>3811.535889</td>\n",
              "      <td>1789.275513</td>\n",
              "    </tr>\n",
              "  </tbody>\n",
              "</table>\n",
              "</div>"
            ],
            "text/plain": [
              "      name cycle        loc_x  ...       y_wor        x_stu        y_stu\n",
              "0  people0   401  4047.333740  ...  950.980835  3811.535889  1789.275513\n",
              "1  people1   401  1911.168823  ...  950.980835  3811.535889  1789.275513\n",
              "2  people2   401  3277.526123  ...  950.980835  3811.535889  1789.275513\n",
              "3  people3   401  3803.600098  ...  950.980835  3811.535889  1789.275513\n",
              "4  people4   401  3402.263672  ...  950.980835  3811.535889  1789.275513\n",
              "\n",
              "[5 rows x 18 columns]"
            ]
          },
          "metadata": {
            "tags": []
          },
          "execution_count": 281
        }
      ]
    },
    {
      "cell_type": "markdown",
      "metadata": {
        "id": "1tCUt7GryW1w"
      },
      "source": [
        "## Adjacency matrix for each layer "
      ]
    },
    {
      "cell_type": "code",
      "metadata": {
        "colab": {
          "base_uri": "https://localhost:8080/",
          "height": 66,
          "referenced_widgets": [
            "3a038328c87648598a2b820b4d218b7e",
            "1b9b64446c1e4b5f8b0aace68eddf1bb",
            "88fee9ead54049ca8026d0b23467493a",
            "5845a72e374a470997f7db7c536730a7",
            "c2527a568dbf46359f08522a436c328f",
            "b032a1c11b67450faadb78c2cd499bae",
            "ca7fa04af0a04a31b15889eb67a8a0e7",
            "f002e54006b145a094c0bb39ef2f4a0d"
          ]
        },
        "id": "dkL9hStLogNW",
        "outputId": "3b097e9d-7ad1-479b-fad3-6bef2291b2bd"
      },
      "source": [
        "# ToDo: make it faster by vectorization (especially for larger matrices), add weights based on current_location\n",
        "living_adj = np.eye(DF_agents.shape[0])\n",
        "\n",
        "for i in tqdm(range(0,living_adj.shape[0])):\n",
        "  for j in range(0,living_adj.shape[0]):\n",
        "\n",
        "    if DF_agents.loc[i].living_place == DF_agents.loc[j].living_place:\n",
        "      living_adj[i,j] = 1  \n",
        "\n",
        "    else: \n",
        "      living_adj[i,j] = 0 "
      ],
      "execution_count": 282,
      "outputs": [
        {
          "output_type": "display_data",
          "data": {
            "application/vnd.jupyter.widget-view+json": {
              "model_id": "3a038328c87648598a2b820b4d218b7e",
              "version_minor": 0,
              "version_major": 2
            },
            "text/plain": [
              "HBox(children=(FloatProgress(value=0.0, max=1079.0), HTML(value='')))"
            ]
          },
          "metadata": {
            "tags": []
          }
        },
        {
          "output_type": "stream",
          "text": [
            "\n"
          ],
          "name": "stdout"
        }
      ]
    },
    {
      "cell_type": "code",
      "metadata": {
        "id": "07UaCfLqvDhu"
      },
      "source": [
        "sparse_living_adj = sparse.csr_matrix(living_adj)\n",
        "sparse.save_npz(path + '/sparse_living_adj.npz', sparse_living_adj)"
      ],
      "execution_count": 283,
      "outputs": []
    },
    {
      "cell_type": "code",
      "metadata": {
        "colab": {
          "base_uri": "https://localhost:8080/",
          "height": 66,
          "referenced_widgets": [
            "3e535e724ad444ac8db469f4b478c02d",
            "5041d392ea5046f7931e3c833bfe96e5",
            "82166024dbc146f2884446e42911ef18",
            "3da32fa614a14d40aae9b34dda7a0da4",
            "7c4e80f1fec547a6a7a2077f803d6d4a",
            "17d94f677fa949f3b0d299aac03d9ec7",
            "50362bdc083c4923b60479eb7b99e009",
            "671a0ba4efb1406da97a73495db34e44"
          ]
        },
        "id": "_QOCYa68uwPy",
        "outputId": "8b5b7235-4352-4658-893b-d8f76914a9cb"
      },
      "source": [
        "#  ToDo: make it faster by vectorization \n",
        "working_adj = np.eye(DF_agents.shape[0])\n",
        "\n",
        "for i in tqdm(range(0,working_adj.shape[0])):\n",
        "  for j in range(0,working_adj.shape[0]):\n",
        "\n",
        "    if DF_agents.loc[i].working_place == DF_agents.loc[j].working_place:\n",
        "      working_adj[i,j] = 1  \n",
        "\n",
        "    else: \n",
        "      working_adj[i,j] = 0 "
      ],
      "execution_count": 284,
      "outputs": [
        {
          "output_type": "display_data",
          "data": {
            "application/vnd.jupyter.widget-view+json": {
              "model_id": "3e535e724ad444ac8db469f4b478c02d",
              "version_minor": 0,
              "version_major": 2
            },
            "text/plain": [
              "HBox(children=(FloatProgress(value=0.0, max=1079.0), HTML(value='')))"
            ]
          },
          "metadata": {
            "tags": []
          }
        },
        {
          "output_type": "stream",
          "text": [
            "\n"
          ],
          "name": "stdout"
        }
      ]
    },
    {
      "cell_type": "code",
      "metadata": {
        "id": "iKV2V2R9wK39"
      },
      "source": [
        "sparse_working_adj = sparse.csr_matrix(working_adj)\n",
        "sparse.save_npz(path + '/sparse_working_adj.npz', sparse_working_adj)"
      ],
      "execution_count": 285,
      "outputs": []
    },
    {
      "cell_type": "code",
      "metadata": {
        "colab": {
          "base_uri": "https://localhost:8080/",
          "height": 66,
          "referenced_widgets": [
            "dc881a745f404d9cbd49204bb389a497",
            "bdcb0c596cdc445486b41defde0d18a8",
            "2946567cb08f49808faebb3c596ea923",
            "c1105ba22da847009052e7bab3637505",
            "c7f9a665175846c1b499833664624763",
            "855eeb58d93e4733a928a15999021f11",
            "e3457614d4984b75bcf28eb4f96a79b5",
            "db3daacf17614da48ab50d250e784369"
          ]
        },
        "id": "rFdWRgC6u5Ib",
        "outputId": "c54dbdf0-bdf1-4b0d-8f9e-3fdc5df4ba82"
      },
      "source": [
        "#  ToDo: make it faster by vectorization \n",
        "stuff_adj = np.eye(DF_agents.shape[0])\n",
        "\n",
        "for i in tqdm(range(0,stuff_adj.shape[0])):\n",
        "  for j in range(0,stuff_adj.shape[0]):\n",
        "\n",
        "    if DF_agents.loc[i].stuff_place == DF_agents.loc[j].stuff_place:\n",
        "      stuff_adj[i,j] = 1  \n",
        "\n",
        "    else: \n",
        "      stuff_adj[i,j] = 0 "
      ],
      "execution_count": 286,
      "outputs": [
        {
          "output_type": "display_data",
          "data": {
            "application/vnd.jupyter.widget-view+json": {
              "model_id": "dc881a745f404d9cbd49204bb389a497",
              "version_minor": 0,
              "version_major": 2
            },
            "text/plain": [
              "HBox(children=(FloatProgress(value=0.0, max=1079.0), HTML(value='')))"
            ]
          },
          "metadata": {
            "tags": []
          }
        },
        {
          "output_type": "stream",
          "text": [
            "\n"
          ],
          "name": "stdout"
        }
      ]
    },
    {
      "cell_type": "code",
      "metadata": {
        "id": "F7f6-mTZwLlQ"
      },
      "source": [
        "sparse_stuff_adj = sparse.csr_matrix(stuff_adj)\n",
        "sparse.save_npz(path + '/sparse_stuff_adj.npz', sparse_stuff_adj)"
      ],
      "execution_count": 294,
      "outputs": []
    },
    {
      "cell_type": "markdown",
      "metadata": {
        "id": "a7E-MQ3ayaSL"
      },
      "source": [
        "## InterAdjacency matrix \n",
        "(connections between layers)"
      ]
    },
    {
      "cell_type": "code",
      "metadata": {
        "id": "4aD57jX9fdP-"
      },
      "source": [
        "inter_adj = mx.lil_matrix(np.zeros((DF_agents.shape[0]*3,DF_agents.shape[0]*3)))\n",
        "\n",
        "inter_adj[0:  DF_agents.shape[0],  DF_agents.shape[0]:2*DF_agents.shape[0]] = np.identity(DF_agents.shape[0])    # Layer 1 to 2 \n",
        "inter_adj[0:  DF_agents.shape[0],2*DF_agents.shape[0]:3*DF_agents.shape[0]] = np.identity(DF_agents.shape[0])    # Layer 1 to 3\n",
        "inter_adj[DF_agents.shape[0]:2*DF_agents.shape[0],2*DF_agents.shape[0]:3*DF_agents.shape[0]] = np.identity(DF_agents.shape[0])    # Layer 2 to 3 \n",
        "    \n",
        "# symmetric inter-adjacency matrix\n",
        "inter_adj += inter_adj.T"
      ],
      "execution_count": 295,
      "outputs": []
    },
    {
      "cell_type": "code",
      "metadata": {
        "id": "7NEhz3KPTWwW",
        "outputId": "2b08e02e-26dc-4971-83d4-76e002a048eb",
        "colab": {
          "base_uri": "https://localhost:8080/"
        }
      },
      "source": [
        "unique, counts = np.unique(stuff_adj, return_counts=True)\n",
        "dict(zip(unique, counts))"
      ],
      "execution_count": 317,
      "outputs": [
        {
          "output_type": "execute_result",
          "data": {
            "text/plain": [
              "{0.0: 1029928, 1.0: 134313}"
            ]
          },
          "metadata": {
            "tags": []
          },
          "execution_count": 317
        }
      ]
    },
    {
      "cell_type": "code",
      "metadata": {
        "id": "AK8q_BSjTjz2",
        "outputId": "fbd20a94-c34a-4bcd-c52a-f5d3c925744a",
        "colab": {
          "base_uri": "https://localhost:8080/"
        }
      },
      "source": [
        "unique, counts = np.unique(living_adj, return_counts=True)\n",
        "dict(zip(unique, counts))"
      ],
      "execution_count": 318,
      "outputs": [
        {
          "output_type": "execute_result",
          "data": {
            "text/plain": [
              "{0.0: 1162948, 1.0: 1293}"
            ]
          },
          "metadata": {
            "tags": []
          },
          "execution_count": 318
        }
      ]
    },
    {
      "cell_type": "code",
      "metadata": {
        "id": "KVYlvBuOTpAF",
        "outputId": "8274cfb3-62f7-478e-9680-de9e3c6d13d9",
        "colab": {
          "base_uri": "https://localhost:8080/"
        }
      },
      "source": [
        "unique, counts = np.unique(working_adj, return_counts=True)\n",
        "dict(zip(unique, counts))"
      ],
      "execution_count": 319,
      "outputs": [
        {
          "output_type": "execute_result",
          "data": {
            "text/plain": [
              "{0.0: 1159050, 1.0: 5191}"
            ]
          },
          "metadata": {
            "tags": []
          },
          "execution_count": 319
        }
      ]
    },
    {
      "cell_type": "markdown",
      "metadata": {
        "id": "es0E-92eyw1g"
      },
      "source": [
        "## Multiplex Instance "
      ]
    },
    {
      "cell_type": "code",
      "metadata": {
        "id": "Yjcwanndy6f3"
      },
      "source": [
        "living_graph = mx.from_scipy_sparse_matrix(sparse_living_adj)\n",
        "working_graph = mx.from_scipy_sparse_matrix(sparse_working_adj)\n",
        "stuff_graph = mx.from_scipy_sparse_matrix(sparse_stuff_adj)"
      ],
      "execution_count": 310,
      "outputs": []
    },
    {
      "cell_type": "code",
      "metadata": {
        "id": "ElWx0630ywWS"
      },
      "source": [
        "multi_net = mx.MultilayerGraph(list_of_layers=[living_graph, working_graph, stuff_graph],\n",
        "                        inter_adjacency_matrix= inter_adj)\n",
        "\n",
        "\n",
        "multi_net.set_edges_weights(inter_layer_edges_weight=0.1)\n",
        "\n",
        "# ToDo set weights based on daily interaction time \n",
        "multi_net.set_intra_edges_weights(layer=0,weight=1)\n",
        "multi_net.set_intra_edges_weights(layer=1,weight=2)\n",
        "multi_net.set_intra_edges_weights(layer=2,weight=3)"
      ],
      "execution_count": 311,
      "outputs": []
    },
    {
      "cell_type": "code",
      "metadata": {
        "id": "rRADEwjM7cHx"
      },
      "source": [
        "# First layer = living place \n",
        "x_coord = DF_agents.x_liv.to_dict()\n",
        "y_coord = DF_agents.y_stu.to_dict()\n",
        "\n",
        "#second layer = working place \n",
        "x_coord1 = DF_agents.x_wor.to_dict()\n",
        "y_coord1 = DF_agents.y_wor.to_dict()\n",
        "\n",
        "#third layer  = stuff place \n",
        "x_coord2 = DF_agents.x_stu.to_dict()\n",
        "y_coord2 = DF_agents.y_stu.to_dict() \n",
        "\n",
        "for i in range(0,DF_agents.shape[0]):\n",
        "  x_coord1[DF_agents.shape[0] + i] = x_coord1.pop(i)\n",
        "  y_coord1[DF_agents.shape[0] + i] = y_coord1.pop(i)\n",
        "\n",
        "for i in range(0,DF_agents.shape[0]):\n",
        "  x_coord2[DF_agents.shape[0]*2 + i] = x_coord2.pop(i)\n",
        "  y_coord2[DF_agents.shape[0]*2+ i] = y_coord2.pop(i)\n",
        "\n",
        "\n",
        "x_coord.update(x_coord1)\n",
        "x_coord.update(x_coord2)\n",
        "\n",
        "y_coord.update(y_coord1)\n",
        "y_coord.update(y_coord2)"
      ],
      "execution_count": 312,
      "outputs": []
    },
    {
      "cell_type": "code",
      "metadata": {
        "id": "7WNj4K8l9fjy"
      },
      "source": [
        "def merge_dict(dict1, dict2):\n",
        "    ''' \n",
        "    Merge dictionaries and keep values of common keys in list\n",
        "    '''\n",
        "    dict3 = {**dict1, **dict2}\n",
        "    for key, value in dict3.items():\n",
        "        if key in dict1 and key in dict2:\n",
        "            dict3[key] = np.array([value , dict1[key]])\n",
        "    return dict3"
      ],
      "execution_count": 313,
      "outputs": []
    },
    {
      "cell_type": "code",
      "metadata": {
        "id": "H95ykrCb8weD"
      },
      "source": [
        "pos_coord = merge_dict(x_coord, y_coord)\n",
        "\n",
        "pos = mx.get_position(multi_net,pos_coord,\n",
        "\t\t\t\t\t  layer_vertical_shift=5000,\n",
        "\t\t\t\t\t  layer_horizontal_shift= 2000,\n",
        "\t\t\t\t\t  proj_angle= 90 )"
      ],
      "execution_count": 308,
      "outputs": []
    },
    {
      "cell_type": "code",
      "metadata": {
        "colab": {
          "base_uri": "https://localhost:8080/",
          "height": 607
        },
        "id": "H-QOORzF0D6R",
        "outputId": "7af2d813-6306-4c90-e7f7-56f68a8adecf"
      },
      "source": [
        "fig = plt.figure(figsize=(25,10))\n",
        "ax1 = fig.add_subplot(121)\n",
        "ax1.imshow(mx.adjacency_matrix(multi_net,weight='weight').todense(),\n",
        "\t\t  origin='upper',interpolation='nearest',cmap=plt.cm.coolwarm_r)\n",
        "ax1.set_title('supra adjacency matrix')\n",
        "\n",
        "ax2 = fig.add_subplot(122)\n",
        "ax2.axis('off')\n",
        "ax2.set_title('general multiplex network')\n",
        "\n",
        "mx.draw_networkx(multi_net,pos=pos,ax=ax2,node_size=10,with_labels=False,\n",
        "\t\t\t\t edge_color=[multi_net[a][b]['weight'] for a,b in multi_net.edges()],\n",
        "\t\t\t\t edge_cmap=plt.cm.coolwarm_r, width = 0.01)\n",
        "\n",
        "plt.show()"
      ],
      "execution_count": 309,
      "outputs": [
        {
          "output_type": "display_data",
          "data": {
            "image/png": "[encoded data removed]",
            "text/plain": [
              "<Figure size 1800x720 with 2 Axes>"
            ]
          },
          "metadata": {
            "tags": [],
            "needs_background": "light"
          }
        }
      ]
    },
    {
      "cell_type": "code",
      "metadata": {
        "id": "bttGX7pmS802"
      },
      "source": [
        ""
      ],
      "execution_count": null,
      "outputs": []
    }
  ]
}