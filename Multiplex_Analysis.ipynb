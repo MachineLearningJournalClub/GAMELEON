{
  "nbformat": 4,
  "nbformat_minor": 0,
  "metadata": {
    "colab": {
      "name": "Multiplex_Analysis.ipynb",
      "provenance": [],
      "collapsed_sections": [],
      "authorship_tag": "ABX9TyOaZsGHve+4R+pPC9ZzhOSn",
      "include_colab_link": true
    },
    "kernelspec": {
      "name": "python3",
      "display_name": "Python 3"
    }
  },
  "cells": [
    {
      "cell_type": "markdown",
      "metadata": {
        "id": "view-in-github",
        "colab_type": "text"
      },
      "source": [
        "<a href=\"https://colab.research.google.com/github/sazio/MultiAgentCovid/blob/master/Multiplex_Analysis.ipynb\" target=\"_parent\"><img src=\"https://colab.research.google.com/assets/colab-badge.svg\" alt=\"Open In Colab\"/></a>"
      ]
    },
    {
      "cell_type": "markdown",
      "metadata": {
        "id": "r7eBo3xjzz6r"
      },
      "source": [
        "## Import Data and match Agents with Buildings"
      ]
    },
    {
      "cell_type": "code",
      "metadata": {
        "id": "2_TEwY8VzvIa"
      },
      "source": [
        "import numpy as np\n",
        "import pandas as pd \n",
        "import glob "
      ],
      "execution_count": 65,
      "outputs": []
    },
    {
      "cell_type": "code",
      "metadata": {
        "colab": {
          "base_uri": "https://localhost:8080/"
        },
        "id": "6X0r82Gdz7-q",
        "outputId": "c4116d4e-af1a-4a72-e19d-72521b612e40"
      },
      "source": [
        "from google.colab import drive\n",
        "drive.mount('/content/drive', force_remount= True)"
      ],
      "execution_count": 2,
      "outputs": [
        {
          "output_type": "stream",
          "text": [
            "Mounted at /content/drive\n"
          ],
          "name": "stdout"
        }
      ]
    },
    {
      "cell_type": "code",
      "metadata": {
        "id": "ihMbH7cU0cdj"
      },
      "source": [
        "path = \"drive/MyDrive/MAS/Data/Output_GAMA/Data\"\n",
        "\n",
        "agents_path = path + \"/Agents\"\n",
        "buildings_path = path + \"/Buildings\"\n",
        "\n",
        "agents_files = glob.glob(agents_path + \"/*.csv\")\n",
        "buildings_file = glob.glob(buildings_path + \"/*.csv\")"
      ],
      "execution_count": 4,
      "outputs": []
    },
    {
      "cell_type": "code",
      "metadata": {
        "id": "Rr1lfojv1lnl",
        "colab": {
          "base_uri": "https://localhost:8080/",
          "height": 204
        },
        "outputId": "cc5ecba6-e0db-4eb2-ff37-8415618b8f57"
      },
      "source": [
        "DF_buildings = pd.read_csv(buildings_file[0], sep = \",\", names = [\"name\", \"loc_x\", \"loc_y\", \"loc_z\"])\n",
        "DF_buildings = DF_buildings.iloc[1:]\n",
        "DF_buildings = DF_buildings.reset_index(drop = True)\n",
        "DF_buildings[\"name\"] = DF_buildings[\"name\"].str[:-1] + \"(\" + DF_buildings[\"name\"].str[-1] + \")\"\n",
        "DF_buildings[\"loc_x\"] = DF_buildings[\"loc_x\"].str[1:].astype(np.float32)\n",
        "DF_buildings[\"loc_y\"] = DF_buildings[\"loc_y\"].astype(np.float32)\n",
        "DF_buildings[\"loc_z\"] = DF_buildings[\"loc_z\"].str[:-1].astype(np.float32)\n",
        "\n",
        "DF_buildings.head()"
      ],
      "execution_count": 105,
      "outputs": [
        {
          "output_type": "execute_result",
          "data": {
            "text/html": [
              "<div>\n",
              "<style scoped>\n",
              "    .dataframe tbody tr th:only-of-type {\n",
              "        vertical-align: middle;\n",
              "    }\n",
              "\n",
              "    .dataframe tbody tr th {\n",
              "        vertical-align: top;\n",
              "    }\n",
              "\n",
              "    .dataframe thead th {\n",
              "        text-align: right;\n",
              "    }\n",
              "</style>\n",
              "<table border=\"1\" class=\"dataframe\">\n",
              "  <thead>\n",
              "    <tr style=\"text-align: right;\">\n",
              "      <th></th>\n",
              "      <th>name</th>\n",
              "      <th>loc_x</th>\n",
              "      <th>loc_y</th>\n",
              "      <th>loc_z</th>\n",
              "    </tr>\n",
              "  </thead>\n",
              "  <tbody>\n",
              "    <tr>\n",
              "      <th>0</th>\n",
              "      <td>building(0)</td>\n",
              "      <td>4258.587891</td>\n",
              "      <td>8622.923828</td>\n",
              "      <td>0.0</td>\n",
              "    </tr>\n",
              "    <tr>\n",
              "      <th>1</th>\n",
              "      <td>building(1)</td>\n",
              "      <td>4205.688477</td>\n",
              "      <td>8554.613281</td>\n",
              "      <td>0.0</td>\n",
              "    </tr>\n",
              "    <tr>\n",
              "      <th>2</th>\n",
              "      <td>building(2)</td>\n",
              "      <td>4172.957031</td>\n",
              "      <td>8508.589844</td>\n",
              "      <td>0.0</td>\n",
              "    </tr>\n",
              "    <tr>\n",
              "      <th>3</th>\n",
              "      <td>building(3)</td>\n",
              "      <td>4653.243164</td>\n",
              "      <td>8230.745117</td>\n",
              "      <td>0.0</td>\n",
              "    </tr>\n",
              "    <tr>\n",
              "      <th>4</th>\n",
              "      <td>building(4)</td>\n",
              "      <td>4630.689941</td>\n",
              "      <td>8173.111816</td>\n",
              "      <td>0.0</td>\n",
              "    </tr>\n",
              "  </tbody>\n",
              "</table>\n",
              "</div>"
            ],
            "text/plain": [
              "          name        loc_x        loc_y  loc_z\n",
              "0  building(0)  4258.587891  8622.923828    0.0\n",
              "1  building(1)  4205.688477  8554.613281    0.0\n",
              "2  building(2)  4172.957031  8508.589844    0.0\n",
              "3  building(3)  4653.243164  8230.745117    0.0\n",
              "4  building(4)  4630.689941  8173.111816    0.0"
            ]
          },
          "metadata": {
            "tags": []
          },
          "execution_count": 105
        }
      ]
    },
    {
      "cell_type": "code",
      "metadata": {
        "colab": {
          "base_uri": "https://localhost:8080/",
          "height": 204
        },
        "id": "DVje05BS27hQ",
        "outputId": "e0071e1f-2836-4745-b5eb-3593ed531aca"
      },
      "source": [
        "# First Agents file as example (ToDo --> function from this stuff)\n",
        "DF_agents = pd.read_csv(agents_files[0], sep = \",\", names = [\"name\", \"cycle\",\"loc_x\", \"loc_y\", \"loc_z\",\"living_place\",\n",
        "\"working_place\",\"stuff_place\", \"is_susceptible\", \"is_infected\", \"is_immune\"])\n",
        "DF_agents = DF_agents.iloc[1:]\n",
        "DF_agents = DF_agents.reset_index(drop = True)\n",
        "DF_agents[\"loc_x\"] = DF_agents[\"loc_x\"].str[1:].astype(np.float32)\n",
        "DF_agents[\"loc_y\"] = DF_agents[\"loc_y\"].astype(np.float32)\n",
        "DF_agents[\"loc_z\"] = DF_agents[\"loc_z\"].str[:-1].astype(np.float32)\n",
        "\n",
        "DF_agents = DF_agents.replace({\"is_susceptible\":{\"true\":True, \"false\":False}})\n",
        "DF_agents = DF_agents.replace({\"is_infected\":{\"True\":True, \"False\":False}})\n",
        "DF_agents = DF_agents.replace({\"is_immune\":{\"True\":True, \"False\":False}})\n",
        "\n",
        "DF_agents.head()"
      ],
      "execution_count": 82,
      "outputs": [
        {
          "output_type": "execute_result",
          "data": {
            "text/html": [
              "<div>\n",
              "<style scoped>\n",
              "    .dataframe tbody tr th:only-of-type {\n",
              "        vertical-align: middle;\n",
              "    }\n",
              "\n",
              "    .dataframe tbody tr th {\n",
              "        vertical-align: top;\n",
              "    }\n",
              "\n",
              "    .dataframe thead th {\n",
              "        text-align: right;\n",
              "    }\n",
              "</style>\n",
              "<table border=\"1\" class=\"dataframe\">\n",
              "  <thead>\n",
              "    <tr style=\"text-align: right;\">\n",
              "      <th></th>\n",
              "      <th>name</th>\n",
              "      <th>cycle</th>\n",
              "      <th>loc_x</th>\n",
              "      <th>loc_y</th>\n",
              "      <th>loc_z</th>\n",
              "      <th>living_place</th>\n",
              "      <th>working_place</th>\n",
              "      <th>stuff_place</th>\n",
              "      <th>is_susceptible</th>\n",
              "      <th>is_infected</th>\n",
              "      <th>is_immune</th>\n",
              "    </tr>\n",
              "  </thead>\n",
              "  <tbody>\n",
              "    <tr>\n",
              "      <th>0</th>\n",
              "      <td>people0</td>\n",
              "      <td>401</td>\n",
              "      <td>4047.333740</td>\n",
              "      <td>2014.397461</td>\n",
              "      <td>0.0</td>\n",
              "      <td>building(1408)</td>\n",
              "      <td>building(220)</td>\n",
              "      <td>building(3381)</td>\n",
              "      <td>False</td>\n",
              "      <td>False</td>\n",
              "      <td>True</td>\n",
              "    </tr>\n",
              "    <tr>\n",
              "      <th>1</th>\n",
              "      <td>people1</td>\n",
              "      <td>401</td>\n",
              "      <td>1911.168823</td>\n",
              "      <td>3917.855225</td>\n",
              "      <td>0.0</td>\n",
              "      <td>building(1350)</td>\n",
              "      <td>building(5862)</td>\n",
              "      <td>building(6186)</td>\n",
              "      <td>False</td>\n",
              "      <td>True</td>\n",
              "      <td>False</td>\n",
              "    </tr>\n",
              "    <tr>\n",
              "      <th>2</th>\n",
              "      <td>people2</td>\n",
              "      <td>401</td>\n",
              "      <td>3277.526123</td>\n",
              "      <td>657.434082</td>\n",
              "      <td>0.0</td>\n",
              "      <td>building(2112)</td>\n",
              "      <td>building(84)</td>\n",
              "      <td>building(6398)</td>\n",
              "      <td>True</td>\n",
              "      <td>False</td>\n",
              "      <td>False</td>\n",
              "    </tr>\n",
              "    <tr>\n",
              "      <th>3</th>\n",
              "      <td>people3</td>\n",
              "      <td>401</td>\n",
              "      <td>3803.600098</td>\n",
              "      <td>1790.961182</td>\n",
              "      <td>0.0</td>\n",
              "      <td>building(5496)</td>\n",
              "      <td>building(5860)</td>\n",
              "      <td>building(6211)</td>\n",
              "      <td>True</td>\n",
              "      <td>False</td>\n",
              "      <td>False</td>\n",
              "    </tr>\n",
              "    <tr>\n",
              "      <th>4</th>\n",
              "      <td>people4</td>\n",
              "      <td>401</td>\n",
              "      <td>3402.263672</td>\n",
              "      <td>7576.838379</td>\n",
              "      <td>0.0</td>\n",
              "      <td>building(1101)</td>\n",
              "      <td>building(266)</td>\n",
              "      <td>building(2286)</td>\n",
              "      <td>True</td>\n",
              "      <td>False</td>\n",
              "      <td>False</td>\n",
              "    </tr>\n",
              "  </tbody>\n",
              "</table>\n",
              "</div>"
            ],
            "text/plain": [
              "      name cycle        loc_x  ...  is_susceptible  is_infected is_immune\n",
              "0  people0   401  4047.333740  ...           False        False      True\n",
              "1  people1   401  1911.168823  ...           False         True     False\n",
              "2  people2   401  3277.526123  ...            True        False     False\n",
              "3  people3   401  3803.600098  ...            True        False     False\n",
              "4  people4   401  3402.263672  ...            True        False     False\n",
              "\n",
              "[5 rows x 11 columns]"
            ]
          },
          "metadata": {
            "tags": []
          },
          "execution_count": 82
        }
      ]
    },
    {
      "cell_type": "code",
      "metadata": {
        "colab": {
          "base_uri": "https://localhost:8080/"
        },
        "id": "FHSWnc2n97eh",
        "outputId": "cdb416b9-0195-48f6-ee7d-113aa6ae2939"
      },
      "source": [
        "np.linalg.norm(DF_agents.values[0,2:4] - DF_buildings.values[0,1:3])"
      ],
      "execution_count": 98,
      "outputs": [
        {
          "output_type": "execute_result",
          "data": {
            "text/plain": [
              "6611.902075943781"
            ]
          },
          "metadata": {
            "tags": []
          },
          "execution_count": 98
        }
      ]
    },
    {
      "cell_type": "code",
      "metadata": {
        "id": "NFNgoy8797j8"
      },
      "source": [
        ""
      ],
      "execution_count": 105,
      "outputs": []
    },
    {
      "cell_type": "code",
      "metadata": {
        "id": "3A4AYoJmBFNB"
      },
      "source": [
        ""
      ],
      "execution_count": null,
      "outputs": []
    }
  ]
}