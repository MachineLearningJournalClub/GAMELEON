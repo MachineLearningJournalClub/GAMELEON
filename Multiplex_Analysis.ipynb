{
  "nbformat": 4,
  "nbformat_minor": 0,
  "metadata": {
    "colab": {
      "name": "Multiplex_Analysis.ipynb",
      "provenance": [],
      "collapsed_sections": [],
      "authorship_tag": "ABX9TyNe1Y6XZZDimdE+ERZe5Xhr",
      "include_colab_link": true
    },
    "kernelspec": {
      "name": "python3",
      "display_name": "Python 3"
    },
    "widgets": {
      "application/vnd.jupyter.widget-state+json": {
        "43831471610747e9bd75904f493a37c1": {
          "model_module": "@jupyter-widgets/controls",
          "model_name": "HBoxModel",
          "state": {
            "_view_name": "HBoxView",
            "_dom_classes": [],
            "_model_name": "HBoxModel",
            "_view_module": "@jupyter-widgets/controls",
            "_model_module_version": "1.5.0",
            "_view_count": null,
            "_view_module_version": "1.5.0",
            "box_style": "",
            "layout": "IPY_MODEL_4adb48b941eb4cbaa649c427af2f6247",
            "_model_module": "@jupyter-widgets/controls",
            "children": [
              "IPY_MODEL_c1982f2d9031409f8b1c8044d1327b78",
              "IPY_MODEL_4dd46908200542e28b2f5b2d827316d3"
            ]
          }
        },
        "4adb48b941eb4cbaa649c427af2f6247": {
          "model_module": "@jupyter-widgets/base",
          "model_name": "LayoutModel",
          "state": {
            "_view_name": "LayoutView",
            "grid_template_rows": null,
            "right": null,
            "justify_content": null,
            "_view_module": "@jupyter-widgets/base",
            "overflow": null,
            "_model_module_version": "1.2.0",
            "_view_count": null,
            "flex_flow": null,
            "width": null,
            "min_width": null,
            "border": null,
            "align_items": null,
            "bottom": null,
            "_model_module": "@jupyter-widgets/base",
            "top": null,
            "grid_column": null,
            "overflow_y": null,
            "overflow_x": null,
            "grid_auto_flow": null,
            "grid_area": null,
            "grid_template_columns": null,
            "flex": null,
            "_model_name": "LayoutModel",
            "justify_items": null,
            "grid_row": null,
            "max_height": null,
            "align_content": null,
            "visibility": null,
            "align_self": null,
            "height": null,
            "min_height": null,
            "padding": null,
            "grid_auto_rows": null,
            "grid_gap": null,
            "max_width": null,
            "order": null,
            "_view_module_version": "1.2.0",
            "grid_template_areas": null,
            "object_position": null,
            "object_fit": null,
            "grid_auto_columns": null,
            "margin": null,
            "display": null,
            "left": null
          }
        },
        "c1982f2d9031409f8b1c8044d1327b78": {
          "model_module": "@jupyter-widgets/controls",
          "model_name": "FloatProgressModel",
          "state": {
            "_view_name": "ProgressView",
            "style": "IPY_MODEL_6d6a002178984d72aebbdea3a267219d",
            "_dom_classes": [],
            "description": "100%",
            "_model_name": "FloatProgressModel",
            "bar_style": "success",
            "max": 1200,
            "_view_module": "@jupyter-widgets/controls",
            "_model_module_version": "1.5.0",
            "value": 1200,
            "_view_count": null,
            "_view_module_version": "1.5.0",
            "orientation": "horizontal",
            "min": 0,
            "description_tooltip": null,
            "_model_module": "@jupyter-widgets/controls",
            "layout": "IPY_MODEL_05588515fa3948d38f8b644d2f38c8b4"
          }
        },
        "4dd46908200542e28b2f5b2d827316d3": {
          "model_module": "@jupyter-widgets/controls",
          "model_name": "HTMLModel",
          "state": {
            "_view_name": "HTMLView",
            "style": "IPY_MODEL_b89b175398864e72ade076b6724e7739",
            "_dom_classes": [],
            "description": "",
            "_model_name": "HTMLModel",
            "placeholder": "​",
            "_view_module": "@jupyter-widgets/controls",
            "_model_module_version": "1.5.0",
            "value": " 1200/1200 [14:13&lt;00:00,  1.41it/s]",
            "_view_count": null,
            "_view_module_version": "1.5.0",
            "description_tooltip": null,
            "_model_module": "@jupyter-widgets/controls",
            "layout": "IPY_MODEL_9e6726f59e344d73b0d4f724b637a93a"
          }
        },
        "6d6a002178984d72aebbdea3a267219d": {
          "model_module": "@jupyter-widgets/controls",
          "model_name": "ProgressStyleModel",
          "state": {
            "_view_name": "StyleView",
            "_model_name": "ProgressStyleModel",
            "description_width": "initial",
            "_view_module": "@jupyter-widgets/base",
            "_model_module_version": "1.5.0",
            "_view_count": null,
            "_view_module_version": "1.2.0",
            "bar_color": null,
            "_model_module": "@jupyter-widgets/controls"
          }
        },
        "05588515fa3948d38f8b644d2f38c8b4": {
          "model_module": "@jupyter-widgets/base",
          "model_name": "LayoutModel",
          "state": {
            "_view_name": "LayoutView",
            "grid_template_rows": null,
            "right": null,
            "justify_content": null,
            "_view_module": "@jupyter-widgets/base",
            "overflow": null,
            "_model_module_version": "1.2.0",
            "_view_count": null,
            "flex_flow": null,
            "width": null,
            "min_width": null,
            "border": null,
            "align_items": null,
            "bottom": null,
            "_model_module": "@jupyter-widgets/base",
            "top": null,
            "grid_column": null,
            "overflow_y": null,
            "overflow_x": null,
            "grid_auto_flow": null,
            "grid_area": null,
            "grid_template_columns": null,
            "flex": null,
            "_model_name": "LayoutModel",
            "justify_items": null,
            "grid_row": null,
            "max_height": null,
            "align_content": null,
            "visibility": null,
            "align_self": null,
            "height": null,
            "min_height": null,
            "padding": null,
            "grid_auto_rows": null,
            "grid_gap": null,
            "max_width": null,
            "order": null,
            "_view_module_version": "1.2.0",
            "grid_template_areas": null,
            "object_position": null,
            "object_fit": null,
            "grid_auto_columns": null,
            "margin": null,
            "display": null,
            "left": null
          }
        },
        "b89b175398864e72ade076b6724e7739": {
          "model_module": "@jupyter-widgets/controls",
          "model_name": "DescriptionStyleModel",
          "state": {
            "_view_name": "StyleView",
            "_model_name": "DescriptionStyleModel",
            "description_width": "",
            "_view_module": "@jupyter-widgets/base",
            "_model_module_version": "1.5.0",
            "_view_count": null,
            "_view_module_version": "1.2.0",
            "_model_module": "@jupyter-widgets/controls"
          }
        },
        "9e6726f59e344d73b0d4f724b637a93a": {
          "model_module": "@jupyter-widgets/base",
          "model_name": "LayoutModel",
          "state": {
            "_view_name": "LayoutView",
            "grid_template_rows": null,
            "right": null,
            "justify_content": null,
            "_view_module": "@jupyter-widgets/base",
            "overflow": null,
            "_model_module_version": "1.2.0",
            "_view_count": null,
            "flex_flow": null,
            "width": null,
            "min_width": null,
            "border": null,
            "align_items": null,
            "bottom": null,
            "_model_module": "@jupyter-widgets/base",
            "top": null,
            "grid_column": null,
            "overflow_y": null,
            "overflow_x": null,
            "grid_auto_flow": null,
            "grid_area": null,
            "grid_template_columns": null,
            "flex": null,
            "_model_name": "LayoutModel",
            "justify_items": null,
            "grid_row": null,
            "max_height": null,
            "align_content": null,
            "visibility": null,
            "align_self": null,
            "height": null,
            "min_height": null,
            "padding": null,
            "grid_auto_rows": null,
            "grid_gap": null,
            "max_width": null,
            "order": null,
            "_view_module_version": "1.2.0",
            "grid_template_areas": null,
            "object_position": null,
            "object_fit": null,
            "grid_auto_columns": null,
            "margin": null,
            "display": null,
            "left": null
          }
        },
        "24ebe60444be4671a3faacf7c371c0b3": {
          "model_module": "@jupyter-widgets/controls",
          "model_name": "HBoxModel",
          "state": {
            "_view_name": "HBoxView",
            "_dom_classes": [],
            "_model_name": "HBoxModel",
            "_view_module": "@jupyter-widgets/controls",
            "_model_module_version": "1.5.0",
            "_view_count": null,
            "_view_module_version": "1.5.0",
            "box_style": "",
            "layout": "IPY_MODEL_7ebc5c958785412a968b14550826b669",
            "_model_module": "@jupyter-widgets/controls",
            "children": [
              "IPY_MODEL_050443187bea4e46beb637f3c4e2d88c",
              "IPY_MODEL_0c2d59b0331c4620bb48ed1072ac9d0f"
            ]
          }
        },
        "7ebc5c958785412a968b14550826b669": {
          "model_module": "@jupyter-widgets/base",
          "model_name": "LayoutModel",
          "state": {
            "_view_name": "LayoutView",
            "grid_template_rows": null,
            "right": null,
            "justify_content": null,
            "_view_module": "@jupyter-widgets/base",
            "overflow": null,
            "_model_module_version": "1.2.0",
            "_view_count": null,
            "flex_flow": null,
            "width": null,
            "min_width": null,
            "border": null,
            "align_items": null,
            "bottom": null,
            "_model_module": "@jupyter-widgets/base",
            "top": null,
            "grid_column": null,
            "overflow_y": null,
            "overflow_x": null,
            "grid_auto_flow": null,
            "grid_area": null,
            "grid_template_columns": null,
            "flex": null,
            "_model_name": "LayoutModel",
            "justify_items": null,
            "grid_row": null,
            "max_height": null,
            "align_content": null,
            "visibility": null,
            "align_self": null,
            "height": null,
            "min_height": null,
            "padding": null,
            "grid_auto_rows": null,
            "grid_gap": null,
            "max_width": null,
            "order": null,
            "_view_module_version": "1.2.0",
            "grid_template_areas": null,
            "object_position": null,
            "object_fit": null,
            "grid_auto_columns": null,
            "margin": null,
            "display": null,
            "left": null
          }
        },
        "050443187bea4e46beb637f3c4e2d88c": {
          "model_module": "@jupyter-widgets/controls",
          "model_name": "FloatProgressModel",
          "state": {
            "_view_name": "ProgressView",
            "style": "IPY_MODEL_4b196366b0b1481ba314e5b0d1e0838f",
            "_dom_classes": [],
            "description": "100%",
            "_model_name": "FloatProgressModel",
            "bar_style": "success",
            "max": 1200,
            "_view_module": "@jupyter-widgets/controls",
            "_model_module_version": "1.5.0",
            "value": 1200,
            "_view_count": null,
            "_view_module_version": "1.5.0",
            "orientation": "horizontal",
            "min": 0,
            "description_tooltip": null,
            "_model_module": "@jupyter-widgets/controls",
            "layout": "IPY_MODEL_ccbb04b52abc4dba88da654e17f270e9"
          }
        },
        "0c2d59b0331c4620bb48ed1072ac9d0f": {
          "model_module": "@jupyter-widgets/controls",
          "model_name": "HTMLModel",
          "state": {
            "_view_name": "HTMLView",
            "style": "IPY_MODEL_f0c5b364006a443eb7f68e918aba4a74",
            "_dom_classes": [],
            "description": "",
            "_model_name": "HTMLModel",
            "placeholder": "​",
            "_view_module": "@jupyter-widgets/controls",
            "_model_module_version": "1.5.0",
            "value": " 1200/1200 [14:34&lt;00:00,  1.37it/s]",
            "_view_count": null,
            "_view_module_version": "1.5.0",
            "description_tooltip": null,
            "_model_module": "@jupyter-widgets/controls",
            "layout": "IPY_MODEL_6cb3276be10740de83f47e53b504615e"
          }
        },
        "4b196366b0b1481ba314e5b0d1e0838f": {
          "model_module": "@jupyter-widgets/controls",
          "model_name": "ProgressStyleModel",
          "state": {
            "_view_name": "StyleView",
            "_model_name": "ProgressStyleModel",
            "description_width": "initial",
            "_view_module": "@jupyter-widgets/base",
            "_model_module_version": "1.5.0",
            "_view_count": null,
            "_view_module_version": "1.2.0",
            "bar_color": null,
            "_model_module": "@jupyter-widgets/controls"
          }
        },
        "ccbb04b52abc4dba88da654e17f270e9": {
          "model_module": "@jupyter-widgets/base",
          "model_name": "LayoutModel",
          "state": {
            "_view_name": "LayoutView",
            "grid_template_rows": null,
            "right": null,
            "justify_content": null,
            "_view_module": "@jupyter-widgets/base",
            "overflow": null,
            "_model_module_version": "1.2.0",
            "_view_count": null,
            "flex_flow": null,
            "width": null,
            "min_width": null,
            "border": null,
            "align_items": null,
            "bottom": null,
            "_model_module": "@jupyter-widgets/base",
            "top": null,
            "grid_column": null,
            "overflow_y": null,
            "overflow_x": null,
            "grid_auto_flow": null,
            "grid_area": null,
            "grid_template_columns": null,
            "flex": null,
            "_model_name": "LayoutModel",
            "justify_items": null,
            "grid_row": null,
            "max_height": null,
            "align_content": null,
            "visibility": null,
            "align_self": null,
            "height": null,
            "min_height": null,
            "padding": null,
            "grid_auto_rows": null,
            "grid_gap": null,
            "max_width": null,
            "order": null,
            "_view_module_version": "1.2.0",
            "grid_template_areas": null,
            "object_position": null,
            "object_fit": null,
            "grid_auto_columns": null,
            "margin": null,
            "display": null,
            "left": null
          }
        },
        "f0c5b364006a443eb7f68e918aba4a74": {
          "model_module": "@jupyter-widgets/controls",
          "model_name": "DescriptionStyleModel",
          "state": {
            "_view_name": "StyleView",
            "_model_name": "DescriptionStyleModel",
            "description_width": "",
            "_view_module": "@jupyter-widgets/base",
            "_model_module_version": "1.5.0",
            "_view_count": null,
            "_view_module_version": "1.2.0",
            "_model_module": "@jupyter-widgets/controls"
          }
        },
        "6cb3276be10740de83f47e53b504615e": {
          "model_module": "@jupyter-widgets/base",
          "model_name": "LayoutModel",
          "state": {
            "_view_name": "LayoutView",
            "grid_template_rows": null,
            "right": null,
            "justify_content": null,
            "_view_module": "@jupyter-widgets/base",
            "overflow": null,
            "_model_module_version": "1.2.0",
            "_view_count": null,
            "flex_flow": null,
            "width": null,
            "min_width": null,
            "border": null,
            "align_items": null,
            "bottom": null,
            "_model_module": "@jupyter-widgets/base",
            "top": null,
            "grid_column": null,
            "overflow_y": null,
            "overflow_x": null,
            "grid_auto_flow": null,
            "grid_area": null,
            "grid_template_columns": null,
            "flex": null,
            "_model_name": "LayoutModel",
            "justify_items": null,
            "grid_row": null,
            "max_height": null,
            "align_content": null,
            "visibility": null,
            "align_self": null,
            "height": null,
            "min_height": null,
            "padding": null,
            "grid_auto_rows": null,
            "grid_gap": null,
            "max_width": null,
            "order": null,
            "_view_module_version": "1.2.0",
            "grid_template_areas": null,
            "object_position": null,
            "object_fit": null,
            "grid_auto_columns": null,
            "margin": null,
            "display": null,
            "left": null
          }
        },
        "875df844313e4bab89e5a256b10768a3": {
          "model_module": "@jupyter-widgets/controls",
          "model_name": "HBoxModel",
          "state": {
            "_view_name": "HBoxView",
            "_dom_classes": [],
            "_model_name": "HBoxModel",
            "_view_module": "@jupyter-widgets/controls",
            "_model_module_version": "1.5.0",
            "_view_count": null,
            "_view_module_version": "1.5.0",
            "box_style": "",
            "layout": "IPY_MODEL_0efa866d200d49e0b6bea54d2312e147",
            "_model_module": "@jupyter-widgets/controls",
            "children": [
              "IPY_MODEL_27826ab2d8ed4e61bd5273ae7e1c6d84",
              "IPY_MODEL_d586cc6c18944c7198edbe942a466520"
            ]
          }
        },
        "0efa866d200d49e0b6bea54d2312e147": {
          "model_module": "@jupyter-widgets/base",
          "model_name": "LayoutModel",
          "state": {
            "_view_name": "LayoutView",
            "grid_template_rows": null,
            "right": null,
            "justify_content": null,
            "_view_module": "@jupyter-widgets/base",
            "overflow": null,
            "_model_module_version": "1.2.0",
            "_view_count": null,
            "flex_flow": null,
            "width": null,
            "min_width": null,
            "border": null,
            "align_items": null,
            "bottom": null,
            "_model_module": "@jupyter-widgets/base",
            "top": null,
            "grid_column": null,
            "overflow_y": null,
            "overflow_x": null,
            "grid_auto_flow": null,
            "grid_area": null,
            "grid_template_columns": null,
            "flex": null,
            "_model_name": "LayoutModel",
            "justify_items": null,
            "grid_row": null,
            "max_height": null,
            "align_content": null,
            "visibility": null,
            "align_self": null,
            "height": null,
            "min_height": null,
            "padding": null,
            "grid_auto_rows": null,
            "grid_gap": null,
            "max_width": null,
            "order": null,
            "_view_module_version": "1.2.0",
            "grid_template_areas": null,
            "object_position": null,
            "object_fit": null,
            "grid_auto_columns": null,
            "margin": null,
            "display": null,
            "left": null
          }
        },
        "27826ab2d8ed4e61bd5273ae7e1c6d84": {
          "model_module": "@jupyter-widgets/controls",
          "model_name": "FloatProgressModel",
          "state": {
            "_view_name": "ProgressView",
            "style": "IPY_MODEL_af7cd4509ca34baea3b090138826d653",
            "_dom_classes": [],
            "description": "100%",
            "_model_name": "FloatProgressModel",
            "bar_style": "success",
            "max": 1200,
            "_view_module": "@jupyter-widgets/controls",
            "_model_module_version": "1.5.0",
            "value": 1200,
            "_view_count": null,
            "_view_module_version": "1.5.0",
            "orientation": "horizontal",
            "min": 0,
            "description_tooltip": null,
            "_model_module": "@jupyter-widgets/controls",
            "layout": "IPY_MODEL_c592ce907fbf447bac619c5ba1b14af0"
          }
        },
        "d586cc6c18944c7198edbe942a466520": {
          "model_module": "@jupyter-widgets/controls",
          "model_name": "HTMLModel",
          "state": {
            "_view_name": "HTMLView",
            "style": "IPY_MODEL_b555d1e4744041ca94907a15338fd45f",
            "_dom_classes": [],
            "description": "",
            "_model_name": "HTMLModel",
            "placeholder": "​",
            "_view_module": "@jupyter-widgets/controls",
            "_model_module_version": "1.5.0",
            "value": " 1200/1200 [16:00&lt;00:00,  1.25it/s]",
            "_view_count": null,
            "_view_module_version": "1.5.0",
            "description_tooltip": null,
            "_model_module": "@jupyter-widgets/controls",
            "layout": "IPY_MODEL_aec9e41133484f459a556e152c488869"
          }
        },
        "af7cd4509ca34baea3b090138826d653": {
          "model_module": "@jupyter-widgets/controls",
          "model_name": "ProgressStyleModel",
          "state": {
            "_view_name": "StyleView",
            "_model_name": "ProgressStyleModel",
            "description_width": "initial",
            "_view_module": "@jupyter-widgets/base",
            "_model_module_version": "1.5.0",
            "_view_count": null,
            "_view_module_version": "1.2.0",
            "bar_color": null,
            "_model_module": "@jupyter-widgets/controls"
          }
        },
        "c592ce907fbf447bac619c5ba1b14af0": {
          "model_module": "@jupyter-widgets/base",
          "model_name": "LayoutModel",
          "state": {
            "_view_name": "LayoutView",
            "grid_template_rows": null,
            "right": null,
            "justify_content": null,
            "_view_module": "@jupyter-widgets/base",
            "overflow": null,
            "_model_module_version": "1.2.0",
            "_view_count": null,
            "flex_flow": null,
            "width": null,
            "min_width": null,
            "border": null,
            "align_items": null,
            "bottom": null,
            "_model_module": "@jupyter-widgets/base",
            "top": null,
            "grid_column": null,
            "overflow_y": null,
            "overflow_x": null,
            "grid_auto_flow": null,
            "grid_area": null,
            "grid_template_columns": null,
            "flex": null,
            "_model_name": "LayoutModel",
            "justify_items": null,
            "grid_row": null,
            "max_height": null,
            "align_content": null,
            "visibility": null,
            "align_self": null,
            "height": null,
            "min_height": null,
            "padding": null,
            "grid_auto_rows": null,
            "grid_gap": null,
            "max_width": null,
            "order": null,
            "_view_module_version": "1.2.0",
            "grid_template_areas": null,
            "object_position": null,
            "object_fit": null,
            "grid_auto_columns": null,
            "margin": null,
            "display": null,
            "left": null
          }
        },
        "b555d1e4744041ca94907a15338fd45f": {
          "model_module": "@jupyter-widgets/controls",
          "model_name": "DescriptionStyleModel",
          "state": {
            "_view_name": "StyleView",
            "_model_name": "DescriptionStyleModel",
            "description_width": "",
            "_view_module": "@jupyter-widgets/base",
            "_model_module_version": "1.5.0",
            "_view_count": null,
            "_view_module_version": "1.2.0",
            "_model_module": "@jupyter-widgets/controls"
          }
        },
        "aec9e41133484f459a556e152c488869": {
          "model_module": "@jupyter-widgets/base",
          "model_name": "LayoutModel",
          "state": {
            "_view_name": "LayoutView",
            "grid_template_rows": null,
            "right": null,
            "justify_content": null,
            "_view_module": "@jupyter-widgets/base",
            "overflow": null,
            "_model_module_version": "1.2.0",
            "_view_count": null,
            "flex_flow": null,
            "width": null,
            "min_width": null,
            "border": null,
            "align_items": null,
            "bottom": null,
            "_model_module": "@jupyter-widgets/base",
            "top": null,
            "grid_column": null,
            "overflow_y": null,
            "overflow_x": null,
            "grid_auto_flow": null,
            "grid_area": null,
            "grid_template_columns": null,
            "flex": null,
            "_model_name": "LayoutModel",
            "justify_items": null,
            "grid_row": null,
            "max_height": null,
            "align_content": null,
            "visibility": null,
            "align_self": null,
            "height": null,
            "min_height": null,
            "padding": null,
            "grid_auto_rows": null,
            "grid_gap": null,
            "max_width": null,
            "order": null,
            "_view_module_version": "1.2.0",
            "grid_template_areas": null,
            "object_position": null,
            "object_fit": null,
            "grid_auto_columns": null,
            "margin": null,
            "display": null,
            "left": null
          }
        },
        "11857a3a84884ca9b0e48b764599962e": {
          "model_module": "@jupyter-widgets/controls",
          "model_name": "HBoxModel",
          "state": {
            "_view_name": "HBoxView",
            "_dom_classes": [],
            "_model_name": "HBoxModel",
            "_view_module": "@jupyter-widgets/controls",
            "_model_module_version": "1.5.0",
            "_view_count": null,
            "_view_module_version": "1.5.0",
            "box_style": "",
            "layout": "IPY_MODEL_ecd5fdd558644f8cb19d20ea33a3f75f",
            "_model_module": "@jupyter-widgets/controls",
            "children": [
              "IPY_MODEL_1277dc7ced1c4c85a18bdb59da452838",
              "IPY_MODEL_e650f8b64aa1485e9c570cd4ef7dc723"
            ]
          }
        },
        "ecd5fdd558644f8cb19d20ea33a3f75f": {
          "model_module": "@jupyter-widgets/base",
          "model_name": "LayoutModel",
          "state": {
            "_view_name": "LayoutView",
            "grid_template_rows": null,
            "right": null,
            "justify_content": null,
            "_view_module": "@jupyter-widgets/base",
            "overflow": null,
            "_model_module_version": "1.2.0",
            "_view_count": null,
            "flex_flow": null,
            "width": null,
            "min_width": null,
            "border": null,
            "align_items": null,
            "bottom": null,
            "_model_module": "@jupyter-widgets/base",
            "top": null,
            "grid_column": null,
            "overflow_y": null,
            "overflow_x": null,
            "grid_auto_flow": null,
            "grid_area": null,
            "grid_template_columns": null,
            "flex": null,
            "_model_name": "LayoutModel",
            "justify_items": null,
            "grid_row": null,
            "max_height": null,
            "align_content": null,
            "visibility": null,
            "align_self": null,
            "height": null,
            "min_height": null,
            "padding": null,
            "grid_auto_rows": null,
            "grid_gap": null,
            "max_width": null,
            "order": null,
            "_view_module_version": "1.2.0",
            "grid_template_areas": null,
            "object_position": null,
            "object_fit": null,
            "grid_auto_columns": null,
            "margin": null,
            "display": null,
            "left": null
          }
        },
        "1277dc7ced1c4c85a18bdb59da452838": {
          "model_module": "@jupyter-widgets/controls",
          "model_name": "FloatProgressModel",
          "state": {
            "_view_name": "ProgressView",
            "style": "IPY_MODEL_468091c8b2954055a4cfcca9dd2852c0",
            "_dom_classes": [],
            "description": "100%",
            "_model_name": "FloatProgressModel",
            "bar_style": "success",
            "max": 1200,
            "_view_module": "@jupyter-widgets/controls",
            "_model_module_version": "1.5.0",
            "value": 1200,
            "_view_count": null,
            "_view_module_version": "1.5.0",
            "orientation": "horizontal",
            "min": 0,
            "description_tooltip": null,
            "_model_module": "@jupyter-widgets/controls",
            "layout": "IPY_MODEL_0b32bff50b154001a617886a72e69aaa"
          }
        },
        "e650f8b64aa1485e9c570cd4ef7dc723": {
          "model_module": "@jupyter-widgets/controls",
          "model_name": "HTMLModel",
          "state": {
            "_view_name": "HTMLView",
            "style": "IPY_MODEL_e5b4c065519c46638fa2f628dbf3dde5",
            "_dom_classes": [],
            "description": "",
            "_model_name": "HTMLModel",
            "placeholder": "​",
            "_view_module": "@jupyter-widgets/controls",
            "_model_module_version": "1.5.0",
            "value": " 1200/1200 [08:54&lt;00:00,  2.25it/s]",
            "_view_count": null,
            "_view_module_version": "1.5.0",
            "description_tooltip": null,
            "_model_module": "@jupyter-widgets/controls",
            "layout": "IPY_MODEL_2485d2d3445b4f4f930217919b275b32"
          }
        },
        "468091c8b2954055a4cfcca9dd2852c0": {
          "model_module": "@jupyter-widgets/controls",
          "model_name": "ProgressStyleModel",
          "state": {
            "_view_name": "StyleView",
            "_model_name": "ProgressStyleModel",
            "description_width": "initial",
            "_view_module": "@jupyter-widgets/base",
            "_model_module_version": "1.5.0",
            "_view_count": null,
            "_view_module_version": "1.2.0",
            "bar_color": null,
            "_model_module": "@jupyter-widgets/controls"
          }
        },
        "0b32bff50b154001a617886a72e69aaa": {
          "model_module": "@jupyter-widgets/base",
          "model_name": "LayoutModel",
          "state": {
            "_view_name": "LayoutView",
            "grid_template_rows": null,
            "right": null,
            "justify_content": null,
            "_view_module": "@jupyter-widgets/base",
            "overflow": null,
            "_model_module_version": "1.2.0",
            "_view_count": null,
            "flex_flow": null,
            "width": null,
            "min_width": null,
            "border": null,
            "align_items": null,
            "bottom": null,
            "_model_module": "@jupyter-widgets/base",
            "top": null,
            "grid_column": null,
            "overflow_y": null,
            "overflow_x": null,
            "grid_auto_flow": null,
            "grid_area": null,
            "grid_template_columns": null,
            "flex": null,
            "_model_name": "LayoutModel",
            "justify_items": null,
            "grid_row": null,
            "max_height": null,
            "align_content": null,
            "visibility": null,
            "align_self": null,
            "height": null,
            "min_height": null,
            "padding": null,
            "grid_auto_rows": null,
            "grid_gap": null,
            "max_width": null,
            "order": null,
            "_view_module_version": "1.2.0",
            "grid_template_areas": null,
            "object_position": null,
            "object_fit": null,
            "grid_auto_columns": null,
            "margin": null,
            "display": null,
            "left": null
          }
        },
        "e5b4c065519c46638fa2f628dbf3dde5": {
          "model_module": "@jupyter-widgets/controls",
          "model_name": "DescriptionStyleModel",
          "state": {
            "_view_name": "StyleView",
            "_model_name": "DescriptionStyleModel",
            "description_width": "",
            "_view_module": "@jupyter-widgets/base",
            "_model_module_version": "1.5.0",
            "_view_count": null,
            "_view_module_version": "1.2.0",
            "_model_module": "@jupyter-widgets/controls"
          }
        },
        "2485d2d3445b4f4f930217919b275b32": {
          "model_module": "@jupyter-widgets/base",
          "model_name": "LayoutModel",
          "state": {
            "_view_name": "LayoutView",
            "grid_template_rows": null,
            "right": null,
            "justify_content": null,
            "_view_module": "@jupyter-widgets/base",
            "overflow": null,
            "_model_module_version": "1.2.0",
            "_view_count": null,
            "flex_flow": null,
            "width": null,
            "min_width": null,
            "border": null,
            "align_items": null,
            "bottom": null,
            "_model_module": "@jupyter-widgets/base",
            "top": null,
            "grid_column": null,
            "overflow_y": null,
            "overflow_x": null,
            "grid_auto_flow": null,
            "grid_area": null,
            "grid_template_columns": null,
            "flex": null,
            "_model_name": "LayoutModel",
            "justify_items": null,
            "grid_row": null,
            "max_height": null,
            "align_content": null,
            "visibility": null,
            "align_self": null,
            "height": null,
            "min_height": null,
            "padding": null,
            "grid_auto_rows": null,
            "grid_gap": null,
            "max_width": null,
            "order": null,
            "_view_module_version": "1.2.0",
            "grid_template_areas": null,
            "object_position": null,
            "object_fit": null,
            "grid_auto_columns": null,
            "margin": null,
            "display": null,
            "left": null
          }
        }
      }
    }
  },
  "cells": [
    {
      "cell_type": "markdown",
      "metadata": {
        "id": "view-in-github",
        "colab_type": "text"
      },
      "source": [
        "<a href=\"https://colab.research.google.com/github/sazio/MultiAgentCovid/blob/master/Multiplex_Analysis.ipynb\" target=\"_parent\"><img src=\"https://colab.research.google.com/assets/colab-badge.svg\" alt=\"Open In Colab\"/></a>"
      ]
    },
    {
      "cell_type": "markdown",
      "metadata": {
        "id": "r7eBo3xjzz6r"
      },
      "source": [
        "## Import Data and match Agents with Buildings"
      ]
    },
    {
      "cell_type": "code",
      "metadata": {
        "id": "2_TEwY8VzvIa"
      },
      "source": [
        "import numpy as np\n",
        "import pandas as pd \n",
        "import glob \n",
        "from tqdm.notebook import tqdm \n",
        "from scipy import sparse\n",
        "import matplotlib.pyplot as plt\n",
        "\n",
        "import warnings\n",
        "warnings.filterwarnings('ignore')"
      ],
      "execution_count": 163,
      "outputs": []
    },
    {
      "cell_type": "code",
      "metadata": {
        "colab": {
          "base_uri": "https://localhost:8080/"
        },
        "id": "6X0r82Gdz7-q",
        "outputId": "0a55ccd6-ad7c-4987-ce31-89d793dadf42"
      },
      "source": [
        "from google.colab import drive\n",
        "drive.mount('/content/drive', force_remount= True)"
      ],
      "execution_count": 81,
      "outputs": [
        {
          "output_type": "stream",
          "text": [
            "Mounted at /content/drive\n"
          ],
          "name": "stdout"
        }
      ]
    },
    {
      "cell_type": "code",
      "metadata": {
        "id": "ihMbH7cU0cdj"
      },
      "source": [
        "path = \"drive/MyDrive/MAS/Data/Output_GAMA/Data\"\n",
        "\n",
        "agents_path = path + \"/Agents\"\n",
        "buildings_path = path + \"/Buildings\"\n",
        "\n",
        "agents_files = glob.glob(agents_path + \"/*.csv\")\n",
        "buildings_file = glob.glob(buildings_path + \"/*.csv\")\n",
        "\n",
        "agents_1_day = [agents_files[i] for i in range(0,24)]"
      ],
      "execution_count": 82,
      "outputs": []
    },
    {
      "cell_type": "code",
      "metadata": {
        "id": "Rr1lfojv1lnl",
        "colab": {
          "base_uri": "https://localhost:8080/",
          "height": 204
        },
        "outputId": "8e098d2f-e808-4da9-914c-5509916cfd74"
      },
      "source": [
        "DF_buildings = pd.read_csv(buildings_file[0], sep = \",\", names = [\"name\", \"loc_x\", \"loc_y\", \"loc_z\"])\n",
        "DF_buildings = DF_buildings.iloc[1:]\n",
        "DF_buildings = DF_buildings.reset_index(drop = True)\n",
        "DF_buildings[\"name\"] = DF_buildings[\"name\"].str[:8] + \"(\" + DF_buildings[\"name\"].str[8:] + \")\"\n",
        "DF_buildings[\"loc_x\"] = DF_buildings[\"loc_x\"].str[1:].astype(np.float32)\n",
        "DF_buildings[\"loc_y\"] = DF_buildings[\"loc_y\"].astype(np.float32)\n",
        "DF_buildings[\"loc_z\"] = DF_buildings[\"loc_z\"].str[:-1].astype(np.float32)\n",
        "\n",
        "DF_buildings.head()"
      ],
      "execution_count": 5,
      "outputs": [
        {
          "output_type": "execute_result",
          "data": {
            "text/html": [
              "<div>\n",
              "<style scoped>\n",
              "    .dataframe tbody tr th:only-of-type {\n",
              "        vertical-align: middle;\n",
              "    }\n",
              "\n",
              "    .dataframe tbody tr th {\n",
              "        vertical-align: top;\n",
              "    }\n",
              "\n",
              "    .dataframe thead th {\n",
              "        text-align: right;\n",
              "    }\n",
              "</style>\n",
              "<table border=\"1\" class=\"dataframe\">\n",
              "  <thead>\n",
              "    <tr style=\"text-align: right;\">\n",
              "      <th></th>\n",
              "      <th>name</th>\n",
              "      <th>loc_x</th>\n",
              "      <th>loc_y</th>\n",
              "      <th>loc_z</th>\n",
              "    </tr>\n",
              "  </thead>\n",
              "  <tbody>\n",
              "    <tr>\n",
              "      <th>0</th>\n",
              "      <td>building(0)</td>\n",
              "      <td>4258.587891</td>\n",
              "      <td>8622.923828</td>\n",
              "      <td>0.0</td>\n",
              "    </tr>\n",
              "    <tr>\n",
              "      <th>1</th>\n",
              "      <td>building(1)</td>\n",
              "      <td>4205.688477</td>\n",
              "      <td>8554.613281</td>\n",
              "      <td>0.0</td>\n",
              "    </tr>\n",
              "    <tr>\n",
              "      <th>2</th>\n",
              "      <td>building(2)</td>\n",
              "      <td>4172.957031</td>\n",
              "      <td>8508.589844</td>\n",
              "      <td>0.0</td>\n",
              "    </tr>\n",
              "    <tr>\n",
              "      <th>3</th>\n",
              "      <td>building(3)</td>\n",
              "      <td>4653.243164</td>\n",
              "      <td>8230.745117</td>\n",
              "      <td>0.0</td>\n",
              "    </tr>\n",
              "    <tr>\n",
              "      <th>4</th>\n",
              "      <td>building(4)</td>\n",
              "      <td>4630.689941</td>\n",
              "      <td>8173.111816</td>\n",
              "      <td>0.0</td>\n",
              "    </tr>\n",
              "  </tbody>\n",
              "</table>\n",
              "</div>"
            ],
            "text/plain": [
              "          name        loc_x        loc_y  loc_z\n",
              "0  building(0)  4258.587891  8622.923828    0.0\n",
              "1  building(1)  4205.688477  8554.613281    0.0\n",
              "2  building(2)  4172.957031  8508.589844    0.0\n",
              "3  building(3)  4653.243164  8230.745117    0.0\n",
              "4  building(4)  4630.689941  8173.111816    0.0"
            ]
          },
          "metadata": {
            "tags": []
          },
          "execution_count": 5
        }
      ]
    },
    {
      "cell_type": "code",
      "metadata": {
        "colab": {
          "base_uri": "https://localhost:8080/",
          "height": 204
        },
        "id": "DVje05BS27hQ",
        "outputId": "8be6497d-3eb8-4dd1-c736-1846f5f79c9a"
      },
      "source": [
        "# First Agents file as example (ToDo --> function from this stuff)\n",
        "DF_agents = pd.read_csv(agents_files[0], sep = \",\", names = [\"name\", \"cycle\",\"loc_x\", \"loc_y\", \"loc_z\",\"living_place\",\n",
        "\"working_place\",\"stuff_place\", \"is_susceptible\", \"is_infected\", \"is_immune\"])\n",
        "DF_agents = DF_agents.iloc[1:]\n",
        "DF_agents = DF_agents.reset_index(drop = True)\n",
        "DF_agents[\"loc_x\"] = DF_agents[\"loc_x\"].str[1:].astype(np.float32)\n",
        "DF_agents[\"loc_y\"] = DF_agents[\"loc_y\"].astype(np.float32)\n",
        "DF_agents[\"loc_z\"] = DF_agents[\"loc_z\"].str[:-1].astype(np.float32)\n",
        "\n",
        "DF_agents = DF_agents.replace({\"is_susceptible\":{\"true\":True, \"false\":False}})\n",
        "DF_agents = DF_agents.replace({\"is_infected\":{\"True\":True, \"False\":False}})\n",
        "DF_agents = DF_agents.replace({\"is_immune\":{\"True\":True, \"False\":False}})\n",
        "\n",
        "DF_agents.head()"
      ],
      "execution_count": 6,
      "outputs": [
        {
          "output_type": "execute_result",
          "data": {
            "text/html": [
              "<div>\n",
              "<style scoped>\n",
              "    .dataframe tbody tr th:only-of-type {\n",
              "        vertical-align: middle;\n",
              "    }\n",
              "\n",
              "    .dataframe tbody tr th {\n",
              "        vertical-align: top;\n",
              "    }\n",
              "\n",
              "    .dataframe thead th {\n",
              "        text-align: right;\n",
              "    }\n",
              "</style>\n",
              "<table border=\"1\" class=\"dataframe\">\n",
              "  <thead>\n",
              "    <tr style=\"text-align: right;\">\n",
              "      <th></th>\n",
              "      <th>name</th>\n",
              "      <th>cycle</th>\n",
              "      <th>loc_x</th>\n",
              "      <th>loc_y</th>\n",
              "      <th>loc_z</th>\n",
              "      <th>living_place</th>\n",
              "      <th>working_place</th>\n",
              "      <th>stuff_place</th>\n",
              "      <th>is_susceptible</th>\n",
              "      <th>is_infected</th>\n",
              "      <th>is_immune</th>\n",
              "    </tr>\n",
              "  </thead>\n",
              "  <tbody>\n",
              "    <tr>\n",
              "      <th>0</th>\n",
              "      <td>people0</td>\n",
              "      <td>401</td>\n",
              "      <td>4047.333740</td>\n",
              "      <td>2014.397461</td>\n",
              "      <td>0.0</td>\n",
              "      <td>building(1408)</td>\n",
              "      <td>building(220)</td>\n",
              "      <td>building(3381)</td>\n",
              "      <td>False</td>\n",
              "      <td>False</td>\n",
              "      <td>True</td>\n",
              "    </tr>\n",
              "    <tr>\n",
              "      <th>1</th>\n",
              "      <td>people1</td>\n",
              "      <td>401</td>\n",
              "      <td>1911.168823</td>\n",
              "      <td>3917.855225</td>\n",
              "      <td>0.0</td>\n",
              "      <td>building(1350)</td>\n",
              "      <td>building(5862)</td>\n",
              "      <td>building(6186)</td>\n",
              "      <td>False</td>\n",
              "      <td>True</td>\n",
              "      <td>False</td>\n",
              "    </tr>\n",
              "    <tr>\n",
              "      <th>2</th>\n",
              "      <td>people2</td>\n",
              "      <td>401</td>\n",
              "      <td>3277.526123</td>\n",
              "      <td>657.434082</td>\n",
              "      <td>0.0</td>\n",
              "      <td>building(2112)</td>\n",
              "      <td>building(84)</td>\n",
              "      <td>building(6398)</td>\n",
              "      <td>True</td>\n",
              "      <td>False</td>\n",
              "      <td>False</td>\n",
              "    </tr>\n",
              "    <tr>\n",
              "      <th>3</th>\n",
              "      <td>people3</td>\n",
              "      <td>401</td>\n",
              "      <td>3803.600098</td>\n",
              "      <td>1790.961182</td>\n",
              "      <td>0.0</td>\n",
              "      <td>building(5496)</td>\n",
              "      <td>building(5860)</td>\n",
              "      <td>building(6211)</td>\n",
              "      <td>True</td>\n",
              "      <td>False</td>\n",
              "      <td>False</td>\n",
              "    </tr>\n",
              "    <tr>\n",
              "      <th>4</th>\n",
              "      <td>people4</td>\n",
              "      <td>401</td>\n",
              "      <td>3402.263672</td>\n",
              "      <td>7576.838379</td>\n",
              "      <td>0.0</td>\n",
              "      <td>building(1101)</td>\n",
              "      <td>building(266)</td>\n",
              "      <td>building(2286)</td>\n",
              "      <td>True</td>\n",
              "      <td>False</td>\n",
              "      <td>False</td>\n",
              "    </tr>\n",
              "  </tbody>\n",
              "</table>\n",
              "</div>"
            ],
            "text/plain": [
              "      name cycle        loc_x  ...  is_susceptible  is_infected is_immune\n",
              "0  people0   401  4047.333740  ...           False        False      True\n",
              "1  people1   401  1911.168823  ...           False         True     False\n",
              "2  people2   401  3277.526123  ...            True        False     False\n",
              "3  people3   401  3803.600098  ...            True        False     False\n",
              "4  people4   401  3402.263672  ...            True        False     False\n",
              "\n",
              "[5 rows x 11 columns]"
            ]
          },
          "metadata": {
            "tags": []
          },
          "execution_count": 6
        }
      ]
    },
    {
      "cell_type": "code",
      "metadata": {
        "id": "7Yu2mzhXJBuq"
      },
      "source": [
        "def is_in_which_building(DF_buildings, DF_agents, agent_index):\n",
        "\n",
        "  \"\"\"\n",
        "  Check if the agent is in some building or in the street (if alive), useful to build a multiplex network \n",
        "\n",
        "  \"\"\"\n",
        "  # In case some of the locations are \"nil\", i.e. non existing, it basically means that our agent is dead\n",
        "  if DF_agents.values[agent_index,5]  == \"nil\":\n",
        "    return \"Dead\"\n",
        "\n",
        "  elif DF_agents.values[agent_index,6] == \"nil\":  \n",
        "    return \"Dead\"\n",
        "\n",
        "  elif DF_agents.values[agent_index,7] == \"nil\": \n",
        "    return \"Dead\"\n",
        "\n",
        "  # In case our agent is alive \n",
        "  else:\n",
        "\n",
        "    living_coord = DF_buildings[DF_buildings.name == DF_agents.values[agent_index,5]].values[0][1:3]\n",
        "    working_coord = DF_buildings[DF_buildings.name == DF_agents.values[agent_index,6]].values[0][1:3]\n",
        "    stuff_coord = DF_buildings[DF_buildings.name == DF_agents.values[agent_index,7]].values[0][1:3]\n",
        "\n",
        "    agent_coord = DF_agents.values[agent_index,2:4]\n",
        "\n",
        "    liv_ag_dist = np.linalg.norm(living_coord - agent_coord)\n",
        "    wor_ag_dist = np.linalg.norm(working_coord - agent_coord)\n",
        "    stu_ag_dist = np.linalg.norm(stuff_coord - agent_coord)\n",
        "\n",
        "    if min(liv_ag_dist, wor_ag_dist, stu_ag_dist) == liv_ag_dist and liv_ag_dist < 50:\n",
        "\n",
        "      return DF_agents.values[agent_index,5]\n",
        "\n",
        "    elif  min(liv_ag_dist, wor_ag_dist, stu_ag_dist) == wor_ag_dist and wor_ag_dist < 50:\n",
        "\n",
        "      return DF_agents.values[agent_index,6]\n",
        "\n",
        "    elif  min(liv_ag_dist, wor_ag_dist, stu_ag_dist) == stu_ag_dist and stu_ag_dist < 50:\n",
        "\n",
        "      return DF_agents.values[agent_index,7]\n",
        "\n",
        "    # In case our agent is on the road to some place \n",
        "    else: \n",
        "\n",
        "      return \"None\""
      ],
      "execution_count": 84,
      "outputs": []
    },
    {
      "cell_type": "code",
      "metadata": {
        "colab": {
          "base_uri": "https://localhost:8080/",
          "height": 66,
          "referenced_widgets": [
            "43831471610747e9bd75904f493a37c1",
            "4adb48b941eb4cbaa649c427af2f6247",
            "c1982f2d9031409f8b1c8044d1327b78",
            "4dd46908200542e28b2f5b2d827316d3",
            "6d6a002178984d72aebbdea3a267219d",
            "05588515fa3948d38f8b644d2f38c8b4",
            "b89b175398864e72ade076b6724e7739",
            "9e6726f59e344d73b0d4f724b637a93a"
          ]
        },
        "id": "vUfP4q-YLPbA",
        "outputId": "4dd8327c-77bc-4590-e84f-ce650ef439d3"
      },
      "source": [
        "# ToDo, iterrows is not the most efficient, find a faster way (e.g. apply)\n",
        "for index,row in tqdm(DF_agents.iterrows(), total = DF_agents.shape[0]):\n",
        "    DF_agents.loc[index,'current_location'] = is_in_which_building(DF_buildings, DF_agents, agent_index = index)"
      ],
      "execution_count": 85,
      "outputs": [
        {
          "output_type": "display_data",
          "data": {
            "application/vnd.jupyter.widget-view+json": {
              "model_id": "43831471610747e9bd75904f493a37c1",
              "version_minor": 0,
              "version_major": 2
            },
            "text/plain": [
              "HBox(children=(FloatProgress(value=0.0, max=1200.0), HTML(value='')))"
            ]
          },
          "metadata": {
            "tags": []
          }
        },
        {
          "output_type": "stream",
          "text": [
            "\n"
          ],
          "name": "stdout"
        }
      ]
    },
    {
      "cell_type": "code",
      "metadata": {
        "colab": {
          "base_uri": "https://localhost:8080/",
          "height": 204
        },
        "id": "SHVsDr43SUVi",
        "outputId": "b96f6d8f-c929-4022-b501-c743e826adb4"
      },
      "source": [
        "DF_agents[DF_agents.current_location.duplicated()].head()"
      ],
      "execution_count": 86,
      "outputs": [
        {
          "output_type": "execute_result",
          "data": {
            "text/html": [
              "<div>\n",
              "<style scoped>\n",
              "    .dataframe tbody tr th:only-of-type {\n",
              "        vertical-align: middle;\n",
              "    }\n",
              "\n",
              "    .dataframe tbody tr th {\n",
              "        vertical-align: top;\n",
              "    }\n",
              "\n",
              "    .dataframe thead th {\n",
              "        text-align: right;\n",
              "    }\n",
              "</style>\n",
              "<table border=\"1\" class=\"dataframe\">\n",
              "  <thead>\n",
              "    <tr style=\"text-align: right;\">\n",
              "      <th></th>\n",
              "      <th>name</th>\n",
              "      <th>cycle</th>\n",
              "      <th>loc_x</th>\n",
              "      <th>loc_y</th>\n",
              "      <th>loc_z</th>\n",
              "      <th>living_place</th>\n",
              "      <th>working_place</th>\n",
              "      <th>stuff_place</th>\n",
              "      <th>is_susceptible</th>\n",
              "      <th>is_infected</th>\n",
              "      <th>is_immune</th>\n",
              "      <th>current_location</th>\n",
              "    </tr>\n",
              "  </thead>\n",
              "  <tbody>\n",
              "    <tr>\n",
              "      <th>6</th>\n",
              "      <td>people6</td>\n",
              "      <td>401</td>\n",
              "      <td>2042.102539</td>\n",
              "      <td>3271.883545</td>\n",
              "      <td>0.0</td>\n",
              "      <td>building(6504)</td>\n",
              "      <td>building(5664)</td>\n",
              "      <td>building(1325)</td>\n",
              "      <td>False</td>\n",
              "      <td>False</td>\n",
              "      <td>True</td>\n",
              "      <td>None</td>\n",
              "    </tr>\n",
              "    <tr>\n",
              "      <th>10</th>\n",
              "      <td>people10</td>\n",
              "      <td>401</td>\n",
              "      <td>3804.095215</td>\n",
              "      <td>1785.334595</td>\n",
              "      <td>0.0</td>\n",
              "      <td>building(1800)</td>\n",
              "      <td>building(336)</td>\n",
              "      <td>building(6211)</td>\n",
              "      <td>True</td>\n",
              "      <td>False</td>\n",
              "      <td>False</td>\n",
              "      <td>building(6211)</td>\n",
              "    </tr>\n",
              "    <tr>\n",
              "      <th>13</th>\n",
              "      <td>people15</td>\n",
              "      <td>401</td>\n",
              "      <td>3664.964355</td>\n",
              "      <td>2534.839355</td>\n",
              "      <td>0.0</td>\n",
              "      <td>building(2221)</td>\n",
              "      <td>building(260)</td>\n",
              "      <td>building(6446)</td>\n",
              "      <td>True</td>\n",
              "      <td>False</td>\n",
              "      <td>False</td>\n",
              "      <td>None</td>\n",
              "    </tr>\n",
              "    <tr>\n",
              "      <th>14</th>\n",
              "      <td>people16</td>\n",
              "      <td>401</td>\n",
              "      <td>4290.428223</td>\n",
              "      <td>4583.939941</td>\n",
              "      <td>0.0</td>\n",
              "      <td>building(6702)</td>\n",
              "      <td>building(1228)</td>\n",
              "      <td>building(6186)</td>\n",
              "      <td>False</td>\n",
              "      <td>False</td>\n",
              "      <td>True</td>\n",
              "      <td>None</td>\n",
              "    </tr>\n",
              "    <tr>\n",
              "      <th>18</th>\n",
              "      <td>people20</td>\n",
              "      <td>401</td>\n",
              "      <td>3480.477539</td>\n",
              "      <td>395.809479</td>\n",
              "      <td>0.0</td>\n",
              "      <td>building(5497)</td>\n",
              "      <td>building(222)</td>\n",
              "      <td>building(1325)</td>\n",
              "      <td>False</td>\n",
              "      <td>False</td>\n",
              "      <td>True</td>\n",
              "      <td>None</td>\n",
              "    </tr>\n",
              "  </tbody>\n",
              "</table>\n",
              "</div>"
            ],
            "text/plain": [
              "        name cycle        loc_x  ...  is_infected  is_immune current_location\n",
              "6    people6   401  2042.102539  ...        False       True             None\n",
              "10  people10   401  3804.095215  ...        False      False   building(6211)\n",
              "13  people15   401  3664.964355  ...        False      False             None\n",
              "14  people16   401  4290.428223  ...        False       True             None\n",
              "18  people20   401  3480.477539  ...        False       True             None\n",
              "\n",
              "[5 rows x 12 columns]"
            ]
          },
          "metadata": {
            "tags": []
          },
          "execution_count": 86
        }
      ]
    },
    {
      "cell_type": "code",
      "metadata": {
        "colab": {
          "base_uri": "https://localhost:8080/",
          "height": 204
        },
        "id": "6UYqueAtEMUy",
        "outputId": "a4c48802-4d28-4129-ff21-2bfda0267146"
      },
      "source": [
        "DF_agents[DF_agents.current_location == \"building(6211)\"].head()"
      ],
      "execution_count": 87,
      "outputs": [
        {
          "output_type": "execute_result",
          "data": {
            "text/html": [
              "<div>\n",
              "<style scoped>\n",
              "    .dataframe tbody tr th:only-of-type {\n",
              "        vertical-align: middle;\n",
              "    }\n",
              "\n",
              "    .dataframe tbody tr th {\n",
              "        vertical-align: top;\n",
              "    }\n",
              "\n",
              "    .dataframe thead th {\n",
              "        text-align: right;\n",
              "    }\n",
              "</style>\n",
              "<table border=\"1\" class=\"dataframe\">\n",
              "  <thead>\n",
              "    <tr style=\"text-align: right;\">\n",
              "      <th></th>\n",
              "      <th>name</th>\n",
              "      <th>cycle</th>\n",
              "      <th>loc_x</th>\n",
              "      <th>loc_y</th>\n",
              "      <th>loc_z</th>\n",
              "      <th>living_place</th>\n",
              "      <th>working_place</th>\n",
              "      <th>stuff_place</th>\n",
              "      <th>is_susceptible</th>\n",
              "      <th>is_infected</th>\n",
              "      <th>is_immune</th>\n",
              "      <th>current_location</th>\n",
              "    </tr>\n",
              "  </thead>\n",
              "  <tbody>\n",
              "    <tr>\n",
              "      <th>3</th>\n",
              "      <td>people3</td>\n",
              "      <td>401</td>\n",
              "      <td>3803.600098</td>\n",
              "      <td>1790.961182</td>\n",
              "      <td>0.0</td>\n",
              "      <td>building(5496)</td>\n",
              "      <td>building(5860)</td>\n",
              "      <td>building(6211)</td>\n",
              "      <td>True</td>\n",
              "      <td>False</td>\n",
              "      <td>False</td>\n",
              "      <td>building(6211)</td>\n",
              "    </tr>\n",
              "    <tr>\n",
              "      <th>10</th>\n",
              "      <td>people10</td>\n",
              "      <td>401</td>\n",
              "      <td>3804.095215</td>\n",
              "      <td>1785.334595</td>\n",
              "      <td>0.0</td>\n",
              "      <td>building(1800)</td>\n",
              "      <td>building(336)</td>\n",
              "      <td>building(6211)</td>\n",
              "      <td>True</td>\n",
              "      <td>False</td>\n",
              "      <td>False</td>\n",
              "      <td>building(6211)</td>\n",
              "    </tr>\n",
              "    <tr>\n",
              "      <th>62</th>\n",
              "      <td>people69</td>\n",
              "      <td>401</td>\n",
              "      <td>3817.859375</td>\n",
              "      <td>1793.564697</td>\n",
              "      <td>0.0</td>\n",
              "      <td>building(904)</td>\n",
              "      <td>building(2088)</td>\n",
              "      <td>building(6211)</td>\n",
              "      <td>False</td>\n",
              "      <td>False</td>\n",
              "      <td>True</td>\n",
              "      <td>building(6211)</td>\n",
              "    </tr>\n",
              "    <tr>\n",
              "      <th>90</th>\n",
              "      <td>people101</td>\n",
              "      <td>401</td>\n",
              "      <td>3826.621826</td>\n",
              "      <td>1795.730347</td>\n",
              "      <td>0.0</td>\n",
              "      <td>building(1330)</td>\n",
              "      <td>building(306)</td>\n",
              "      <td>building(6211)</td>\n",
              "      <td>True</td>\n",
              "      <td>False</td>\n",
              "      <td>False</td>\n",
              "      <td>building(6211)</td>\n",
              "    </tr>\n",
              "    <tr>\n",
              "      <th>100</th>\n",
              "      <td>people117</td>\n",
              "      <td>401</td>\n",
              "      <td>3827.175537</td>\n",
              "      <td>1791.492920</td>\n",
              "      <td>0.0</td>\n",
              "      <td>building(1418)</td>\n",
              "      <td>building(2241)</td>\n",
              "      <td>building(6211)</td>\n",
              "      <td>False</td>\n",
              "      <td>False</td>\n",
              "      <td>True</td>\n",
              "      <td>building(6211)</td>\n",
              "    </tr>\n",
              "  </tbody>\n",
              "</table>\n",
              "</div>"
            ],
            "text/plain": [
              "          name cycle        loc_x  ...  is_infected  is_immune current_location\n",
              "3      people3   401  3803.600098  ...        False      False   building(6211)\n",
              "10    people10   401  3804.095215  ...        False      False   building(6211)\n",
              "62    people69   401  3817.859375  ...        False       True   building(6211)\n",
              "90   people101   401  3826.621826  ...        False      False   building(6211)\n",
              "100  people117   401  3827.175537  ...        False       True   building(6211)\n",
              "\n",
              "[5 rows x 12 columns]"
            ]
          },
          "metadata": {
            "tags": []
          },
          "execution_count": 87
        }
      ]
    },
    {
      "cell_type": "markdown",
      "metadata": {
        "id": "0sLFLsJvbQQe"
      },
      "source": [
        "# Multiplex Analysis"
      ]
    },
    {
      "cell_type": "code",
      "metadata": {
        "id": "gXv8rjPwbSLY"
      },
      "source": [
        "#!pip install git+https://github.com/nkoub/multinetx.git"
      ],
      "execution_count": 103,
      "outputs": []
    },
    {
      "cell_type": "code",
      "metadata": {
        "id": "c1w0gqd5esqZ"
      },
      "source": [
        "import multinetx as mx"
      ],
      "execution_count": 89,
      "outputs": []
    },
    {
      "cell_type": "code",
      "metadata": {
        "id": "Es_X1ZxyezqX"
      },
      "source": [
        "# Create weighted links in the same network \n",
        "# DF_agents[DF_agents.current_location == DF_agents.living_place]"
      ],
      "execution_count": 123,
      "outputs": []
    },
    {
      "cell_type": "code",
      "metadata": {
        "colab": {
          "base_uri": "https://localhost:8080/",
          "height": 204
        },
        "id": "P99aHS8jj3-V",
        "outputId": "7243e99d-fd31-40bc-858a-64a037a4d4d6"
      },
      "source": [
        "DF_agents.head()"
      ],
      "execution_count": 91,
      "outputs": [
        {
          "output_type": "execute_result",
          "data": {
            "text/html": [
              "<div>\n",
              "<style scoped>\n",
              "    .dataframe tbody tr th:only-of-type {\n",
              "        vertical-align: middle;\n",
              "    }\n",
              "\n",
              "    .dataframe tbody tr th {\n",
              "        vertical-align: top;\n",
              "    }\n",
              "\n",
              "    .dataframe thead th {\n",
              "        text-align: right;\n",
              "    }\n",
              "</style>\n",
              "<table border=\"1\" class=\"dataframe\">\n",
              "  <thead>\n",
              "    <tr style=\"text-align: right;\">\n",
              "      <th></th>\n",
              "      <th>name</th>\n",
              "      <th>cycle</th>\n",
              "      <th>loc_x</th>\n",
              "      <th>loc_y</th>\n",
              "      <th>loc_z</th>\n",
              "      <th>living_place</th>\n",
              "      <th>working_place</th>\n",
              "      <th>stuff_place</th>\n",
              "      <th>is_susceptible</th>\n",
              "      <th>is_infected</th>\n",
              "      <th>is_immune</th>\n",
              "      <th>current_location</th>\n",
              "    </tr>\n",
              "  </thead>\n",
              "  <tbody>\n",
              "    <tr>\n",
              "      <th>0</th>\n",
              "      <td>people0</td>\n",
              "      <td>401</td>\n",
              "      <td>4047.333740</td>\n",
              "      <td>2014.397461</td>\n",
              "      <td>0.0</td>\n",
              "      <td>building(1408)</td>\n",
              "      <td>building(220)</td>\n",
              "      <td>building(3381)</td>\n",
              "      <td>False</td>\n",
              "      <td>False</td>\n",
              "      <td>True</td>\n",
              "      <td>None</td>\n",
              "    </tr>\n",
              "    <tr>\n",
              "      <th>1</th>\n",
              "      <td>people1</td>\n",
              "      <td>401</td>\n",
              "      <td>1911.168823</td>\n",
              "      <td>3917.855225</td>\n",
              "      <td>0.0</td>\n",
              "      <td>building(1350)</td>\n",
              "      <td>building(5862)</td>\n",
              "      <td>building(6186)</td>\n",
              "      <td>False</td>\n",
              "      <td>True</td>\n",
              "      <td>False</td>\n",
              "      <td>building(1350)</td>\n",
              "    </tr>\n",
              "    <tr>\n",
              "      <th>2</th>\n",
              "      <td>people2</td>\n",
              "      <td>401</td>\n",
              "      <td>3277.526123</td>\n",
              "      <td>657.434082</td>\n",
              "      <td>0.0</td>\n",
              "      <td>building(2112)</td>\n",
              "      <td>building(84)</td>\n",
              "      <td>building(6398)</td>\n",
              "      <td>True</td>\n",
              "      <td>False</td>\n",
              "      <td>False</td>\n",
              "      <td>building(6398)</td>\n",
              "    </tr>\n",
              "    <tr>\n",
              "      <th>3</th>\n",
              "      <td>people3</td>\n",
              "      <td>401</td>\n",
              "      <td>3803.600098</td>\n",
              "      <td>1790.961182</td>\n",
              "      <td>0.0</td>\n",
              "      <td>building(5496)</td>\n",
              "      <td>building(5860)</td>\n",
              "      <td>building(6211)</td>\n",
              "      <td>True</td>\n",
              "      <td>False</td>\n",
              "      <td>False</td>\n",
              "      <td>building(6211)</td>\n",
              "    </tr>\n",
              "    <tr>\n",
              "      <th>4</th>\n",
              "      <td>people4</td>\n",
              "      <td>401</td>\n",
              "      <td>3402.263672</td>\n",
              "      <td>7576.838379</td>\n",
              "      <td>0.0</td>\n",
              "      <td>building(1101)</td>\n",
              "      <td>building(266)</td>\n",
              "      <td>building(2286)</td>\n",
              "      <td>True</td>\n",
              "      <td>False</td>\n",
              "      <td>False</td>\n",
              "      <td>building(266)</td>\n",
              "    </tr>\n",
              "  </tbody>\n",
              "</table>\n",
              "</div>"
            ],
            "text/plain": [
              "      name cycle        loc_x  ...  is_infected  is_immune current_location\n",
              "0  people0   401  4047.333740  ...        False       True             None\n",
              "1  people1   401  1911.168823  ...         True      False   building(1350)\n",
              "2  people2   401  3277.526123  ...        False      False   building(6398)\n",
              "3  people3   401  3803.600098  ...        False      False   building(6211)\n",
              "4  people4   401  3402.263672  ...        False      False    building(266)\n",
              "\n",
              "[5 rows x 12 columns]"
            ]
          },
          "metadata": {
            "tags": []
          },
          "execution_count": 91
        }
      ]
    },
    {
      "cell_type": "markdown",
      "metadata": {
        "id": "1tCUt7GryW1w"
      },
      "source": [
        "## Adjacency matrix for each layer "
      ]
    },
    {
      "cell_type": "code",
      "metadata": {
        "colab": {
          "base_uri": "https://localhost:8080/",
          "height": 66,
          "referenced_widgets": [
            "24ebe60444be4671a3faacf7c371c0b3",
            "7ebc5c958785412a968b14550826b669",
            "050443187bea4e46beb637f3c4e2d88c",
            "0c2d59b0331c4620bb48ed1072ac9d0f",
            "4b196366b0b1481ba314e5b0d1e0838f",
            "ccbb04b52abc4dba88da654e17f270e9",
            "f0c5b364006a443eb7f68e918aba4a74",
            "6cb3276be10740de83f47e53b504615e"
          ]
        },
        "id": "dkL9hStLogNW",
        "outputId": "4f33ea5d-4318-42e1-d7bd-4c6dca0c4679"
      },
      "source": [
        "# ToDo: make it faster by vectorization (especially for larger matrices), add weights based on current_location\n",
        "living_adj = np.eye(DF_agents.shape[0])\n",
        "\n",
        "for i in tqdm(range(0,living_adj.shape[0])):\n",
        "  for j in range(0,living_adj.shape[0]):\n",
        "\n",
        "    if DF_agents.loc[i].living_place == DF_agents.loc[j].living_place:\n",
        "      living_adj[i,j] = 1  \n",
        "\n",
        "    else: \n",
        "      living_adj[i,j] = 0 "
      ],
      "execution_count": 131,
      "outputs": [
        {
          "output_type": "display_data",
          "data": {
            "application/vnd.jupyter.widget-view+json": {
              "model_id": "24ebe60444be4671a3faacf7c371c0b3",
              "version_minor": 0,
              "version_major": 2
            },
            "text/plain": [
              "HBox(children=(FloatProgress(value=0.0, max=1200.0), HTML(value='')))"
            ]
          },
          "metadata": {
            "tags": []
          }
        },
        {
          "output_type": "stream",
          "text": [
            "\n"
          ],
          "name": "stdout"
        }
      ]
    },
    {
      "cell_type": "code",
      "metadata": {
        "id": "07UaCfLqvDhu"
      },
      "source": [
        "sparse_living_adj = sparse.csr_matrix(living_adj)\n",
        "sparse.save_npz(path + '/sparse_living_adj.npz', sparse_living_adj)"
      ],
      "execution_count": 138,
      "outputs": []
    },
    {
      "cell_type": "code",
      "metadata": {
        "colab": {
          "base_uri": "https://localhost:8080/",
          "height": 66,
          "referenced_widgets": [
            "875df844313e4bab89e5a256b10768a3",
            "0efa866d200d49e0b6bea54d2312e147",
            "27826ab2d8ed4e61bd5273ae7e1c6d84",
            "d586cc6c18944c7198edbe942a466520",
            "af7cd4509ca34baea3b090138826d653",
            "c592ce907fbf447bac619c5ba1b14af0",
            "b555d1e4744041ca94907a15338fd45f",
            "aec9e41133484f459a556e152c488869"
          ]
        },
        "id": "_QOCYa68uwPy",
        "outputId": "5534e585-1635-4e63-b125-e5e24e2bedf8"
      },
      "source": [
        "#  ToDo: make it faster by vectorization \n",
        "working_adj = np.eye(DF_agents.shape[0])\n",
        "\n",
        "for i in tqdm(range(0,working_adj.shape[0])):\n",
        "  for j in range(0,working_adj.shape[0]):\n",
        "\n",
        "    if DF_agents.loc[i].working_place == DF_agents.loc[j].working_place:\n",
        "      working_adj[i,j] = 1  \n",
        "\n",
        "    else: \n",
        "      working_adj[i,j] = 0 "
      ],
      "execution_count": 134,
      "outputs": [
        {
          "output_type": "display_data",
          "data": {
            "application/vnd.jupyter.widget-view+json": {
              "model_id": "875df844313e4bab89e5a256b10768a3",
              "version_minor": 0,
              "version_major": 2
            },
            "text/plain": [
              "HBox(children=(FloatProgress(value=0.0, max=1200.0), HTML(value='')))"
            ]
          },
          "metadata": {
            "tags": []
          }
        },
        {
          "output_type": "stream",
          "text": [
            "\n"
          ],
          "name": "stdout"
        }
      ]
    },
    {
      "cell_type": "code",
      "metadata": {
        "id": "iKV2V2R9wK39"
      },
      "source": [
        "sparse_working_adj = sparse.csr_matrix(working_adj)\n",
        "sparse.save_npz(path + '/sparse_working_adj.npz', sparse_working_adj)"
      ],
      "execution_count": 139,
      "outputs": []
    },
    {
      "cell_type": "code",
      "metadata": {
        "colab": {
          "base_uri": "https://localhost:8080/",
          "height": 66,
          "referenced_widgets": [
            "11857a3a84884ca9b0e48b764599962e",
            "ecd5fdd558644f8cb19d20ea33a3f75f",
            "1277dc7ced1c4c85a18bdb59da452838",
            "e650f8b64aa1485e9c570cd4ef7dc723",
            "468091c8b2954055a4cfcca9dd2852c0",
            "0b32bff50b154001a617886a72e69aaa",
            "e5b4c065519c46638fa2f628dbf3dde5",
            "2485d2d3445b4f4f930217919b275b32"
          ]
        },
        "id": "rFdWRgC6u5Ib",
        "outputId": "54cca739-d2d1-48aa-e00f-1866121495a9"
      },
      "source": [
        "#  ToDo: make it faster by vectorization \n",
        "stuff_adj = np.eye(DF_agents.shape[0])\n",
        "\n",
        "for i in tqdm(range(0,stuff_adj.shape[0])):\n",
        "  for j in range(0,stuff_adj.shape[0]):\n",
        "\n",
        "    if DF_agents.loc[i].stuff_place == DF_agents.loc[j].stuff_place:\n",
        "      stuff_adj[i,j] = 1  \n",
        "\n",
        "    else: \n",
        "      stuff_adj[i,j] = 0 "
      ],
      "execution_count": 136,
      "outputs": [
        {
          "output_type": "display_data",
          "data": {
            "application/vnd.jupyter.widget-view+json": {
              "model_id": "11857a3a84884ca9b0e48b764599962e",
              "version_minor": 0,
              "version_major": 2
            },
            "text/plain": [
              "HBox(children=(FloatProgress(value=0.0, max=1200.0), HTML(value='')))"
            ]
          },
          "metadata": {
            "tags": []
          }
        },
        {
          "output_type": "stream",
          "text": [
            "\n"
          ],
          "name": "stdout"
        }
      ]
    },
    {
      "cell_type": "code",
      "metadata": {
        "id": "F7f6-mTZwLlQ"
      },
      "source": [
        "sparse_stuff_adj = sparse.csr_matrix(stuff_adj)\n",
        "sparse.save_npz(path + '/sparse_stuff_adj.npz', sparse_stuff_adj)"
      ],
      "execution_count": 140,
      "outputs": []
    },
    {
      "cell_type": "markdown",
      "metadata": {
        "id": "a7E-MQ3ayaSL"
      },
      "source": [
        "## InterAdjacency matrix \n",
        "(connections between layers)"
      ]
    },
    {
      "cell_type": "code",
      "metadata": {
        "id": "4aD57jX9fdP-"
      },
      "source": [
        "inter_adj = mx.lil_matrix(np.zeros((DF_agents.shape[0]*3,DF_agents.shape[0]*3)))\n",
        "\n",
        "inter_adj[0:  DF_agents.shape[0],  DF_agents.shape[0]:2*DF_agents.shape[0]] = np.identity(DF_agents.shape[0])    # Layer 1 to 2 \n",
        "inter_adj[0:  DF_agents.shape[0],2*DF_agents.shape[0]:3*DF_agents.shape[0]] = np.identity(DF_agents.shape[0])    # Layer 1 to 3\n",
        "inter_adj[DF_agents.shape[0]:2*DF_agents.shape[0],2*DF_agents.shape[0]:3*DF_agents.shape[0]] = np.identity(DF_agents.shape[0])    # Layer 2 to 3 \n",
        "    \n",
        "# symmetric inter-adjacency matrix\n",
        "inter_adj += inter_adj.T"
      ],
      "execution_count": 142,
      "outputs": []
    },
    {
      "cell_type": "markdown",
      "metadata": {
        "id": "es0E-92eyw1g"
      },
      "source": [
        "## Multiplex Instance "
      ]
    },
    {
      "cell_type": "code",
      "metadata": {
        "id": "Yjcwanndy6f3"
      },
      "source": [
        "living_graph = mx.from_numpy_matrix(living_adj)\n",
        "working_graph = mx.from_numpy_matrix(working_adj)\n",
        "stuff_graph = mx.from_numpy_matrix(stuff_adj)"
      ],
      "execution_count": 143,
      "outputs": []
    },
    {
      "cell_type": "code",
      "metadata": {
        "id": "ElWx0630ywWS"
      },
      "source": [
        "multi_net = mx.MultilayerGraph(list_of_layers=[living_graph, working_graph, stuff_graph],\n",
        "                        inter_adjacency_matrix= inter_adj)\n",
        "\n",
        "\n",
        "multi_net.set_edges_weights(inter_layer_edges_weight=0.1)\n",
        "\n",
        "# ToDo set weights based on daily interaction time \n",
        "multi_net.set_intra_edges_weights(layer=0,weight=1)\n",
        "multi_net.set_intra_edges_weights(layer=1,weight=2)\n",
        "multi_net.set_intra_edges_weights(layer=2,weight=3)"
      ],
      "execution_count": 161,
      "outputs": []
    },
    {
      "cell_type": "code",
      "metadata": {
        "id": "rRADEwjM7cHx"
      },
      "source": [
        "x_coord = DF_agents.loc_x.to_dict()\n",
        "y_coord = DF_agents.loc_y.to_dict()"
      ],
      "execution_count": 169,
      "outputs": []
    },
    {
      "cell_type": "code",
      "metadata": {
        "id": "7WNj4K8l9fjy"
      },
      "source": [
        "def merge_dict(dict1, dict2):\n",
        "    ''' \n",
        "    Merge dictionaries and keep values of common keys in list\n",
        "    '''\n",
        "    dict3 = {**dict1, **dict2}\n",
        "    for key, value in dict3.items():\n",
        "        if key in dict1 and key in dict2:\n",
        "            dict3[key] = tuple([value , dict1[key]])\n",
        "    return dict3"
      ],
      "execution_count": 172,
      "outputs": []
    },
    {
      "cell_type": "code",
      "metadata": {
        "id": "H95ykrCb8weD"
      },
      "source": [
        "pos_coord = merge_dict(x_coord, y_coord)"
      ],
      "execution_count": 173,
      "outputs": []
    },
    {
      "cell_type": "code",
      "metadata": {
        "id": "5dXQMJ7Y_kL3"
      },
      "source": [
        ""
      ],
      "execution_count": 178,
      "outputs": []
    },
    {
      "cell_type": "code",
      "metadata": {
        "id": "lgTE88gF8wg2",
        "outputId": "e121d102-2271-45ba-8b83-4cf09edd2ab1",
        "colab": {
          "base_uri": "https://localhost:8080/"
        }
      },
      "source": [
        "mx.get_node_attributes(multi_net, \"name\")"
      ],
      "execution_count": 177,
      "outputs": [
        {
          "output_type": "execute_result",
          "data": {
            "text/plain": [
              "{}"
            ]
          },
          "metadata": {
            "tags": []
          },
          "execution_count": 177
        }
      ]
    },
    {
      "cell_type": "code",
      "metadata": {
        "colab": {
          "base_uri": "https://localhost:8080/",
          "height": 1000
        },
        "id": "H-QOORzF0D6R",
        "outputId": "863f1544-33a8-4623-fbfd-372d2b9248cf"
      },
      "source": [
        "fig = plt.figure(figsize=(25,10))\n",
        "ax1 = fig.add_subplot(121)\n",
        "ax1.imshow(mx.adjacency_matrix(multi_net,weight='weight').todense(),\n",
        "\t\t  origin='upper',interpolation='nearest',cmap=plt.cm.coolwarm)\n",
        "ax1.set_title('supra adjacency matrix')\n",
        "\n",
        "ax2 = fig.add_subplot(122)\n",
        "ax2.axis('off')\n",
        "ax2.set_title('general multiplex network')\n",
        "\n",
        "\n",
        "mx.draw_networkx(multi_net,pos=pos_coord,ax=ax2,node_size=10,with_labels=False,\n",
        "\t\t\t\t edge_color=[multi_net[a][b]['weight'] for a,b in multi_net.edges()],\n",
        "\t\t\t\t edge_cmap=plt.cm.coolwarm, width = 0.05)\n",
        "\n",
        "plt.show()"
      ],
      "execution_count": 175,
      "outputs": [
        {
          "output_type": "error",
          "ename": "NetworkXError",
          "evalue": "ignored",
          "traceback": [
            "\u001b[0;31m---------------------------------------------------------------------------\u001b[0m",
            "\u001b[0;31mKeyError\u001b[0m                                  Traceback (most recent call last)",
            "\u001b[0;32m/usr/local/lib/python3.6/dist-packages/networkx/drawing/nx_pylab.py\u001b[0m in \u001b[0;36mdraw_networkx_nodes\u001b[0;34m(G, pos, nodelist, node_size, node_color, node_shape, alpha, cmap, vmin, vmax, ax, linewidths, edgecolors, label, **kwds)\u001b[0m\n\u001b[1;32m    395\u001b[0m     \u001b[0;32mtry\u001b[0m\u001b[0;34m:\u001b[0m\u001b[0;34m\u001b[0m\u001b[0;34m\u001b[0m\u001b[0m\n\u001b[0;32m--> 396\u001b[0;31m         \u001b[0mxy\u001b[0m \u001b[0;34m=\u001b[0m \u001b[0mnp\u001b[0m\u001b[0;34m.\u001b[0m\u001b[0masarray\u001b[0m\u001b[0;34m(\u001b[0m\u001b[0;34m[\u001b[0m\u001b[0mpos\u001b[0m\u001b[0;34m[\u001b[0m\u001b[0mv\u001b[0m\u001b[0;34m]\u001b[0m \u001b[0;32mfor\u001b[0m \u001b[0mv\u001b[0m \u001b[0;32min\u001b[0m \u001b[0mnodelist\u001b[0m\u001b[0;34m]\u001b[0m\u001b[0;34m)\u001b[0m\u001b[0;34m\u001b[0m\u001b[0;34m\u001b[0m\u001b[0m\n\u001b[0m\u001b[1;32m    397\u001b[0m     \u001b[0;32mexcept\u001b[0m \u001b[0mKeyError\u001b[0m \u001b[0;32mas\u001b[0m \u001b[0me\u001b[0m\u001b[0;34m:\u001b[0m\u001b[0;34m\u001b[0m\u001b[0;34m\u001b[0m\u001b[0m\n",
            "\u001b[0;32m/usr/local/lib/python3.6/dist-packages/networkx/drawing/nx_pylab.py\u001b[0m in \u001b[0;36m<listcomp>\u001b[0;34m(.0)\u001b[0m\n\u001b[1;32m    395\u001b[0m     \u001b[0;32mtry\u001b[0m\u001b[0;34m:\u001b[0m\u001b[0;34m\u001b[0m\u001b[0;34m\u001b[0m\u001b[0m\n\u001b[0;32m--> 396\u001b[0;31m         \u001b[0mxy\u001b[0m \u001b[0;34m=\u001b[0m \u001b[0mnp\u001b[0m\u001b[0;34m.\u001b[0m\u001b[0masarray\u001b[0m\u001b[0;34m(\u001b[0m\u001b[0;34m[\u001b[0m\u001b[0mpos\u001b[0m\u001b[0;34m[\u001b[0m\u001b[0mv\u001b[0m\u001b[0;34m]\u001b[0m \u001b[0;32mfor\u001b[0m \u001b[0mv\u001b[0m \u001b[0;32min\u001b[0m \u001b[0mnodelist\u001b[0m\u001b[0;34m]\u001b[0m\u001b[0;34m)\u001b[0m\u001b[0;34m\u001b[0m\u001b[0;34m\u001b[0m\u001b[0m\n\u001b[0m\u001b[1;32m    397\u001b[0m     \u001b[0;32mexcept\u001b[0m \u001b[0mKeyError\u001b[0m \u001b[0;32mas\u001b[0m \u001b[0me\u001b[0m\u001b[0;34m:\u001b[0m\u001b[0;34m\u001b[0m\u001b[0;34m\u001b[0m\u001b[0m\n",
            "\u001b[0;31mKeyError\u001b[0m: 1200",
            "\nDuring handling of the above exception, another exception occurred:\n",
            "\u001b[0;31mNetworkXError\u001b[0m                             Traceback (most recent call last)",
            "\u001b[0;32m<ipython-input-175-db55de0a13a9>\u001b[0m in \u001b[0;36m<module>\u001b[0;34m()\u001b[0m\n\u001b[1;32m     12\u001b[0m mx.draw_networkx(multi_net,pos=pos_coord,ax=ax2,node_size=10,with_labels=False,\n\u001b[1;32m     13\u001b[0m                                  \u001b[0medge_color\u001b[0m\u001b[0;34m=\u001b[0m\u001b[0;34m[\u001b[0m\u001b[0mmulti_net\u001b[0m\u001b[0;34m[\u001b[0m\u001b[0ma\u001b[0m\u001b[0;34m]\u001b[0m\u001b[0;34m[\u001b[0m\u001b[0mb\u001b[0m\u001b[0;34m]\u001b[0m\u001b[0;34m[\u001b[0m\u001b[0;34m'weight'\u001b[0m\u001b[0;34m]\u001b[0m \u001b[0;32mfor\u001b[0m \u001b[0ma\u001b[0m\u001b[0;34m,\u001b[0m\u001b[0mb\u001b[0m \u001b[0;32min\u001b[0m \u001b[0mmulti_net\u001b[0m\u001b[0;34m.\u001b[0m\u001b[0medges\u001b[0m\u001b[0;34m(\u001b[0m\u001b[0;34m)\u001b[0m\u001b[0;34m]\u001b[0m\u001b[0;34m,\u001b[0m\u001b[0;34m\u001b[0m\u001b[0;34m\u001b[0m\u001b[0m\n\u001b[0;32m---> 14\u001b[0;31m \t\t\t\t edge_cmap=plt.cm.coolwarm, width = 0.05)\n\u001b[0m\u001b[1;32m     15\u001b[0m \u001b[0;34m\u001b[0m\u001b[0m\n\u001b[1;32m     16\u001b[0m \u001b[0mplt\u001b[0m\u001b[0;34m.\u001b[0m\u001b[0mshow\u001b[0m\u001b[0;34m(\u001b[0m\u001b[0;34m)\u001b[0m\u001b[0;34m\u001b[0m\u001b[0;34m\u001b[0m\u001b[0m\n",
            "\u001b[0;32m/usr/local/lib/python3.6/dist-packages/networkx/drawing/nx_pylab.py\u001b[0m in \u001b[0;36mdraw_networkx\u001b[0;34m(G, pos, arrows, with_labels, **kwds)\u001b[0m\n\u001b[1;32m    277\u001b[0m         \u001b[0mpos\u001b[0m \u001b[0;34m=\u001b[0m \u001b[0mnx\u001b[0m\u001b[0;34m.\u001b[0m\u001b[0mdrawing\u001b[0m\u001b[0;34m.\u001b[0m\u001b[0mspring_layout\u001b[0m\u001b[0;34m(\u001b[0m\u001b[0mG\u001b[0m\u001b[0;34m)\u001b[0m  \u001b[0;31m# default to spring layout\u001b[0m\u001b[0;34m\u001b[0m\u001b[0;34m\u001b[0m\u001b[0m\n\u001b[1;32m    278\u001b[0m \u001b[0;34m\u001b[0m\u001b[0m\n\u001b[0;32m--> 279\u001b[0;31m     \u001b[0mnode_collection\u001b[0m \u001b[0;34m=\u001b[0m \u001b[0mdraw_networkx_nodes\u001b[0m\u001b[0;34m(\u001b[0m\u001b[0mG\u001b[0m\u001b[0;34m,\u001b[0m \u001b[0mpos\u001b[0m\u001b[0;34m,\u001b[0m \u001b[0;34m**\u001b[0m\u001b[0mkwds\u001b[0m\u001b[0;34m)\u001b[0m\u001b[0;34m\u001b[0m\u001b[0;34m\u001b[0m\u001b[0m\n\u001b[0m\u001b[1;32m    280\u001b[0m     \u001b[0medge_collection\u001b[0m \u001b[0;34m=\u001b[0m \u001b[0mdraw_networkx_edges\u001b[0m\u001b[0;34m(\u001b[0m\u001b[0mG\u001b[0m\u001b[0;34m,\u001b[0m \u001b[0mpos\u001b[0m\u001b[0;34m,\u001b[0m \u001b[0marrows\u001b[0m\u001b[0;34m=\u001b[0m\u001b[0marrows\u001b[0m\u001b[0;34m,\u001b[0m \u001b[0;34m**\u001b[0m\u001b[0mkwds\u001b[0m\u001b[0;34m)\u001b[0m\u001b[0;34m\u001b[0m\u001b[0;34m\u001b[0m\u001b[0m\n\u001b[1;32m    281\u001b[0m     \u001b[0;32mif\u001b[0m \u001b[0mwith_labels\u001b[0m\u001b[0;34m:\u001b[0m\u001b[0;34m\u001b[0m\u001b[0;34m\u001b[0m\u001b[0m\n",
            "\u001b[0;32m/usr/local/lib/python3.6/dist-packages/networkx/drawing/nx_pylab.py\u001b[0m in \u001b[0;36mdraw_networkx_nodes\u001b[0;34m(G, pos, nodelist, node_size, node_color, node_shape, alpha, cmap, vmin, vmax, ax, linewidths, edgecolors, label, **kwds)\u001b[0m\n\u001b[1;32m    396\u001b[0m         \u001b[0mxy\u001b[0m \u001b[0;34m=\u001b[0m \u001b[0mnp\u001b[0m\u001b[0;34m.\u001b[0m\u001b[0masarray\u001b[0m\u001b[0;34m(\u001b[0m\u001b[0;34m[\u001b[0m\u001b[0mpos\u001b[0m\u001b[0;34m[\u001b[0m\u001b[0mv\u001b[0m\u001b[0;34m]\u001b[0m \u001b[0;32mfor\u001b[0m \u001b[0mv\u001b[0m \u001b[0;32min\u001b[0m \u001b[0mnodelist\u001b[0m\u001b[0;34m]\u001b[0m\u001b[0;34m)\u001b[0m\u001b[0;34m\u001b[0m\u001b[0;34m\u001b[0m\u001b[0m\n\u001b[1;32m    397\u001b[0m     \u001b[0;32mexcept\u001b[0m \u001b[0mKeyError\u001b[0m \u001b[0;32mas\u001b[0m \u001b[0me\u001b[0m\u001b[0;34m:\u001b[0m\u001b[0;34m\u001b[0m\u001b[0;34m\u001b[0m\u001b[0m\n\u001b[0;32m--> 398\u001b[0;31m         \u001b[0;32mraise\u001b[0m \u001b[0mnx\u001b[0m\u001b[0;34m.\u001b[0m\u001b[0mNetworkXError\u001b[0m\u001b[0;34m(\u001b[0m\u001b[0;34m'Node %s has no position.'\u001b[0m \u001b[0;34m%\u001b[0m \u001b[0me\u001b[0m\u001b[0;34m)\u001b[0m\u001b[0;34m\u001b[0m\u001b[0;34m\u001b[0m\u001b[0m\n\u001b[0m\u001b[1;32m    399\u001b[0m     \u001b[0;32mexcept\u001b[0m \u001b[0mValueError\u001b[0m\u001b[0;34m:\u001b[0m\u001b[0;34m\u001b[0m\u001b[0;34m\u001b[0m\u001b[0m\n\u001b[1;32m    400\u001b[0m         \u001b[0;32mraise\u001b[0m \u001b[0mnx\u001b[0m\u001b[0;34m.\u001b[0m\u001b[0mNetworkXError\u001b[0m\u001b[0;34m(\u001b[0m\u001b[0;34m'Bad value in node positions.'\u001b[0m\u001b[0;34m)\u001b[0m\u001b[0;34m\u001b[0m\u001b[0;34m\u001b[0m\u001b[0m\n",
            "\u001b[0;31mNetworkXError\u001b[0m: Node 1200 has no position."
          ]
        },
        {
          "output_type": "display_data",
          "data": {
            "image/png": "[encoded data removed]",
            "text/plain": [
              "<Figure size 1800x720 with 2 Axes>"
            ]
          },
          "metadata": {
            "tags": [],
            "needs_background": "light"
          }
        }
      ]
    },
    {
      "cell_type": "code",
      "metadata": {
        "id": "PHHfUOAv4CON"
      },
      "source": [
        ""
      ],
      "execution_count": null,
      "outputs": []
    }
  ]
}