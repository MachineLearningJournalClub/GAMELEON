{
  "nbformat": 4,
  "nbformat_minor": 0,
  "metadata": {
    "colab": {
      "name": "Multiplex_Analysis.ipynb",
      "provenance": [],
      "collapsed_sections": [],
      "authorship_tag": "ABX9TyORGEBGX1yXW/hlq5GOZJSc",
      "include_colab_link": true
    },
    "kernelspec": {
      "name": "python3",
      "display_name": "Python 3"
    }
  },
  "cells": [
    {
      "cell_type": "markdown",
      "metadata": {
        "id": "view-in-github",
        "colab_type": "text"
      },
      "source": [
        "<a href=\"https://colab.research.google.com/github/sazio/MultiAgentCovid/blob/master/Multiplex_Analysis.ipynb\" target=\"_parent\"><img src=\"https://colab.research.google.com/assets/colab-badge.svg\" alt=\"Open In Colab\"/></a>"
      ]
    },
    {
      "cell_type": "markdown",
      "metadata": {
        "id": "r7eBo3xjzz6r"
      },
      "source": [
        "## Import Data and match Agents with Buildings"
      ]
    },
    {
      "cell_type": "code",
      "metadata": {
        "id": "2_TEwY8VzvIa"
      },
      "source": [
        "import pandas as pd \n",
        "import glob "
      ],
      "execution_count": 12,
      "outputs": []
    },
    {
      "cell_type": "code",
      "metadata": {
        "colab": {
          "base_uri": "https://localhost:8080/"
        },
        "id": "6X0r82Gdz7-q",
        "outputId": "595a1b22-8e50-45bd-bae3-965be8d5b039"
      },
      "source": [
        "from google.colab import drive\n",
        "drive.mount('/content/drive', force_remount= True)"
      ],
      "execution_count": 16,
      "outputs": [
        {
          "output_type": "stream",
          "text": [
            "Mounted at /content/drive\n"
          ],
          "name": "stdout"
        }
      ]
    },
    {
      "cell_type": "code",
      "metadata": {
        "id": "ihMbH7cU0cdj"
      },
      "source": [
        "path = \"drive/MyDrive/MAS/Data/Output_GAMA/Data\"\n",
        "\n",
        "agents_path = path + \"/Agents\"\n",
        "buildings_path = path + \"/Buildings\"\n",
        "\n",
        "agents_files = glob.glob(agents_path + \"/*.csv\")\n",
        "buildings_file = glob.glob(buildings_path + \"/*.csv\")"
      ],
      "execution_count": 20,
      "outputs": []
    },
    {
      "cell_type": "code",
      "metadata": {
        "id": "ak1pqO7Z0khS"
      },
      "source": [
        ""
      ],
      "execution_count": 26,
      "outputs": []
    },
    {
      "cell_type": "code",
      "metadata": {
        "colab": {
          "base_uri": "https://localhost:8080/"
        },
        "id": "wv9IwSu01OlG",
        "outputId": "0825a197-ec46-4d83-d0e2-76ab84539195"
      },
      "source": [
        ""
      ],
      "execution_count": 28,
      "outputs": [
        {
          "output_type": "execute_result",
          "data": {
            "text/plain": [
              "['drive/MyDrive/MAS/Data/Output_GAMA/Data/Buildings/Buildings.csv']"
            ]
          },
          "metadata": {
            "tags": []
          },
          "execution_count": 28
        }
      ]
    },
    {
      "cell_type": "code",
      "metadata": {
        "id": "Rr1lfojv1lnl"
      },
      "source": [
        ""
      ],
      "execution_count": null,
      "outputs": []
    }
  ]
}